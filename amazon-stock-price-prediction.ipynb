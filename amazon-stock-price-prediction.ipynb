{
 "cells": [
  {
   "cell_type": "code",
   "execution_count": 1,
   "id": "da89e14b",
   "metadata": {
    "_cell_guid": "b1076dfc-b9ad-4769-8c92-a6c4dae69d19",
    "_uuid": "8f2839f25d086af736a60e9eeb907d3b93b6e0e5",
    "execution": {
     "iopub.execute_input": "2023-12-03T01:15:35.508358Z",
     "iopub.status.busy": "2023-12-03T01:15:35.507977Z",
     "iopub.status.idle": "2023-12-03T01:15:37.262543Z",
     "shell.execute_reply": "2023-12-03T01:15:37.261339Z"
    },
    "papermill": {
     "duration": 1.762141,
     "end_time": "2023-12-03T01:15:37.265456",
     "exception": false,
     "start_time": "2023-12-03T01:15:35.503315",
     "status": "completed"
    },
    "tags": []
   },
   "outputs": [],
   "source": [
    "import numpy as np\n",
    "import pandas as pd\n",
    "import matplotlib.pyplot as plt\n",
    "import seaborn as sns"
   ]
  },
  {
   "cell_type": "code",
   "execution_count": 2,
   "id": "054726bd",
   "metadata": {
    "execution": {
     "iopub.execute_input": "2023-12-03T01:15:37.275307Z",
     "iopub.status.busy": "2023-12-03T01:15:37.274026Z",
     "iopub.status.idle": "2023-12-03T01:15:37.315510Z",
     "shell.execute_reply": "2023-12-03T01:15:37.314293Z"
    },
    "papermill": {
     "duration": 0.049883,
     "end_time": "2023-12-03T01:15:37.318218",
     "exception": false,
     "start_time": "2023-12-03T01:15:37.268335",
     "status": "completed"
    },
    "tags": []
   },
   "outputs": [],
   "source": [
    "amazon_stock_data = pd.read_csv('/kaggle/input/amazon-stock-price-from-1999-to-2022/AMZN_data_1999_2022.csv')"
   ]
  },
  {
   "cell_type": "code",
   "execution_count": 3,
   "id": "42c2d5ba",
   "metadata": {
    "execution": {
     "iopub.execute_input": "2023-12-03T01:15:37.326071Z",
     "iopub.status.busy": "2023-12-03T01:15:37.324909Z",
     "iopub.status.idle": "2023-12-03T01:15:37.353534Z",
     "shell.execute_reply": "2023-12-03T01:15:37.352682Z"
    },
    "papermill": {
     "duration": 0.034968,
     "end_time": "2023-12-03T01:15:37.355923",
     "exception": false,
     "start_time": "2023-12-03T01:15:37.320955",
     "status": "completed"
    },
    "tags": []
   },
   "outputs": [
    {
     "data": {
      "text/html": [
       "<div>\n",
       "<style scoped>\n",
       "    .dataframe tbody tr th:only-of-type {\n",
       "        vertical-align: middle;\n",
       "    }\n",
       "\n",
       "    .dataframe tbody tr th {\n",
       "        vertical-align: top;\n",
       "    }\n",
       "\n",
       "    .dataframe thead th {\n",
       "        text-align: right;\n",
       "    }\n",
       "</style>\n",
       "<table border=\"1\" class=\"dataframe\">\n",
       "  <thead>\n",
       "    <tr style=\"text-align: right;\">\n",
       "      <th></th>\n",
       "      <th>Date</th>\n",
       "      <th>Open</th>\n",
       "      <th>High</th>\n",
       "      <th>Low</th>\n",
       "      <th>Close</th>\n",
       "      <th>Adj Close</th>\n",
       "      <th>Volume</th>\n",
       "    </tr>\n",
       "  </thead>\n",
       "  <tbody>\n",
       "    <tr>\n",
       "      <th>0</th>\n",
       "      <td>1999-01-04</td>\n",
       "      <td>2.730729</td>\n",
       "      <td>2.966667</td>\n",
       "      <td>2.665625</td>\n",
       "      <td>2.957813</td>\n",
       "      <td>2.957813</td>\n",
       "      <td>785844000</td>\n",
       "    </tr>\n",
       "    <tr>\n",
       "      <th>1</th>\n",
       "      <td>1999-01-05</td>\n",
       "      <td>2.739063</td>\n",
       "      <td>3.243750</td>\n",
       "      <td>2.662500</td>\n",
       "      <td>3.112500</td>\n",
       "      <td>3.112500</td>\n",
       "      <td>1257464000</td>\n",
       "    </tr>\n",
       "    <tr>\n",
       "      <th>2</th>\n",
       "      <td>1999-01-06</td>\n",
       "      <td>3.409375</td>\n",
       "      <td>3.509375</td>\n",
       "      <td>3.350000</td>\n",
       "      <td>3.450000</td>\n",
       "      <td>3.450000</td>\n",
       "      <td>723532000</td>\n",
       "    </tr>\n",
       "    <tr>\n",
       "      <th>3</th>\n",
       "      <td>1999-01-07</td>\n",
       "      <td>3.428125</td>\n",
       "      <td>4.006250</td>\n",
       "      <td>3.325000</td>\n",
       "      <td>3.971875</td>\n",
       "      <td>3.971875</td>\n",
       "      <td>945492000</td>\n",
       "    </tr>\n",
       "    <tr>\n",
       "      <th>4</th>\n",
       "      <td>1999-01-08</td>\n",
       "      <td>4.606250</td>\n",
       "      <td>4.978125</td>\n",
       "      <td>3.800000</td>\n",
       "      <td>4.006250</td>\n",
       "      <td>4.006250</td>\n",
       "      <td>1333244000</td>\n",
       "    </tr>\n",
       "  </tbody>\n",
       "</table>\n",
       "</div>"
      ],
      "text/plain": [
       "         Date      Open      High       Low     Close  Adj Close      Volume\n",
       "0  1999-01-04  2.730729  2.966667  2.665625  2.957813   2.957813   785844000\n",
       "1  1999-01-05  2.739063  3.243750  2.662500  3.112500   3.112500  1257464000\n",
       "2  1999-01-06  3.409375  3.509375  3.350000  3.450000   3.450000   723532000\n",
       "3  1999-01-07  3.428125  4.006250  3.325000  3.971875   3.971875   945492000\n",
       "4  1999-01-08  4.606250  4.978125  3.800000  4.006250   4.006250  1333244000"
      ]
     },
     "execution_count": 3,
     "metadata": {},
     "output_type": "execute_result"
    }
   ],
   "source": [
    "amazon_stock_data.head()"
   ]
  },
  {
   "cell_type": "code",
   "execution_count": null,
   "id": "4494a403",
   "metadata": {
    "papermill": {
     "duration": 0.002499,
     "end_time": "2023-12-03T01:15:37.361319",
     "exception": false,
     "start_time": "2023-12-03T01:15:37.358820",
     "status": "completed"
    },
    "tags": []
   },
   "outputs": [],
   "source": []
  }
 ],
 "metadata": {
  "kaggle": {
   "accelerator": "none",
   "dataSources": [
    {
     "datasetId": 3873422,
     "sourceId": 6723396,
     "sourceType": "datasetVersion"
    }
   ],
   "dockerImageVersionId": 30587,
   "isGpuEnabled": false,
   "isInternetEnabled": true,
   "language": "python",
   "sourceType": "notebook"
  },
  "kernelspec": {
   "display_name": "Python 3",
   "language": "python",
   "name": "python3"
  },
  "language_info": {
   "codemirror_mode": {
    "name": "ipython",
    "version": 3
   },
   "file_extension": ".py",
   "mimetype": "text/x-python",
   "name": "python",
   "nbconvert_exporter": "python",
   "pygments_lexer": "ipython3",
   "version": "3.10.12"
  },
  "papermill": {
   "default_parameters": {},
   "duration": 5.929147,
   "end_time": "2023-12-03T01:15:37.985978",
   "environment_variables": {},
   "exception": null,
   "input_path": "__notebook__.ipynb",
   "output_path": "__notebook__.ipynb",
   "parameters": {},
   "start_time": "2023-12-03T01:15:32.056831",
   "version": "2.4.0"
  }
 },
 "nbformat": 4,
 "nbformat_minor": 5
}
