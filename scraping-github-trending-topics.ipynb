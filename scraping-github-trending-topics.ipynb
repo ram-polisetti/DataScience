{
 "cells": [
  {
   "cell_type": "markdown",
   "id": "70e3c86e",
   "metadata": {
    "papermill": {
     "duration": 0.002784,
     "end_time": "2023-12-30T00:56:53.379984",
     "exception": false,
     "start_time": "2023-12-30T00:56:53.377200",
     "status": "completed"
    },
    "tags": []
   },
   "source": [
    "# Top Repositories in Github Topics"
   ]
  },
  {
   "cell_type": "markdown",
   "id": "d1d94d37",
   "metadata": {
    "papermill": {
     "duration": 0.002161,
     "end_time": "2023-12-30T00:56:53.384882",
     "exception": false,
     "start_time": "2023-12-30T00:56:53.382721",
     "status": "completed"
    },
    "tags": []
   },
   "source": [
    "## Project Outline\n",
    "- Website to scrape - https://github.com/topics\n",
    "- I will scrape the list of topics from the main page and for each topic, I will scrape topic title, topic URL and topic description\n",
    "- For each topic, I will scrape all the repositories along with their repository name, username, description, no of stars, tags, URL, last updated and the programming language\n",
    "\n",
    " | topic |repo_name | repo_username | repo_desc | stars | repo_url | tags |  prog_lang |\n",
    "|-------|-------|------------|-------|------------|-------|------------|-------|\n",
    "|3d| three.js|mrdoob|JavaScript 3D Library|96.6k|https://github.com/mrdoob/three.js | javascript svg webgl html5 canvas augmented-reality webaudio virtual-reality webgl2 3d webgpu webxr | JavaScript|\n"
   ]
  },
  {
   "cell_type": "code",
   "execution_count": 1,
   "id": "59e1a209",
   "metadata": {
    "execution": {
     "iopub.execute_input": "2023-12-30T00:56:53.391730Z",
     "iopub.status.busy": "2023-12-30T00:56:53.391107Z",
     "iopub.status.idle": "2023-12-30T00:57:19.609690Z",
     "shell.execute_reply": "2023-12-30T00:57:19.608628Z"
    },
    "papermill": {
     "duration": 26.225019,
     "end_time": "2023-12-30T00:57:19.612193",
     "exception": false,
     "start_time": "2023-12-30T00:56:53.387174",
     "status": "completed"
    },
    "tags": []
   },
   "outputs": [
    {
     "name": "stdout",
     "output_type": "stream",
     "text": [
      "Requirement already satisfied: requests in /opt/conda/lib/python3.10/site-packages (2.31.0)\r\n",
      "Requirement already satisfied: charset-normalizer<4,>=2 in /opt/conda/lib/python3.10/site-packages (from requests) (3.2.0)\r\n",
      "Requirement already satisfied: idna<4,>=2.5 in /opt/conda/lib/python3.10/site-packages (from requests) (3.4)\r\n",
      "Requirement already satisfied: urllib3<3,>=1.21.1 in /opt/conda/lib/python3.10/site-packages (from requests) (1.26.15)\r\n",
      "Requirement already satisfied: certifi>=2017.4.17 in /opt/conda/lib/python3.10/site-packages (from requests) (2023.11.17)\r\n",
      "Collecting bs4\r\n",
      "  Downloading bs4-0.0.1.tar.gz (1.1 kB)\r\n",
      "  Preparing metadata (setup.py) ... \u001b[?25l-\b \bdone\r\n",
      "\u001b[?25hRequirement already satisfied: beautifulsoup4 in /opt/conda/lib/python3.10/site-packages (from bs4) (4.12.2)\r\n",
      "Requirement already satisfied: soupsieve>1.2 in /opt/conda/lib/python3.10/site-packages (from beautifulsoup4->bs4) (2.3.2.post1)\r\n",
      "Building wheels for collected packages: bs4\r\n",
      "  Building wheel for bs4 (setup.py) ... \u001b[?25l-\b \b\\\b \bdone\r\n",
      "\u001b[?25h  Created wheel for bs4: filename=bs4-0.0.1-py3-none-any.whl size=1256 sha256=431ec19ef82ab8c20b28a09f74885b215c5e78da38ba0676bbabda5aabc5f139\r\n",
      "  Stored in directory: /root/.cache/pip/wheels/25/42/45/b773edc52acb16cd2db4cf1a0b47117e2f69bb4eb300ed0e70\r\n",
      "Successfully built bs4\r\n",
      "Installing collected packages: bs4\r\n",
      "Successfully installed bs4-0.0.1\r\n"
     ]
    }
   ],
   "source": [
    "# Install Libraries \n",
    "!pip install requests\n",
    "!pip install bs4"
   ]
  },
  {
   "cell_type": "code",
   "execution_count": 2,
   "id": "485ef81f",
   "metadata": {
    "execution": {
     "iopub.execute_input": "2023-12-30T00:57:19.619577Z",
     "iopub.status.busy": "2023-12-30T00:57:19.619214Z",
     "iopub.status.idle": "2023-12-30T00:57:19.686398Z",
     "shell.execute_reply": "2023-12-30T00:57:19.685547Z"
    },
    "papermill": {
     "duration": 0.073674,
     "end_time": "2023-12-30T00:57:19.688805",
     "exception": false,
     "start_time": "2023-12-30T00:57:19.615131",
     "status": "completed"
    },
    "tags": []
   },
   "outputs": [],
   "source": [
    "import requests"
   ]
  },
  {
   "cell_type": "code",
   "execution_count": 3,
   "id": "f4947168",
   "metadata": {
    "execution": {
     "iopub.execute_input": "2023-12-30T00:57:19.695968Z",
     "iopub.status.busy": "2023-12-30T00:57:19.695644Z",
     "iopub.status.idle": "2023-12-30T00:57:19.699813Z",
     "shell.execute_reply": "2023-12-30T00:57:19.698900Z"
    },
    "papermill": {
     "duration": 0.01002,
     "end_time": "2023-12-30T00:57:19.701766",
     "exception": false,
     "start_time": "2023-12-30T00:57:19.691746",
     "status": "completed"
    },
    "tags": []
   },
   "outputs": [],
   "source": [
    "topics_url = 'https://github.com/topics'"
   ]
  },
  {
   "cell_type": "code",
   "execution_count": null,
   "id": "9e863df2",
   "metadata": {
    "papermill": {
     "duration": 0.00246,
     "end_time": "2023-12-30T00:57:19.706998",
     "exception": false,
     "start_time": "2023-12-30T00:57:19.704538",
     "status": "completed"
    },
    "tags": []
   },
   "outputs": [],
   "source": []
  }
 ],
 "metadata": {
  "kaggle": {
   "accelerator": "none",
   "dataSources": [],
   "dockerImageVersionId": 30626,
   "isGpuEnabled": false,
   "isInternetEnabled": true,
   "language": "python",
   "sourceType": "notebook"
  },
  "kernelspec": {
   "display_name": "Python 3",
   "language": "python",
   "name": "python3"
  },
  "language_info": {
   "codemirror_mode": {
    "name": "ipython",
    "version": 3
   },
   "file_extension": ".py",
   "mimetype": "text/x-python",
   "name": "python",
   "nbconvert_exporter": "python",
   "pygments_lexer": "ipython3",
   "version": "3.10.12"
  },
  "papermill": {
   "default_parameters": {},
   "duration": 29.62769,
   "end_time": "2023-12-30T00:57:20.028402",
   "environment_variables": {},
   "exception": null,
   "input_path": "__notebook__.ipynb",
   "output_path": "__notebook__.ipynb",
   "parameters": {},
   "start_time": "2023-12-30T00:56:50.400712",
   "version": "2.4.0"
  }
 },
 "nbformat": 4,
 "nbformat_minor": 5
}
