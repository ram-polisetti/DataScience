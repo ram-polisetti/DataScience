{
 "cells": [
  {
   "cell_type": "markdown",
   "id": "d6871292",
   "metadata": {
    "papermill": {
     "duration": 0.002501,
     "end_time": "2023-12-30T00:32:33.031600",
     "exception": false,
     "start_time": "2023-12-30T00:32:33.029099",
     "status": "completed"
    },
    "tags": []
   },
   "source": [
    "# Scraping Github Trending Topics"
   ]
  },
  {
   "cell_type": "code",
   "execution_count": 1,
   "id": "b8b272c7",
   "metadata": {
    "execution": {
     "iopub.execute_input": "2023-12-30T00:32:33.038107Z",
     "iopub.status.busy": "2023-12-30T00:32:33.037407Z",
     "iopub.status.idle": "2023-12-30T00:32:48.451311Z",
     "shell.execute_reply": "2023-12-30T00:32:48.450101Z"
    },
    "papermill": {
     "duration": 15.419883,
     "end_time": "2023-12-30T00:32:48.453789",
     "exception": false,
     "start_time": "2023-12-30T00:32:33.033906",
     "status": "completed"
    },
    "tags": []
   },
   "outputs": [
    {
     "name": "stdout",
     "output_type": "stream",
     "text": [
      "Collecting bs4\r\n",
      "  Downloading bs4-0.0.1.tar.gz (1.1 kB)\r\n",
      "  Preparing metadata (setup.py) ... \u001b[?25l-\b \bdone\r\n",
      "\u001b[?25hRequirement already satisfied: beautifulsoup4 in /opt/conda/lib/python3.10/site-packages (from bs4) (4.12.2)\r\n",
      "Requirement already satisfied: soupsieve>1.2 in /opt/conda/lib/python3.10/site-packages (from beautifulsoup4->bs4) (2.3.2.post1)\r\n",
      "Building wheels for collected packages: bs4\r\n",
      "  Building wheel for bs4 (setup.py) ... \u001b[?25l-\b \b\\\b \bdone\r\n",
      "\u001b[?25h  Created wheel for bs4: filename=bs4-0.0.1-py3-none-any.whl size=1256 sha256=77fe8ffc722c1157b4c9f0f4e0d105157507fc5a2f660b7eaa8b5f9dc729b4ca\r\n",
      "  Stored in directory: /root/.cache/pip/wheels/25/42/45/b773edc52acb16cd2db4cf1a0b47117e2f69bb4eb300ed0e70\r\n",
      "Successfully built bs4\r\n",
      "Installing collected packages: bs4\r\n",
      "Successfully installed bs4-0.0.1\r\n"
     ]
    }
   ],
   "source": [
    "!pip install bs4"
   ]
  },
  {
   "cell_type": "markdown",
   "id": "a768c8af",
   "metadata": {
    "papermill": {
     "duration": 0.002385,
     "end_time": "2023-12-30T00:32:48.459086",
     "exception": false,
     "start_time": "2023-12-30T00:32:48.456701",
     "status": "completed"
    },
    "tags": []
   },
   "source": [
    "Lets scrape the github topics website and create two DF with the following columns \n",
    "\n",
    "DF1\n",
    "\n",
    "| topic | repo_name | repo_username | repo_desc | stars | repo_url | tags | last_updated | prog_lang |\n",
    "|-------|-------|------------|-------|------------|-------|------------|-------|------------|\n",
    "\n",
    "DF2\n",
    "\n",
    "| topic | topic_link | topic_desc| followers_count |\n",
    "|-------|------------|---------|----------------|\n"
   ]
  },
  {
   "cell_type": "code",
   "execution_count": null,
   "id": "befd4222",
   "metadata": {
    "papermill": {
     "duration": 0.002188,
     "end_time": "2023-12-30T00:32:48.463794",
     "exception": false,
     "start_time": "2023-12-30T00:32:48.461606",
     "status": "completed"
    },
    "tags": []
   },
   "outputs": [],
   "source": []
  },
  {
   "cell_type": "code",
   "execution_count": null,
   "id": "b036dbb7",
   "metadata": {
    "papermill": {
     "duration": 0.002209,
     "end_time": "2023-12-30T00:32:48.468392",
     "exception": false,
     "start_time": "2023-12-30T00:32:48.466183",
     "status": "completed"
    },
    "tags": []
   },
   "outputs": [],
   "source": []
  }
 ],
 "metadata": {
  "kaggle": {
   "accelerator": "none",
   "dataSources": [],
   "dockerImageVersionId": 30626,
   "isGpuEnabled": false,
   "isInternetEnabled": true,
   "language": "python",
   "sourceType": "notebook"
  },
  "kernelspec": {
   "display_name": "Python 3",
   "language": "python",
   "name": "python3"
  },
  "language_info": {
   "codemirror_mode": {
    "name": "ipython",
    "version": 3
   },
   "file_extension": ".py",
   "mimetype": "text/x-python",
   "name": "python",
   "nbconvert_exporter": "python",
   "pygments_lexer": "ipython3",
   "version": "3.10.12"
  },
  "papermill": {
   "default_parameters": {},
   "duration": 18.998275,
   "end_time": "2023-12-30T00:32:48.892035",
   "environment_variables": {},
   "exception": null,
   "input_path": "__notebook__.ipynb",
   "output_path": "__notebook__.ipynb",
   "parameters": {},
   "start_time": "2023-12-30T00:32:29.893760",
   "version": "2.4.0"
  }
 },
 "nbformat": 4,
 "nbformat_minor": 5
}
