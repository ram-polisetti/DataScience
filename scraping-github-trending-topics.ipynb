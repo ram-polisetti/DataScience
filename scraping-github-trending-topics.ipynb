{
 "cells": [
  {
   "cell_type": "markdown",
   "id": "9fa49bfb",
   "metadata": {
    "papermill": {
     "duration": 0.002271,
     "end_time": "2023-12-30T00:53:41.238836",
     "exception": false,
     "start_time": "2023-12-30T00:53:41.236565",
     "status": "completed"
    },
    "tags": []
   },
   "source": [
    "# Top Repositories in Github Topics"
   ]
  },
  {
   "cell_type": "code",
   "execution_count": 1,
   "id": "8962810a",
   "metadata": {
    "execution": {
     "iopub.execute_input": "2023-12-30T00:53:41.244197Z",
     "iopub.status.busy": "2023-12-30T00:53:41.243759Z",
     "iopub.status.idle": "2023-12-30T00:53:53.968757Z",
     "shell.execute_reply": "2023-12-30T00:53:53.968003Z"
    },
    "papermill": {
     "duration": 12.730529,
     "end_time": "2023-12-30T00:53:53.971172",
     "exception": false,
     "start_time": "2023-12-30T00:53:41.240643",
     "status": "completed"
    },
    "tags": []
   },
   "outputs": [
    {
     "name": "stdout",
     "output_type": "stream",
     "text": [
      "Collecting bs4\r\n",
      "  Downloading bs4-0.0.1.tar.gz (1.1 kB)\r\n",
      "  Preparing metadata (setup.py) ... \u001b[?25l-\b \bdone\r\n",
      "\u001b[?25hRequirement already satisfied: beautifulsoup4 in /opt/conda/lib/python3.10/site-packages (from bs4) (4.12.2)\r\n",
      "Requirement already satisfied: soupsieve>1.2 in /opt/conda/lib/python3.10/site-packages (from beautifulsoup4->bs4) (2.3.2.post1)\r\n",
      "Building wheels for collected packages: bs4\r\n",
      "  Building wheel for bs4 (setup.py) ... \u001b[?25l-\b \b\\\b \bdone\r\n",
      "\u001b[?25h  Created wheel for bs4: filename=bs4-0.0.1-py3-none-any.whl size=1256 sha256=c3c14cbb29832141298e4c70929c7705237f7f160e82e2f939c0e92683dee0fb\r\n",
      "  Stored in directory: /root/.cache/pip/wheels/25/42/45/b773edc52acb16cd2db4cf1a0b47117e2f69bb4eb300ed0e70\r\n",
      "Successfully built bs4\r\n",
      "Installing collected packages: bs4\r\n",
      "Successfully installed bs4-0.0.1\r\n"
     ]
    }
   ],
   "source": [
    "!pip install bs4"
   ]
  },
  {
   "cell_type": "markdown",
   "id": "b7add1c2",
   "metadata": {
    "papermill": {
     "duration": 0.001943,
     "end_time": "2023-12-30T00:53:53.975582",
     "exception": false,
     "start_time": "2023-12-30T00:53:53.973639",
     "status": "completed"
    },
    "tags": []
   },
   "source": [
    "## Project Outline\n",
    "- Website to scrape - https://github.com/topics\n",
    "- I will scrape the list of topics from the main page and for each topic, I will scrape topic title, topic URL and topic description\n",
    "- For each topic, I will scrape all the repositories along with their repository name, username, description, no of stars, tags, URL, last updated and the programming language\n",
    "\n",
    " | topic |repo_name | repo_username | repo_desc | stars | repo_url | tags |  prog_lang |\n",
    "|-------|-------|------------|-------|------------|-------|------------|-------|\n",
    "|3d| three.js|mrdoob|JavaScript 3D Library|96.6k|https://github.com/mrdoob/three.js | javascript svg webgl html5 canvas augmented-reality webaudio virtual-reality webgl2 3d webgpu webxr | JavaScript|\n"
   ]
  },
  {
   "cell_type": "code",
   "execution_count": null,
   "id": "1b67c54d",
   "metadata": {
    "papermill": {
     "duration": 0.001866,
     "end_time": "2023-12-30T00:53:53.979491",
     "exception": false,
     "start_time": "2023-12-30T00:53:53.977625",
     "status": "completed"
    },
    "tags": []
   },
   "outputs": [],
   "source": []
  },
  {
   "cell_type": "code",
   "execution_count": null,
   "id": "ed907806",
   "metadata": {
    "papermill": {
     "duration": 0.001838,
     "end_time": "2023-12-30T00:53:53.983320",
     "exception": false,
     "start_time": "2023-12-30T00:53:53.981482",
     "status": "completed"
    },
    "tags": []
   },
   "outputs": [],
   "source": []
  }
 ],
 "metadata": {
  "kaggle": {
   "accelerator": "none",
   "dataSources": [],
   "dockerImageVersionId": 30626,
   "isGpuEnabled": false,
   "isInternetEnabled": true,
   "language": "python",
   "sourceType": "notebook"
  },
  "kernelspec": {
   "display_name": "Python 3",
   "language": "python",
   "name": "python3"
  },
  "language_info": {
   "codemirror_mode": {
    "name": "ipython",
    "version": 3
   },
   "file_extension": ".py",
   "mimetype": "text/x-python",
   "name": "python",
   "nbconvert_exporter": "python",
   "pygments_lexer": "ipython3",
   "version": "3.10.12"
  },
  "papermill": {
   "default_parameters": {},
   "duration": 15.603975,
   "end_time": "2023-12-30T00:53:54.305204",
   "environment_variables": {},
   "exception": null,
   "input_path": "__notebook__.ipynb",
   "output_path": "__notebook__.ipynb",
   "parameters": {},
   "start_time": "2023-12-30T00:53:38.701229",
   "version": "2.4.0"
  }
 },
 "nbformat": 4,
 "nbformat_minor": 5
}
