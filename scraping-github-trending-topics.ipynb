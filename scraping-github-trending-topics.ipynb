{
 "cells": [
  {
   "cell_type": "markdown",
   "id": "4b9d53a5",
   "metadata": {
    "papermill": {
     "duration": 0.003893,
     "end_time": "2023-12-30T01:03:14.491708",
     "exception": false,
     "start_time": "2023-12-30T01:03:14.487815",
     "status": "completed"
    },
    "tags": []
   },
   "source": [
    "# Top Repositories in Github Topics"
   ]
  },
  {
   "cell_type": "markdown",
   "id": "19f80db3",
   "metadata": {
    "papermill": {
     "duration": 0.002849,
     "end_time": "2023-12-30T01:03:14.498454",
     "exception": false,
     "start_time": "2023-12-30T01:03:14.495605",
     "status": "completed"
    },
    "tags": []
   },
   "source": [
    "## Project Outline\n",
    "- Website to scrape - https://github.com/topics\n",
    "- I will scrape the list of topics from the main page and for each topic, I will scrape topic title, topic URL and topic description\n",
    "- For each topic, I will scrape all the repositories along with their repository name, username, description, no of stars, tags, URL, last updated and the programming language\n",
    "\n",
    " | topic |repo_name | repo_username | repo_desc | stars | repo_url | tags |  prog_lang |\n",
    "|-------|-------|------------|-------|------------|-------|------------|-------|\n",
    "|3d| three.js|mrdoob|JavaScript 3D Library|96.6k|https://github.com/mrdoob/three.js | javascript svg webgl html5 canvas augmented-reality webaudio virtual-reality webgl2 3d webgpu webxr | JavaScript|\n"
   ]
  },
  {
   "cell_type": "code",
   "execution_count": 1,
   "id": "9736b48b",
   "metadata": {
    "execution": {
     "iopub.execute_input": "2023-12-30T01:03:14.506355Z",
     "iopub.status.busy": "2023-12-30T01:03:14.505980Z",
     "iopub.status.idle": "2023-12-30T01:03:40.312336Z",
     "shell.execute_reply": "2023-12-30T01:03:40.311048Z"
    },
    "papermill": {
     "duration": 25.813395,
     "end_time": "2023-12-30T01:03:40.314859",
     "exception": false,
     "start_time": "2023-12-30T01:03:14.501464",
     "status": "completed"
    },
    "tags": []
   },
   "outputs": [
    {
     "name": "stdout",
     "output_type": "stream",
     "text": [
      "Requirement already satisfied: requests in /opt/conda/lib/python3.10/site-packages (2.31.0)\r\n",
      "Requirement already satisfied: charset-normalizer<4,>=2 in /opt/conda/lib/python3.10/site-packages (from requests) (3.2.0)\r\n",
      "Requirement already satisfied: idna<4,>=2.5 in /opt/conda/lib/python3.10/site-packages (from requests) (3.4)\r\n",
      "Requirement already satisfied: urllib3<3,>=1.21.1 in /opt/conda/lib/python3.10/site-packages (from requests) (1.26.15)\r\n",
      "Requirement already satisfied: certifi>=2017.4.17 in /opt/conda/lib/python3.10/site-packages (from requests) (2023.11.17)\r\n",
      "Collecting bs4\r\n",
      "  Downloading bs4-0.0.1.tar.gz (1.1 kB)\r\n",
      "  Preparing metadata (setup.py) ... \u001b[?25l-\b \bdone\r\n",
      "\u001b[?25hRequirement already satisfied: beautifulsoup4 in /opt/conda/lib/python3.10/site-packages (from bs4) (4.12.2)\r\n",
      "Requirement already satisfied: soupsieve>1.2 in /opt/conda/lib/python3.10/site-packages (from beautifulsoup4->bs4) (2.3.2.post1)\r\n",
      "Building wheels for collected packages: bs4\r\n",
      "  Building wheel for bs4 (setup.py) ... \u001b[?25l-\b \b\\\b \bdone\r\n",
      "\u001b[?25h  Created wheel for bs4: filename=bs4-0.0.1-py3-none-any.whl size=1256 sha256=24477cc34fd98379e748ff83ea47bf994259d397df68ead250e29bf65a2da4a9\r\n",
      "  Stored in directory: /root/.cache/pip/wheels/25/42/45/b773edc52acb16cd2db4cf1a0b47117e2f69bb4eb300ed0e70\r\n",
      "Successfully built bs4\r\n",
      "Installing collected packages: bs4\r\n",
      "Successfully installed bs4-0.0.1\r\n"
     ]
    }
   ],
   "source": [
    "# Install Libraries \n",
    "!pip install requests\n",
    "!pip install bs4"
   ]
  },
  {
   "cell_type": "code",
   "execution_count": 2,
   "id": "b291f871",
   "metadata": {
    "execution": {
     "iopub.execute_input": "2023-12-30T01:03:40.325024Z",
     "iopub.status.busy": "2023-12-30T01:03:40.324045Z",
     "iopub.status.idle": "2023-12-30T01:03:40.389754Z",
     "shell.execute_reply": "2023-12-30T01:03:40.388771Z"
    },
    "papermill": {
     "duration": 0.073226,
     "end_time": "2023-12-30T01:03:40.392144",
     "exception": false,
     "start_time": "2023-12-30T01:03:40.318918",
     "status": "completed"
    },
    "tags": []
   },
   "outputs": [],
   "source": [
    "import requests"
   ]
  },
  {
   "cell_type": "code",
   "execution_count": 3,
   "id": "1781e431",
   "metadata": {
    "execution": {
     "iopub.execute_input": "2023-12-30T01:03:40.401322Z",
     "iopub.status.busy": "2023-12-30T01:03:40.401026Z",
     "iopub.status.idle": "2023-12-30T01:03:40.404428Z",
     "shell.execute_reply": "2023-12-30T01:03:40.403790Z"
    },
    "papermill": {
     "duration": 0.009889,
     "end_time": "2023-12-30T01:03:40.406091",
     "exception": false,
     "start_time": "2023-12-30T01:03:40.396202",
     "status": "completed"
    },
    "tags": []
   },
   "outputs": [],
   "source": [
    "topics_url = 'https://github.com/topics'"
   ]
  },
  {
   "cell_type": "code",
   "execution_count": 4,
   "id": "9293af15",
   "metadata": {
    "execution": {
     "iopub.execute_input": "2023-12-30T01:03:40.415069Z",
     "iopub.status.busy": "2023-12-30T01:03:40.414563Z",
     "iopub.status.idle": "2023-12-30T01:03:40.627364Z",
     "shell.execute_reply": "2023-12-30T01:03:40.626313Z"
    },
    "papermill": {
     "duration": 0.219727,
     "end_time": "2023-12-30T01:03:40.629607",
     "exception": false,
     "start_time": "2023-12-30T01:03:40.409880",
     "status": "completed"
    },
    "tags": []
   },
   "outputs": [
    {
     "data": {
      "text/plain": [
       "200"
      ]
     },
     "execution_count": 4,
     "metadata": {},
     "output_type": "execute_result"
    }
   ],
   "source": [
    "response = requests.get(topics_url)\n",
    "response.status_code"
   ]
  },
  {
   "cell_type": "markdown",
   "id": "c35ad446",
   "metadata": {
    "papermill": {
     "duration": 0.003798,
     "end_time": "2023-12-30T01:03:40.637614",
     "exception": false,
     "start_time": "2023-12-30T01:03:40.633816",
     "status": "completed"
    },
    "tags": []
   },
   "source": [
    "HTTP response status codes indicate whether a specific HTTP request has been successfully completed. Responses are grouped in five classes:\n",
    "\n",
    "- Informational responses (100 – 199)\n",
    "- Successful responses (200 – 299)\n",
    "- Redirection messages (300 – 399)\n",
    "- Client error responses (400 – 499)\n",
    "- Server error responses (500 – 599)\n"
   ]
  },
  {
   "cell_type": "code",
   "execution_count": 5,
   "id": "3479a293",
   "metadata": {
    "execution": {
     "iopub.execute_input": "2023-12-30T01:03:40.648292Z",
     "iopub.status.busy": "2023-12-30T01:03:40.647943Z",
     "iopub.status.idle": "2023-12-30T01:03:40.653916Z",
     "shell.execute_reply": "2023-12-30T01:03:40.652719Z"
    },
    "papermill": {
     "duration": 0.013561,
     "end_time": "2023-12-30T01:03:40.656541",
     "exception": false,
     "start_time": "2023-12-30T01:03:40.642980",
     "status": "completed"
    },
    "tags": []
   },
   "outputs": [
    {
     "data": {
      "text/plain": [
       "170862"
      ]
     },
     "execution_count": 5,
     "metadata": {},
     "output_type": "execute_result"
    }
   ],
   "source": [
    "# Checking the length of page contents\n",
    "len(response.text)"
   ]
  },
  {
   "cell_type": "code",
   "execution_count": 6,
   "id": "e5edb137",
   "metadata": {
    "execution": {
     "iopub.execute_input": "2023-12-30T01:03:40.671152Z",
     "iopub.status.busy": "2023-12-30T01:03:40.670311Z",
     "iopub.status.idle": "2023-12-30T01:03:40.675369Z",
     "shell.execute_reply": "2023-12-30T01:03:40.674400Z"
    },
    "papermill": {
     "duration": 0.015278,
     "end_time": "2023-12-30T01:03:40.677993",
     "exception": false,
     "start_time": "2023-12-30T01:03:40.662715",
     "status": "completed"
    },
    "tags": []
   },
   "outputs": [],
   "source": [
    "page_contents = response.text"
   ]
  },
  {
   "cell_type": "code",
   "execution_count": 7,
   "id": "23a67264",
   "metadata": {
    "execution": {
     "iopub.execute_input": "2023-12-30T01:03:40.691504Z",
     "iopub.status.busy": "2023-12-30T01:03:40.690486Z",
     "iopub.status.idle": "2023-12-30T01:03:40.699474Z",
     "shell.execute_reply": "2023-12-30T01:03:40.698463Z"
    },
    "papermill": {
     "duration": 0.018451,
     "end_time": "2023-12-30T01:03:40.702084",
     "exception": false,
     "start_time": "2023-12-30T01:03:40.683633",
     "status": "completed"
    },
    "tags": []
   },
   "outputs": [
    {
     "data": {
      "text/plain": [
       "'\\n\\n<!DOCTYPE html>\\n<html\\n  lang=\"en\"\\n  \\n  data-color-mode=\"auto\" data-light-theme=\"light\" data-dark-theme=\"dark\"\\n  data-a11y-animated-images=\"system\" data-a11y-link-underlines=\"true\"\\n  >\\n\\n\\n\\n\\n  <head>\\n    <meta charset=\"utf-8\">\\n  <link rel=\"dns-prefetch\" href=\"https://github.githubassets.com\">\\n  <link rel=\"dns-prefetch\" href=\"https://avatars.githubusercontent.com\">\\n  <link rel=\"dns-prefetch\" href=\"https://github-cloud.s3.amazonaws.com\">\\n  <link rel=\"dns-prefetch\" href=\"https://user-images.githubusercontent.com/\">\\n  <link rel=\"preconnect\" href=\"https://github.githubassets.com\" crossorigin>\\n  <link rel=\"preconnect\" href=\"https://avatars.githubusercontent.com\">\\n\\n  \\n\\n  <link crossorigin=\"anonymous\" media=\"all\" rel=\"stylesheet\" href=\"https://github.githubassets.com/assets/light-38f1bf52eeeb.css\" /><link crossorigin=\"anonymous\" media=\"all\" rel=\"stylesheet\" href=\"https://github.githubassets.com/assets/dark-56010aa53a8f.css\" /><link data-color-theme=\"dark_dimmed\" crossorigin=\"anonymous\" media=\"a'"
      ]
     },
     "execution_count": 7,
     "metadata": {},
     "output_type": "execute_result"
    }
   ],
   "source": [
    "page_contents[:1000]"
   ]
  },
  {
   "cell_type": "code",
   "execution_count": 8,
   "id": "b25b8b81",
   "metadata": {
    "execution": {
     "iopub.execute_input": "2023-12-30T01:03:40.713700Z",
     "iopub.status.busy": "2023-12-30T01:03:40.713211Z",
     "iopub.status.idle": "2023-12-30T01:03:40.718738Z",
     "shell.execute_reply": "2023-12-30T01:03:40.717704Z"
    },
    "papermill": {
     "duration": 0.014533,
     "end_time": "2023-12-30T01:03:40.721198",
     "exception": false,
     "start_time": "2023-12-30T01:03:40.706665",
     "status": "completed"
    },
    "tags": []
   },
   "outputs": [],
   "source": [
    "with open('webpage.html', 'w') as file:\n",
    "    file.write(page_contents)\n",
    "    "
   ]
  },
  {
   "cell_type": "code",
   "execution_count": null,
   "id": "76003033",
   "metadata": {
    "papermill": {
     "duration": 0.004697,
     "end_time": "2023-12-30T01:03:40.731467",
     "exception": false,
     "start_time": "2023-12-30T01:03:40.726770",
     "status": "completed"
    },
    "tags": []
   },
   "outputs": [],
   "source": []
  }
 ],
 "metadata": {
  "kaggle": {
   "accelerator": "none",
   "dataSources": [],
   "dockerImageVersionId": 30626,
   "isGpuEnabled": false,
   "isInternetEnabled": true,
   "language": "python",
   "sourceType": "notebook"
  },
  "kernelspec": {
   "display_name": "Python 3",
   "language": "python",
   "name": "python3"
  },
  "language_info": {
   "codemirror_mode": {
    "name": "ipython",
    "version": 3
   },
   "file_extension": ".py",
   "mimetype": "text/x-python",
   "name": "python",
   "nbconvert_exporter": "python",
   "pygments_lexer": "ipython3",
   "version": "3.10.12"
  },
  "papermill": {
   "default_parameters": {},
   "duration": 29.42348,
   "end_time": "2023-12-30T01:03:41.055194",
   "environment_variables": {},
   "exception": null,
   "input_path": "__notebook__.ipynb",
   "output_path": "__notebook__.ipynb",
   "parameters": {},
   "start_time": "2023-12-30T01:03:11.631714",
   "version": "2.4.0"
  }
 },
 "nbformat": 4,
 "nbformat_minor": 5
}
