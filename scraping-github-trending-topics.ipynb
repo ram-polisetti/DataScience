{
 "cells": [
  {
   "cell_type": "markdown",
   "id": "ea5f22b2",
   "metadata": {
    "papermill": {
     "duration": 0.003384,
     "end_time": "2023-12-30T00:59:33.365423",
     "exception": false,
     "start_time": "2023-12-30T00:59:33.362039",
     "status": "completed"
    },
    "tags": []
   },
   "source": [
    "# Top Repositories in Github Topics"
   ]
  },
  {
   "cell_type": "markdown",
   "id": "90e3c14b",
   "metadata": {
    "papermill": {
     "duration": 0.002404,
     "end_time": "2023-12-30T00:59:33.370644",
     "exception": false,
     "start_time": "2023-12-30T00:59:33.368240",
     "status": "completed"
    },
    "tags": []
   },
   "source": [
    "## Project Outline\n",
    "- Website to scrape - https://github.com/topics\n",
    "- I will scrape the list of topics from the main page and for each topic, I will scrape topic title, topic URL and topic description\n",
    "- For each topic, I will scrape all the repositories along with their repository name, username, description, no of stars, tags, URL, last updated and the programming language\n",
    "\n",
    " | topic |repo_name | repo_username | repo_desc | stars | repo_url | tags |  prog_lang |\n",
    "|-------|-------|------------|-------|------------|-------|------------|-------|\n",
    "|3d| three.js|mrdoob|JavaScript 3D Library|96.6k|https://github.com/mrdoob/three.js | javascript svg webgl html5 canvas augmented-reality webaudio virtual-reality webgl2 3d webgpu webxr | JavaScript|\n"
   ]
  },
  {
   "cell_type": "code",
   "execution_count": 1,
   "id": "70d64663",
   "metadata": {
    "execution": {
     "iopub.execute_input": "2023-12-30T00:59:33.377723Z",
     "iopub.status.busy": "2023-12-30T00:59:33.377235Z",
     "iopub.status.idle": "2023-12-30T01:00:01.599851Z",
     "shell.execute_reply": "2023-12-30T01:00:01.598570Z"
    },
    "papermill": {
     "duration": 28.229309,
     "end_time": "2023-12-30T01:00:01.602484",
     "exception": false,
     "start_time": "2023-12-30T00:59:33.373175",
     "status": "completed"
    },
    "tags": []
   },
   "outputs": [
    {
     "name": "stdout",
     "output_type": "stream",
     "text": [
      "Requirement already satisfied: requests in /opt/conda/lib/python3.10/site-packages (2.31.0)\r\n",
      "Requirement already satisfied: charset-normalizer<4,>=2 in /opt/conda/lib/python3.10/site-packages (from requests) (3.2.0)\r\n",
      "Requirement already satisfied: idna<4,>=2.5 in /opt/conda/lib/python3.10/site-packages (from requests) (3.4)\r\n",
      "Requirement already satisfied: urllib3<3,>=1.21.1 in /opt/conda/lib/python3.10/site-packages (from requests) (1.26.15)\r\n",
      "Requirement already satisfied: certifi>=2017.4.17 in /opt/conda/lib/python3.10/site-packages (from requests) (2023.11.17)\r\n",
      "Collecting bs4\r\n",
      "  Downloading bs4-0.0.1.tar.gz (1.1 kB)\r\n",
      "  Preparing metadata (setup.py) ... \u001b[?25l-\b \bdone\r\n",
      "\u001b[?25hRequirement already satisfied: beautifulsoup4 in /opt/conda/lib/python3.10/site-packages (from bs4) (4.12.2)\r\n",
      "Requirement already satisfied: soupsieve>1.2 in /opt/conda/lib/python3.10/site-packages (from beautifulsoup4->bs4) (2.3.2.post1)\r\n",
      "Building wheels for collected packages: bs4\r\n",
      "  Building wheel for bs4 (setup.py) ... \u001b[?25l-\b \b\\\b \bdone\r\n",
      "\u001b[?25h  Created wheel for bs4: filename=bs4-0.0.1-py3-none-any.whl size=1256 sha256=ff64e93999470c15a945664ea1246081c4ffe306700a816dd28fbd21f7a3381e\r\n",
      "  Stored in directory: /root/.cache/pip/wheels/25/42/45/b773edc52acb16cd2db4cf1a0b47117e2f69bb4eb300ed0e70\r\n",
      "Successfully built bs4\r\n",
      "Installing collected packages: bs4\r\n",
      "Successfully installed bs4-0.0.1\r\n"
     ]
    }
   ],
   "source": [
    "# Install Libraries \n",
    "!pip install requests\n",
    "!pip install bs4"
   ]
  },
  {
   "cell_type": "code",
   "execution_count": 2,
   "id": "712684ad",
   "metadata": {
    "execution": {
     "iopub.execute_input": "2023-12-30T01:00:01.611520Z",
     "iopub.status.busy": "2023-12-30T01:00:01.611128Z",
     "iopub.status.idle": "2023-12-30T01:00:01.685849Z",
     "shell.execute_reply": "2023-12-30T01:00:01.684780Z"
    },
    "papermill": {
     "duration": 0.082409,
     "end_time": "2023-12-30T01:00:01.688416",
     "exception": false,
     "start_time": "2023-12-30T01:00:01.606007",
     "status": "completed"
    },
    "tags": []
   },
   "outputs": [],
   "source": [
    "import requests"
   ]
  },
  {
   "cell_type": "code",
   "execution_count": 3,
   "id": "d922bce4",
   "metadata": {
    "execution": {
     "iopub.execute_input": "2023-12-30T01:00:01.697359Z",
     "iopub.status.busy": "2023-12-30T01:00:01.696971Z",
     "iopub.status.idle": "2023-12-30T01:00:01.701709Z",
     "shell.execute_reply": "2023-12-30T01:00:01.700615Z"
    },
    "papermill": {
     "duration": 0.012167,
     "end_time": "2023-12-30T01:00:01.704129",
     "exception": false,
     "start_time": "2023-12-30T01:00:01.691962",
     "status": "completed"
    },
    "tags": []
   },
   "outputs": [],
   "source": [
    "topics_url = 'https://github.com/topics'"
   ]
  },
  {
   "cell_type": "code",
   "execution_count": 4,
   "id": "b8530af1",
   "metadata": {
    "execution": {
     "iopub.execute_input": "2023-12-30T01:00:01.713167Z",
     "iopub.status.busy": "2023-12-30T01:00:01.712358Z",
     "iopub.status.idle": "2023-12-30T01:00:01.927203Z",
     "shell.execute_reply": "2023-12-30T01:00:01.925960Z"
    },
    "papermill": {
     "duration": 0.222002,
     "end_time": "2023-12-30T01:00:01.929707",
     "exception": false,
     "start_time": "2023-12-30T01:00:01.707705",
     "status": "completed"
    },
    "tags": []
   },
   "outputs": [
    {
     "data": {
      "text/plain": [
       "200"
      ]
     },
     "execution_count": 4,
     "metadata": {},
     "output_type": "execute_result"
    }
   ],
   "source": [
    "response = requests.get(topics_url)\n",
    "response.status_code"
   ]
  },
  {
   "cell_type": "markdown",
   "id": "cca45351",
   "metadata": {
    "papermill": {
     "duration": 0.003534,
     "end_time": "2023-12-30T01:00:01.936886",
     "exception": false,
     "start_time": "2023-12-30T01:00:01.933352",
     "status": "completed"
    },
    "tags": []
   },
   "source": [
    "HTTP response status codes indicate whether a specific HTTP request has been successfully completed. Responses are grouped in five classes:\n",
    "\n",
    "- Informational responses (100 – 199)\n",
    "- Successful responses (200 – 299)\n",
    "- Redirection messages (300 – 399)\n",
    "- Client error responses (400 – 499)\n",
    "- Server error responses (500 – 599)\n"
   ]
  },
  {
   "cell_type": "code",
   "execution_count": null,
   "id": "2d83bee2",
   "metadata": {
    "papermill": {
     "duration": 0.003827,
     "end_time": "2023-12-30T01:00:01.945185",
     "exception": false,
     "start_time": "2023-12-30T01:00:01.941358",
     "status": "completed"
    },
    "tags": []
   },
   "outputs": [],
   "source": []
  }
 ],
 "metadata": {
  "kaggle": {
   "accelerator": "none",
   "dataSources": [],
   "dockerImageVersionId": 30626,
   "isGpuEnabled": false,
   "isInternetEnabled": true,
   "language": "python",
   "sourceType": "notebook"
  },
  "kernelspec": {
   "display_name": "Python 3",
   "language": "python",
   "name": "python3"
  },
  "language_info": {
   "codemirror_mode": {
    "name": "ipython",
    "version": 3
   },
   "file_extension": ".py",
   "mimetype": "text/x-python",
   "name": "python",
   "nbconvert_exporter": "python",
   "pygments_lexer": "ipython3",
   "version": "3.10.12"
  },
  "papermill": {
   "default_parameters": {},
   "duration": 33.171513,
   "end_time": "2023-12-30T01:00:02.371200",
   "environment_variables": {},
   "exception": null,
   "input_path": "__notebook__.ipynb",
   "output_path": "__notebook__.ipynb",
   "parameters": {},
   "start_time": "2023-12-30T00:59:29.199687",
   "version": "2.4.0"
  }
 },
 "nbformat": 4,
 "nbformat_minor": 5
}
