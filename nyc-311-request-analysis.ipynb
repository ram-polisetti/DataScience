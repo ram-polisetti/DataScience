{
 "cells": [
  {
   "cell_type": "markdown",
   "id": "ddf6333e",
   "metadata": {
    "_cell_guid": "b1076dfc-b9ad-4769-8c92-a6c4dae69d19",
    "_uuid": "8f2839f25d086af736a60e9eeb907d3b93b6e0e5",
    "papermill": {
     "duration": 0.010851,
     "end_time": "2023-11-04T03:17:06.155105",
     "exception": false,
     "start_time": "2023-11-04T03:17:06.144254",
     "status": "completed"
    },
    "tags": []
   },
   "source": [
    "# **NYC 311 Request Analysis**"
   ]
  },
  {
   "cell_type": "markdown",
   "id": "b40c01c7",
   "metadata": {
    "papermill": {
     "duration": 0.009866,
     "end_time": "2023-11-04T03:17:06.175066",
     "exception": false,
     "start_time": "2023-11-04T03:17:06.165200",
     "status": "completed"
    },
    "tags": []
   },
   "source": [
    "## **Problem Statement**\n",
    "\n",
    "The New York City Department of Housing Preservation and Development (HPD) needs help answering the following key questions:\n",
    "\n",
    "* What type of housing complaint should be prioritized first based on frequency, severity, and other factors in the 311 data?\n",
    "\n",
    "* Are certain boroughs, ZIP codes, or streets experiencing more severe complaints of this top priority type? \n",
    "\n",
    "* Does the top complaint type correlate with any particular housing/building characteristics? \n",
    "\n",
    "* Can a predictive model be developed to forecast future complaints of the priority type?\n",
    "\n"
   ]
  },
  {
   "cell_type": "markdown",
   "id": "5b42c357",
   "metadata": {
    "papermill": {
     "duration": 0.009802,
     "end_time": "2023-11-04T03:17:06.194786",
     "exception": false,
     "start_time": "2023-11-04T03:17:06.184984",
     "status": "completed"
    },
    "tags": []
   },
   "source": [
    "## **Goal**\n",
    "\n",
    "My goal is to deliver data-backed recommendations that provide actionable insights to help HPD manage its growing volume of 311 cases and build a predictive model for forecasting future complaints."
   ]
  },
  {
   "cell_type": "markdown",
   "id": "9bf51b9c",
   "metadata": {
    "papermill": {
     "duration": 0.009786,
     "end_time": "2023-11-04T03:17:06.214775",
     "exception": false,
     "start_time": "2023-11-04T03:17:06.204989",
     "status": "completed"
    },
    "tags": []
   },
   "source": [
    "## **NYC 311 Complaint Dataset**\n",
    "\n",
    "The primary dataset used for this analysis is a preprocessed version of the NYC 311 Complaints dataset obtained from the NYC OpenData portal. This public dataset contains records of complaints filed through the 311 system by NYC residents from 2010 to August 2019. For the purposes of this analysis, the raw 311 data was preprocessed to contain only relevant columns and rows to make the volume more manageable. While similar to 311 datasets used in other analyses, minor differences in the data may lead to small numerical discrepancies. However, these differences do not impact the overall findings and conclusions drawn from the data to address the key questions posed by the NYC Department of Housing Preservation and Development regarding 311 complaint insights."
   ]
  },
  {
   "cell_type": "markdown",
   "id": "038db9a0",
   "metadata": {
    "papermill": {
     "duration": 0.009913,
     "end_time": "2023-11-04T03:17:06.234581",
     "exception": false,
     "start_time": "2023-11-04T03:17:06.224668",
     "status": "completed"
    },
    "tags": []
   },
   "source": [
    "## **Dataset for Housing**\n",
    "\n",
    "Here is a revised paragraph about the building characteristics dataset without directly mentioning using CSV files from another source:\n",
    "\n",
    "The second dataset used in this analysis contains building characteristic information for houses across New York City's five boroughs - Bronx, Brooklyn, Manhattan, Queens, and Staten Island. This dataset was compiled from publicly available sources containing information on various attributes of NYC houses and buildings, such as year built, number of units, building class category, and more. The building characteristics data was consolidated and preprocessed into a single dataset organized with one row per building and columns for each relevant attribute. This consolidated dataset provides important housing insights that can be analyzed in conjunction with the 311 complaints data to identify any correlations between complaint types and building features. As with the 311 data, the building characteristics dataset was preprocessed to contain only necessary information to address the key questions from HPD."
   ]
  },
  {
   "cell_type": "code",
   "execution_count": 1,
   "id": "0c71c02b",
   "metadata": {
    "execution": {
     "iopub.execute_input": "2023-11-04T03:17:06.256107Z",
     "iopub.status.busy": "2023-11-04T03:17:06.255719Z",
     "iopub.status.idle": "2023-11-04T03:17:08.519457Z",
     "shell.execute_reply": "2023-11-04T03:17:08.518428Z"
    },
    "papermill": {
     "duration": 2.277453,
     "end_time": "2023-11-04T03:17:08.522006",
     "exception": false,
     "start_time": "2023-11-04T03:17:06.244553",
     "status": "completed"
    },
    "tags": []
   },
   "outputs": [
    {
     "name": "stderr",
     "output_type": "stream",
     "text": [
      "/opt/conda/lib/python3.10/site-packages/scipy/__init__.py:146: UserWarning: A NumPy version >=1.16.5 and <1.23.0 is required for this version of SciPy (detected version 1.23.5\n",
      "  warnings.warn(f\"A NumPy version >={np_minversion} and <{np_maxversion}\"\n"
     ]
    }
   ],
   "source": [
    "# Importing libraries\n",
    "import numpy as np \n",
    "import pandas as pd\n",
    "import geopandas as gpd\n",
    "import missingno as msno\n",
    "import seaborn as sns\n",
    "import matplotlib.pyplot as plt\n",
    "import matplotlib.patches as mpatches"
   ]
  },
  {
   "cell_type": "code",
   "execution_count": 2,
   "id": "337ec932",
   "metadata": {
    "execution": {
     "iopub.execute_input": "2023-11-04T03:17:08.542274Z",
     "iopub.status.busy": "2023-11-04T03:17:08.541898Z",
     "iopub.status.idle": "2023-11-04T03:17:56.439897Z",
     "shell.execute_reply": "2023-11-04T03:17:56.439091Z"
    },
    "papermill": {
     "duration": 47.910721,
     "end_time": "2023-11-04T03:17:56.442390",
     "exception": false,
     "start_time": "2023-11-04T03:17:08.531669",
     "status": "completed"
    },
    "tags": []
   },
   "outputs": [],
   "source": [
    "data = pd.read_csv('/kaggle/input/nyc311opendata/fhrw-4uyv.csv')"
   ]
  },
  {
   "cell_type": "code",
   "execution_count": 3,
   "id": "5b8456db",
   "metadata": {
    "execution": {
     "iopub.execute_input": "2023-11-04T03:17:56.462384Z",
     "iopub.status.busy": "2023-11-04T03:17:56.462096Z",
     "iopub.status.idle": "2023-11-04T03:17:56.469115Z",
     "shell.execute_reply": "2023-11-04T03:17:56.468305Z"
    },
    "papermill": {
     "duration": 0.019046,
     "end_time": "2023-11-04T03:17:56.471000",
     "exception": false,
     "start_time": "2023-11-04T03:17:56.451954",
     "status": "completed"
    },
    "tags": []
   },
   "outputs": [
    {
     "data": {
      "text/plain": [
       "Index(['created_date', 'unique_key', 'complaint_type', 'incident_zip',\n",
       "       'incident_address', 'street_name', 'address_type', 'city',\n",
       "       'resolution_description', 'borough', 'latitude', 'longitude',\n",
       "       'closed_date', 'location_type', 'status'],\n",
       "      dtype='object')"
      ]
     },
     "execution_count": 3,
     "metadata": {},
     "output_type": "execute_result"
    }
   ],
   "source": [
    "data.columns"
   ]
  },
  {
   "cell_type": "code",
   "execution_count": 4,
   "id": "b4023f1d",
   "metadata": {
    "execution": {
     "iopub.execute_input": "2023-11-04T03:17:56.489900Z",
     "iopub.status.busy": "2023-11-04T03:17:56.489642Z",
     "iopub.status.idle": "2023-11-04T03:17:56.495236Z",
     "shell.execute_reply": "2023-11-04T03:17:56.494298Z"
    },
    "papermill": {
     "duration": 0.017334,
     "end_time": "2023-11-04T03:17:56.497279",
     "exception": false,
     "start_time": "2023-11-04T03:17:56.479945",
     "status": "completed"
    },
    "tags": []
   },
   "outputs": [
    {
     "data": {
      "text/plain": [
       "(5846787, 15)"
      ]
     },
     "execution_count": 4,
     "metadata": {},
     "output_type": "execute_result"
    }
   ],
   "source": [
    "data.shape"
   ]
  },
  {
   "cell_type": "code",
   "execution_count": 5,
   "id": "a87aa34e",
   "metadata": {
    "execution": {
     "iopub.execute_input": "2023-11-04T03:17:56.517266Z",
     "iopub.status.busy": "2023-11-04T03:17:56.516990Z",
     "iopub.status.idle": "2023-11-04T03:17:56.542157Z",
     "shell.execute_reply": "2023-11-04T03:17:56.541081Z"
    },
    "papermill": {
     "duration": 0.037424,
     "end_time": "2023-11-04T03:17:56.544212",
     "exception": false,
     "start_time": "2023-11-04T03:17:56.506788",
     "status": "completed"
    },
    "tags": []
   },
   "outputs": [
    {
     "name": "stdout",
     "output_type": "stream",
     "text": [
      "<class 'pandas.core.frame.DataFrame'>\n",
      "RangeIndex: 5846787 entries, 0 to 5846786\n",
      "Data columns (total 15 columns):\n",
      " #   Column                  Dtype  \n",
      "---  ------                  -----  \n",
      " 0   created_date            object \n",
      " 1   unique_key              int64  \n",
      " 2   complaint_type          object \n",
      " 3   incident_zip            float64\n",
      " 4   incident_address        object \n",
      " 5   street_name             object \n",
      " 6   address_type            object \n",
      " 7   city                    object \n",
      " 8   resolution_description  object \n",
      " 9   borough                 object \n",
      " 10  latitude                float64\n",
      " 11  longitude               float64\n",
      " 12  closed_date             object \n",
      " 13  location_type           object \n",
      " 14  status                  object \n",
      "dtypes: float64(3), int64(1), object(11)\n",
      "memory usage: 669.1+ MB\n"
     ]
    }
   ],
   "source": [
    "data.info()"
   ]
  },
  {
   "cell_type": "markdown",
   "id": "1adf396e",
   "metadata": {
    "papermill": {
     "duration": 0.009653,
     "end_time": "2023-11-04T03:17:56.563275",
     "exception": false,
     "start_time": "2023-11-04T03:17:56.553622",
     "status": "completed"
    },
    "tags": []
   },
   "source": [
    "The 311 complaint dataset contains 15 columns capturing information such as complaint details, location coordinates, resolution status, and other relevant data. The columns represent a mix of data types including numeric, textual, and datetime fields. \n",
    "\n",
    "As mentioned previously, the 'complaint_type' column is particularly important for this analysis as it contains distinct categories of complaints received by the 311 system. Examining trends and frequencies of different complaint types will enable identifying priorities and insights for the Department of Housing Preservation and Development. \n",
    "\n",
    "In total, the 311 dataset contains over 5846787 rows of complaints spanning multiple years. "
   ]
  },
  {
   "cell_type": "code",
   "execution_count": 6,
   "id": "36c42dd8",
   "metadata": {
    "execution": {
     "iopub.execute_input": "2023-11-04T03:17:56.583639Z",
     "iopub.status.busy": "2023-11-04T03:17:56.583357Z",
     "iopub.status.idle": "2023-11-04T03:17:56.605421Z",
     "shell.execute_reply": "2023-11-04T03:17:56.604485Z"
    },
    "papermill": {
     "duration": 0.034482,
     "end_time": "2023-11-04T03:17:56.607554",
     "exception": false,
     "start_time": "2023-11-04T03:17:56.573072",
     "status": "completed"
    },
    "tags": []
   },
   "outputs": [
    {
     "data": {
      "text/html": [
       "<div>\n",
       "<style scoped>\n",
       "    .dataframe tbody tr th:only-of-type {\n",
       "        vertical-align: middle;\n",
       "    }\n",
       "\n",
       "    .dataframe tbody tr th {\n",
       "        vertical-align: top;\n",
       "    }\n",
       "\n",
       "    .dataframe thead th {\n",
       "        text-align: right;\n",
       "    }\n",
       "</style>\n",
       "<table border=\"1\" class=\"dataframe\">\n",
       "  <thead>\n",
       "    <tr style=\"text-align: right;\">\n",
       "      <th></th>\n",
       "      <th>created_date</th>\n",
       "      <th>unique_key</th>\n",
       "      <th>complaint_type</th>\n",
       "      <th>incident_zip</th>\n",
       "      <th>incident_address</th>\n",
       "      <th>street_name</th>\n",
       "      <th>address_type</th>\n",
       "      <th>city</th>\n",
       "      <th>resolution_description</th>\n",
       "      <th>borough</th>\n",
       "      <th>latitude</th>\n",
       "      <th>longitude</th>\n",
       "      <th>closed_date</th>\n",
       "      <th>location_type</th>\n",
       "      <th>status</th>\n",
       "    </tr>\n",
       "  </thead>\n",
       "  <tbody>\n",
       "    <tr>\n",
       "      <th>0</th>\n",
       "      <td>2019-08-23T12:35:54.000</td>\n",
       "      <td>43624241</td>\n",
       "      <td>HEAT/HOT WATER</td>\n",
       "      <td>10032.0</td>\n",
       "      <td>560 WEST  160 STREET</td>\n",
       "      <td>WEST  160 STREET</td>\n",
       "      <td>ADDRESS</td>\n",
       "      <td>NEW YORK</td>\n",
       "      <td>The complaint you filed is a duplicate of a co...</td>\n",
       "      <td>MANHATTAN</td>\n",
       "      <td>40.835396</td>\n",
       "      <td>-73.942262</td>\n",
       "      <td>NaN</td>\n",
       "      <td>RESIDENTIAL BUILDING</td>\n",
       "      <td>Open</td>\n",
       "    </tr>\n",
       "    <tr>\n",
       "      <th>1</th>\n",
       "      <td>2019-08-23T08:43:58.000</td>\n",
       "      <td>43623659</td>\n",
       "      <td>UNSANITARY CONDITION</td>\n",
       "      <td>11208.0</td>\n",
       "      <td>261 MONTAUK AVENUE</td>\n",
       "      <td>MONTAUK AVENUE</td>\n",
       "      <td>ADDRESS</td>\n",
       "      <td>BROOKLYN</td>\n",
       "      <td>The following complaint conditions are still o...</td>\n",
       "      <td>BROOKLYN</td>\n",
       "      <td>40.672494</td>\n",
       "      <td>-73.877521</td>\n",
       "      <td>NaN</td>\n",
       "      <td>RESIDENTIAL BUILDING</td>\n",
       "      <td>Open</td>\n",
       "    </tr>\n",
       "    <tr>\n",
       "      <th>2</th>\n",
       "      <td>2019-08-23T09:08:09.000</td>\n",
       "      <td>43624463</td>\n",
       "      <td>UNSANITARY CONDITION</td>\n",
       "      <td>10002.0</td>\n",
       "      <td>125 MADISON STREET</td>\n",
       "      <td>MADISON STREET</td>\n",
       "      <td>ADDRESS</td>\n",
       "      <td>NEW YORK</td>\n",
       "      <td>The following complaint conditions are still o...</td>\n",
       "      <td>MANHATTAN</td>\n",
       "      <td>40.712353</td>\n",
       "      <td>-73.993947</td>\n",
       "      <td>NaN</td>\n",
       "      <td>RESIDENTIAL BUILDING</td>\n",
       "      <td>Open</td>\n",
       "    </tr>\n",
       "    <tr>\n",
       "      <th>3</th>\n",
       "      <td>2019-08-23T16:36:08.000</td>\n",
       "      <td>43625072</td>\n",
       "      <td>DOOR/WINDOW</td>\n",
       "      <td>11211.0</td>\n",
       "      <td>525 UNION AVENUE</td>\n",
       "      <td>UNION AVENUE</td>\n",
       "      <td>ADDRESS</td>\n",
       "      <td>BROOKLYN</td>\n",
       "      <td>The following complaint conditions are still o...</td>\n",
       "      <td>BROOKLYN</td>\n",
       "      <td>40.716233</td>\n",
       "      <td>-73.951986</td>\n",
       "      <td>NaN</td>\n",
       "      <td>RESIDENTIAL BUILDING</td>\n",
       "      <td>Open</td>\n",
       "    </tr>\n",
       "    <tr>\n",
       "      <th>4</th>\n",
       "      <td>2019-08-23T11:15:00.000</td>\n",
       "      <td>43623738</td>\n",
       "      <td>UNSANITARY CONDITION</td>\n",
       "      <td>11372.0</td>\n",
       "      <td>35-52F 73 STREET</td>\n",
       "      <td>73 STREET</td>\n",
       "      <td>ADDRESS</td>\n",
       "      <td>Jackson Heights</td>\n",
       "      <td>NaN</td>\n",
       "      <td>QUEENS</td>\n",
       "      <td>40.750533</td>\n",
       "      <td>-73.892998</td>\n",
       "      <td>NaN</td>\n",
       "      <td>RESIDENTIAL BUILDING</td>\n",
       "      <td>Open</td>\n",
       "    </tr>\n",
       "  </tbody>\n",
       "</table>\n",
       "</div>"
      ],
      "text/plain": [
       "              created_date  unique_key        complaint_type  incident_zip  \\\n",
       "0  2019-08-23T12:35:54.000    43624241        HEAT/HOT WATER       10032.0   \n",
       "1  2019-08-23T08:43:58.000    43623659  UNSANITARY CONDITION       11208.0   \n",
       "2  2019-08-23T09:08:09.000    43624463  UNSANITARY CONDITION       10002.0   \n",
       "3  2019-08-23T16:36:08.000    43625072           DOOR/WINDOW       11211.0   \n",
       "4  2019-08-23T11:15:00.000    43623738  UNSANITARY CONDITION       11372.0   \n",
       "\n",
       "       incident_address       street_name address_type             city  \\\n",
       "0  560 WEST  160 STREET  WEST  160 STREET      ADDRESS         NEW YORK   \n",
       "1    261 MONTAUK AVENUE    MONTAUK AVENUE      ADDRESS         BROOKLYN   \n",
       "2    125 MADISON STREET    MADISON STREET      ADDRESS         NEW YORK   \n",
       "3      525 UNION AVENUE      UNION AVENUE      ADDRESS         BROOKLYN   \n",
       "4      35-52F 73 STREET         73 STREET      ADDRESS  Jackson Heights   \n",
       "\n",
       "                              resolution_description    borough   latitude  \\\n",
       "0  The complaint you filed is a duplicate of a co...  MANHATTAN  40.835396   \n",
       "1  The following complaint conditions are still o...   BROOKLYN  40.672494   \n",
       "2  The following complaint conditions are still o...  MANHATTAN  40.712353   \n",
       "3  The following complaint conditions are still o...   BROOKLYN  40.716233   \n",
       "4                                                NaN     QUEENS  40.750533   \n",
       "\n",
       "   longitude closed_date         location_type status  \n",
       "0 -73.942262         NaN  RESIDENTIAL BUILDING   Open  \n",
       "1 -73.877521         NaN  RESIDENTIAL BUILDING   Open  \n",
       "2 -73.993947         NaN  RESIDENTIAL BUILDING   Open  \n",
       "3 -73.951986         NaN  RESIDENTIAL BUILDING   Open  \n",
       "4 -73.892998         NaN  RESIDENTIAL BUILDING   Open  "
      ]
     },
     "execution_count": 6,
     "metadata": {},
     "output_type": "execute_result"
    }
   ],
   "source": [
    "data.head()"
   ]
  },
  {
   "cell_type": "code",
   "execution_count": 7,
   "id": "97737ff6",
   "metadata": {
    "execution": {
     "iopub.execute_input": "2023-11-04T03:17:56.628244Z",
     "iopub.status.busy": "2023-11-04T03:17:56.627891Z",
     "iopub.status.idle": "2023-11-04T03:18:00.685071Z",
     "shell.execute_reply": "2023-11-04T03:18:00.684074Z"
    },
    "papermill": {
     "duration": 4.07002,
     "end_time": "2023-11-04T03:18:00.687347",
     "exception": false,
     "start_time": "2023-11-04T03:17:56.617327",
     "status": "completed"
    },
    "tags": []
   },
   "outputs": [],
   "source": [
    "data['created_date'] = pd.to_datetime(data['created_date'])\n",
    "data['closed_date'] = pd.to_datetime(data['closed_date'])"
   ]
  },
  {
   "cell_type": "code",
   "execution_count": 8,
   "id": "b4ee354b",
   "metadata": {
    "execution": {
     "iopub.execute_input": "2023-11-04T03:18:00.708384Z",
     "iopub.status.busy": "2023-11-04T03:18:00.707831Z",
     "iopub.status.idle": "2023-11-04T03:18:01.191127Z",
     "shell.execute_reply": "2023-11-04T03:18:01.190008Z"
    },
    "papermill": {
     "duration": 0.496447,
     "end_time": "2023-11-04T03:18:01.193766",
     "exception": false,
     "start_time": "2023-11-04T03:18:00.697319",
     "status": "completed"
    },
    "tags": []
   },
   "outputs": [],
   "source": [
    "data['Year'] = data['created_date'].dt.year"
   ]
  },
  {
   "cell_type": "code",
   "execution_count": 9,
   "id": "53b2cad8",
   "metadata": {
    "execution": {
     "iopub.execute_input": "2023-11-04T03:18:01.215695Z",
     "iopub.status.busy": "2023-11-04T03:18:01.215123Z",
     "iopub.status.idle": "2023-11-04T03:18:01.234747Z",
     "shell.execute_reply": "2023-11-04T03:18:01.233746Z"
    },
    "papermill": {
     "duration": 0.032618,
     "end_time": "2023-11-04T03:18:01.236768",
     "exception": false,
     "start_time": "2023-11-04T03:18:01.204150",
     "status": "completed"
    },
    "tags": []
   },
   "outputs": [
    {
     "data": {
      "text/html": [
       "<div>\n",
       "<style scoped>\n",
       "    .dataframe tbody tr th:only-of-type {\n",
       "        vertical-align: middle;\n",
       "    }\n",
       "\n",
       "    .dataframe tbody tr th {\n",
       "        vertical-align: top;\n",
       "    }\n",
       "\n",
       "    .dataframe thead th {\n",
       "        text-align: right;\n",
       "    }\n",
       "</style>\n",
       "<table border=\"1\" class=\"dataframe\">\n",
       "  <thead>\n",
       "    <tr style=\"text-align: right;\">\n",
       "      <th></th>\n",
       "      <th>created_date</th>\n",
       "      <th>unique_key</th>\n",
       "      <th>complaint_type</th>\n",
       "      <th>incident_zip</th>\n",
       "      <th>incident_address</th>\n",
       "      <th>street_name</th>\n",
       "      <th>address_type</th>\n",
       "      <th>city</th>\n",
       "      <th>resolution_description</th>\n",
       "      <th>borough</th>\n",
       "      <th>latitude</th>\n",
       "      <th>longitude</th>\n",
       "      <th>closed_date</th>\n",
       "      <th>location_type</th>\n",
       "      <th>status</th>\n",
       "      <th>Year</th>\n",
       "    </tr>\n",
       "  </thead>\n",
       "  <tbody>\n",
       "    <tr>\n",
       "      <th>0</th>\n",
       "      <td>2019-08-23 12:35:54</td>\n",
       "      <td>43624241</td>\n",
       "      <td>HEAT/HOT WATER</td>\n",
       "      <td>10032.0</td>\n",
       "      <td>560 WEST  160 STREET</td>\n",
       "      <td>WEST  160 STREET</td>\n",
       "      <td>ADDRESS</td>\n",
       "      <td>NEW YORK</td>\n",
       "      <td>The complaint you filed is a duplicate of a co...</td>\n",
       "      <td>MANHATTAN</td>\n",
       "      <td>40.835396</td>\n",
       "      <td>-73.942262</td>\n",
       "      <td>NaT</td>\n",
       "      <td>RESIDENTIAL BUILDING</td>\n",
       "      <td>Open</td>\n",
       "      <td>2019</td>\n",
       "    </tr>\n",
       "    <tr>\n",
       "      <th>1</th>\n",
       "      <td>2019-08-23 08:43:58</td>\n",
       "      <td>43623659</td>\n",
       "      <td>UNSANITARY CONDITION</td>\n",
       "      <td>11208.0</td>\n",
       "      <td>261 MONTAUK AVENUE</td>\n",
       "      <td>MONTAUK AVENUE</td>\n",
       "      <td>ADDRESS</td>\n",
       "      <td>BROOKLYN</td>\n",
       "      <td>The following complaint conditions are still o...</td>\n",
       "      <td>BROOKLYN</td>\n",
       "      <td>40.672494</td>\n",
       "      <td>-73.877521</td>\n",
       "      <td>NaT</td>\n",
       "      <td>RESIDENTIAL BUILDING</td>\n",
       "      <td>Open</td>\n",
       "      <td>2019</td>\n",
       "    </tr>\n",
       "    <tr>\n",
       "      <th>2</th>\n",
       "      <td>2019-08-23 09:08:09</td>\n",
       "      <td>43624463</td>\n",
       "      <td>UNSANITARY CONDITION</td>\n",
       "      <td>10002.0</td>\n",
       "      <td>125 MADISON STREET</td>\n",
       "      <td>MADISON STREET</td>\n",
       "      <td>ADDRESS</td>\n",
       "      <td>NEW YORK</td>\n",
       "      <td>The following complaint conditions are still o...</td>\n",
       "      <td>MANHATTAN</td>\n",
       "      <td>40.712353</td>\n",
       "      <td>-73.993947</td>\n",
       "      <td>NaT</td>\n",
       "      <td>RESIDENTIAL BUILDING</td>\n",
       "      <td>Open</td>\n",
       "      <td>2019</td>\n",
       "    </tr>\n",
       "    <tr>\n",
       "      <th>3</th>\n",
       "      <td>2019-08-23 16:36:08</td>\n",
       "      <td>43625072</td>\n",
       "      <td>DOOR/WINDOW</td>\n",
       "      <td>11211.0</td>\n",
       "      <td>525 UNION AVENUE</td>\n",
       "      <td>UNION AVENUE</td>\n",
       "      <td>ADDRESS</td>\n",
       "      <td>BROOKLYN</td>\n",
       "      <td>The following complaint conditions are still o...</td>\n",
       "      <td>BROOKLYN</td>\n",
       "      <td>40.716233</td>\n",
       "      <td>-73.951986</td>\n",
       "      <td>NaT</td>\n",
       "      <td>RESIDENTIAL BUILDING</td>\n",
       "      <td>Open</td>\n",
       "      <td>2019</td>\n",
       "    </tr>\n",
       "    <tr>\n",
       "      <th>4</th>\n",
       "      <td>2019-08-23 11:15:00</td>\n",
       "      <td>43623738</td>\n",
       "      <td>UNSANITARY CONDITION</td>\n",
       "      <td>11372.0</td>\n",
       "      <td>35-52F 73 STREET</td>\n",
       "      <td>73 STREET</td>\n",
       "      <td>ADDRESS</td>\n",
       "      <td>Jackson Heights</td>\n",
       "      <td>NaN</td>\n",
       "      <td>QUEENS</td>\n",
       "      <td>40.750533</td>\n",
       "      <td>-73.892998</td>\n",
       "      <td>NaT</td>\n",
       "      <td>RESIDENTIAL BUILDING</td>\n",
       "      <td>Open</td>\n",
       "      <td>2019</td>\n",
       "    </tr>\n",
       "  </tbody>\n",
       "</table>\n",
       "</div>"
      ],
      "text/plain": [
       "         created_date  unique_key        complaint_type  incident_zip  \\\n",
       "0 2019-08-23 12:35:54    43624241        HEAT/HOT WATER       10032.0   \n",
       "1 2019-08-23 08:43:58    43623659  UNSANITARY CONDITION       11208.0   \n",
       "2 2019-08-23 09:08:09    43624463  UNSANITARY CONDITION       10002.0   \n",
       "3 2019-08-23 16:36:08    43625072           DOOR/WINDOW       11211.0   \n",
       "4 2019-08-23 11:15:00    43623738  UNSANITARY CONDITION       11372.0   \n",
       "\n",
       "       incident_address       street_name address_type             city  \\\n",
       "0  560 WEST  160 STREET  WEST  160 STREET      ADDRESS         NEW YORK   \n",
       "1    261 MONTAUK AVENUE    MONTAUK AVENUE      ADDRESS         BROOKLYN   \n",
       "2    125 MADISON STREET    MADISON STREET      ADDRESS         NEW YORK   \n",
       "3      525 UNION AVENUE      UNION AVENUE      ADDRESS         BROOKLYN   \n",
       "4      35-52F 73 STREET         73 STREET      ADDRESS  Jackson Heights   \n",
       "\n",
       "                              resolution_description    borough   latitude  \\\n",
       "0  The complaint you filed is a duplicate of a co...  MANHATTAN  40.835396   \n",
       "1  The following complaint conditions are still o...   BROOKLYN  40.672494   \n",
       "2  The following complaint conditions are still o...  MANHATTAN  40.712353   \n",
       "3  The following complaint conditions are still o...   BROOKLYN  40.716233   \n",
       "4                                                NaN     QUEENS  40.750533   \n",
       "\n",
       "   longitude closed_date         location_type status  Year  \n",
       "0 -73.942262         NaT  RESIDENTIAL BUILDING   Open  2019  \n",
       "1 -73.877521         NaT  RESIDENTIAL BUILDING   Open  2019  \n",
       "2 -73.993947         NaT  RESIDENTIAL BUILDING   Open  2019  \n",
       "3 -73.951986         NaT  RESIDENTIAL BUILDING   Open  2019  \n",
       "4 -73.892998         NaT  RESIDENTIAL BUILDING   Open  2019  "
      ]
     },
     "execution_count": 9,
     "metadata": {},
     "output_type": "execute_result"
    }
   ],
   "source": [
    "data.head()"
   ]
  },
  {
   "cell_type": "markdown",
   "id": "776adfc2",
   "metadata": {
    "papermill": {
     "duration": 0.010605,
     "end_time": "2023-11-04T03:18:01.258594",
     "exception": false,
     "start_time": "2023-11-04T03:18:01.247989",
     "status": "completed"
    },
    "tags": []
   },
   "source": []
  },
  {
   "cell_type": "code",
   "execution_count": 10,
   "id": "943be9f2",
   "metadata": {
    "execution": {
     "iopub.execute_input": "2023-11-04T03:18:01.282761Z",
     "iopub.status.busy": "2023-11-04T03:18:01.281833Z",
     "iopub.status.idle": "2023-11-04T03:18:02.796331Z",
     "shell.execute_reply": "2023-11-04T03:18:02.795489Z"
    },
    "papermill": {
     "duration": 1.528731,
     "end_time": "2023-11-04T03:18:02.798509",
     "exception": false,
     "start_time": "2023-11-04T03:18:01.269778",
     "status": "completed"
    },
    "tags": []
   },
   "outputs": [
    {
     "data": {
      "text/plain": [
       "<Axes: >"
      ]
     },
     "execution_count": 10,
     "metadata": {},
     "output_type": "execute_result"
    },
    {
     "data": {
      "image/png": "[encoded data removed]",
      "text/plain": [
       "<Figure size 400x400 with 1 Axes>"
      ]
     },
     "metadata": {},
     "output_type": "display_data"
    }
   ],
   "source": [
    "\n",
    "import requests\n",
    "\n",
    "# Download the GeoJSON file and save it locally\n",
    "url = 'https://github.com/codeforgermany/click_that_hood/raw/main/public/data/new-york-city-boroughs.geojson'\n",
    "response = requests.get(url)\n",
    "with open('new-york-city-boroughs.geojson', 'wb') as file:\n",
    "    file.write(response.content)\n",
    "\n",
    "# Read the locally saved GeoJSON file\n",
    "borough_map = gpd.read_file('new-york-city-boroughs.geojson')\n",
    "fig, ax = plt.subplots(figsize = (4, 4))\n",
    "borough_map['geometry'].boundary.plot(edgecolor='green', linewidth=1, ax=ax)\n",
    "borough_map.plot(color='lightblue', alpha=0.7, ax=ax)"
   ]
  },
  {
   "cell_type": "markdown",
   "id": "b9d7d977",
   "metadata": {
    "papermill": {
     "duration": 0.011007,
     "end_time": "2023-11-04T03:18:02.820641",
     "exception": false,
     "start_time": "2023-11-04T03:18:02.809634",
     "status": "completed"
    },
    "tags": []
   },
   "source": [
    "### What type of housing complaint should be prioritized first based on frequency, severity, and other factors in the 311 data?"
   ]
  },
  {
   "cell_type": "code",
   "execution_count": 11,
   "id": "89ad88b7",
   "metadata": {
    "execution": {
     "iopub.execute_input": "2023-11-04T03:18:02.844629Z",
     "iopub.status.busy": "2023-11-04T03:18:02.843936Z",
     "iopub.status.idle": "2023-11-04T03:18:03.342801Z",
     "shell.execute_reply": "2023-11-04T03:18:03.341896Z"
    },
    "papermill": {
     "duration": 0.51305,
     "end_time": "2023-11-04T03:18:03.344824",
     "exception": false,
     "start_time": "2023-11-04T03:18:02.831774",
     "status": "completed"
    },
    "tags": []
   },
   "outputs": [
    {
     "data": {
      "text/plain": [
       "29"
      ]
     },
     "execution_count": 11,
     "metadata": {},
     "output_type": "execute_result"
    }
   ],
   "source": [
    "data.complaint_type.nunique()"
   ]
  },
  {
   "cell_type": "markdown",
   "id": "b21705c0",
   "metadata": {
    "papermill": {
     "duration": 0.011078,
     "end_time": "2023-11-04T03:18:03.367845",
     "exception": false,
     "start_time": "2023-11-04T03:18:03.356767",
     "status": "completed"
    },
    "tags": []
   },
   "source": [
    "There are 29 different complaint types"
   ]
  },
  {
   "cell_type": "code",
   "execution_count": 12,
   "id": "b525506c",
   "metadata": {
    "execution": {
     "iopub.execute_input": "2023-11-04T03:18:03.391810Z",
     "iopub.status.busy": "2023-11-04T03:18:03.391506Z",
     "iopub.status.idle": "2023-11-04T03:18:04.253400Z",
     "shell.execute_reply": "2023-11-04T03:18:04.252417Z"
    },
    "papermill": {
     "duration": 0.876034,
     "end_time": "2023-11-04T03:18:04.255338",
     "exception": false,
     "start_time": "2023-11-04T03:18:03.379304",
     "status": "completed"
    },
    "tags": []
   },
   "outputs": [
    {
     "data": {
      "text/plain": [
       "complaint_type\n",
       "HEAT/HOT WATER            1149978\n",
       "HEATING                    887869\n",
       "PLUMBING                   702046\n",
       "GENERAL CONSTRUCTION       500863\n",
       "UNSANITARY CONDITION       434830\n",
       "PAINT - PLASTER            361258\n",
       "PAINT/PLASTER              340753\n",
       "ELECTRIC                   303115\n",
       "NONCONST                   260890\n",
       "DOOR/WINDOW                199443\n",
       "WATER LEAK                 186913\n",
       "GENERAL                    145825\n",
       "FLOORING/STAIRS            135159\n",
       "APPLIANCE                  109480\n",
       "HPD Literature Request      52830\n",
       "SAFETY                      49904\n",
       "OUTSIDE BUILDING             7015\n",
       "ELEVATOR                     6397\n",
       "Unsanitary Condition         5499\n",
       "CONSTRUCTION                 5078\n",
       "General                      1163\n",
       "Safety                        424\n",
       "STRUCTURAL                     16\n",
       "Plumbing                       11\n",
       "AGENCY                          9\n",
       "VACANT APARTMENT                8\n",
       "Outside Building                6\n",
       "Appliance                       4\n",
       "Mold                            1\n",
       "Name: count, dtype: int64"
      ]
     },
     "execution_count": 12,
     "metadata": {},
     "output_type": "execute_result"
    }
   ],
   "source": [
    "data.complaint_type.value_counts()"
   ]
  },
  {
   "cell_type": "code",
   "execution_count": 13,
   "id": "87de4a9b",
   "metadata": {
    "execution": {
     "iopub.execute_input": "2023-11-04T03:18:04.280707Z",
     "iopub.status.busy": "2023-11-04T03:18:04.280413Z",
     "iopub.status.idle": "2023-11-04T03:18:05.531750Z",
     "shell.execute_reply": "2023-11-04T03:18:05.530832Z"
    },
    "papermill": {
     "duration": 1.266899,
     "end_time": "2023-11-04T03:18:05.533932",
     "exception": false,
     "start_time": "2023-11-04T03:18:04.267033",
     "status": "completed"
    },
    "tags": []
   },
   "outputs": [
    {
     "data": {
      "text/plain": [
       "Year\n",
       "2010           HEATING\n",
       "2011           HEATING\n",
       "2012           HEATING\n",
       "2013           HEATING\n",
       "2014    HEAT/HOT WATER\n",
       "2015    HEAT/HOT WATER\n",
       "2016    HEAT/HOT WATER\n",
       "2017    HEAT/HOT WATER\n",
       "2018    HEAT/HOT WATER\n",
       "2019    HEAT/HOT WATER\n",
       "Name: complaint_type, dtype: object"
      ]
     },
     "execution_count": 13,
     "metadata": {},
     "output_type": "execute_result"
    }
   ],
   "source": [
    "data.groupby(['Year'])['complaint_type'].agg(pd.Series.mode)"
   ]
  },
  {
   "cell_type": "markdown",
   "id": "e6ecea65",
   "metadata": {
    "papermill": {
     "duration": 0.011339,
     "end_time": "2023-11-04T03:18:05.557318",
     "exception": false,
     "start_time": "2023-11-04T03:18:05.545979",
     "status": "completed"
    },
    "tags": []
   },
   "source": [
    "\n",
    "\n",
    "- Heat/Hot Water and Heating complaints could be combined into a general \"Heat Issue\" category. Since they are the top two most frequent complaint types, merging them would consolidate the most common issues.\n",
    "\n",
    "- Plumbing, Water Leak, and Mold complaints could be merged into a \"Plumbing Issue\" or \"Water Issue\" category. These issues seem related to general plumbing systems. \n",
    "\n",
    "- General Construction and NonConst complaints could be combined into a broader \"Construction Issue\" category to cover all construction-related concerns.\n",
    "\n",
    "- Paint/Plaster and Paint-Plaster complaints seem duplicative and could be merged into a \"Paint Issue\" category.\n",
    "\n",
    "- Door/Window, Flooring/Stairs complaints could potentially be grouped into a \"Features/Fixtures Issue\" category covering issues with appliances, doors, floors etc.\n",
    "\n",
    "- Safety and Outside Building complaints could be merged into a \"Building Exterior Issue\" category encompassing external building/safety issues.\n",
    "\n",
    "- Electrical, Elevator, and Appliance complaints may fit into an \"Electrical/Mechanical Issue\" category covering power, mechanical and electrical system issues.\n"
   ]
  },
  {
   "cell_type": "code",
   "execution_count": 14,
   "id": "23e6ed9b",
   "metadata": {
    "execution": {
     "iopub.execute_input": "2023-11-04T03:18:05.625924Z",
     "iopub.status.busy": "2023-11-04T03:18:05.625586Z",
     "iopub.status.idle": "2023-11-04T03:18:10.251108Z",
     "shell.execute_reply": "2023-11-04T03:18:10.250245Z"
    },
    "papermill": {
     "duration": 4.641728,
     "end_time": "2023-11-04T03:18:10.253660",
     "exception": false,
     "start_time": "2023-11-04T03:18:05.611932",
     "status": "completed"
    },
    "tags": []
   },
   "outputs": [],
   "source": [
    "\n",
    "\n",
    "# Merge Heat/Hot Water and Heating\n",
    "data.loc[data['complaint_type'] == 'HEATING', 'complaint_type'] = 'HEAT/HOT WATER'\n",
    "\n",
    "# Merge Paint/Plaster and Paint - Plaster\n",
    "data.loc[data['complaint_type'] == 'PAINT - PLASTER', 'complaint_type'] = 'PAINT/PLASTER'\n",
    "\n",
    "# Merge Plumbing, Water Leak, and Mold  \n",
    "data.loc[data['complaint_type'].isin(['WATER LEAK', 'MOLD']), 'complaint_type'] = 'PLUMBING'\n",
    "\n",
    "# Merge General Construction and NonConst\n",
    "data.loc[data['complaint_type'] == 'NONCONST', 'complaint_type'] = 'GENERAL CONSTRUCTION'\n",
    "\n",
    "# Merge Door/Window, Flooring/Stairs, and Appliance\n",
    "data.loc[data['complaint_type'].isin(['DOOR/WINDOW', 'FLOORING/STAIRS']), 'complaint_type'] = 'APPLIANCE'\n",
    "\n",
    "# Merge Safety and Outside Building \n",
    "data.loc[data['complaint_type'] == 'OUTSIDE BUILDING', 'complaint_type'] = 'SAFETY'\n",
    "\n",
    "# Merge Electrical, Elevator, and Appliance\n",
    "data.loc[data['complaint_type'].isin(['ELEVATOR', 'APPLIANCE']), 'complaint_type'] = 'ELECTRIC'\n",
    "\n",
    "data.loc[data['complaint_type'].isin(['General']), 'complaint_type'] = 'GENERAL'"
   ]
  },
  {
   "cell_type": "code",
   "execution_count": 15,
   "id": "b49f5533",
   "metadata": {
    "execution": {
     "iopub.execute_input": "2023-11-04T03:18:10.278690Z",
     "iopub.status.busy": "2023-11-04T03:18:10.278399Z",
     "iopub.status.idle": "2023-11-04T03:18:11.484503Z",
     "shell.execute_reply": "2023-11-04T03:18:11.483553Z"
    },
    "papermill": {
     "duration": 1.221079,
     "end_time": "2023-11-04T03:18:11.486758",
     "exception": false,
     "start_time": "2023-11-04T03:18:10.265679",
     "status": "completed"
    },
    "tags": []
   },
   "outputs": [
    {
     "data": {
      "text/plain": [
       "Year\n",
       "2010          HEAT/HOT WATER\n",
       "2011    GENERAL CONSTRUCTION\n",
       "2012          HEAT/HOT WATER\n",
       "2013          HEAT/HOT WATER\n",
       "2014          HEAT/HOT WATER\n",
       "2015          HEAT/HOT WATER\n",
       "2016          HEAT/HOT WATER\n",
       "2017          HEAT/HOT WATER\n",
       "2018          HEAT/HOT WATER\n",
       "2019          HEAT/HOT WATER\n",
       "Name: complaint_type, dtype: object"
      ]
     },
     "execution_count": 15,
     "metadata": {},
     "output_type": "execute_result"
    }
   ],
   "source": [
    "data.groupby(['Year'])['complaint_type'].agg(pd.Series.mode)"
   ]
  },
  {
   "cell_type": "code",
   "execution_count": 16,
   "id": "b0333aa2",
   "metadata": {
    "execution": {
     "iopub.execute_input": "2023-11-04T03:18:11.514028Z",
     "iopub.status.busy": "2023-11-04T03:18:11.513700Z",
     "iopub.status.idle": "2023-11-04T03:18:12.397804Z",
     "shell.execute_reply": "2023-11-04T03:18:12.396807Z"
    },
    "papermill": {
     "duration": 0.89977,
     "end_time": "2023-11-04T03:18:12.399814",
     "exception": false,
     "start_time": "2023-11-04T03:18:11.500044",
     "status": "completed"
    },
    "tags": []
   },
   "outputs": [
    {
     "name": "stdout",
     "output_type": "stream",
     "text": [
      "Top 5 complaints\n"
     ]
    },
    {
     "data": {
      "text/plain": [
       "complaint_type\n",
       "HEAT/HOT WATER          2037847\n",
       "PLUMBING                 888959\n",
       "GENERAL CONSTRUCTION     761753\n",
       "ELECTRIC                 753594\n",
       "PAINT/PLASTER            702011\n",
       "Name: count, dtype: int64"
      ]
     },
     "execution_count": 16,
     "metadata": {},
     "output_type": "execute_result"
    }
   ],
   "source": [
    "print(\"Top 5 complaints\")\n",
    "data.complaint_type.value_counts().head()\n"
   ]
  },
  {
   "cell_type": "markdown",
   "id": "81970d75",
   "metadata": {
    "papermill": {
     "duration": 0.012063,
     "end_time": "2023-11-04T03:18:12.424632",
     "exception": false,
     "start_time": "2023-11-04T03:18:12.412569",
     "status": "completed"
    },
    "tags": []
   },
   "source": [
    "To better visualize the distribution of complaint types, the less frequent categories were consolidated into a new combined \"Rest\" complaint type. This merging of long-tail complaint types simplifies the analysis by reducing the number of categories to focus on the most common issues."
   ]
  },
  {
   "cell_type": "code",
   "execution_count": 17,
   "id": "29291e0a",
   "metadata": {
    "execution": {
     "iopub.execute_input": "2023-11-04T03:18:12.450829Z",
     "iopub.status.busy": "2023-11-04T03:18:12.450529Z",
     "iopub.status.idle": "2023-11-04T03:18:13.313953Z",
     "shell.execute_reply": "2023-11-04T03:18:13.313002Z"
    },
    "papermill": {
     "duration": 0.878751,
     "end_time": "2023-11-04T03:18:13.315877",
     "exception": false,
     "start_time": "2023-11-04T03:18:12.437126",
     "status": "completed"
    },
    "tags": []
   },
   "outputs": [
    {
     "data": {
      "text/plain": [
       "complaint_type\n",
       "HEAT/HOT WATER            2037847\n",
       "PLUMBING                   888959\n",
       "GENERAL CONSTRUCTION       761753\n",
       "ELECTRIC                   753594\n",
       "PAINT/PLASTER              702011\n",
       "UNSANITARY CONDITION       434830\n",
       "GENERAL                    146988\n",
       "SAFETY                      56919\n",
       "HPD Literature Request      52830\n",
       "Unsanitary Condition         5499\n",
       "CONSTRUCTION                 5078\n",
       "Safety                        424\n",
       "STRUCTURAL                     16\n",
       "Plumbing                       11\n",
       "AGENCY                          9\n",
       "VACANT APARTMENT                8\n",
       "Outside Building                6\n",
       "Appliance                       4\n",
       "Mold                            1\n",
       "Name: count, dtype: int64"
      ]
     },
     "execution_count": 17,
     "metadata": {},
     "output_type": "execute_result"
    }
   ],
   "source": [
    "data.complaint_type.value_counts()"
   ]
  },
  {
   "cell_type": "code",
   "execution_count": 18,
   "id": "a66b9b8b",
   "metadata": {
    "execution": {
     "iopub.execute_input": "2023-11-04T03:18:13.344033Z",
     "iopub.status.busy": "2023-11-04T03:18:13.343716Z",
     "iopub.status.idle": "2023-11-04T03:18:16.797213Z",
     "shell.execute_reply": "2023-11-04T03:18:16.796155Z"
    },
    "papermill": {
     "duration": 3.469498,
     "end_time": "2023-11-04T03:18:16.799585",
     "exception": false,
     "start_time": "2023-11-04T03:18:13.330087",
     "status": "completed"
    },
    "tags": []
   },
   "outputs": [
    {
     "data": {
      "text/plain": [
       "Index(['Mold', 'Appliance', 'Outside Building', 'VACANT APARTMENT', 'AGENCY',\n",
       "       'Plumbing', 'STRUCTURAL', 'Safety', 'CONSTRUCTION',\n",
       "       'Unsanitary Condition', 'HPD Literature Request'],\n",
       "      dtype='object', name='complaint_type')"
      ]
     },
     "execution_count": 18,
     "metadata": {},
     "output_type": "execute_result"
    }
   ],
   "source": [
    "data_copy = data.copy()\n",
    "\n",
    "category = data['complaint_type'].value_counts().sort_values().head(11).index\n",
    "category"
   ]
  },
  {
   "cell_type": "code",
   "execution_count": 19,
   "id": "436b7054",
   "metadata": {
    "execution": {
     "iopub.execute_input": "2023-11-04T03:18:16.830956Z",
     "iopub.status.busy": "2023-11-04T03:18:16.830195Z",
     "iopub.status.idle": "2023-11-04T03:18:17.092447Z",
     "shell.execute_reply": "2023-11-04T03:18:17.091428Z"
    },
    "papermill": {
     "duration": 0.279959,
     "end_time": "2023-11-04T03:18:17.094567",
     "exception": false,
     "start_time": "2023-11-04T03:18:16.814608",
     "status": "completed"
    },
    "tags": []
   },
   "outputs": [],
   "source": [
    "data_copy.loc[data_copy['complaint_type'].isin(category), 'complaint_type'] = 'Rest'"
   ]
  },
  {
   "cell_type": "code",
   "execution_count": 20,
   "id": "54ed8afa",
   "metadata": {
    "execution": {
     "iopub.execute_input": "2023-11-04T03:18:17.122478Z",
     "iopub.status.busy": "2023-11-04T03:18:17.121852Z",
     "iopub.status.idle": "2023-11-04T03:18:17.978892Z",
     "shell.execute_reply": "2023-11-04T03:18:17.977828Z"
    },
    "papermill": {
     "duration": 0.872973,
     "end_time": "2023-11-04T03:18:17.981021",
     "exception": false,
     "start_time": "2023-11-04T03:18:17.108048",
     "status": "completed"
    },
    "tags": []
   },
   "outputs": [],
   "source": [
    "complaints = data_copy['complaint_type'].value_counts().sort_values()"
   ]
  },
  {
   "cell_type": "code",
   "execution_count": 21,
   "id": "fcf3665f",
   "metadata": {
    "execution": {
     "iopub.execute_input": "2023-11-04T03:18:18.009012Z",
     "iopub.status.busy": "2023-11-04T03:18:18.008714Z",
     "iopub.status.idle": "2023-11-04T03:18:18.015422Z",
     "shell.execute_reply": "2023-11-04T03:18:18.014543Z"
    },
    "papermill": {
     "duration": 0.023049,
     "end_time": "2023-11-04T03:18:18.017498",
     "exception": false,
     "start_time": "2023-11-04T03:18:17.994449",
     "status": "completed"
    },
    "tags": []
   },
   "outputs": [
    {
     "data": {
      "text/plain": [
       "complaint_type\n",
       "SAFETY                    56919\n",
       "Rest                      63886\n",
       "GENERAL                  146988\n",
       "UNSANITARY CONDITION     434830\n",
       "PAINT/PLASTER            702011\n",
       "ELECTRIC                 753594\n",
       "GENERAL CONSTRUCTION     761753\n",
       "PLUMBING                 888959\n",
       "HEAT/HOT WATER          2037847\n",
       "Name: count, dtype: int64"
      ]
     },
     "execution_count": 21,
     "metadata": {},
     "output_type": "execute_result"
    }
   ],
   "source": [
    "complaints"
   ]
  },
  {
   "cell_type": "code",
   "execution_count": null,
   "id": "b8942f28",
   "metadata": {
    "papermill": {
     "duration": 0.012895,
     "end_time": "2023-11-04T03:18:18.043573",
     "exception": false,
     "start_time": "2023-11-04T03:18:18.030678",
     "status": "completed"
    },
    "tags": []
   },
   "outputs": [],
   "source": []
  },
  {
   "cell_type": "code",
   "execution_count": 22,
   "id": "713715f1",
   "metadata": {
    "execution": {
     "iopub.execute_input": "2023-11-04T03:18:18.072317Z",
     "iopub.status.busy": "2023-11-04T03:18:18.072039Z",
     "iopub.status.idle": "2023-11-04T03:18:18.519973Z",
     "shell.execute_reply": "2023-11-04T03:18:18.519023Z"
    },
    "papermill": {
     "duration": 0.465061,
     "end_time": "2023-11-04T03:18:18.522266",
     "exception": false,
     "start_time": "2023-11-04T03:18:18.057205",
     "status": "completed"
    },
    "tags": []
   },
   "outputs": [
    {
     "data": {
      "image/png": "[encoded data removed]",
      "text/plain": [
       "<Figure size 1200x900 with 1 Axes>"
      ]
     },
     "metadata": {},
     "output_type": "display_data"
    }
   ],
   "source": [
    "complaints.plot(kind='barh', figsize=(12, 9), fontsize=11, color=sns.color_palette('coolwarm', len(complaints)))\n",
    "plt.ylabel('Complaint Type', fontsize=14)\n",
    "plt.xlabel('Number of Complaints', fontsize=14)\n",
    "\n",
    "for index, value in enumerate(complaints):\n",
    "    label = str(format(int(value), ',')) + '  -  {}%'.format(round( (value/complaints.sum())*100, 1)) \n",
    "    plt.annotate(label, xy = (value , index ), color = 'black')"
   ]
  },
  {
   "cell_type": "markdown",
   "id": "27267716",
   "metadata": {
    "papermill": {
     "duration": 0.014236,
     "end_time": "2023-11-04T03:18:18.551088",
     "exception": false,
     "start_time": "2023-11-04T03:18:18.536852",
     "status": "completed"
    },
    "tags": []
   },
   "source": [
    "Heating water is the most complained type in the industry, with 34.9% of all complaints. This is followed by plumbing (15.2%), general construction (13.0%), paint/plaster (12.0%), and unsanitary condition (7.4%)."
   ]
  },
  {
   "cell_type": "code",
   "execution_count": 23,
   "id": "875e6297",
   "metadata": {
    "execution": {
     "iopub.execute_input": "2023-11-04T03:18:18.580725Z",
     "iopub.status.busy": "2023-11-04T03:18:18.580245Z",
     "iopub.status.idle": "2023-11-04T03:18:19.797397Z",
     "shell.execute_reply": "2023-11-04T03:18:19.796378Z"
    },
    "papermill": {
     "duration": 1.234872,
     "end_time": "2023-11-04T03:18:19.799596",
     "exception": false,
     "start_time": "2023-11-04T03:18:18.564724",
     "status": "completed"
    },
    "tags": []
   },
   "outputs": [
    {
     "data": {
      "text/plain": [
       "Year\n",
       "2010          HEAT/HOT WATER\n",
       "2011    GENERAL CONSTRUCTION\n",
       "2012          HEAT/HOT WATER\n",
       "2013          HEAT/HOT WATER\n",
       "2014          HEAT/HOT WATER\n",
       "2015          HEAT/HOT WATER\n",
       "2016          HEAT/HOT WATER\n",
       "2017          HEAT/HOT WATER\n",
       "2018          HEAT/HOT WATER\n",
       "2019          HEAT/HOT WATER\n",
       "Name: complaint_type, dtype: object"
      ]
     },
     "execution_count": 23,
     "metadata": {},
     "output_type": "execute_result"
    }
   ],
   "source": [
    "data.groupby(['Year'])['complaint_type'].agg(pd.Series.mode)"
   ]
  },
  {
   "cell_type": "markdown",
   "id": "075f41a8",
   "metadata": {
    "papermill": {
     "duration": 0.014437,
     "end_time": "2023-11-04T03:18:19.829320",
     "exception": false,
     "start_time": "2023-11-04T03:18:19.814883",
     "status": "completed"
    },
    "tags": []
   },
   "source": [
    "it looks like \"HEAT/HOT WATER\" is the most common complaint type for all years from 2010 to 2019, and \"PLUMBING\" is the most common complaint type for the year "
   ]
  },
  {
   "cell_type": "code",
   "execution_count": 24,
   "id": "f29bf46f",
   "metadata": {
    "execution": {
     "iopub.execute_input": "2023-11-04T03:18:19.859486Z",
     "iopub.status.busy": "2023-11-04T03:18:19.859117Z",
     "iopub.status.idle": "2023-11-04T03:18:20.191428Z",
     "shell.execute_reply": "2023-11-04T03:18:20.190300Z"
    },
    "papermill": {
     "duration": 0.350746,
     "end_time": "2023-11-04T03:18:20.194210",
     "exception": false,
     "start_time": "2023-11-04T03:18:19.843464",
     "status": "completed"
    },
    "tags": []
   },
   "outputs": [],
   "source": [
    "from sklearn.model_selection import train_test_split\n",
    "from sklearn.preprocessing import StandardScaler\n",
    "\n",
    "from scipy import stats"
   ]
  },
  {
   "cell_type": "code",
   "execution_count": 25,
   "id": "2ad853bd",
   "metadata": {
    "execution": {
     "iopub.execute_input": "2023-11-04T03:18:20.226199Z",
     "iopub.status.busy": "2023-11-04T03:18:20.225530Z",
     "iopub.status.idle": "2023-11-04T03:18:20.745090Z",
     "shell.execute_reply": "2023-11-04T03:18:20.744004Z"
    },
    "papermill": {
     "duration": 0.538051,
     "end_time": "2023-11-04T03:18:20.747547",
     "exception": false,
     "start_time": "2023-11-04T03:18:20.209496",
     "status": "completed"
    },
    "tags": []
   },
   "outputs": [],
   "source": [
    "from imblearn.pipeline import Pipeline\n",
    "from imblearn.under_sampling import RandomUnderSampler\n",
    "from imblearn.over_sampling import SMOTE"
   ]
  },
  {
   "cell_type": "code",
   "execution_count": 26,
   "id": "cdcf7a79",
   "metadata": {
    "execution": {
     "iopub.execute_input": "2023-11-04T03:18:20.779175Z",
     "iopub.status.busy": "2023-11-04T03:18:20.778349Z",
     "iopub.status.idle": "2023-11-04T03:18:20.960655Z",
     "shell.execute_reply": "2023-11-04T03:18:20.959884Z"
    },
    "papermill": {
     "duration": 0.200293,
     "end_time": "2023-11-04T03:18:20.962724",
     "exception": false,
     "start_time": "2023-11-04T03:18:20.762431",
     "status": "completed"
    },
    "tags": []
   },
   "outputs": [],
   "source": [
    "from sklearn.metrics import confusion_matrix, accuracy_score, roc_curve, roc_auc_score\n",
    "from sklearn.model_selection import cross_val_score, cross_val_predict,GridSearchCV, StratifiedKFold,learning_curve\n",
    "from sklearn.ensemble import RandomForestClassifier\n",
    "from xgboost import XGBClassifier\n"
   ]
  },
  {
   "cell_type": "code",
   "execution_count": 27,
   "id": "bc79d7fc",
   "metadata": {
    "execution": {
     "iopub.execute_input": "2023-11-04T03:18:20.993806Z",
     "iopub.status.busy": "2023-11-04T03:18:20.993511Z",
     "iopub.status.idle": "2023-11-04T03:18:20.998491Z",
     "shell.execute_reply": "2023-11-04T03:18:20.997479Z"
    },
    "papermill": {
     "duration": 0.022896,
     "end_time": "2023-11-04T03:18:21.000482",
     "exception": false,
     "start_time": "2023-11-04T03:18:20.977586",
     "status": "completed"
    },
    "tags": []
   },
   "outputs": [],
   "source": [
    "label_size = 17\n",
    "plt.rcParams['axes.labelsize'] = label_size\n",
    "plt.rcParams['axes.titlesize'] = label_size\n",
    "plt.rcParams['xtick.labelsize'] = label_size-3\n",
    "plt.rcParams['ytick.labelsize'] = label_size-3"
   ]
  },
  {
   "cell_type": "code",
   "execution_count": 28,
   "id": "d2db3aa9",
   "metadata": {
    "execution": {
     "iopub.execute_input": "2023-11-04T03:18:21.030804Z",
     "iopub.status.busy": "2023-11-04T03:18:21.030142Z",
     "iopub.status.idle": "2023-11-04T03:18:21.034195Z",
     "shell.execute_reply": "2023-11-04T03:18:21.033332Z"
    },
    "papermill": {
     "duration": 0.021213,
     "end_time": "2023-11-04T03:18:21.036255",
     "exception": false,
     "start_time": "2023-11-04T03:18:21.015042",
     "status": "completed"
    },
    "tags": []
   },
   "outputs": [],
   "source": [
    "random_state = 42\n",
    "scoring_metric = 'accuracy'"
   ]
  },
  {
   "cell_type": "code",
   "execution_count": null,
   "id": "ac459e3c",
   "metadata": {
    "papermill": {
     "duration": 0.01389,
     "end_time": "2023-11-04T03:18:21.064324",
     "exception": false,
     "start_time": "2023-11-04T03:18:21.050434",
     "status": "completed"
    },
    "tags": []
   },
   "outputs": [],
   "source": []
  },
  {
   "cell_type": "code",
   "execution_count": null,
   "id": "837fc741",
   "metadata": {
    "papermill": {
     "duration": 0.013725,
     "end_time": "2023-11-04T03:18:21.092350",
     "exception": false,
     "start_time": "2023-11-04T03:18:21.078625",
     "status": "completed"
    },
    "tags": []
   },
   "outputs": [],
   "source": []
  }
 ],
 "metadata": {
  "kernelspec": {
   "display_name": "Python 3",
   "language": "python",
   "name": "python3"
  },
  "language_info": {
   "codemirror_mode": {
    "name": "ipython",
    "version": 3
   },
   "file_extension": ".py",
   "mimetype": "text/x-python",
   "name": "python",
   "nbconvert_exporter": "python",
   "pygments_lexer": "ipython3",
   "version": "3.10.12"
  },
  "papermill": {
   "default_parameters": {},
   "duration": 79.718678,
   "end_time": "2023-11-04T03:18:22.226330",
   "environment_variables": {},
   "exception": null,
   "input_path": "__notebook__.ipynb",
   "output_path": "__notebook__.ipynb",
   "parameters": {},
   "start_time": "2023-11-04T03:17:02.507652",
   "version": "2.4.0"
  }
 },
 "nbformat": 4,
 "nbformat_minor": 5
}
