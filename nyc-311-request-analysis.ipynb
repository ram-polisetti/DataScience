{
 "cells": [
  {
   "cell_type": "markdown",
   "id": "414e72c2",
   "metadata": {
    "_cell_guid": "b1076dfc-b9ad-4769-8c92-a6c4dae69d19",
    "_uuid": "8f2839f25d086af736a60e9eeb907d3b93b6e0e5",
    "papermill": {
     "duration": 0.007745,
     "end_time": "2023-11-03T22:01:01.929605",
     "exception": false,
     "start_time": "2023-11-03T22:01:01.921860",
     "status": "completed"
    },
    "tags": []
   },
   "source": [
    "# **NYC 311 Request Analysis**"
   ]
  },
  {
   "cell_type": "markdown",
   "id": "616c402c",
   "metadata": {
    "papermill": {
     "duration": 0.006221,
     "end_time": "2023-11-03T22:01:01.942692",
     "exception": false,
     "start_time": "2023-11-03T22:01:01.936471",
     "status": "completed"
    },
    "tags": []
   },
   "source": [
    "## **Problem Statement**\n",
    "\n",
    "The New York City Department of Housing Preservation and Development (HPD) needs help answering the following key questions:\n",
    "\n",
    "* What type of housing complaint should be prioritized first based on frequency, severity, and other factors in the 311 data?\n",
    "\n",
    "* Are certain boroughs, ZIP codes, or streets experiencing more severe complaints of this top priority type? \n",
    "\n",
    "* Does the top complaint type correlate with any particular housing/building characteristics? \n",
    "\n",
    "* Can a predictive model be developed to forecast future complaints of the priority type?\n",
    "\n"
   ]
  },
  {
   "cell_type": "markdown",
   "id": "c6987c5d",
   "metadata": {
    "papermill": {
     "duration": 0.006452,
     "end_time": "2023-11-03T22:01:01.955587",
     "exception": false,
     "start_time": "2023-11-03T22:01:01.949135",
     "status": "completed"
    },
    "tags": []
   },
   "source": [
    "## **Goal**\n",
    "\n",
    "My goal is to deliver data-backed recommendations that provide actionable insights to help HPD manage its growing volume of 311 cases and build a predictive model for forecasting future complaints."
   ]
  },
  {
   "cell_type": "markdown",
   "id": "c8724b55",
   "metadata": {
    "papermill": {
     "duration": 0.006175,
     "end_time": "2023-11-03T22:01:01.968260",
     "exception": false,
     "start_time": "2023-11-03T22:01:01.962085",
     "status": "completed"
    },
    "tags": []
   },
   "source": [
    "## **NYC 311 Complaint Dataset**\n",
    "\n",
    "The primary dataset used for this analysis is a preprocessed version of the NYC 311 Complaints dataset obtained from the NYC OpenData portal. This public dataset contains records of complaints filed through the 311 system by NYC residents from 2010 to August 2019. For the purposes of this analysis, the raw 311 data was preprocessed to contain only relevant columns and rows to make the volume more manageable. While similar to 311 datasets used in other analyses, minor differences in the data may lead to small numerical discrepancies. However, these differences do not impact the overall findings and conclusions drawn from the data to address the key questions posed by the NYC Department of Housing Preservation and Development regarding 311 complaint insights."
   ]
  },
  {
   "cell_type": "markdown",
   "id": "8ac95ac8",
   "metadata": {
    "papermill": {
     "duration": 0.006025,
     "end_time": "2023-11-03T22:01:01.981100",
     "exception": false,
     "start_time": "2023-11-03T22:01:01.975075",
     "status": "completed"
    },
    "tags": []
   },
   "source": [
    "## **Dataset for Housing**\n",
    "\n",
    "Here is a revised paragraph about the building characteristics dataset without directly mentioning using CSV files from another source:\n",
    "\n",
    "The second dataset used in this analysis contains building characteristic information for houses across New York City's five boroughs - Bronx, Brooklyn, Manhattan, Queens, and Staten Island. This dataset was compiled from publicly available sources containing information on various attributes of NYC houses and buildings, such as year built, number of units, building class category, and more. The building characteristics data was consolidated and preprocessed into a single dataset organized with one row per building and columns for each relevant attribute. This consolidated dataset provides important housing insights that can be analyzed in conjunction with the 311 complaints data to identify any correlations between complaint types and building features. As with the 311 data, the building characteristics dataset was preprocessed to contain only necessary information to address the key questions from HPD."
   ]
  },
  {
   "cell_type": "code",
   "execution_count": 1,
   "id": "bf07fa08",
   "metadata": {
    "execution": {
     "iopub.execute_input": "2023-11-03T22:01:01.995917Z",
     "iopub.status.busy": "2023-11-03T22:01:01.995554Z",
     "iopub.status.idle": "2023-11-03T22:01:04.382332Z",
     "shell.execute_reply": "2023-11-03T22:01:04.381443Z"
    },
    "papermill": {
     "duration": 2.396906,
     "end_time": "2023-11-03T22:01:04.384653",
     "exception": false,
     "start_time": "2023-11-03T22:01:01.987747",
     "status": "completed"
    },
    "tags": []
   },
   "outputs": [
    {
     "name": "stderr",
     "output_type": "stream",
     "text": [
      "/opt/conda/lib/python3.10/site-packages/scipy/__init__.py:146: UserWarning: A NumPy version >=1.16.5 and <1.23.0 is required for this version of SciPy (detected version 1.23.5\n",
      "  warnings.warn(f\"A NumPy version >={np_minversion} and <{np_maxversion}\"\n"
     ]
    }
   ],
   "source": [
    "# Importing libraries\n",
    "import numpy as np \n",
    "import pandas as pd\n",
    "import geopandas as gpd\n",
    "import missingno as msno\n",
    "import seaborn as sns\n",
    "import matplotlib.pyplot as plt\n",
    "import matplotlib.patches as mpatches"
   ]
  },
  {
   "cell_type": "code",
   "execution_count": 2,
   "id": "e600004a",
   "metadata": {
    "execution": {
     "iopub.execute_input": "2023-11-03T22:01:04.399955Z",
     "iopub.status.busy": "2023-11-03T22:01:04.399463Z",
     "iopub.status.idle": "2023-11-03T22:01:50.348046Z",
     "shell.execute_reply": "2023-11-03T22:01:50.347250Z"
    },
    "papermill": {
     "duration": 45.958948,
     "end_time": "2023-11-03T22:01:50.350465",
     "exception": false,
     "start_time": "2023-11-03T22:01:04.391517",
     "status": "completed"
    },
    "tags": []
   },
   "outputs": [],
   "source": [
    "data = pd.read_csv('/kaggle/input/nyc311opendata/fhrw-4uyv.csv')"
   ]
  },
  {
   "cell_type": "code",
   "execution_count": 3,
   "id": "ba33cf9b",
   "metadata": {
    "execution": {
     "iopub.execute_input": "2023-11-03T22:01:50.365620Z",
     "iopub.status.busy": "2023-11-03T22:01:50.365251Z",
     "iopub.status.idle": "2023-11-03T22:01:50.373164Z",
     "shell.execute_reply": "2023-11-03T22:01:50.372240Z"
    },
    "papermill": {
     "duration": 0.017606,
     "end_time": "2023-11-03T22:01:50.375239",
     "exception": false,
     "start_time": "2023-11-03T22:01:50.357633",
     "status": "completed"
    },
    "tags": []
   },
   "outputs": [
    {
     "data": {
      "text/plain": [
       "Index(['created_date', 'unique_key', 'complaint_type', 'incident_zip',\n",
       "       'incident_address', 'street_name', 'address_type', 'city',\n",
       "       'resolution_description', 'borough', 'latitude', 'longitude',\n",
       "       'closed_date', 'location_type', 'status'],\n",
       "      dtype='object')"
      ]
     },
     "execution_count": 3,
     "metadata": {},
     "output_type": "execute_result"
    }
   ],
   "source": [
    "data.columns"
   ]
  },
  {
   "cell_type": "code",
   "execution_count": 4,
   "id": "546090f4",
   "metadata": {
    "execution": {
     "iopub.execute_input": "2023-11-03T22:01:50.389555Z",
     "iopub.status.busy": "2023-11-03T22:01:50.389253Z",
     "iopub.status.idle": "2023-11-03T22:01:50.394750Z",
     "shell.execute_reply": "2023-11-03T22:01:50.393843Z"
    },
    "papermill": {
     "duration": 0.015107,
     "end_time": "2023-11-03T22:01:50.396920",
     "exception": false,
     "start_time": "2023-11-03T22:01:50.381813",
     "status": "completed"
    },
    "tags": []
   },
   "outputs": [
    {
     "data": {
      "text/plain": [
       "(5846787, 15)"
      ]
     },
     "execution_count": 4,
     "metadata": {},
     "output_type": "execute_result"
    }
   ],
   "source": [
    "data.shape"
   ]
  },
  {
   "cell_type": "code",
   "execution_count": 5,
   "id": "c8d8f2cc",
   "metadata": {
    "execution": {
     "iopub.execute_input": "2023-11-03T22:01:50.411861Z",
     "iopub.status.busy": "2023-11-03T22:01:50.411619Z",
     "iopub.status.idle": "2023-11-03T22:01:50.438354Z",
     "shell.execute_reply": "2023-11-03T22:01:50.437476Z"
    },
    "papermill": {
     "duration": 0.036433,
     "end_time": "2023-11-03T22:01:50.440373",
     "exception": false,
     "start_time": "2023-11-03T22:01:50.403940",
     "status": "completed"
    },
    "tags": []
   },
   "outputs": [
    {
     "name": "stdout",
     "output_type": "stream",
     "text": [
      "<class 'pandas.core.frame.DataFrame'>\n",
      "RangeIndex: 5846787 entries, 0 to 5846786\n",
      "Data columns (total 15 columns):\n",
      " #   Column                  Dtype  \n",
      "---  ------                  -----  \n",
      " 0   created_date            object \n",
      " 1   unique_key              int64  \n",
      " 2   complaint_type          object \n",
      " 3   incident_zip            float64\n",
      " 4   incident_address        object \n",
      " 5   street_name             object \n",
      " 6   address_type            object \n",
      " 7   city                    object \n",
      " 8   resolution_description  object \n",
      " 9   borough                 object \n",
      " 10  latitude                float64\n",
      " 11  longitude               float64\n",
      " 12  closed_date             object \n",
      " 13  location_type           object \n",
      " 14  status                  object \n",
      "dtypes: float64(3), int64(1), object(11)\n",
      "memory usage: 669.1+ MB\n"
     ]
    }
   ],
   "source": [
    "data.info()"
   ]
  },
  {
   "cell_type": "code",
   "execution_count": 6,
   "id": "d53fdcb9",
   "metadata": {
    "execution": {
     "iopub.execute_input": "2023-11-03T22:01:50.456010Z",
     "iopub.status.busy": "2023-11-03T22:01:50.455691Z",
     "iopub.status.idle": "2023-11-03T22:01:50.476545Z",
     "shell.execute_reply": "2023-11-03T22:01:50.475579Z"
    },
    "papermill": {
     "duration": 0.030845,
     "end_time": "2023-11-03T22:01:50.478588",
     "exception": false,
     "start_time": "2023-11-03T22:01:50.447743",
     "status": "completed"
    },
    "tags": []
   },
   "outputs": [
    {
     "data": {
      "text/html": [
       "<div>\n",
       "<style scoped>\n",
       "    .dataframe tbody tr th:only-of-type {\n",
       "        vertical-align: middle;\n",
       "    }\n",
       "\n",
       "    .dataframe tbody tr th {\n",
       "        vertical-align: top;\n",
       "    }\n",
       "\n",
       "    .dataframe thead th {\n",
       "        text-align: right;\n",
       "    }\n",
       "</style>\n",
       "<table border=\"1\" class=\"dataframe\">\n",
       "  <thead>\n",
       "    <tr style=\"text-align: right;\">\n",
       "      <th></th>\n",
       "      <th>created_date</th>\n",
       "      <th>unique_key</th>\n",
       "      <th>complaint_type</th>\n",
       "      <th>incident_zip</th>\n",
       "      <th>incident_address</th>\n",
       "      <th>street_name</th>\n",
       "      <th>address_type</th>\n",
       "      <th>city</th>\n",
       "      <th>resolution_description</th>\n",
       "      <th>borough</th>\n",
       "      <th>latitude</th>\n",
       "      <th>longitude</th>\n",
       "      <th>closed_date</th>\n",
       "      <th>location_type</th>\n",
       "      <th>status</th>\n",
       "    </tr>\n",
       "  </thead>\n",
       "  <tbody>\n",
       "    <tr>\n",
       "      <th>0</th>\n",
       "      <td>2019-08-23T12:35:54.000</td>\n",
       "      <td>43624241</td>\n",
       "      <td>HEAT/HOT WATER</td>\n",
       "      <td>10032.0</td>\n",
       "      <td>560 WEST  160 STREET</td>\n",
       "      <td>WEST  160 STREET</td>\n",
       "      <td>ADDRESS</td>\n",
       "      <td>NEW YORK</td>\n",
       "      <td>The complaint you filed is a duplicate of a co...</td>\n",
       "      <td>MANHATTAN</td>\n",
       "      <td>40.835396</td>\n",
       "      <td>-73.942262</td>\n",
       "      <td>NaN</td>\n",
       "      <td>RESIDENTIAL BUILDING</td>\n",
       "      <td>Open</td>\n",
       "    </tr>\n",
       "    <tr>\n",
       "      <th>1</th>\n",
       "      <td>2019-08-23T08:43:58.000</td>\n",
       "      <td>43623659</td>\n",
       "      <td>UNSANITARY CONDITION</td>\n",
       "      <td>11208.0</td>\n",
       "      <td>261 MONTAUK AVENUE</td>\n",
       "      <td>MONTAUK AVENUE</td>\n",
       "      <td>ADDRESS</td>\n",
       "      <td>BROOKLYN</td>\n",
       "      <td>The following complaint conditions are still o...</td>\n",
       "      <td>BROOKLYN</td>\n",
       "      <td>40.672494</td>\n",
       "      <td>-73.877521</td>\n",
       "      <td>NaN</td>\n",
       "      <td>RESIDENTIAL BUILDING</td>\n",
       "      <td>Open</td>\n",
       "    </tr>\n",
       "    <tr>\n",
       "      <th>2</th>\n",
       "      <td>2019-08-23T09:08:09.000</td>\n",
       "      <td>43624463</td>\n",
       "      <td>UNSANITARY CONDITION</td>\n",
       "      <td>10002.0</td>\n",
       "      <td>125 MADISON STREET</td>\n",
       "      <td>MADISON STREET</td>\n",
       "      <td>ADDRESS</td>\n",
       "      <td>NEW YORK</td>\n",
       "      <td>The following complaint conditions are still o...</td>\n",
       "      <td>MANHATTAN</td>\n",
       "      <td>40.712353</td>\n",
       "      <td>-73.993947</td>\n",
       "      <td>NaN</td>\n",
       "      <td>RESIDENTIAL BUILDING</td>\n",
       "      <td>Open</td>\n",
       "    </tr>\n",
       "    <tr>\n",
       "      <th>3</th>\n",
       "      <td>2019-08-23T16:36:08.000</td>\n",
       "      <td>43625072</td>\n",
       "      <td>DOOR/WINDOW</td>\n",
       "      <td>11211.0</td>\n",
       "      <td>525 UNION AVENUE</td>\n",
       "      <td>UNION AVENUE</td>\n",
       "      <td>ADDRESS</td>\n",
       "      <td>BROOKLYN</td>\n",
       "      <td>The following complaint conditions are still o...</td>\n",
       "      <td>BROOKLYN</td>\n",
       "      <td>40.716233</td>\n",
       "      <td>-73.951986</td>\n",
       "      <td>NaN</td>\n",
       "      <td>RESIDENTIAL BUILDING</td>\n",
       "      <td>Open</td>\n",
       "    </tr>\n",
       "    <tr>\n",
       "      <th>4</th>\n",
       "      <td>2019-08-23T11:15:00.000</td>\n",
       "      <td>43623738</td>\n",
       "      <td>UNSANITARY CONDITION</td>\n",
       "      <td>11372.0</td>\n",
       "      <td>35-52F 73 STREET</td>\n",
       "      <td>73 STREET</td>\n",
       "      <td>ADDRESS</td>\n",
       "      <td>Jackson Heights</td>\n",
       "      <td>NaN</td>\n",
       "      <td>QUEENS</td>\n",
       "      <td>40.750533</td>\n",
       "      <td>-73.892998</td>\n",
       "      <td>NaN</td>\n",
       "      <td>RESIDENTIAL BUILDING</td>\n",
       "      <td>Open</td>\n",
       "    </tr>\n",
       "  </tbody>\n",
       "</table>\n",
       "</div>"
      ],
      "text/plain": [
       "              created_date  unique_key        complaint_type  incident_zip  \\\n",
       "0  2019-08-23T12:35:54.000    43624241        HEAT/HOT WATER       10032.0   \n",
       "1  2019-08-23T08:43:58.000    43623659  UNSANITARY CONDITION       11208.0   \n",
       "2  2019-08-23T09:08:09.000    43624463  UNSANITARY CONDITION       10002.0   \n",
       "3  2019-08-23T16:36:08.000    43625072           DOOR/WINDOW       11211.0   \n",
       "4  2019-08-23T11:15:00.000    43623738  UNSANITARY CONDITION       11372.0   \n",
       "\n",
       "       incident_address       street_name address_type             city  \\\n",
       "0  560 WEST  160 STREET  WEST  160 STREET      ADDRESS         NEW YORK   \n",
       "1    261 MONTAUK AVENUE    MONTAUK AVENUE      ADDRESS         BROOKLYN   \n",
       "2    125 MADISON STREET    MADISON STREET      ADDRESS         NEW YORK   \n",
       "3      525 UNION AVENUE      UNION AVENUE      ADDRESS         BROOKLYN   \n",
       "4      35-52F 73 STREET         73 STREET      ADDRESS  Jackson Heights   \n",
       "\n",
       "                              resolution_description    borough   latitude  \\\n",
       "0  The complaint you filed is a duplicate of a co...  MANHATTAN  40.835396   \n",
       "1  The following complaint conditions are still o...   BROOKLYN  40.672494   \n",
       "2  The following complaint conditions are still o...  MANHATTAN  40.712353   \n",
       "3  The following complaint conditions are still o...   BROOKLYN  40.716233   \n",
       "4                                                NaN     QUEENS  40.750533   \n",
       "\n",
       "   longitude closed_date         location_type status  \n",
       "0 -73.942262         NaN  RESIDENTIAL BUILDING   Open  \n",
       "1 -73.877521         NaN  RESIDENTIAL BUILDING   Open  \n",
       "2 -73.993947         NaN  RESIDENTIAL BUILDING   Open  \n",
       "3 -73.951986         NaN  RESIDENTIAL BUILDING   Open  \n",
       "4 -73.892998         NaN  RESIDENTIAL BUILDING   Open  "
      ]
     },
     "execution_count": 6,
     "metadata": {},
     "output_type": "execute_result"
    }
   ],
   "source": [
    "data.head()"
   ]
  },
  {
   "cell_type": "code",
   "execution_count": 7,
   "id": "09646529",
   "metadata": {
    "execution": {
     "iopub.execute_input": "2023-11-03T22:01:50.494234Z",
     "iopub.status.busy": "2023-11-03T22:01:50.493915Z",
     "iopub.status.idle": "2023-11-03T22:01:54.521720Z",
     "shell.execute_reply": "2023-11-03T22:01:54.520673Z"
    },
    "papermill": {
     "duration": 4.03868,
     "end_time": "2023-11-03T22:01:54.524351",
     "exception": false,
     "start_time": "2023-11-03T22:01:50.485671",
     "status": "completed"
    },
    "tags": []
   },
   "outputs": [],
   "source": [
    "data['created_date'] = pd.to_datetime(data['created_date'])\n",
    "data['closed_date'] = pd.to_datetime(data['closed_date'])"
   ]
  },
  {
   "cell_type": "code",
   "execution_count": 8,
   "id": "170aea51",
   "metadata": {
    "execution": {
     "iopub.execute_input": "2023-11-03T22:01:54.541986Z",
     "iopub.status.busy": "2023-11-03T22:01:54.541700Z",
     "iopub.status.idle": "2023-11-03T22:01:55.029050Z",
     "shell.execute_reply": "2023-11-03T22:01:55.027958Z"
    },
    "papermill": {
     "duration": 0.498608,
     "end_time": "2023-11-03T22:01:55.031782",
     "exception": false,
     "start_time": "2023-11-03T22:01:54.533174",
     "status": "completed"
    },
    "tags": []
   },
   "outputs": [],
   "source": [
    "data['Year'] = data['created_date'].dt.year"
   ]
  },
  {
   "cell_type": "code",
   "execution_count": 9,
   "id": "81b9f9ae",
   "metadata": {
    "execution": {
     "iopub.execute_input": "2023-11-03T22:01:55.049934Z",
     "iopub.status.busy": "2023-11-03T22:01:55.049614Z",
     "iopub.status.idle": "2023-11-03T22:01:55.070176Z",
     "shell.execute_reply": "2023-11-03T22:01:55.069114Z"
    },
    "papermill": {
     "duration": 0.031977,
     "end_time": "2023-11-03T22:01:55.072353",
     "exception": false,
     "start_time": "2023-11-03T22:01:55.040376",
     "status": "completed"
    },
    "tags": []
   },
   "outputs": [
    {
     "data": {
      "text/html": [
       "<div>\n",
       "<style scoped>\n",
       "    .dataframe tbody tr th:only-of-type {\n",
       "        vertical-align: middle;\n",
       "    }\n",
       "\n",
       "    .dataframe tbody tr th {\n",
       "        vertical-align: top;\n",
       "    }\n",
       "\n",
       "    .dataframe thead th {\n",
       "        text-align: right;\n",
       "    }\n",
       "</style>\n",
       "<table border=\"1\" class=\"dataframe\">\n",
       "  <thead>\n",
       "    <tr style=\"text-align: right;\">\n",
       "      <th></th>\n",
       "      <th>created_date</th>\n",
       "      <th>unique_key</th>\n",
       "      <th>complaint_type</th>\n",
       "      <th>incident_zip</th>\n",
       "      <th>incident_address</th>\n",
       "      <th>street_name</th>\n",
       "      <th>address_type</th>\n",
       "      <th>city</th>\n",
       "      <th>resolution_description</th>\n",
       "      <th>borough</th>\n",
       "      <th>latitude</th>\n",
       "      <th>longitude</th>\n",
       "      <th>closed_date</th>\n",
       "      <th>location_type</th>\n",
       "      <th>status</th>\n",
       "      <th>Year</th>\n",
       "    </tr>\n",
       "  </thead>\n",
       "  <tbody>\n",
       "    <tr>\n",
       "      <th>0</th>\n",
       "      <td>2019-08-23 12:35:54</td>\n",
       "      <td>43624241</td>\n",
       "      <td>HEAT/HOT WATER</td>\n",
       "      <td>10032.0</td>\n",
       "      <td>560 WEST  160 STREET</td>\n",
       "      <td>WEST  160 STREET</td>\n",
       "      <td>ADDRESS</td>\n",
       "      <td>NEW YORK</td>\n",
       "      <td>The complaint you filed is a duplicate of a co...</td>\n",
       "      <td>MANHATTAN</td>\n",
       "      <td>40.835396</td>\n",
       "      <td>-73.942262</td>\n",
       "      <td>NaT</td>\n",
       "      <td>RESIDENTIAL BUILDING</td>\n",
       "      <td>Open</td>\n",
       "      <td>2019</td>\n",
       "    </tr>\n",
       "    <tr>\n",
       "      <th>1</th>\n",
       "      <td>2019-08-23 08:43:58</td>\n",
       "      <td>43623659</td>\n",
       "      <td>UNSANITARY CONDITION</td>\n",
       "      <td>11208.0</td>\n",
       "      <td>261 MONTAUK AVENUE</td>\n",
       "      <td>MONTAUK AVENUE</td>\n",
       "      <td>ADDRESS</td>\n",
       "      <td>BROOKLYN</td>\n",
       "      <td>The following complaint conditions are still o...</td>\n",
       "      <td>BROOKLYN</td>\n",
       "      <td>40.672494</td>\n",
       "      <td>-73.877521</td>\n",
       "      <td>NaT</td>\n",
       "      <td>RESIDENTIAL BUILDING</td>\n",
       "      <td>Open</td>\n",
       "      <td>2019</td>\n",
       "    </tr>\n",
       "    <tr>\n",
       "      <th>2</th>\n",
       "      <td>2019-08-23 09:08:09</td>\n",
       "      <td>43624463</td>\n",
       "      <td>UNSANITARY CONDITION</td>\n",
       "      <td>10002.0</td>\n",
       "      <td>125 MADISON STREET</td>\n",
       "      <td>MADISON STREET</td>\n",
       "      <td>ADDRESS</td>\n",
       "      <td>NEW YORK</td>\n",
       "      <td>The following complaint conditions are still o...</td>\n",
       "      <td>MANHATTAN</td>\n",
       "      <td>40.712353</td>\n",
       "      <td>-73.993947</td>\n",
       "      <td>NaT</td>\n",
       "      <td>RESIDENTIAL BUILDING</td>\n",
       "      <td>Open</td>\n",
       "      <td>2019</td>\n",
       "    </tr>\n",
       "    <tr>\n",
       "      <th>3</th>\n",
       "      <td>2019-08-23 16:36:08</td>\n",
       "      <td>43625072</td>\n",
       "      <td>DOOR/WINDOW</td>\n",
       "      <td>11211.0</td>\n",
       "      <td>525 UNION AVENUE</td>\n",
       "      <td>UNION AVENUE</td>\n",
       "      <td>ADDRESS</td>\n",
       "      <td>BROOKLYN</td>\n",
       "      <td>The following complaint conditions are still o...</td>\n",
       "      <td>BROOKLYN</td>\n",
       "      <td>40.716233</td>\n",
       "      <td>-73.951986</td>\n",
       "      <td>NaT</td>\n",
       "      <td>RESIDENTIAL BUILDING</td>\n",
       "      <td>Open</td>\n",
       "      <td>2019</td>\n",
       "    </tr>\n",
       "    <tr>\n",
       "      <th>4</th>\n",
       "      <td>2019-08-23 11:15:00</td>\n",
       "      <td>43623738</td>\n",
       "      <td>UNSANITARY CONDITION</td>\n",
       "      <td>11372.0</td>\n",
       "      <td>35-52F 73 STREET</td>\n",
       "      <td>73 STREET</td>\n",
       "      <td>ADDRESS</td>\n",
       "      <td>Jackson Heights</td>\n",
       "      <td>NaN</td>\n",
       "      <td>QUEENS</td>\n",
       "      <td>40.750533</td>\n",
       "      <td>-73.892998</td>\n",
       "      <td>NaT</td>\n",
       "      <td>RESIDENTIAL BUILDING</td>\n",
       "      <td>Open</td>\n",
       "      <td>2019</td>\n",
       "    </tr>\n",
       "  </tbody>\n",
       "</table>\n",
       "</div>"
      ],
      "text/plain": [
       "         created_date  unique_key        complaint_type  incident_zip  \\\n",
       "0 2019-08-23 12:35:54    43624241        HEAT/HOT WATER       10032.0   \n",
       "1 2019-08-23 08:43:58    43623659  UNSANITARY CONDITION       11208.0   \n",
       "2 2019-08-23 09:08:09    43624463  UNSANITARY CONDITION       10002.0   \n",
       "3 2019-08-23 16:36:08    43625072           DOOR/WINDOW       11211.0   \n",
       "4 2019-08-23 11:15:00    43623738  UNSANITARY CONDITION       11372.0   \n",
       "\n",
       "       incident_address       street_name address_type             city  \\\n",
       "0  560 WEST  160 STREET  WEST  160 STREET      ADDRESS         NEW YORK   \n",
       "1    261 MONTAUK AVENUE    MONTAUK AVENUE      ADDRESS         BROOKLYN   \n",
       "2    125 MADISON STREET    MADISON STREET      ADDRESS         NEW YORK   \n",
       "3      525 UNION AVENUE      UNION AVENUE      ADDRESS         BROOKLYN   \n",
       "4      35-52F 73 STREET         73 STREET      ADDRESS  Jackson Heights   \n",
       "\n",
       "                              resolution_description    borough   latitude  \\\n",
       "0  The complaint you filed is a duplicate of a co...  MANHATTAN  40.835396   \n",
       "1  The following complaint conditions are still o...   BROOKLYN  40.672494   \n",
       "2  The following complaint conditions are still o...  MANHATTAN  40.712353   \n",
       "3  The following complaint conditions are still o...   BROOKLYN  40.716233   \n",
       "4                                                NaN     QUEENS  40.750533   \n",
       "\n",
       "   longitude closed_date         location_type status  Year  \n",
       "0 -73.942262         NaT  RESIDENTIAL BUILDING   Open  2019  \n",
       "1 -73.877521         NaT  RESIDENTIAL BUILDING   Open  2019  \n",
       "2 -73.993947         NaT  RESIDENTIAL BUILDING   Open  2019  \n",
       "3 -73.951986         NaT  RESIDENTIAL BUILDING   Open  2019  \n",
       "4 -73.892998         NaT  RESIDENTIAL BUILDING   Open  2019  "
      ]
     },
     "execution_count": 9,
     "metadata": {},
     "output_type": "execute_result"
    }
   ],
   "source": [
    "data.head()"
   ]
  },
  {
   "cell_type": "markdown",
   "id": "56c79201",
   "metadata": {
    "papermill": {
     "duration": 0.007278,
     "end_time": "2023-11-03T22:01:55.087469",
     "exception": false,
     "start_time": "2023-11-03T22:01:55.080191",
     "status": "completed"
    },
    "tags": []
   },
   "source": []
  },
  {
   "cell_type": "code",
   "execution_count": 10,
   "id": "6a08ddfb",
   "metadata": {
    "execution": {
     "iopub.execute_input": "2023-11-03T22:01:55.103315Z",
     "iopub.status.busy": "2023-11-03T22:01:55.103028Z",
     "iopub.status.idle": "2023-11-03T22:01:56.591222Z",
     "shell.execute_reply": "2023-11-03T22:01:56.590172Z"
    },
    "papermill": {
     "duration": 1.499115,
     "end_time": "2023-11-03T22:01:56.593919",
     "exception": false,
     "start_time": "2023-11-03T22:01:55.094804",
     "status": "completed"
    },
    "tags": []
   },
   "outputs": [],
   "source": [
    "\n",
    "import requests\n",
    "\n",
    "# Download the GeoJSON file and save it locally\n",
    "url = 'https://github.com/codeforgermany/click_that_hood/raw/main/public/data/new-york-city-boroughs.geojson'\n",
    "response = requests.get(url)\n",
    "with open('new-york-city-boroughs.geojson', 'wb') as file:\n",
    "    file.write(response.content)\n",
    "\n",
    "# Read the locally saved GeoJSON file\n",
    "gdf = gpd.read_file('new-york-city-boroughs.geojson')\n"
   ]
  },
  {
   "cell_type": "code",
   "execution_count": 11,
   "id": "ca7d2148",
   "metadata": {
    "execution": {
     "iopub.execute_input": "2023-11-03T22:01:56.612152Z",
     "iopub.status.busy": "2023-11-03T22:01:56.611597Z",
     "iopub.status.idle": "2023-11-03T22:01:57.582223Z",
     "shell.execute_reply": "2023-11-03T22:01:57.581221Z"
    },
    "papermill": {
     "duration": 0.981588,
     "end_time": "2023-11-03T22:01:57.584694",
     "exception": false,
     "start_time": "2023-11-03T22:01:56.603106",
     "status": "completed"
    },
    "tags": []
   },
   "outputs": [
    {
     "data": {
      "text/plain": [
       "<Axes: >"
      ]
     },
     "execution_count": 11,
     "metadata": {},
     "output_type": "execute_result"
    },
    {
     "data": {
      "image/png": "[encoded data removed]",
      "text/plain": [
       "<Figure size 400x400 with 1 Axes>"
      ]
     },
     "metadata": {},
     "output_type": "display_data"
    }
   ],
   "source": [
    "import geopandas as gpd\n",
    "import requests\n",
    "\n",
    "# Download the GeoJSON file and save it locally\n",
    "url = 'https://github.com/codeforgermany/click_that_hood/raw/main/public/data/new-york-city-boroughs.geojson'\n",
    "response = requests.get(url)\n",
    "with open('new-york-city-boroughs.geojson', 'wb') as file:\n",
    "    file.write(response.content)\n",
    "\n",
    "# Read the locally saved GeoJSON file\n",
    "borough_map = gpd.read_file('new-york-city-boroughs.geojson')\n",
    "fig, ax = plt.subplots(figsize = (4, 4))\n",
    "borough_map['geometry'].boundary.plot(edgecolor='green', linewidth=1, ax=ax)\n",
    "borough_map.plot(color='lightblue', alpha=0.7, ax=ax)"
   ]
  },
  {
   "cell_type": "markdown",
   "id": "5beaf852",
   "metadata": {
    "papermill": {
     "duration": 0.008668,
     "end_time": "2023-11-03T22:01:57.602465",
     "exception": false,
     "start_time": "2023-11-03T22:01:57.593797",
     "status": "completed"
    },
    "tags": []
   },
   "source": []
  },
  {
   "cell_type": "code",
   "execution_count": null,
   "id": "778117ff",
   "metadata": {
    "papermill": {
     "duration": 0.008323,
     "end_time": "2023-11-03T22:01:57.619420",
     "exception": false,
     "start_time": "2023-11-03T22:01:57.611097",
     "status": "completed"
    },
    "tags": []
   },
   "outputs": [],
   "source": []
  },
  {
   "cell_type": "code",
   "execution_count": 12,
   "id": "cb533196",
   "metadata": {
    "execution": {
     "iopub.execute_input": "2023-11-03T22:01:57.637670Z",
     "iopub.status.busy": "2023-11-03T22:01:57.637373Z",
     "iopub.status.idle": "2023-11-03T22:01:57.896614Z",
     "shell.execute_reply": "2023-11-03T22:01:57.895459Z"
    },
    "papermill": {
     "duration": 0.271504,
     "end_time": "2023-11-03T22:01:57.899249",
     "exception": false,
     "start_time": "2023-11-03T22:01:57.627745",
     "status": "completed"
    },
    "tags": []
   },
   "outputs": [],
   "source": [
    "from sklearn.model_selection import train_test_split\n",
    "from sklearn.preprocessing import StandardScaler\n",
    "\n",
    "from scipy import stats"
   ]
  },
  {
   "cell_type": "code",
   "execution_count": 13,
   "id": "fb68bfa8",
   "metadata": {
    "execution": {
     "iopub.execute_input": "2023-11-03T22:01:57.919095Z",
     "iopub.status.busy": "2023-11-03T22:01:57.918430Z",
     "iopub.status.idle": "2023-11-03T22:01:58.509693Z",
     "shell.execute_reply": "2023-11-03T22:01:58.508914Z"
    },
    "papermill": {
     "duration": 0.603142,
     "end_time": "2023-11-03T22:01:58.512000",
     "exception": false,
     "start_time": "2023-11-03T22:01:57.908858",
     "status": "completed"
    },
    "tags": []
   },
   "outputs": [],
   "source": [
    "from imblearn.pipeline import Pipeline\n",
    "from imblearn.under_sampling import RandomUnderSampler\n",
    "from imblearn.over_sampling import SMOTE"
   ]
  },
  {
   "cell_type": "code",
   "execution_count": 14,
   "id": "56488968",
   "metadata": {
    "execution": {
     "iopub.execute_input": "2023-11-03T22:01:58.531089Z",
     "iopub.status.busy": "2023-11-03T22:01:58.530361Z",
     "iopub.status.idle": "2023-11-03T22:01:58.728627Z",
     "shell.execute_reply": "2023-11-03T22:01:58.727839Z"
    },
    "papermill": {
     "duration": 0.209817,
     "end_time": "2023-11-03T22:01:58.730927",
     "exception": false,
     "start_time": "2023-11-03T22:01:58.521110",
     "status": "completed"
    },
    "tags": []
   },
   "outputs": [],
   "source": [
    "from sklearn.metrics import confusion_matrix, accuracy_score, roc_curve, roc_auc_score\n",
    "from sklearn.model_selection import cross_val_score, cross_val_predict,GridSearchCV, StratifiedKFold,learning_curve\n",
    "from sklearn.ensemble import RandomForestClassifier\n",
    "from xgboost import XGBClassifier\n"
   ]
  },
  {
   "cell_type": "code",
   "execution_count": 15,
   "id": "a9a57a9c",
   "metadata": {
    "execution": {
     "iopub.execute_input": "2023-11-03T22:01:58.749783Z",
     "iopub.status.busy": "2023-11-03T22:01:58.749462Z",
     "iopub.status.idle": "2023-11-03T22:01:58.754442Z",
     "shell.execute_reply": "2023-11-03T22:01:58.753460Z"
    },
    "papermill": {
     "duration": 0.016324,
     "end_time": "2023-11-03T22:01:58.756552",
     "exception": false,
     "start_time": "2023-11-03T22:01:58.740228",
     "status": "completed"
    },
    "tags": []
   },
   "outputs": [],
   "source": [
    "label_size = 17\n",
    "plt.rcParams['axes.labelsize'] = label_size\n",
    "plt.rcParams['axes.titlesize'] = label_size\n",
    "plt.rcParams['xtick.labelsize'] = label_size-3\n",
    "plt.rcParams['ytick.labelsize'] = label_size-3"
   ]
  },
  {
   "cell_type": "code",
   "execution_count": 16,
   "id": "38fdd127",
   "metadata": {
    "execution": {
     "iopub.execute_input": "2023-11-03T22:01:58.773696Z",
     "iopub.status.busy": "2023-11-03T22:01:58.773429Z",
     "iopub.status.idle": "2023-11-03T22:01:58.777443Z",
     "shell.execute_reply": "2023-11-03T22:01:58.776562Z"
    },
    "papermill": {
     "duration": 0.014686,
     "end_time": "2023-11-03T22:01:58.779230",
     "exception": false,
     "start_time": "2023-11-03T22:01:58.764544",
     "status": "completed"
    },
    "tags": []
   },
   "outputs": [],
   "source": [
    "random_state = 42\n",
    "scoring_metric = 'accuracy'"
   ]
  },
  {
   "cell_type": "code",
   "execution_count": null,
   "id": "a6e33884",
   "metadata": {
    "papermill": {
     "duration": 0.008139,
     "end_time": "2023-11-03T22:01:58.795650",
     "exception": false,
     "start_time": "2023-11-03T22:01:58.787511",
     "status": "completed"
    },
    "tags": []
   },
   "outputs": [],
   "source": []
  },
  {
   "cell_type": "code",
   "execution_count": null,
   "id": "132b909f",
   "metadata": {
    "papermill": {
     "duration": 0.008065,
     "end_time": "2023-11-03T22:01:58.812579",
     "exception": false,
     "start_time": "2023-11-03T22:01:58.804514",
     "status": "completed"
    },
    "tags": []
   },
   "outputs": [],
   "source": []
  }
 ],
 "metadata": {
  "kernelspec": {
   "display_name": "Python 3",
   "language": "python",
   "name": "python3"
  },
  "language_info": {
   "codemirror_mode": {
    "name": "ipython",
    "version": 3
   },
   "file_extension": ".py",
   "mimetype": "text/x-python",
   "name": "python",
   "nbconvert_exporter": "python",
   "pygments_lexer": "ipython3",
   "version": "3.10.12"
  },
  "papermill": {
   "default_parameters": {},
   "duration": 61.586239,
   "end_time": "2023-11-03T22:01:59.741593",
   "environment_variables": {},
   "exception": null,
   "input_path": "__notebook__.ipynb",
   "output_path": "__notebook__.ipynb",
   "parameters": {},
   "start_time": "2023-11-03T22:00:58.155354",
   "version": "2.4.0"
  }
 },
 "nbformat": 4,
 "nbformat_minor": 5
}
