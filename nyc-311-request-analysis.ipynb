{
 "cells": [
  {
   "cell_type": "markdown",
   "id": "b3032be9",
   "metadata": {
    "_cell_guid": "b1076dfc-b9ad-4769-8c92-a6c4dae69d19",
    "_uuid": "8f2839f25d086af736a60e9eeb907d3b93b6e0e5",
    "papermill": {
     "duration": 0.025212,
     "end_time": "2023-11-08T04:22:58.978992",
     "exception": false,
     "start_time": "2023-11-08T04:22:58.953780",
     "status": "completed"
    },
    "tags": []
   },
   "source": [
    "# **NYC 311 Request Analysis**"
   ]
  },
  {
   "cell_type": "markdown",
   "id": "2f6ec399",
   "metadata": {
    "papermill": {
     "duration": 0.022017,
     "end_time": "2023-11-08T04:22:59.024638",
     "exception": false,
     "start_time": "2023-11-08T04:22:59.002621",
     "status": "completed"
    },
    "tags": []
   },
   "source": [
    "## **Problem Statement**\n",
    "\n",
    "The New York City Department of Housing Preservation and Development (HPD) needs help answering the following key questions:\n",
    "\n",
    "* What type of housing complaint should be prioritized first based on frequency, severity, and other factors in the 311 data?\n",
    "\n",
    "* Are certain boroughs, ZIP codes, or streets experiencing more severe complaints of this top priority type? \n",
    "\n",
    "* Does the top complaint type correlate with any particular housing/building characteristics? \n",
    "\n",
    "* Can a predictive model be developed to forecast future complaints of the priority type?\n",
    "\n"
   ]
  },
  {
   "cell_type": "markdown",
   "id": "ac45eaa8",
   "metadata": {
    "papermill": {
     "duration": 0.022168,
     "end_time": "2023-11-08T04:22:59.069242",
     "exception": false,
     "start_time": "2023-11-08T04:22:59.047074",
     "status": "completed"
    },
    "tags": []
   },
   "source": [
    "## **Goal**\n",
    "\n",
    "My goal is to deliver data-backed recommendations that provide actionable insights to help HPD manage its growing volume of 311 cases and build a predictive model for forecasting future complaints."
   ]
  },
  {
   "cell_type": "markdown",
   "id": "a10f232f",
   "metadata": {
    "papermill": {
     "duration": 0.020195,
     "end_time": "2023-11-08T04:22:59.110292",
     "exception": false,
     "start_time": "2023-11-08T04:22:59.090097",
     "status": "completed"
    },
    "tags": []
   },
   "source": [
    "## **NYC 311 Complaint Dataset**\n",
    "\n",
    "The primary dataset used for this analysis is a preprocessed version of the NYC 311 Complaints dataset obtained from the NYC OpenData portal. This public dataset contains records of complaints filed through the 311 system by NYC residents from 2010 to August 2019. For the purposes of this analysis, the raw 311 data was preprocessed to contain only relevant columns and rows to make the volume more manageable. While similar to 311 datasets used in other analyses, minor differences in the data may lead to small numerical discrepancies. However, these differences do not impact the overall findings and conclusions drawn from the data to address the key questions posed by the NYC Department of Housing Preservation and Development regarding 311 complaint insights."
   ]
  },
  {
   "cell_type": "markdown",
   "id": "d68f3b04",
   "metadata": {
    "papermill": {
     "duration": 0.022485,
     "end_time": "2023-11-08T04:22:59.156449",
     "exception": false,
     "start_time": "2023-11-08T04:22:59.133964",
     "status": "completed"
    },
    "tags": []
   },
   "source": [
    "## **Dataset for Housing**\n",
    "\n",
    "Here is a revised paragraph about the building characteristics dataset without directly mentioning using CSV files from another source:\n",
    "\n",
    "The second dataset used in this analysis contains building characteristic information for houses across New York City's five boroughs - Bronx, Brooklyn, Manhattan, Queens, and Staten Island. This dataset was compiled from publicly available sources containing information on various attributes of NYC houses and buildings, such as year built, number of units, building class category, and more. The building characteristics data was consolidated and preprocessed into a single dataset organized with one row per building and columns for each relevant attribute. This consolidated dataset provides important housing insights that can be analyzed in conjunction with the 311 complaints data to identify any correlations between complaint types and building features. As with the 311 data, the building characteristics dataset was preprocessed to contain only necessary information to address the key questions from HPD."
   ]
  },
  {
   "cell_type": "code",
   "execution_count": 1,
   "id": "b2155cab",
   "metadata": {
    "execution": {
     "iopub.execute_input": "2023-11-08T04:22:59.205593Z",
     "iopub.status.busy": "2023-11-08T04:22:59.204718Z",
     "iopub.status.idle": "2023-11-08T04:23:02.660861Z",
     "shell.execute_reply": "2023-11-08T04:23:02.659790Z"
    },
    "papermill": {
     "duration": 3.483968,
     "end_time": "2023-11-08T04:23:02.663213",
     "exception": false,
     "start_time": "2023-11-08T04:22:59.179245",
     "status": "completed"
    },
    "tags": []
   },
   "outputs": [
    {
     "name": "stderr",
     "output_type": "stream",
     "text": [
      "/opt/conda/lib/python3.10/site-packages/scipy/__init__.py:146: UserWarning: A NumPy version >=1.16.5 and <1.23.0 is required for this version of SciPy (detected version 1.23.5\n",
      "  warnings.warn(f\"A NumPy version >={np_minversion} and <{np_maxversion}\"\n"
     ]
    }
   ],
   "source": [
    "# Importing libraries\n",
    "import numpy as np \n",
    "import pandas as pd\n",
    "import geopandas as gpd\n",
    "import missingno as msno\n",
    "import seaborn as sns\n",
    "import matplotlib.pyplot as plt\n",
    "import matplotlib.patches as mpatches"
   ]
  },
  {
   "cell_type": "code",
   "execution_count": 2,
   "id": "3965b954",
   "metadata": {
    "execution": {
     "iopub.execute_input": "2023-11-08T04:23:02.719563Z",
     "iopub.status.busy": "2023-11-08T04:23:02.719119Z",
     "iopub.status.idle": "2023-11-08T04:23:55.315803Z",
     "shell.execute_reply": "2023-11-08T04:23:55.314953Z"
    },
    "papermill": {
     "duration": 52.627877,
     "end_time": "2023-11-08T04:23:55.318440",
     "exception": false,
     "start_time": "2023-11-08T04:23:02.690563",
     "status": "completed"
    },
    "tags": []
   },
   "outputs": [],
   "source": [
    "data = pd.read_csv('/kaggle/input/nyc311opendata/fhrw-4uyv.csv')"
   ]
  },
  {
   "cell_type": "code",
   "execution_count": 3,
   "id": "ea998a61",
   "metadata": {
    "execution": {
     "iopub.execute_input": "2023-11-08T04:23:55.410329Z",
     "iopub.status.busy": "2023-11-08T04:23:55.409573Z",
     "iopub.status.idle": "2023-11-08T04:23:55.417089Z",
     "shell.execute_reply": "2023-11-08T04:23:55.416102Z"
    },
    "papermill": {
     "duration": 0.031983,
     "end_time": "2023-11-08T04:23:55.419463",
     "exception": false,
     "start_time": "2023-11-08T04:23:55.387480",
     "status": "completed"
    },
    "tags": []
   },
   "outputs": [
    {
     "data": {
      "text/plain": [
       "Index(['created_date', 'unique_key', 'complaint_type', 'incident_zip',\n",
       "       'incident_address', 'street_name', 'address_type', 'city',\n",
       "       'resolution_description', 'borough', 'latitude', 'longitude',\n",
       "       'closed_date', 'location_type', 'status'],\n",
       "      dtype='object')"
      ]
     },
     "execution_count": 3,
     "metadata": {},
     "output_type": "execute_result"
    }
   ],
   "source": [
    "data.columns"
   ]
  },
  {
   "cell_type": "code",
   "execution_count": 4,
   "id": "a1ca1f70",
   "metadata": {
    "execution": {
     "iopub.execute_input": "2023-11-08T04:23:55.463759Z",
     "iopub.status.busy": "2023-11-08T04:23:55.463435Z",
     "iopub.status.idle": "2023-11-08T04:23:55.469398Z",
     "shell.execute_reply": "2023-11-08T04:23:55.468431Z"
    },
    "papermill": {
     "duration": 0.030622,
     "end_time": "2023-11-08T04:23:55.471374",
     "exception": false,
     "start_time": "2023-11-08T04:23:55.440752",
     "status": "completed"
    },
    "tags": []
   },
   "outputs": [
    {
     "data": {
      "text/plain": [
       "(5846787, 15)"
      ]
     },
     "execution_count": 4,
     "metadata": {},
     "output_type": "execute_result"
    }
   ],
   "source": [
    "data.shape"
   ]
  },
  {
   "cell_type": "code",
   "execution_count": 5,
   "id": "7e995472",
   "metadata": {
    "execution": {
     "iopub.execute_input": "2023-11-08T04:23:55.517486Z",
     "iopub.status.busy": "2023-11-08T04:23:55.516906Z",
     "iopub.status.idle": "2023-11-08T04:23:55.549030Z",
     "shell.execute_reply": "2023-11-08T04:23:55.548063Z"
    },
    "papermill": {
     "duration": 0.056878,
     "end_time": "2023-11-08T04:23:55.551060",
     "exception": false,
     "start_time": "2023-11-08T04:23:55.494182",
     "status": "completed"
    },
    "tags": []
   },
   "outputs": [
    {
     "name": "stdout",
     "output_type": "stream",
     "text": [
      "<class 'pandas.core.frame.DataFrame'>\n",
      "RangeIndex: 5846787 entries, 0 to 5846786\n",
      "Data columns (total 15 columns):\n",
      " #   Column                  Dtype  \n",
      "---  ------                  -----  \n",
      " 0   created_date            object \n",
      " 1   unique_key              int64  \n",
      " 2   complaint_type          object \n",
      " 3   incident_zip            float64\n",
      " 4   incident_address        object \n",
      " 5   street_name             object \n",
      " 6   address_type            object \n",
      " 7   city                    object \n",
      " 8   resolution_description  object \n",
      " 9   borough                 object \n",
      " 10  latitude                float64\n",
      " 11  longitude               float64\n",
      " 12  closed_date             object \n",
      " 13  location_type           object \n",
      " 14  status                  object \n",
      "dtypes: float64(3), int64(1), object(11)\n",
      "memory usage: 669.1+ MB\n"
     ]
    }
   ],
   "source": [
    "data.info()"
   ]
  },
  {
   "cell_type": "markdown",
   "id": "b2cc992d",
   "metadata": {
    "papermill": {
     "duration": 0.021648,
     "end_time": "2023-11-08T04:23:55.595548",
     "exception": false,
     "start_time": "2023-11-08T04:23:55.573900",
     "status": "completed"
    },
    "tags": []
   },
   "source": [
    "The 311 complaint dataset contains 15 columns capturing information such as complaint details, location coordinates, resolution status, and other relevant data. The columns represent a mix of data types including numeric, textual, and datetime fields. \n",
    "\n",
    "As mentioned previously, the 'complaint_type' column is particularly important for this analysis as it contains distinct categories of complaints received by the 311 system. Examining trends and frequencies of different complaint types will enable identifying priorities and insights for the Department of Housing Preservation and Development. \n",
    "\n",
    "In total, the 311 dataset contains over 5846787 rows of complaints spanning multiple years. "
   ]
  },
  {
   "cell_type": "code",
   "execution_count": 6,
   "id": "767b3a5a",
   "metadata": {
    "execution": {
     "iopub.execute_input": "2023-11-08T04:23:55.641998Z",
     "iopub.status.busy": "2023-11-08T04:23:55.641155Z",
     "iopub.status.idle": "2023-11-08T04:23:55.665772Z",
     "shell.execute_reply": "2023-11-08T04:23:55.664815Z"
    },
    "papermill": {
     "duration": 0.049883,
     "end_time": "2023-11-08T04:23:55.667856",
     "exception": false,
     "start_time": "2023-11-08T04:23:55.617973",
     "status": "completed"
    },
    "tags": []
   },
   "outputs": [
    {
     "data": {
      "text/html": [
       "<div>\n",
       "<style scoped>\n",
       "    .dataframe tbody tr th:only-of-type {\n",
       "        vertical-align: middle;\n",
       "    }\n",
       "\n",
       "    .dataframe tbody tr th {\n",
       "        vertical-align: top;\n",
       "    }\n",
       "\n",
       "    .dataframe thead th {\n",
       "        text-align: right;\n",
       "    }\n",
       "</style>\n",
       "<table border=\"1\" class=\"dataframe\">\n",
       "  <thead>\n",
       "    <tr style=\"text-align: right;\">\n",
       "      <th></th>\n",
       "      <th>created_date</th>\n",
       "      <th>unique_key</th>\n",
       "      <th>complaint_type</th>\n",
       "      <th>incident_zip</th>\n",
       "      <th>incident_address</th>\n",
       "      <th>street_name</th>\n",
       "      <th>address_type</th>\n",
       "      <th>city</th>\n",
       "      <th>resolution_description</th>\n",
       "      <th>borough</th>\n",
       "      <th>latitude</th>\n",
       "      <th>longitude</th>\n",
       "      <th>closed_date</th>\n",
       "      <th>location_type</th>\n",
       "      <th>status</th>\n",
       "    </tr>\n",
       "  </thead>\n",
       "  <tbody>\n",
       "    <tr>\n",
       "      <th>0</th>\n",
       "      <td>2019-08-23T12:35:54.000</td>\n",
       "      <td>43624241</td>\n",
       "      <td>HEAT/HOT WATER</td>\n",
       "      <td>10032.0</td>\n",
       "      <td>560 WEST  160 STREET</td>\n",
       "      <td>WEST  160 STREET</td>\n",
       "      <td>ADDRESS</td>\n",
       "      <td>NEW YORK</td>\n",
       "      <td>The complaint you filed is a duplicate of a co...</td>\n",
       "      <td>MANHATTAN</td>\n",
       "      <td>40.835396</td>\n",
       "      <td>-73.942262</td>\n",
       "      <td>NaN</td>\n",
       "      <td>RESIDENTIAL BUILDING</td>\n",
       "      <td>Open</td>\n",
       "    </tr>\n",
       "    <tr>\n",
       "      <th>1</th>\n",
       "      <td>2019-08-23T08:43:58.000</td>\n",
       "      <td>43623659</td>\n",
       "      <td>UNSANITARY CONDITION</td>\n",
       "      <td>11208.0</td>\n",
       "      <td>261 MONTAUK AVENUE</td>\n",
       "      <td>MONTAUK AVENUE</td>\n",
       "      <td>ADDRESS</td>\n",
       "      <td>BROOKLYN</td>\n",
       "      <td>The following complaint conditions are still o...</td>\n",
       "      <td>BROOKLYN</td>\n",
       "      <td>40.672494</td>\n",
       "      <td>-73.877521</td>\n",
       "      <td>NaN</td>\n",
       "      <td>RESIDENTIAL BUILDING</td>\n",
       "      <td>Open</td>\n",
       "    </tr>\n",
       "    <tr>\n",
       "      <th>2</th>\n",
       "      <td>2019-08-23T09:08:09.000</td>\n",
       "      <td>43624463</td>\n",
       "      <td>UNSANITARY CONDITION</td>\n",
       "      <td>10002.0</td>\n",
       "      <td>125 MADISON STREET</td>\n",
       "      <td>MADISON STREET</td>\n",
       "      <td>ADDRESS</td>\n",
       "      <td>NEW YORK</td>\n",
       "      <td>The following complaint conditions are still o...</td>\n",
       "      <td>MANHATTAN</td>\n",
       "      <td>40.712353</td>\n",
       "      <td>-73.993947</td>\n",
       "      <td>NaN</td>\n",
       "      <td>RESIDENTIAL BUILDING</td>\n",
       "      <td>Open</td>\n",
       "    </tr>\n",
       "    <tr>\n",
       "      <th>3</th>\n",
       "      <td>2019-08-23T16:36:08.000</td>\n",
       "      <td>43625072</td>\n",
       "      <td>DOOR/WINDOW</td>\n",
       "      <td>11211.0</td>\n",
       "      <td>525 UNION AVENUE</td>\n",
       "      <td>UNION AVENUE</td>\n",
       "      <td>ADDRESS</td>\n",
       "      <td>BROOKLYN</td>\n",
       "      <td>The following complaint conditions are still o...</td>\n",
       "      <td>BROOKLYN</td>\n",
       "      <td>40.716233</td>\n",
       "      <td>-73.951986</td>\n",
       "      <td>NaN</td>\n",
       "      <td>RESIDENTIAL BUILDING</td>\n",
       "      <td>Open</td>\n",
       "    </tr>\n",
       "    <tr>\n",
       "      <th>4</th>\n",
       "      <td>2019-08-23T11:15:00.000</td>\n",
       "      <td>43623738</td>\n",
       "      <td>UNSANITARY CONDITION</td>\n",
       "      <td>11372.0</td>\n",
       "      <td>35-52F 73 STREET</td>\n",
       "      <td>73 STREET</td>\n",
       "      <td>ADDRESS</td>\n",
       "      <td>Jackson Heights</td>\n",
       "      <td>NaN</td>\n",
       "      <td>QUEENS</td>\n",
       "      <td>40.750533</td>\n",
       "      <td>-73.892998</td>\n",
       "      <td>NaN</td>\n",
       "      <td>RESIDENTIAL BUILDING</td>\n",
       "      <td>Open</td>\n",
       "    </tr>\n",
       "  </tbody>\n",
       "</table>\n",
       "</div>"
      ],
      "text/plain": [
       "              created_date  unique_key        complaint_type  incident_zip  \\\n",
       "0  2019-08-23T12:35:54.000    43624241        HEAT/HOT WATER       10032.0   \n",
       "1  2019-08-23T08:43:58.000    43623659  UNSANITARY CONDITION       11208.0   \n",
       "2  2019-08-23T09:08:09.000    43624463  UNSANITARY CONDITION       10002.0   \n",
       "3  2019-08-23T16:36:08.000    43625072           DOOR/WINDOW       11211.0   \n",
       "4  2019-08-23T11:15:00.000    43623738  UNSANITARY CONDITION       11372.0   \n",
       "\n",
       "       incident_address       street_name address_type             city  \\\n",
       "0  560 WEST  160 STREET  WEST  160 STREET      ADDRESS         NEW YORK   \n",
       "1    261 MONTAUK AVENUE    MONTAUK AVENUE      ADDRESS         BROOKLYN   \n",
       "2    125 MADISON STREET    MADISON STREET      ADDRESS         NEW YORK   \n",
       "3      525 UNION AVENUE      UNION AVENUE      ADDRESS         BROOKLYN   \n",
       "4      35-52F 73 STREET         73 STREET      ADDRESS  Jackson Heights   \n",
       "\n",
       "                              resolution_description    borough   latitude  \\\n",
       "0  The complaint you filed is a duplicate of a co...  MANHATTAN  40.835396   \n",
       "1  The following complaint conditions are still o...   BROOKLYN  40.672494   \n",
       "2  The following complaint conditions are still o...  MANHATTAN  40.712353   \n",
       "3  The following complaint conditions are still o...   BROOKLYN  40.716233   \n",
       "4                                                NaN     QUEENS  40.750533   \n",
       "\n",
       "   longitude closed_date         location_type status  \n",
       "0 -73.942262         NaN  RESIDENTIAL BUILDING   Open  \n",
       "1 -73.877521         NaN  RESIDENTIAL BUILDING   Open  \n",
       "2 -73.993947         NaN  RESIDENTIAL BUILDING   Open  \n",
       "3 -73.951986         NaN  RESIDENTIAL BUILDING   Open  \n",
       "4 -73.892998         NaN  RESIDENTIAL BUILDING   Open  "
      ]
     },
     "execution_count": 6,
     "metadata": {},
     "output_type": "execute_result"
    }
   ],
   "source": [
    "data.head()"
   ]
  },
  {
   "cell_type": "code",
   "execution_count": 7,
   "id": "d3549739",
   "metadata": {
    "execution": {
     "iopub.execute_input": "2023-11-08T04:23:55.714184Z",
     "iopub.status.busy": "2023-11-08T04:23:55.713827Z",
     "iopub.status.idle": "2023-11-08T04:23:59.741728Z",
     "shell.execute_reply": "2023-11-08T04:23:59.740757Z"
    },
    "papermill": {
     "duration": 4.053825,
     "end_time": "2023-11-08T04:23:59.744207",
     "exception": false,
     "start_time": "2023-11-08T04:23:55.690382",
     "status": "completed"
    },
    "tags": []
   },
   "outputs": [],
   "source": [
    "data['created_date'] = pd.to_datetime(data['created_date'])\n",
    "data['closed_date'] = pd.to_datetime(data['closed_date'])"
   ]
  },
  {
   "cell_type": "code",
   "execution_count": 8,
   "id": "5c847239",
   "metadata": {
    "execution": {
     "iopub.execute_input": "2023-11-08T04:23:59.791647Z",
     "iopub.status.busy": "2023-11-08T04:23:59.791256Z",
     "iopub.status.idle": "2023-11-08T04:24:00.272123Z",
     "shell.execute_reply": "2023-11-08T04:24:00.271060Z"
    },
    "papermill": {
     "duration": 0.507281,
     "end_time": "2023-11-08T04:24:00.274740",
     "exception": false,
     "start_time": "2023-11-08T04:23:59.767459",
     "status": "completed"
    },
    "tags": []
   },
   "outputs": [],
   "source": [
    "data['Year'] = data['created_date'].dt.year"
   ]
  },
  {
   "cell_type": "code",
   "execution_count": 9,
   "id": "6d346c7d",
   "metadata": {
    "execution": {
     "iopub.execute_input": "2023-11-08T04:24:00.323132Z",
     "iopub.status.busy": "2023-11-08T04:24:00.322368Z",
     "iopub.status.idle": "2023-11-08T04:24:00.342831Z",
     "shell.execute_reply": "2023-11-08T04:24:00.341840Z"
    },
    "papermill": {
     "duration": 0.047263,
     "end_time": "2023-11-08T04:24:00.345309",
     "exception": false,
     "start_time": "2023-11-08T04:24:00.298046",
     "status": "completed"
    },
    "tags": []
   },
   "outputs": [
    {
     "data": {
      "text/html": [
       "<div>\n",
       "<style scoped>\n",
       "    .dataframe tbody tr th:only-of-type {\n",
       "        vertical-align: middle;\n",
       "    }\n",
       "\n",
       "    .dataframe tbody tr th {\n",
       "        vertical-align: top;\n",
       "    }\n",
       "\n",
       "    .dataframe thead th {\n",
       "        text-align: right;\n",
       "    }\n",
       "</style>\n",
       "<table border=\"1\" class=\"dataframe\">\n",
       "  <thead>\n",
       "    <tr style=\"text-align: right;\">\n",
       "      <th></th>\n",
       "      <th>created_date</th>\n",
       "      <th>unique_key</th>\n",
       "      <th>complaint_type</th>\n",
       "      <th>incident_zip</th>\n",
       "      <th>incident_address</th>\n",
       "      <th>street_name</th>\n",
       "      <th>address_type</th>\n",
       "      <th>city</th>\n",
       "      <th>resolution_description</th>\n",
       "      <th>borough</th>\n",
       "      <th>latitude</th>\n",
       "      <th>longitude</th>\n",
       "      <th>closed_date</th>\n",
       "      <th>location_type</th>\n",
       "      <th>status</th>\n",
       "      <th>Year</th>\n",
       "    </tr>\n",
       "  </thead>\n",
       "  <tbody>\n",
       "    <tr>\n",
       "      <th>0</th>\n",
       "      <td>2019-08-23 12:35:54</td>\n",
       "      <td>43624241</td>\n",
       "      <td>HEAT/HOT WATER</td>\n",
       "      <td>10032.0</td>\n",
       "      <td>560 WEST  160 STREET</td>\n",
       "      <td>WEST  160 STREET</td>\n",
       "      <td>ADDRESS</td>\n",
       "      <td>NEW YORK</td>\n",
       "      <td>The complaint you filed is a duplicate of a co...</td>\n",
       "      <td>MANHATTAN</td>\n",
       "      <td>40.835396</td>\n",
       "      <td>-73.942262</td>\n",
       "      <td>NaT</td>\n",
       "      <td>RESIDENTIAL BUILDING</td>\n",
       "      <td>Open</td>\n",
       "      <td>2019</td>\n",
       "    </tr>\n",
       "    <tr>\n",
       "      <th>1</th>\n",
       "      <td>2019-08-23 08:43:58</td>\n",
       "      <td>43623659</td>\n",
       "      <td>UNSANITARY CONDITION</td>\n",
       "      <td>11208.0</td>\n",
       "      <td>261 MONTAUK AVENUE</td>\n",
       "      <td>MONTAUK AVENUE</td>\n",
       "      <td>ADDRESS</td>\n",
       "      <td>BROOKLYN</td>\n",
       "      <td>The following complaint conditions are still o...</td>\n",
       "      <td>BROOKLYN</td>\n",
       "      <td>40.672494</td>\n",
       "      <td>-73.877521</td>\n",
       "      <td>NaT</td>\n",
       "      <td>RESIDENTIAL BUILDING</td>\n",
       "      <td>Open</td>\n",
       "      <td>2019</td>\n",
       "    </tr>\n",
       "    <tr>\n",
       "      <th>2</th>\n",
       "      <td>2019-08-23 09:08:09</td>\n",
       "      <td>43624463</td>\n",
       "      <td>UNSANITARY CONDITION</td>\n",
       "      <td>10002.0</td>\n",
       "      <td>125 MADISON STREET</td>\n",
       "      <td>MADISON STREET</td>\n",
       "      <td>ADDRESS</td>\n",
       "      <td>NEW YORK</td>\n",
       "      <td>The following complaint conditions are still o...</td>\n",
       "      <td>MANHATTAN</td>\n",
       "      <td>40.712353</td>\n",
       "      <td>-73.993947</td>\n",
       "      <td>NaT</td>\n",
       "      <td>RESIDENTIAL BUILDING</td>\n",
       "      <td>Open</td>\n",
       "      <td>2019</td>\n",
       "    </tr>\n",
       "    <tr>\n",
       "      <th>3</th>\n",
       "      <td>2019-08-23 16:36:08</td>\n",
       "      <td>43625072</td>\n",
       "      <td>DOOR/WINDOW</td>\n",
       "      <td>11211.0</td>\n",
       "      <td>525 UNION AVENUE</td>\n",
       "      <td>UNION AVENUE</td>\n",
       "      <td>ADDRESS</td>\n",
       "      <td>BROOKLYN</td>\n",
       "      <td>The following complaint conditions are still o...</td>\n",
       "      <td>BROOKLYN</td>\n",
       "      <td>40.716233</td>\n",
       "      <td>-73.951986</td>\n",
       "      <td>NaT</td>\n",
       "      <td>RESIDENTIAL BUILDING</td>\n",
       "      <td>Open</td>\n",
       "      <td>2019</td>\n",
       "    </tr>\n",
       "    <tr>\n",
       "      <th>4</th>\n",
       "      <td>2019-08-23 11:15:00</td>\n",
       "      <td>43623738</td>\n",
       "      <td>UNSANITARY CONDITION</td>\n",
       "      <td>11372.0</td>\n",
       "      <td>35-52F 73 STREET</td>\n",
       "      <td>73 STREET</td>\n",
       "      <td>ADDRESS</td>\n",
       "      <td>Jackson Heights</td>\n",
       "      <td>NaN</td>\n",
       "      <td>QUEENS</td>\n",
       "      <td>40.750533</td>\n",
       "      <td>-73.892998</td>\n",
       "      <td>NaT</td>\n",
       "      <td>RESIDENTIAL BUILDING</td>\n",
       "      <td>Open</td>\n",
       "      <td>2019</td>\n",
       "    </tr>\n",
       "  </tbody>\n",
       "</table>\n",
       "</div>"
      ],
      "text/plain": [
       "         created_date  unique_key        complaint_type  incident_zip  \\\n",
       "0 2019-08-23 12:35:54    43624241        HEAT/HOT WATER       10032.0   \n",
       "1 2019-08-23 08:43:58    43623659  UNSANITARY CONDITION       11208.0   \n",
       "2 2019-08-23 09:08:09    43624463  UNSANITARY CONDITION       10002.0   \n",
       "3 2019-08-23 16:36:08    43625072           DOOR/WINDOW       11211.0   \n",
       "4 2019-08-23 11:15:00    43623738  UNSANITARY CONDITION       11372.0   \n",
       "\n",
       "       incident_address       street_name address_type             city  \\\n",
       "0  560 WEST  160 STREET  WEST  160 STREET      ADDRESS         NEW YORK   \n",
       "1    261 MONTAUK AVENUE    MONTAUK AVENUE      ADDRESS         BROOKLYN   \n",
       "2    125 MADISON STREET    MADISON STREET      ADDRESS         NEW YORK   \n",
       "3      525 UNION AVENUE      UNION AVENUE      ADDRESS         BROOKLYN   \n",
       "4      35-52F 73 STREET         73 STREET      ADDRESS  Jackson Heights   \n",
       "\n",
       "                              resolution_description    borough   latitude  \\\n",
       "0  The complaint you filed is a duplicate of a co...  MANHATTAN  40.835396   \n",
       "1  The following complaint conditions are still o...   BROOKLYN  40.672494   \n",
       "2  The following complaint conditions are still o...  MANHATTAN  40.712353   \n",
       "3  The following complaint conditions are still o...   BROOKLYN  40.716233   \n",
       "4                                                NaN     QUEENS  40.750533   \n",
       "\n",
       "   longitude closed_date         location_type status  Year  \n",
       "0 -73.942262         NaT  RESIDENTIAL BUILDING   Open  2019  \n",
       "1 -73.877521         NaT  RESIDENTIAL BUILDING   Open  2019  \n",
       "2 -73.993947         NaT  RESIDENTIAL BUILDING   Open  2019  \n",
       "3 -73.951986         NaT  RESIDENTIAL BUILDING   Open  2019  \n",
       "4 -73.892998         NaT  RESIDENTIAL BUILDING   Open  2019  "
      ]
     },
     "execution_count": 9,
     "metadata": {},
     "output_type": "execute_result"
    }
   ],
   "source": [
    "data.head()"
   ]
  },
  {
   "cell_type": "markdown",
   "id": "a6f6273c",
   "metadata": {
    "papermill": {
     "duration": 0.022286,
     "end_time": "2023-11-08T04:24:00.390693",
     "exception": false,
     "start_time": "2023-11-08T04:24:00.368407",
     "status": "completed"
    },
    "tags": []
   },
   "source": []
  },
  {
   "cell_type": "code",
   "execution_count": 10,
   "id": "834abccf",
   "metadata": {
    "execution": {
     "iopub.execute_input": "2023-11-08T04:24:00.437527Z",
     "iopub.status.busy": "2023-11-08T04:24:00.437240Z",
     "iopub.status.idle": "2023-11-08T04:24:02.345551Z",
     "shell.execute_reply": "2023-11-08T04:24:02.344634Z"
    },
    "papermill": {
     "duration": 1.934067,
     "end_time": "2023-11-08T04:24:02.347595",
     "exception": false,
     "start_time": "2023-11-08T04:24:00.413528",
     "status": "completed"
    },
    "tags": []
   },
   "outputs": [
    {
     "data": {
      "text/plain": [
       "<Axes: >"
      ]
     },
     "execution_count": 10,
     "metadata": {},
     "output_type": "execute_result"
    },
    {
     "data": {
      "image/png": "[encoded data removed]",
      "text/plain": [
       "<Figure size 400x400 with 1 Axes>"
      ]
     },
     "metadata": {},
     "output_type": "display_data"
    }
   ],
   "source": [
    "\n",
    "import requests\n",
    "\n",
    "# Download the GeoJSON file and save it locally\n",
    "url = 'https://github.com/codeforgermany/click_that_hood/raw/main/public/data/new-york-city-boroughs.geojson'\n",
    "response = requests.get(url)\n",
    "with open('new-york-city-boroughs.geojson', 'wb') as file:\n",
    "    file.write(response.content)\n",
    "\n",
    "# Read the locally saved GeoJSON file\n",
    "borough_map = gpd.read_file('new-york-city-boroughs.geojson')\n",
    "fig, ax = plt.subplots(figsize = (4, 4))\n",
    "borough_map['geometry'].boundary.plot(edgecolor='green', linewidth=1, ax=ax)\n",
    "borough_map.plot(color='lightblue', alpha=0.7, ax=ax)"
   ]
  },
  {
   "cell_type": "markdown",
   "id": "a68d605a",
   "metadata": {
    "papermill": {
     "duration": 0.023264,
     "end_time": "2023-11-08T04:24:02.395957",
     "exception": false,
     "start_time": "2023-11-08T04:24:02.372693",
     "status": "completed"
    },
    "tags": []
   },
   "source": [
    "### What type of housing complaint should be prioritized first based on frequency, severity, and other factors in the 311 data?"
   ]
  },
  {
   "cell_type": "code",
   "execution_count": 11,
   "id": "c73259dd",
   "metadata": {
    "execution": {
     "iopub.execute_input": "2023-11-08T04:24:02.443762Z",
     "iopub.status.busy": "2023-11-08T04:24:02.442966Z",
     "iopub.status.idle": "2023-11-08T04:24:02.956998Z",
     "shell.execute_reply": "2023-11-08T04:24:02.955960Z"
    },
    "papermill": {
     "duration": 0.539976,
     "end_time": "2023-11-08T04:24:02.959090",
     "exception": false,
     "start_time": "2023-11-08T04:24:02.419114",
     "status": "completed"
    },
    "tags": []
   },
   "outputs": [
    {
     "data": {
      "text/plain": [
       "29"
      ]
     },
     "execution_count": 11,
     "metadata": {},
     "output_type": "execute_result"
    }
   ],
   "source": [
    "data.complaint_type.nunique()"
   ]
  },
  {
   "cell_type": "markdown",
   "id": "a2ce875a",
   "metadata": {
    "papermill": {
     "duration": 0.022565,
     "end_time": "2023-11-08T04:24:03.004997",
     "exception": false,
     "start_time": "2023-11-08T04:24:02.982432",
     "status": "completed"
    },
    "tags": []
   },
   "source": [
    "There are 29 different complaint types"
   ]
  },
  {
   "cell_type": "code",
   "execution_count": 12,
   "id": "a4bbbc55",
   "metadata": {
    "execution": {
     "iopub.execute_input": "2023-11-08T04:24:03.054647Z",
     "iopub.status.busy": "2023-11-08T04:24:03.053842Z",
     "iopub.status.idle": "2023-11-08T04:24:03.929762Z",
     "shell.execute_reply": "2023-11-08T04:24:03.928743Z"
    },
    "papermill": {
     "duration": 0.902858,
     "end_time": "2023-11-08T04:24:03.932044",
     "exception": false,
     "start_time": "2023-11-08T04:24:03.029186",
     "status": "completed"
    },
    "tags": []
   },
   "outputs": [
    {
     "data": {
      "text/plain": [
       "complaint_type\n",
       "HEAT/HOT WATER            1149978\n",
       "HEATING                    887869\n",
       "PLUMBING                   702046\n",
       "GENERAL CONSTRUCTION       500863\n",
       "UNSANITARY CONDITION       434830\n",
       "PAINT - PLASTER            361258\n",
       "PAINT/PLASTER              340753\n",
       "ELECTRIC                   303115\n",
       "NONCONST                   260890\n",
       "DOOR/WINDOW                199443\n",
       "WATER LEAK                 186913\n",
       "GENERAL                    145825\n",
       "FLOORING/STAIRS            135159\n",
       "APPLIANCE                  109480\n",
       "HPD Literature Request      52830\n",
       "SAFETY                      49904\n",
       "OUTSIDE BUILDING             7015\n",
       "ELEVATOR                     6397\n",
       "Unsanitary Condition         5499\n",
       "CONSTRUCTION                 5078\n",
       "General                      1163\n",
       "Safety                        424\n",
       "STRUCTURAL                     16\n",
       "Plumbing                       11\n",
       "AGENCY                          9\n",
       "VACANT APARTMENT                8\n",
       "Outside Building                6\n",
       "Appliance                       4\n",
       "Mold                            1\n",
       "Name: count, dtype: int64"
      ]
     },
     "execution_count": 12,
     "metadata": {},
     "output_type": "execute_result"
    }
   ],
   "source": [
    "data.complaint_type.value_counts()"
   ]
  },
  {
   "cell_type": "code",
   "execution_count": 13,
   "id": "30f0aabf",
   "metadata": {
    "execution": {
     "iopub.execute_input": "2023-11-08T04:24:03.981660Z",
     "iopub.status.busy": "2023-11-08T04:24:03.980844Z",
     "iopub.status.idle": "2023-11-08T04:24:05.271910Z",
     "shell.execute_reply": "2023-11-08T04:24:05.270920Z"
    },
    "papermill": {
     "duration": 1.318394,
     "end_time": "2023-11-08T04:24:05.274166",
     "exception": false,
     "start_time": "2023-11-08T04:24:03.955772",
     "status": "completed"
    },
    "tags": []
   },
   "outputs": [
    {
     "data": {
      "text/plain": [
       "Year\n",
       "2010           HEATING\n",
       "2011           HEATING\n",
       "2012           HEATING\n",
       "2013           HEATING\n",
       "2014    HEAT/HOT WATER\n",
       "2015    HEAT/HOT WATER\n",
       "2016    HEAT/HOT WATER\n",
       "2017    HEAT/HOT WATER\n",
       "2018    HEAT/HOT WATER\n",
       "2019    HEAT/HOT WATER\n",
       "Name: complaint_type, dtype: object"
      ]
     },
     "execution_count": 13,
     "metadata": {},
     "output_type": "execute_result"
    }
   ],
   "source": [
    "data.groupby(['Year'])['complaint_type'].agg(pd.Series.mode)"
   ]
  },
  {
   "cell_type": "markdown",
   "id": "9bbe426c",
   "metadata": {
    "papermill": {
     "duration": 0.026496,
     "end_time": "2023-11-08T04:24:05.327531",
     "exception": false,
     "start_time": "2023-11-08T04:24:05.301035",
     "status": "completed"
    },
    "tags": []
   },
   "source": [
    "\n",
    "\n",
    "- Heat/Hot Water and Heating complaints could be combined into a general \"Heat Issue\" category. Since they are the top two most frequent complaint types, merging them would consolidate the most common issues.\n",
    "\n",
    "- Plumbing, Water Leak, and Mold complaints could be merged into a \"Plumbing Issue\" or \"Water Issue\" category. These issues seem related to general plumbing systems. \n",
    "\n",
    "- General Construction and NonConst complaints could be combined into a broader \"Construction Issue\" category to cover all construction-related concerns.\n",
    "\n",
    "- Paint/Plaster and Paint-Plaster complaints seem duplicative and could be merged into a \"Paint Issue\" category.\n",
    "\n",
    "- Door/Window, Flooring/Stairs complaints could potentially be grouped into a \"Features/Fixtures Issue\" category covering issues with appliances, doors, floors etc.\n",
    "\n",
    "- Safety and Outside Building complaints could be merged into a \"Building Exterior Issue\" category encompassing external building/safety issues.\n",
    "\n",
    "- Electrical, Elevator, and Appliance complaints may fit into an \"Electrical/Mechanical Issue\" category covering power, mechanical and electrical system issues.\n"
   ]
  },
  {
   "cell_type": "code",
   "execution_count": 14,
   "id": "d62e94cd",
   "metadata": {
    "execution": {
     "iopub.execute_input": "2023-11-08T04:24:05.396067Z",
     "iopub.status.busy": "2023-11-08T04:24:05.395097Z",
     "iopub.status.idle": "2023-11-08T04:24:10.201577Z",
     "shell.execute_reply": "2023-11-08T04:24:10.200588Z"
    },
    "papermill": {
     "duration": 4.847262,
     "end_time": "2023-11-08T04:24:10.204233",
     "exception": false,
     "start_time": "2023-11-08T04:24:05.356971",
     "status": "completed"
    },
    "tags": []
   },
   "outputs": [],
   "source": [
    "\n",
    "\n",
    "# Merge Heat/Hot Water and Heating\n",
    "data.loc[data['complaint_type'] == 'HEATING', 'complaint_type'] = 'HEAT/HOT WATER'\n",
    "\n",
    "# Merge Paint/Plaster and Paint - Plaster\n",
    "data.loc[data['complaint_type'] == 'PAINT - PLASTER', 'complaint_type'] = 'PAINT/PLASTER'\n",
    "\n",
    "# Merge Plumbing, Water Leak, and Mold  \n",
    "data.loc[data['complaint_type'].isin(['WATER LEAK', 'MOLD']), 'complaint_type'] = 'PLUMBING'\n",
    "\n",
    "# Merge General Construction and NonConst\n",
    "data.loc[data['complaint_type'] == 'NONCONST', 'complaint_type'] = 'GENERAL CONSTRUCTION'\n",
    "\n",
    "# Merge Door/Window, Flooring/Stairs, and Appliance\n",
    "data.loc[data['complaint_type'].isin(['DOOR/WINDOW', 'FLOORING/STAIRS']), 'complaint_type'] = 'APPLIANCE'\n",
    "\n",
    "# Merge Safety and Outside Building \n",
    "data.loc[data['complaint_type'] == 'OUTSIDE BUILDING', 'complaint_type'] = 'SAFETY'\n",
    "\n",
    "# Merge Electrical, Elevator, and Appliance\n",
    "data.loc[data['complaint_type'].isin(['ELEVATOR', 'APPLIANCE']), 'complaint_type'] = 'ELECTRIC'\n",
    "\n",
    "data.loc[data['complaint_type'].isin(['General']), 'complaint_type'] = 'GENERAL'"
   ]
  },
  {
   "cell_type": "code",
   "execution_count": 15,
   "id": "04bebcbc",
   "metadata": {
    "execution": {
     "iopub.execute_input": "2023-11-08T04:24:10.253100Z",
     "iopub.status.busy": "2023-11-08T04:24:10.252777Z",
     "iopub.status.idle": "2023-11-08T04:24:11.436900Z",
     "shell.execute_reply": "2023-11-08T04:24:11.435650Z"
    },
    "papermill": {
     "duration": 1.211203,
     "end_time": "2023-11-08T04:24:11.439327",
     "exception": false,
     "start_time": "2023-11-08T04:24:10.228124",
     "status": "completed"
    },
    "tags": []
   },
   "outputs": [
    {
     "data": {
      "text/plain": [
       "Year\n",
       "2010          HEAT/HOT WATER\n",
       "2011    GENERAL CONSTRUCTION\n",
       "2012          HEAT/HOT WATER\n",
       "2013          HEAT/HOT WATER\n",
       "2014          HEAT/HOT WATER\n",
       "2015          HEAT/HOT WATER\n",
       "2016          HEAT/HOT WATER\n",
       "2017          HEAT/HOT WATER\n",
       "2018          HEAT/HOT WATER\n",
       "2019          HEAT/HOT WATER\n",
       "Name: complaint_type, dtype: object"
      ]
     },
     "execution_count": 15,
     "metadata": {},
     "output_type": "execute_result"
    }
   ],
   "source": [
    "data.groupby(['Year'])['complaint_type'].agg(pd.Series.mode)"
   ]
  },
  {
   "cell_type": "code",
   "execution_count": 16,
   "id": "f2c58c6a",
   "metadata": {
    "execution": {
     "iopub.execute_input": "2023-11-08T04:24:11.489101Z",
     "iopub.status.busy": "2023-11-08T04:24:11.488803Z",
     "iopub.status.idle": "2023-11-08T04:24:12.371929Z",
     "shell.execute_reply": "2023-11-08T04:24:12.371013Z"
    },
    "papermill": {
     "duration": 0.911006,
     "end_time": "2023-11-08T04:24:12.374202",
     "exception": false,
     "start_time": "2023-11-08T04:24:11.463196",
     "status": "completed"
    },
    "tags": []
   },
   "outputs": [
    {
     "name": "stdout",
     "output_type": "stream",
     "text": [
      "Top 5 complaints\n"
     ]
    },
    {
     "data": {
      "text/plain": [
       "complaint_type\n",
       "HEAT/HOT WATER          2037847\n",
       "PLUMBING                 888959\n",
       "GENERAL CONSTRUCTION     761753\n",
       "ELECTRIC                 753594\n",
       "PAINT/PLASTER            702011\n",
       "Name: count, dtype: int64"
      ]
     },
     "execution_count": 16,
     "metadata": {},
     "output_type": "execute_result"
    }
   ],
   "source": [
    "print(\"Top 5 complaints\")\n",
    "data.complaint_type.value_counts().head()\n"
   ]
  },
  {
   "cell_type": "markdown",
   "id": "1ac97fc5",
   "metadata": {
    "papermill": {
     "duration": 0.023315,
     "end_time": "2023-11-08T04:24:12.422303",
     "exception": false,
     "start_time": "2023-11-08T04:24:12.398988",
     "status": "completed"
    },
    "tags": []
   },
   "source": [
    "To better visualize the distribution of complaint types, the less frequent categories were consolidated into a new combined \"Rest\" complaint type. This merging of long-tail complaint types simplifies the analysis by reducing the number of categories to focus on the most common issues."
   ]
  },
  {
   "cell_type": "code",
   "execution_count": 17,
   "id": "6068a359",
   "metadata": {
    "execution": {
     "iopub.execute_input": "2023-11-08T04:24:12.470775Z",
     "iopub.status.busy": "2023-11-08T04:24:12.470427Z",
     "iopub.status.idle": "2023-11-08T04:24:13.340730Z",
     "shell.execute_reply": "2023-11-08T04:24:13.339813Z"
    },
    "papermill": {
     "duration": 0.897073,
     "end_time": "2023-11-08T04:24:13.342736",
     "exception": false,
     "start_time": "2023-11-08T04:24:12.445663",
     "status": "completed"
    },
    "tags": []
   },
   "outputs": [
    {
     "data": {
      "text/plain": [
       "complaint_type\n",
       "HEAT/HOT WATER            2037847\n",
       "PLUMBING                   888959\n",
       "GENERAL CONSTRUCTION       761753\n",
       "ELECTRIC                   753594\n",
       "PAINT/PLASTER              702011\n",
       "UNSANITARY CONDITION       434830\n",
       "GENERAL                    146988\n",
       "SAFETY                      56919\n",
       "HPD Literature Request      52830\n",
       "Unsanitary Condition         5499\n",
       "CONSTRUCTION                 5078\n",
       "Safety                        424\n",
       "STRUCTURAL                     16\n",
       "Plumbing                       11\n",
       "AGENCY                          9\n",
       "VACANT APARTMENT                8\n",
       "Outside Building                6\n",
       "Appliance                       4\n",
       "Mold                            1\n",
       "Name: count, dtype: int64"
      ]
     },
     "execution_count": 17,
     "metadata": {},
     "output_type": "execute_result"
    }
   ],
   "source": [
    "data.complaint_type.value_counts()"
   ]
  },
  {
   "cell_type": "code",
   "execution_count": 18,
   "id": "c3b4e331",
   "metadata": {
    "execution": {
     "iopub.execute_input": "2023-11-08T04:24:13.394701Z",
     "iopub.status.busy": "2023-11-08T04:24:13.393920Z",
     "iopub.status.idle": "2023-11-08T04:24:16.826884Z",
     "shell.execute_reply": "2023-11-08T04:24:16.825896Z"
    },
    "papermill": {
     "duration": 3.460479,
     "end_time": "2023-11-08T04:24:16.829017",
     "exception": false,
     "start_time": "2023-11-08T04:24:13.368538",
     "status": "completed"
    },
    "tags": []
   },
   "outputs": [
    {
     "data": {
      "text/plain": [
       "Index(['Mold', 'Appliance', 'Outside Building', 'VACANT APARTMENT', 'AGENCY',\n",
       "       'Plumbing', 'STRUCTURAL', 'Safety', 'CONSTRUCTION',\n",
       "       'Unsanitary Condition', 'HPD Literature Request'],\n",
       "      dtype='object', name='complaint_type')"
      ]
     },
     "execution_count": 18,
     "metadata": {},
     "output_type": "execute_result"
    }
   ],
   "source": [
    "data_copy = data.copy()\n",
    "\n",
    "category = data['complaint_type'].value_counts().sort_values().head(11).index\n",
    "category"
   ]
  },
  {
   "cell_type": "code",
   "execution_count": 19,
   "id": "281289d1",
   "metadata": {
    "execution": {
     "iopub.execute_input": "2023-11-08T04:24:16.879761Z",
     "iopub.status.busy": "2023-11-08T04:24:16.879374Z",
     "iopub.status.idle": "2023-11-08T04:24:17.531393Z",
     "shell.execute_reply": "2023-11-08T04:24:17.530545Z"
    },
    "papermill": {
     "duration": 0.679718,
     "end_time": "2023-11-08T04:24:17.533826",
     "exception": false,
     "start_time": "2023-11-08T04:24:16.854108",
     "status": "completed"
    },
    "tags": []
   },
   "outputs": [],
   "source": [
    "data_copy.loc[data_copy['complaint_type'].isin(category), 'complaint_type'] = 'Rest'"
   ]
  },
  {
   "cell_type": "code",
   "execution_count": 20,
   "id": "2c5b534a",
   "metadata": {
    "execution": {
     "iopub.execute_input": "2023-11-08T04:24:17.586352Z",
     "iopub.status.busy": "2023-11-08T04:24:17.586024Z",
     "iopub.status.idle": "2023-11-08T04:24:18.464959Z",
     "shell.execute_reply": "2023-11-08T04:24:18.463816Z"
    },
    "papermill": {
     "duration": 0.907862,
     "end_time": "2023-11-08T04:24:18.467594",
     "exception": false,
     "start_time": "2023-11-08T04:24:17.559732",
     "status": "completed"
    },
    "tags": []
   },
   "outputs": [],
   "source": [
    "complaints = data_copy['complaint_type'].value_counts().sort_values()"
   ]
  },
  {
   "cell_type": "code",
   "execution_count": 21,
   "id": "a135e0b7",
   "metadata": {
    "execution": {
     "iopub.execute_input": "2023-11-08T04:24:18.530226Z",
     "iopub.status.busy": "2023-11-08T04:24:18.529886Z",
     "iopub.status.idle": "2023-11-08T04:24:18.536743Z",
     "shell.execute_reply": "2023-11-08T04:24:18.535939Z"
    },
    "papermill": {
     "duration": 0.03556,
     "end_time": "2023-11-08T04:24:18.538765",
     "exception": false,
     "start_time": "2023-11-08T04:24:18.503205",
     "status": "completed"
    },
    "tags": []
   },
   "outputs": [
    {
     "data": {
      "text/plain": [
       "complaint_type\n",
       "SAFETY                    56919\n",
       "Rest                      63886\n",
       "GENERAL                  146988\n",
       "UNSANITARY CONDITION     434830\n",
       "PAINT/PLASTER            702011\n",
       "ELECTRIC                 753594\n",
       "GENERAL CONSTRUCTION     761753\n",
       "PLUMBING                 888959\n",
       "HEAT/HOT WATER          2037847\n",
       "Name: count, dtype: int64"
      ]
     },
     "execution_count": 21,
     "metadata": {},
     "output_type": "execute_result"
    }
   ],
   "source": [
    "complaints"
   ]
  },
  {
   "cell_type": "code",
   "execution_count": null,
   "id": "3c7bbef1",
   "metadata": {
    "papermill": {
     "duration": 0.0255,
     "end_time": "2023-11-08T04:24:18.590750",
     "exception": false,
     "start_time": "2023-11-08T04:24:18.565250",
     "status": "completed"
    },
    "tags": []
   },
   "outputs": [],
   "source": []
  },
  {
   "cell_type": "code",
   "execution_count": 22,
   "id": "f006f3b0",
   "metadata": {
    "execution": {
     "iopub.execute_input": "2023-11-08T04:24:18.643040Z",
     "iopub.status.busy": "2023-11-08T04:24:18.642694Z",
     "iopub.status.idle": "2023-11-08T04:24:19.103671Z",
     "shell.execute_reply": "2023-11-08T04:24:19.102538Z"
    },
    "papermill": {
     "duration": 0.489802,
     "end_time": "2023-11-08T04:24:19.106091",
     "exception": false,
     "start_time": "2023-11-08T04:24:18.616289",
     "status": "completed"
    },
    "tags": []
   },
   "outputs": [
    {
     "data": {
      "image/png": "[encoded data removed]",
      "text/plain": [
       "<Figure size 1200x900 with 1 Axes>"
      ]
     },
     "metadata": {},
     "output_type": "display_data"
    }
   ],
   "source": [
    "complaints.plot(kind='barh', figsize=(12, 9), fontsize=11, color=sns.color_palette('coolwarm', len(complaints)))\n",
    "plt.ylabel('Complaint Type', fontsize=14)\n",
    "plt.xlabel('Number of Complaints', fontsize=14)\n",
    "\n",
    "for index, value in enumerate(complaints):\n",
    "    label = str(format(int(value), ',')) + '  -  {}%'.format(round( (value/complaints.sum())*100, 1)) \n",
    "    plt.annotate(label, xy = (value , index ), color = 'black')"
   ]
  },
  {
   "cell_type": "markdown",
   "id": "6737fb5f",
   "metadata": {
    "papermill": {
     "duration": 0.025803,
     "end_time": "2023-11-08T04:24:19.158224",
     "exception": false,
     "start_time": "2023-11-08T04:24:19.132421",
     "status": "completed"
    },
    "tags": []
   },
   "source": [
    "Heating water is the most complained type in the industry, with 34.9% of all complaints. This is followed by plumbing (15.2%), general construction (13.0%), paint/plaster (12.0%), and unsanitary condition (7.4%)."
   ]
  },
  {
   "cell_type": "code",
   "execution_count": 23,
   "id": "316fa0b6",
   "metadata": {
    "execution": {
     "iopub.execute_input": "2023-11-08T04:24:19.211180Z",
     "iopub.status.busy": "2023-11-08T04:24:19.210845Z",
     "iopub.status.idle": "2023-11-08T04:24:20.394562Z",
     "shell.execute_reply": "2023-11-08T04:24:20.393531Z"
    },
    "papermill": {
     "duration": 1.213419,
     "end_time": "2023-11-08T04:24:20.396618",
     "exception": false,
     "start_time": "2023-11-08T04:24:19.183199",
     "status": "completed"
    },
    "tags": []
   },
   "outputs": [
    {
     "data": {
      "text/plain": [
       "Year\n",
       "2010          HEAT/HOT WATER\n",
       "2011    GENERAL CONSTRUCTION\n",
       "2012          HEAT/HOT WATER\n",
       "2013          HEAT/HOT WATER\n",
       "2014          HEAT/HOT WATER\n",
       "2015          HEAT/HOT WATER\n",
       "2016          HEAT/HOT WATER\n",
       "2017          HEAT/HOT WATER\n",
       "2018          HEAT/HOT WATER\n",
       "2019          HEAT/HOT WATER\n",
       "Name: complaint_type, dtype: object"
      ]
     },
     "execution_count": 23,
     "metadata": {},
     "output_type": "execute_result"
    }
   ],
   "source": [
    "data.groupby(['Year'])['complaint_type'].agg(pd.Series.mode)"
   ]
  },
  {
   "cell_type": "markdown",
   "id": "6f005fbd",
   "metadata": {
    "papermill": {
     "duration": 0.025062,
     "end_time": "2023-11-08T04:24:20.447061",
     "exception": false,
     "start_time": "2023-11-08T04:24:20.421999",
     "status": "completed"
    },
    "tags": []
   },
   "source": [
    "it looks like \"HEAT/HOT WATER\" is the most common complaint type for all years from 2010 to 2019."
   ]
  },
  {
   "cell_type": "markdown",
   "id": "0f264e09",
   "metadata": {
    "papermill": {
     "duration": 0.026041,
     "end_time": "2023-11-08T04:24:20.498142",
     "exception": false,
     "start_time": "2023-11-08T04:24:20.472101",
     "status": "completed"
    },
    "tags": []
   },
   "source": [
    "Are certain boroughs, ZIP codes, or streets experiencing more severe complaints of this top priority type?\n",
    "\n"
   ]
  },
  {
   "cell_type": "code",
   "execution_count": 24,
   "id": "cead8283",
   "metadata": {
    "execution": {
     "iopub.execute_input": "2023-11-08T04:24:20.552034Z",
     "iopub.status.busy": "2023-11-08T04:24:20.551646Z",
     "iopub.status.idle": "2023-11-08T04:24:21.899483Z",
     "shell.execute_reply": "2023-11-08T04:24:21.898505Z"
    },
    "papermill": {
     "duration": 1.378441,
     "end_time": "2023-11-08T04:24:21.902019",
     "exception": false,
     "start_time": "2023-11-08T04:24:20.523578",
     "status": "completed"
    },
    "tags": []
   },
   "outputs": [
    {
     "data": {
      "text/html": [
       "<div>\n",
       "<style scoped>\n",
       "    .dataframe tbody tr th:only-of-type {\n",
       "        vertical-align: middle;\n",
       "    }\n",
       "\n",
       "    .dataframe tbody tr th {\n",
       "        vertical-align: top;\n",
       "    }\n",
       "\n",
       "    .dataframe thead th {\n",
       "        text-align: right;\n",
       "    }\n",
       "</style>\n",
       "<table border=\"1\" class=\"dataframe\">\n",
       "  <thead>\n",
       "    <tr style=\"text-align: right;\">\n",
       "      <th></th>\n",
       "      <th>borough</th>\n",
       "      <th>incident_zip</th>\n",
       "      <th>street_name</th>\n",
       "      <th>latitude</th>\n",
       "      <th>longitude</th>\n",
       "      <th>complaint_type</th>\n",
       "    </tr>\n",
       "  </thead>\n",
       "  <tbody>\n",
       "    <tr>\n",
       "      <th>0</th>\n",
       "      <td>MANHATTAN</td>\n",
       "      <td>10032.0</td>\n",
       "      <td>WEST  160 STREET</td>\n",
       "      <td>40.835396</td>\n",
       "      <td>-73.942262</td>\n",
       "      <td>HEAT/HOT WATER</td>\n",
       "    </tr>\n",
       "    <tr>\n",
       "      <th>19</th>\n",
       "      <td>MANHATTAN</td>\n",
       "      <td>10026.0</td>\n",
       "      <td>WEST  113 STREET</td>\n",
       "      <td>40.801529</td>\n",
       "      <td>-73.954533</td>\n",
       "      <td>HEAT/HOT WATER</td>\n",
       "    </tr>\n",
       "    <tr>\n",
       "      <th>20</th>\n",
       "      <td>QUEENS</td>\n",
       "      <td>11691.0</td>\n",
       "      <td>DIX AVENUE</td>\n",
       "      <td>40.606587</td>\n",
       "      <td>-73.755868</td>\n",
       "      <td>HEAT/HOT WATER</td>\n",
       "    </tr>\n",
       "    <tr>\n",
       "      <th>38</th>\n",
       "      <td>MANHATTAN</td>\n",
       "      <td>10031.0</td>\n",
       "      <td>WEST  134 STREET</td>\n",
       "      <td>40.818604</td>\n",
       "      <td>-73.953625</td>\n",
       "      <td>HEAT/HOT WATER</td>\n",
       "    </tr>\n",
       "    <tr>\n",
       "      <th>43</th>\n",
       "      <td>BROOKLYN</td>\n",
       "      <td>11226.0</td>\n",
       "      <td>CROOKE AVENUE</td>\n",
       "      <td>40.651999</td>\n",
       "      <td>-73.964560</td>\n",
       "      <td>HEAT/HOT WATER</td>\n",
       "    </tr>\n",
       "  </tbody>\n",
       "</table>\n",
       "</div>"
      ],
      "text/plain": [
       "      borough  incident_zip       street_name   latitude  longitude  \\\n",
       "0   MANHATTAN       10032.0  WEST  160 STREET  40.835396 -73.942262   \n",
       "19  MANHATTAN       10026.0  WEST  113 STREET  40.801529 -73.954533   \n",
       "20     QUEENS       11691.0        DIX AVENUE  40.606587 -73.755868   \n",
       "38  MANHATTAN       10031.0  WEST  134 STREET  40.818604 -73.953625   \n",
       "43   BROOKLYN       11226.0     CROOKE AVENUE  40.651999 -73.964560   \n",
       "\n",
       "    complaint_type  \n",
       "0   HEAT/HOT WATER  \n",
       "19  HEAT/HOT WATER  \n",
       "20  HEAT/HOT WATER  \n",
       "38  HEAT/HOT WATER  \n",
       "43  HEAT/HOT WATER  "
      ]
     },
     "execution_count": 24,
     "metadata": {},
     "output_type": "execute_result"
    }
   ],
   "source": [
    "area_data = data[['borough', 'incident_zip', 'street_name', 'latitude', 'longitude', 'complaint_type']]\n",
    "area_data = area_data[area_data['complaint_type'] == 'HEAT/HOT WATER']\n",
    "area_data.head()"
   ]
  },
  {
   "cell_type": "code",
   "execution_count": 25,
   "id": "e7540ede",
   "metadata": {
    "execution": {
     "iopub.execute_input": "2023-11-08T04:24:21.958095Z",
     "iopub.status.busy": "2023-11-08T04:24:21.957758Z",
     "iopub.status.idle": "2023-11-08T04:24:21.963690Z",
     "shell.execute_reply": "2023-11-08T04:24:21.962741Z"
    },
    "papermill": {
     "duration": 0.036967,
     "end_time": "2023-11-08T04:24:21.965826",
     "exception": false,
     "start_time": "2023-11-08T04:24:21.928859",
     "status": "completed"
    },
    "tags": []
   },
   "outputs": [
    {
     "data": {
      "text/plain": [
       "(2037847, 6)"
      ]
     },
     "execution_count": 25,
     "metadata": {},
     "output_type": "execute_result"
    }
   ],
   "source": [
    "area_data.shape"
   ]
  },
  {
   "cell_type": "code",
   "execution_count": 26,
   "id": "fcd24028",
   "metadata": {
    "execution": {
     "iopub.execute_input": "2023-11-08T04:24:22.019010Z",
     "iopub.status.busy": "2023-11-08T04:24:22.018634Z",
     "iopub.status.idle": "2023-11-08T04:24:22.586060Z",
     "shell.execute_reply": "2023-11-08T04:24:22.585042Z"
    },
    "papermill": {
     "duration": 0.596242,
     "end_time": "2023-11-08T04:24:22.588058",
     "exception": false,
     "start_time": "2023-11-08T04:24:21.991816",
     "status": "completed"
    },
    "tags": []
   },
   "outputs": [
    {
     "data": {
      "text/plain": [
       "borough               0\n",
       "complaint_type        0\n",
       "street_name           1\n",
       "latitude          18965\n",
       "longitude         18965\n",
       "incident_zip      18969\n",
       "dtype: int64"
      ]
     },
     "execution_count": 26,
     "metadata": {},
     "output_type": "execute_result"
    }
   ],
   "source": [
    "area_data.isnull().sum().sort_values()"
   ]
  },
  {
   "cell_type": "code",
   "execution_count": 27,
   "id": "a24b1a55",
   "metadata": {
    "execution": {
     "iopub.execute_input": "2023-11-08T04:24:22.640623Z",
     "iopub.status.busy": "2023-11-08T04:24:22.640301Z",
     "iopub.status.idle": "2023-11-08T04:24:23.770089Z",
     "shell.execute_reply": "2023-11-08T04:24:23.769131Z"
    },
    "papermill": {
     "duration": 1.15875,
     "end_time": "2023-11-08T04:24:23.772500",
     "exception": false,
     "start_time": "2023-11-08T04:24:22.613750",
     "status": "completed"
    },
    "tags": []
   },
   "outputs": [
    {
     "data": {
      "text/html": [
       "<div>\n",
       "<style scoped>\n",
       "    .dataframe tbody tr th:only-of-type {\n",
       "        vertical-align: middle;\n",
       "    }\n",
       "\n",
       "    .dataframe tbody tr th {\n",
       "        vertical-align: top;\n",
       "    }\n",
       "\n",
       "    .dataframe thead th {\n",
       "        text-align: right;\n",
       "    }\n",
       "</style>\n",
       "<table border=\"1\" class=\"dataframe\">\n",
       "  <thead>\n",
       "    <tr style=\"text-align: right;\">\n",
       "      <th></th>\n",
       "      <th>Counts</th>\n",
       "      <th>%</th>\n",
       "    </tr>\n",
       "  </thead>\n",
       "  <tbody>\n",
       "    <tr>\n",
       "      <th>borough</th>\n",
       "      <td>0</td>\n",
       "      <td>0.000000</td>\n",
       "    </tr>\n",
       "    <tr>\n",
       "      <th>complaint_type</th>\n",
       "      <td>0</td>\n",
       "      <td>0.000000</td>\n",
       "    </tr>\n",
       "    <tr>\n",
       "      <th>street_name</th>\n",
       "      <td>1</td>\n",
       "      <td>0.000049</td>\n",
       "    </tr>\n",
       "    <tr>\n",
       "      <th>latitude</th>\n",
       "      <td>18965</td>\n",
       "      <td>0.930639</td>\n",
       "    </tr>\n",
       "    <tr>\n",
       "      <th>longitude</th>\n",
       "      <td>18965</td>\n",
       "      <td>0.930639</td>\n",
       "    </tr>\n",
       "    <tr>\n",
       "      <th>incident_zip</th>\n",
       "      <td>18969</td>\n",
       "      <td>0.930835</td>\n",
       "    </tr>\n",
       "  </tbody>\n",
       "</table>\n",
       "</div>"
      ],
      "text/plain": [
       "                Counts         %\n",
       "borough              0  0.000000\n",
       "complaint_type       0  0.000000\n",
       "street_name          1  0.000049\n",
       "latitude         18965  0.930639\n",
       "longitude        18965  0.930639\n",
       "incident_zip     18969  0.930835"
      ]
     },
     "execution_count": 27,
     "metadata": {},
     "output_type": "execute_result"
    }
   ],
   "source": [
    "percentages = (area_data.isnull().sum()*100/area_data.shape[0]).sort_values()\n",
    "\n",
    "nan_data = pd.concat([area_data.isnull().sum().sort_values(), percentages], axis=1, keys=['Counts','%'])\n",
    "nan_data"
   ]
  },
  {
   "cell_type": "code",
   "execution_count": 28,
   "id": "f5fb14da",
   "metadata": {
    "execution": {
     "iopub.execute_input": "2023-11-08T04:24:23.826955Z",
     "iopub.status.busy": "2023-11-08T04:24:23.826631Z",
     "iopub.status.idle": "2023-11-08T04:24:30.023451Z",
     "shell.execute_reply": "2023-11-08T04:24:30.022422Z"
    },
    "papermill": {
     "duration": 6.226641,
     "end_time": "2023-11-08T04:24:30.026068",
     "exception": false,
     "start_time": "2023-11-08T04:24:23.799427",
     "status": "completed"
    },
    "tags": []
   },
   "outputs": [
    {
     "data": {
      "text/plain": [
       "<Axes: >"
      ]
     },
     "execution_count": 28,
     "metadata": {},
     "output_type": "execute_result"
    },
    {
     "data": {
      "image/png": "[encoded data removed]",
      "text/plain": [
       "<Figure size 2500x1000 with 2 Axes>"
      ]
     },
     "metadata": {},
     "output_type": "display_data"
    }
   ],
   "source": [
    "msno.matrix(area_data)"
   ]
  },
  {
   "cell_type": "code",
   "execution_count": 29,
   "id": "a7a21391",
   "metadata": {
    "execution": {
     "iopub.execute_input": "2023-11-08T04:24:30.082990Z",
     "iopub.status.busy": "2023-11-08T04:24:30.082123Z",
     "iopub.status.idle": "2023-11-08T04:24:30.392183Z",
     "shell.execute_reply": "2023-11-08T04:24:30.391191Z"
    },
    "papermill": {
     "duration": 0.340529,
     "end_time": "2023-11-08T04:24:30.394162",
     "exception": false,
     "start_time": "2023-11-08T04:24:30.053633",
     "status": "completed"
    },
    "tags": []
   },
   "outputs": [
    {
     "data": {
      "text/plain": [
       "borough\n",
       "BRONX            569194\n",
       "BROOKLYN         542245\n",
       "MANHATTAN        397932\n",
       "Unspecified      282917\n",
       "QUEENS           228170\n",
       "STATEN ISLAND     17389\n",
       "Name: count, dtype: int64"
      ]
     },
     "execution_count": 29,
     "metadata": {},
     "output_type": "execute_result"
    }
   ],
   "source": [
    "area_data['borough'].value_counts()"
   ]
  },
  {
   "cell_type": "markdown",
   "id": "f99ac7c2",
   "metadata": {
    "papermill": {
     "duration": 0.026981,
     "end_time": "2023-11-08T04:24:30.448008",
     "exception": false,
     "start_time": "2023-11-08T04:24:30.421027",
     "status": "completed"
    },
    "tags": []
   },
   "source": [
    "Deleting unspecified instances."
   ]
  },
  {
   "cell_type": "code",
   "execution_count": 30,
   "id": "9d62501f",
   "metadata": {
    "execution": {
     "iopub.execute_input": "2023-11-08T04:24:30.503931Z",
     "iopub.status.busy": "2023-11-08T04:24:30.503589Z",
     "iopub.status.idle": "2023-11-08T04:24:30.509504Z",
     "shell.execute_reply": "2023-11-08T04:24:30.508671Z"
    },
    "papermill": {
     "duration": 0.037233,
     "end_time": "2023-11-08T04:24:30.511533",
     "exception": false,
     "start_time": "2023-11-08T04:24:30.474300",
     "status": "completed"
    },
    "tags": []
   },
   "outputs": [
    {
     "data": {
      "text/plain": [
       "Index(['borough', 'incident_zip', 'street_name', 'latitude', 'longitude',\n",
       "       'complaint_type'],\n",
       "      dtype='object')"
      ]
     },
     "execution_count": 30,
     "metadata": {},
     "output_type": "execute_result"
    }
   ],
   "source": [
    "area_data.columns\n"
   ]
  },
  {
   "cell_type": "code",
   "execution_count": 31,
   "id": "c8305d51",
   "metadata": {
    "execution": {
     "iopub.execute_input": "2023-11-08T04:24:30.568744Z",
     "iopub.status.busy": "2023-11-08T04:24:30.568104Z",
     "iopub.status.idle": "2023-11-08T04:24:30.966230Z",
     "shell.execute_reply": "2023-11-08T04:24:30.965362Z"
    },
    "papermill": {
     "duration": 0.429255,
     "end_time": "2023-11-08T04:24:30.968500",
     "exception": false,
     "start_time": "2023-11-08T04:24:30.539245",
     "status": "completed"
    },
    "tags": []
   },
   "outputs": [],
   "source": [
    "area_data = area_data[area_data['borough'] != 'Unspecified']"
   ]
  },
  {
   "cell_type": "code",
   "execution_count": 32,
   "id": "0a29c7cd",
   "metadata": {
    "execution": {
     "iopub.execute_input": "2023-11-08T04:24:31.024674Z",
     "iopub.status.busy": "2023-11-08T04:24:31.023938Z",
     "iopub.status.idle": "2023-11-08T04:24:58.943146Z",
     "shell.execute_reply": "2023-11-08T04:24:58.942221Z"
    },
    "jupyter": {
     "source_hidden": true
    },
    "papermill": {
     "duration": 27.950516,
     "end_time": "2023-11-08T04:24:58.946593",
     "exception": false,
     "start_time": "2023-11-08T04:24:30.996077",
     "status": "completed"
    },
    "tags": []
   },
   "outputs": [
    {
     "data": {
      "image/png": "[encoded data removed]",
      "text/plain": [
       "<Figure size 600x600 with 1 Axes>"
      ]
     },
     "metadata": {},
     "output_type": "display_data"
    }
   ],
   "source": [
    "boroughs = list(area_data['borough'].value_counts().index)\n",
    "colors = ['#34495e', '#2ecc71', '#3498db', '#95a5a6','#9b59b6', '#e74c3c', ]\n",
    "# print(boroughs)\n",
    "# colors = []\n",
    "patches = []\n",
    "fig, ax = plt.subplots(figsize = (6, 6))\n",
    "for index, value in enumerate(boroughs):\n",
    "    boroughs_data = area_data[area_data['borough'] == value]\n",
    "    ax.scatter(boroughs_data['longitude'], boroughs_data['latitude'], c=colors[index], s=0.5, alpha=0.01, marker='.')\n",
    "    patches.append(mpatches.Patch(label=value, color=colors[index]))\n",
    "\n",
    "#boroughs_data.borough.value_counts()\n",
    "borough_map['geometry'].boundary.plot(edgecolor = 'green', linewidth=0.2, ax = ax)\n",
    "\n",
    "plt.title(\"Distribution of 'HEAT/HOT WATER' complaints\", size = 13)\n",
    "plt.xlabel('Longitude', size = 12)\n",
    "plt.ylabel('Latitude', size = 12)\n",
    "plt.legend(patches, boroughs);"
   ]
  },
  {
   "cell_type": "markdown",
   "id": "e11eab38",
   "metadata": {
    "papermill": {
     "duration": 0.028992,
     "end_time": "2023-11-08T04:24:59.006644",
     "exception": false,
     "start_time": "2023-11-08T04:24:58.977652",
     "status": "completed"
    },
    "tags": []
   },
   "source": [
    "it is evident that the Bronx, Brooklyn, and Manhattan are the boroughs with the most substantial number of 'HEAT/HOT WATER' complaints."
   ]
  },
  {
   "cell_type": "code",
   "execution_count": 33,
   "id": "d3e9c911",
   "metadata": {
    "execution": {
     "iopub.execute_input": "2023-11-08T04:24:59.070394Z",
     "iopub.status.busy": "2023-11-08T04:24:59.069573Z",
     "iopub.status.idle": "2023-11-08T04:24:59.633843Z",
     "shell.execute_reply": "2023-11-08T04:24:59.632761Z"
    },
    "papermill": {
     "duration": 0.598637,
     "end_time": "2023-11-08T04:24:59.636128",
     "exception": false,
     "start_time": "2023-11-08T04:24:59.037491",
     "status": "completed"
    },
    "tags": []
   },
   "outputs": [
    {
     "data": {
      "image/png": "[encoded data removed]",
      "text/plain": [
       "<Figure size 800x500 with 1 Axes>"
      ]
     },
     "metadata": {},
     "output_type": "display_data"
    }
   ],
   "source": [
    "ny_borough = area_data['borough'].value_counts().sort_values(ascending = False)\n",
    "\n",
    "ny_borough.plot(kind = 'barh', figsize = (8, 5), fontsize = 11, color = colors)\n",
    "plt.ylabel('Borough', fontsize = 14)\n",
    "plt.xlabel('Number of Complaints', fontsize = 14)\n",
    "\n",
    "for index, value in enumerate(ny_borough):   \n",
    "    label = str(format(int(value), ',')) + '  -  {}%'.format(round( (value/ny_borough.sum())*100, 1)) \n",
    "    plt.annotate(label, xy = (value , index), color = 'red')"
   ]
  },
  {
   "cell_type": "markdown",
   "id": "8da97451",
   "metadata": {
    "papermill": {
     "duration": 0.030185,
     "end_time": "2023-11-08T04:24:59.696952",
     "exception": false,
     "start_time": "2023-11-08T04:24:59.666767",
     "status": "completed"
    },
    "tags": []
   },
   "source": [
    "The graph shows that Bronx had the most complaints followed by Brooklyn and Manhattan. \n",
    "\n"
   ]
  },
  {
   "cell_type": "code",
   "execution_count": 34,
   "id": "74eb2954",
   "metadata": {
    "execution": {
     "iopub.execute_input": "2023-11-08T04:24:59.761164Z",
     "iopub.status.busy": "2023-11-08T04:24:59.760492Z",
     "iopub.status.idle": "2023-11-08T04:25:05.034944Z",
     "shell.execute_reply": "2023-11-08T04:25:05.034053Z"
    },
    "papermill": {
     "duration": 5.309174,
     "end_time": "2023-11-08T04:25:05.036903",
     "exception": false,
     "start_time": "2023-11-08T04:24:59.727729",
     "status": "completed"
    },
    "tags": []
   },
   "outputs": [
    {
     "data": {
      "image/png": "[encoded data removed]",
      "text/plain": [
       "<Figure size 600x600 with 1 Axes>"
      ]
     },
     "metadata": {},
     "output_type": "display_data"
    }
   ],
   "source": [
    "zip_codes = list(area_data['incident_zip'].value_counts().head(10).index)\n",
    "colors = sns.color_palette('Reds_r', len(zip_codes)).as_hex()\n",
    "patches = []\n",
    "fig, ax = plt.subplots(figsize = (6, 6))\n",
    "\n",
    "for index, value in enumerate(zip_codes):\n",
    "    zip_data = area_data[area_data['incident_zip'] == value]\n",
    "    ax.scatter(zip_data['longitude'], zip_data['latitude'], c = colors[index], s = 1, alpha = 0.01, marker = '.')\n",
    "    patches.append(mpatches.Patch(label = value, color = colors[index]))\n",
    "    \n",
    "borough_map['geometry'].boundary.plot(edgecolor = 'black', linewidth = 0.2, ax = ax)\n",
    "    \n",
    "plt.title(\"Distribution of 'HEAT/HOT WATER' complaints in different zip codes\", size = 13)\n",
    "plt.xlabel('Longitude', size = 12)\n",
    "plt.ylabel('Latitude', size = 12)\n",
    "\n",
    "plt.legend(patches, zip_codes);"
   ]
  },
  {
   "cell_type": "code",
   "execution_count": 35,
   "id": "49e26726",
   "metadata": {
    "execution": {
     "iopub.execute_input": "2023-11-08T04:25:05.105297Z",
     "iopub.status.busy": "2023-11-08T04:25:05.104553Z",
     "iopub.status.idle": "2023-11-08T04:25:05.421952Z",
     "shell.execute_reply": "2023-11-08T04:25:05.420956Z"
    },
    "papermill": {
     "duration": 0.354752,
     "end_time": "2023-11-08T04:25:05.424231",
     "exception": false,
     "start_time": "2023-11-08T04:25:05.069479",
     "status": "completed"
    },
    "tags": []
   },
   "outputs": [
    {
     "data": {
      "image/png": "[encoded data removed]",
      "text/plain": [
       "<Figure size 800x500 with 1 Axes>"
      ]
     },
     "metadata": {},
     "output_type": "display_data"
    }
   ],
   "source": [
    "ny_data = area_data['incident_zip'].value_counts().head(5).sort_values()\n",
    "ny_data.index = ny_data.index.map(str)\n",
    "color = sns.color_palette('Reds', len(ny_data))\n",
    "\n",
    "ny_data.plot(kind = 'barh', figsize = (8, 5), fontsize = 11, color = color)\n",
    "plt.ylabel('Zip code', fontsize = 14)\n",
    "plt.xlabel('Number of Complaints', fontsize = 14)\n",
    "\n",
    "for index, value in enumerate(ny_data):   \n",
    "    label = str(format(int(value), ',')) \n",
    "    plt.annotate(label, xy = (value + 500, index - 0.1), color = 'red')"
   ]
  },
  {
   "cell_type": "markdown",
   "id": "e00e39f2",
   "metadata": {
    "papermill": {
     "duration": 0.03093,
     "end_time": "2023-11-08T04:25:05.486743",
     "exception": false,
     "start_time": "2023-11-08T04:25:05.455813",
     "status": "completed"
    },
    "tags": []
   },
   "source": [
    "11226 has the highest number of complaints and it is located in Brooklyn."
   ]
  },
  {
   "cell_type": "code",
   "execution_count": 36,
   "id": "6e1640f0",
   "metadata": {
    "execution": {
     "iopub.execute_input": "2023-11-08T04:25:05.550509Z",
     "iopub.status.busy": "2023-11-08T04:25:05.550200Z",
     "iopub.status.idle": "2023-11-08T04:25:06.233546Z",
     "shell.execute_reply": "2023-11-08T04:25:06.232588Z"
    },
    "papermill": {
     "duration": 0.717897,
     "end_time": "2023-11-08T04:25:06.235725",
     "exception": false,
     "start_time": "2023-11-08T04:25:05.517828",
     "status": "completed"
    },
    "tags": []
   },
   "outputs": [
    {
     "data": {
      "image/png": "[encoded data removed]",
      "text/plain": [
       "<Figure size 1000x700 with 1 Axes>"
      ]
     },
     "metadata": {},
     "output_type": "display_data"
    }
   ],
   "source": [
    "ny_street_data = area_data['street_name'].value_counts().head(10).sort_values(ascending=False)\n",
    "\n",
    "ny_street_data.plot(kind = 'barh', figsize = (10, 7), fontsize = 11, color = colors)\n",
    "plt.ylabel('Street', fontsize = 14)\n",
    "plt.xlabel('Number of Complaints', fontsize = 14)\n",
    "\n",
    "for index, value in enumerate(ny_street_data):   \n",
    "    label = str(format(int(value), ',')) \n",
    "    plt.annotate(label, xy = (value + 500, index - 0.1), color = 'red')"
   ]
  },
  {
   "cell_type": "markdown",
   "id": "9ebd9726",
   "metadata": {
    "papermill": {
     "duration": 0.032382,
     "end_time": "2023-11-08T04:25:06.301020",
     "exception": false,
     "start_time": "2023-11-08T04:25:06.268638",
     "status": "completed"
    },
    "tags": []
   },
   "source": [
    "GRAND CONCOURSE is the street with highest number of complaints."
   ]
  },
  {
   "cell_type": "code",
   "execution_count": 37,
   "id": "4098ff03",
   "metadata": {
    "execution": {
     "iopub.execute_input": "2023-11-08T04:25:06.364934Z",
     "iopub.status.busy": "2023-11-08T04:25:06.364628Z",
     "iopub.status.idle": "2023-11-08T04:25:07.308760Z",
     "shell.execute_reply": "2023-11-08T04:25:07.307701Z"
    },
    "papermill": {
     "duration": 0.978736,
     "end_time": "2023-11-08T04:25:07.310928",
     "exception": false,
     "start_time": "2023-11-08T04:25:06.332192",
     "status": "completed"
    },
    "tags": []
   },
   "outputs": [
    {
     "data": {
      "text/plain": [
       "'BRONX'"
      ]
     },
     "execution_count": 37,
     "metadata": {},
     "output_type": "execute_result"
    }
   ],
   "source": [
    "data[data['street_name'] == \"GRAND CONCOURSE\"]['borough'].iloc[0]"
   ]
  },
  {
   "cell_type": "markdown",
   "id": "95848098",
   "metadata": {
    "papermill": {
     "duration": 0.03296,
     "end_time": "2023-11-08T04:25:07.376516",
     "exception": false,
     "start_time": "2023-11-08T04:25:07.343556",
     "status": "completed"
    },
    "tags": []
   },
   "source": [
    "We can see that GRAND CONCOURSE is in BRONX\n",
    "\n",
    "From the analysis, Bronx and Brooklyn as they are the most affected boroughs with Heat/Hot water complaint, 11226 zipcode in Brooklyn has more complaints and Grand Concourse in Bronx is the highly affected street with this complaint."
   ]
  },
  {
   "cell_type": "code",
   "execution_count": 38,
   "id": "35edfe3d",
   "metadata": {
    "execution": {
     "iopub.execute_input": "2023-11-08T04:25:07.442824Z",
     "iopub.status.busy": "2023-11-08T04:25:07.442469Z",
     "iopub.status.idle": "2023-11-08T04:25:10.612584Z",
     "shell.execute_reply": "2023-11-08T04:25:10.611586Z"
    },
    "papermill": {
     "duration": 3.206066,
     "end_time": "2023-11-08T04:25:10.615187",
     "exception": false,
     "start_time": "2023-11-08T04:25:07.409121",
     "status": "completed"
    },
    "tags": []
   },
   "outputs": [
    {
     "data": {
      "text/html": [
       "<div>\n",
       "<style scoped>\n",
       "    .dataframe tbody tr th:only-of-type {\n",
       "        vertical-align: middle;\n",
       "    }\n",
       "\n",
       "    .dataframe tbody tr th {\n",
       "        vertical-align: top;\n",
       "    }\n",
       "\n",
       "    .dataframe thead th {\n",
       "        text-align: right;\n",
       "    }\n",
       "</style>\n",
       "<table border=\"1\" class=\"dataframe\">\n",
       "  <thead>\n",
       "    <tr style=\"text-align: right;\">\n",
       "      <th></th>\n",
       "      <th>created_date</th>\n",
       "      <th>unique_key</th>\n",
       "      <th>complaint_type</th>\n",
       "      <th>incident_zip</th>\n",
       "      <th>incident_address</th>\n",
       "      <th>street_name</th>\n",
       "      <th>address_type</th>\n",
       "      <th>city</th>\n",
       "      <th>resolution_description</th>\n",
       "      <th>borough</th>\n",
       "      <th>latitude</th>\n",
       "      <th>longitude</th>\n",
       "      <th>closed_date</th>\n",
       "      <th>location_type</th>\n",
       "      <th>status</th>\n",
       "      <th>Year</th>\n",
       "    </tr>\n",
       "  </thead>\n",
       "  <tbody>\n",
       "    <tr>\n",
       "      <th>0</th>\n",
       "      <td>2019-08-23 12:35:54</td>\n",
       "      <td>43624241</td>\n",
       "      <td>HEAT/HOT WATER</td>\n",
       "      <td>10032.0</td>\n",
       "      <td>560 WEST  160 STREET</td>\n",
       "      <td>WEST  160 STREET</td>\n",
       "      <td>ADDRESS</td>\n",
       "      <td>NEW YORK</td>\n",
       "      <td>The complaint you filed is a duplicate of a co...</td>\n",
       "      <td>MANHATTAN</td>\n",
       "      <td>40.835396</td>\n",
       "      <td>-73.942262</td>\n",
       "      <td>NaT</td>\n",
       "      <td>RESIDENTIAL BUILDING</td>\n",
       "      <td>Open</td>\n",
       "      <td>2019</td>\n",
       "    </tr>\n",
       "    <tr>\n",
       "      <th>1</th>\n",
       "      <td>2019-08-23 17:46:14</td>\n",
       "      <td>43624229</td>\n",
       "      <td>HEAT/HOT WATER</td>\n",
       "      <td>10026.0</td>\n",
       "      <td>218 WEST  113 STREET</td>\n",
       "      <td>WEST  113 STREET</td>\n",
       "      <td>ADDRESS</td>\n",
       "      <td>NEW YORK</td>\n",
       "      <td>The following complaint conditions are still o...</td>\n",
       "      <td>MANHATTAN</td>\n",
       "      <td>40.801529</td>\n",
       "      <td>-73.954533</td>\n",
       "      <td>NaT</td>\n",
       "      <td>RESIDENTIAL BUILDING</td>\n",
       "      <td>Open</td>\n",
       "      <td>2019</td>\n",
       "    </tr>\n",
       "    <tr>\n",
       "      <th>2</th>\n",
       "      <td>2019-08-23 16:17:11</td>\n",
       "      <td>43626091</td>\n",
       "      <td>HEAT/HOT WATER</td>\n",
       "      <td>11691.0</td>\n",
       "      <td>22-29 DIX AVENUE</td>\n",
       "      <td>DIX AVENUE</td>\n",
       "      <td>ADDRESS</td>\n",
       "      <td>Far Rockaway</td>\n",
       "      <td>The following complaint conditions are still o...</td>\n",
       "      <td>QUEENS</td>\n",
       "      <td>40.606587</td>\n",
       "      <td>-73.755868</td>\n",
       "      <td>NaT</td>\n",
       "      <td>RESIDENTIAL BUILDING</td>\n",
       "      <td>Open</td>\n",
       "      <td>2019</td>\n",
       "    </tr>\n",
       "    <tr>\n",
       "      <th>3</th>\n",
       "      <td>2019-08-23 14:16:40</td>\n",
       "      <td>43624236</td>\n",
       "      <td>HEAT/HOT WATER</td>\n",
       "      <td>10031.0</td>\n",
       "      <td>510 WEST  134 STREET</td>\n",
       "      <td>WEST  134 STREET</td>\n",
       "      <td>ADDRESS</td>\n",
       "      <td>NEW YORK</td>\n",
       "      <td>The following complaint conditions are still o...</td>\n",
       "      <td>MANHATTAN</td>\n",
       "      <td>40.818604</td>\n",
       "      <td>-73.953625</td>\n",
       "      <td>NaT</td>\n",
       "      <td>RESIDENTIAL BUILDING</td>\n",
       "      <td>Open</td>\n",
       "      <td>2019</td>\n",
       "    </tr>\n",
       "    <tr>\n",
       "      <th>4</th>\n",
       "      <td>2019-08-23 09:23:32</td>\n",
       "      <td>43625373</td>\n",
       "      <td>HEAT/HOT WATER</td>\n",
       "      <td>11226.0</td>\n",
       "      <td>20 CROOKE AVENUE</td>\n",
       "      <td>CROOKE AVENUE</td>\n",
       "      <td>ADDRESS</td>\n",
       "      <td>BROOKLYN</td>\n",
       "      <td>The following complaint conditions are still o...</td>\n",
       "      <td>BROOKLYN</td>\n",
       "      <td>40.651999</td>\n",
       "      <td>-73.964560</td>\n",
       "      <td>NaT</td>\n",
       "      <td>RESIDENTIAL BUILDING</td>\n",
       "      <td>Open</td>\n",
       "      <td>2019</td>\n",
       "    </tr>\n",
       "    <tr>\n",
       "      <th>...</th>\n",
       "      <td>...</td>\n",
       "      <td>...</td>\n",
       "      <td>...</td>\n",
       "      <td>...</td>\n",
       "      <td>...</td>\n",
       "      <td>...</td>\n",
       "      <td>...</td>\n",
       "      <td>...</td>\n",
       "      <td>...</td>\n",
       "      <td>...</td>\n",
       "      <td>...</td>\n",
       "      <td>...</td>\n",
       "      <td>...</td>\n",
       "      <td>...</td>\n",
       "      <td>...</td>\n",
       "      <td>...</td>\n",
       "    </tr>\n",
       "    <tr>\n",
       "      <th>2037842</th>\n",
       "      <td>2019-03-24 08:17:07</td>\n",
       "      <td>42043830</td>\n",
       "      <td>HEAT/HOT WATER</td>\n",
       "      <td>11217.0</td>\n",
       "      <td>140 5 AVENUE</td>\n",
       "      <td>5 AVENUE</td>\n",
       "      <td>ADDRESS</td>\n",
       "      <td>BROOKLYN</td>\n",
       "      <td>The complaint you filed is a duplicate of a co...</td>\n",
       "      <td>BROOKLYN</td>\n",
       "      <td>40.678621</td>\n",
       "      <td>-73.978978</td>\n",
       "      <td>2019-03-25 21:19:25</td>\n",
       "      <td>RESIDENTIAL BUILDING</td>\n",
       "      <td>Closed</td>\n",
       "      <td>2019</td>\n",
       "    </tr>\n",
       "    <tr>\n",
       "      <th>2037843</th>\n",
       "      <td>2019-03-24 00:09:32</td>\n",
       "      <td>42043831</td>\n",
       "      <td>HEAT/HOT WATER</td>\n",
       "      <td>11214.0</td>\n",
       "      <td>8100 BAY PARKWAY</td>\n",
       "      <td>BAY PARKWAY</td>\n",
       "      <td>ADDRESS</td>\n",
       "      <td>BROOKLYN</td>\n",
       "      <td>The complaint you filed is a duplicate of a co...</td>\n",
       "      <td>BROOKLYN</td>\n",
       "      <td>40.604708</td>\n",
       "      <td>-73.990950</td>\n",
       "      <td>2019-03-25 21:27:24</td>\n",
       "      <td>RESIDENTIAL BUILDING</td>\n",
       "      <td>Closed</td>\n",
       "      <td>2019</td>\n",
       "    </tr>\n",
       "    <tr>\n",
       "      <th>2037844</th>\n",
       "      <td>2019-03-23 23:27:03</td>\n",
       "      <td>42043834</td>\n",
       "      <td>HEAT/HOT WATER</td>\n",
       "      <td>11238.0</td>\n",
       "      <td>601 PARK PLACE</td>\n",
       "      <td>PARK PLACE</td>\n",
       "      <td>ADDRESS</td>\n",
       "      <td>BROOKLYN</td>\n",
       "      <td>The complaint you filed is a duplicate of a co...</td>\n",
       "      <td>BROOKLYN</td>\n",
       "      <td>40.674495</td>\n",
       "      <td>-73.958221</td>\n",
       "      <td>2019-03-25 02:08:33</td>\n",
       "      <td>RESIDENTIAL BUILDING</td>\n",
       "      <td>Closed</td>\n",
       "      <td>2019</td>\n",
       "    </tr>\n",
       "    <tr>\n",
       "      <th>2037845</th>\n",
       "      <td>2019-03-24 12:11:04</td>\n",
       "      <td>42043835</td>\n",
       "      <td>HEAT/HOT WATER</td>\n",
       "      <td>11220.0</td>\n",
       "      <td>861 48 STREET</td>\n",
       "      <td>48 STREET</td>\n",
       "      <td>ADDRESS</td>\n",
       "      <td>BROOKLYN</td>\n",
       "      <td>The complaint you filed is a duplicate of a co...</td>\n",
       "      <td>BROOKLYN</td>\n",
       "      <td>40.641472</td>\n",
       "      <td>-74.001265</td>\n",
       "      <td>2019-03-25 08:32:53</td>\n",
       "      <td>RESIDENTIAL BUILDING</td>\n",
       "      <td>Closed</td>\n",
       "      <td>2019</td>\n",
       "    </tr>\n",
       "    <tr>\n",
       "      <th>2037846</th>\n",
       "      <td>2019-03-24 21:26:53</td>\n",
       "      <td>42043837</td>\n",
       "      <td>HEAT/HOT WATER</td>\n",
       "      <td>11235.0</td>\n",
       "      <td>3030 BRIGHTON   12 STREET</td>\n",
       "      <td>BRIGHTON   12 STREET</td>\n",
       "      <td>ADDRESS</td>\n",
       "      <td>BROOKLYN</td>\n",
       "      <td>The complaint you filed is a duplicate of a co...</td>\n",
       "      <td>BROOKLYN</td>\n",
       "      <td>40.579289</td>\n",
       "      <td>-73.957092</td>\n",
       "      <td>2019-03-25 21:30:23</td>\n",
       "      <td>RESIDENTIAL BUILDING</td>\n",
       "      <td>Closed</td>\n",
       "      <td>2019</td>\n",
       "    </tr>\n",
       "  </tbody>\n",
       "</table>\n",
       "<p>2037847 rows × 16 columns</p>\n",
       "</div>"
      ],
      "text/plain": [
       "               created_date  unique_key  complaint_type  incident_zip  \\\n",
       "0       2019-08-23 12:35:54    43624241  HEAT/HOT WATER       10032.0   \n",
       "1       2019-08-23 17:46:14    43624229  HEAT/HOT WATER       10026.0   \n",
       "2       2019-08-23 16:17:11    43626091  HEAT/HOT WATER       11691.0   \n",
       "3       2019-08-23 14:16:40    43624236  HEAT/HOT WATER       10031.0   \n",
       "4       2019-08-23 09:23:32    43625373  HEAT/HOT WATER       11226.0   \n",
       "...                     ...         ...             ...           ...   \n",
       "2037842 2019-03-24 08:17:07    42043830  HEAT/HOT WATER       11217.0   \n",
       "2037843 2019-03-24 00:09:32    42043831  HEAT/HOT WATER       11214.0   \n",
       "2037844 2019-03-23 23:27:03    42043834  HEAT/HOT WATER       11238.0   \n",
       "2037845 2019-03-24 12:11:04    42043835  HEAT/HOT WATER       11220.0   \n",
       "2037846 2019-03-24 21:26:53    42043837  HEAT/HOT WATER       11235.0   \n",
       "\n",
       "                  incident_address           street_name address_type  \\\n",
       "0             560 WEST  160 STREET      WEST  160 STREET      ADDRESS   \n",
       "1             218 WEST  113 STREET      WEST  113 STREET      ADDRESS   \n",
       "2                 22-29 DIX AVENUE            DIX AVENUE      ADDRESS   \n",
       "3             510 WEST  134 STREET      WEST  134 STREET      ADDRESS   \n",
       "4                 20 CROOKE AVENUE         CROOKE AVENUE      ADDRESS   \n",
       "...                            ...                   ...          ...   \n",
       "2037842               140 5 AVENUE              5 AVENUE      ADDRESS   \n",
       "2037843           8100 BAY PARKWAY           BAY PARKWAY      ADDRESS   \n",
       "2037844             601 PARK PLACE            PARK PLACE      ADDRESS   \n",
       "2037845              861 48 STREET             48 STREET      ADDRESS   \n",
       "2037846  3030 BRIGHTON   12 STREET  BRIGHTON   12 STREET      ADDRESS   \n",
       "\n",
       "                 city                             resolution_description  \\\n",
       "0            NEW YORK  The complaint you filed is a duplicate of a co...   \n",
       "1            NEW YORK  The following complaint conditions are still o...   \n",
       "2        Far Rockaway  The following complaint conditions are still o...   \n",
       "3            NEW YORK  The following complaint conditions are still o...   \n",
       "4            BROOKLYN  The following complaint conditions are still o...   \n",
       "...               ...                                                ...   \n",
       "2037842      BROOKLYN  The complaint you filed is a duplicate of a co...   \n",
       "2037843      BROOKLYN  The complaint you filed is a duplicate of a co...   \n",
       "2037844      BROOKLYN  The complaint you filed is a duplicate of a co...   \n",
       "2037845      BROOKLYN  The complaint you filed is a duplicate of a co...   \n",
       "2037846      BROOKLYN  The complaint you filed is a duplicate of a co...   \n",
       "\n",
       "           borough   latitude  longitude         closed_date  \\\n",
       "0        MANHATTAN  40.835396 -73.942262                 NaT   \n",
       "1        MANHATTAN  40.801529 -73.954533                 NaT   \n",
       "2           QUEENS  40.606587 -73.755868                 NaT   \n",
       "3        MANHATTAN  40.818604 -73.953625                 NaT   \n",
       "4         BROOKLYN  40.651999 -73.964560                 NaT   \n",
       "...            ...        ...        ...                 ...   \n",
       "2037842   BROOKLYN  40.678621 -73.978978 2019-03-25 21:19:25   \n",
       "2037843   BROOKLYN  40.604708 -73.990950 2019-03-25 21:27:24   \n",
       "2037844   BROOKLYN  40.674495 -73.958221 2019-03-25 02:08:33   \n",
       "2037845   BROOKLYN  40.641472 -74.001265 2019-03-25 08:32:53   \n",
       "2037846   BROOKLYN  40.579289 -73.957092 2019-03-25 21:30:23   \n",
       "\n",
       "                location_type  status  Year  \n",
       "0        RESIDENTIAL BUILDING    Open  2019  \n",
       "1        RESIDENTIAL BUILDING    Open  2019  \n",
       "2        RESIDENTIAL BUILDING    Open  2019  \n",
       "3        RESIDENTIAL BUILDING    Open  2019  \n",
       "4        RESIDENTIAL BUILDING    Open  2019  \n",
       "...                       ...     ...   ...  \n",
       "2037842  RESIDENTIAL BUILDING  Closed  2019  \n",
       "2037843  RESIDENTIAL BUILDING  Closed  2019  \n",
       "2037844  RESIDENTIAL BUILDING  Closed  2019  \n",
       "2037845  RESIDENTIAL BUILDING  Closed  2019  \n",
       "2037846  RESIDENTIAL BUILDING  Closed  2019  \n",
       "\n",
       "[2037847 rows x 16 columns]"
      ]
     },
     "execution_count": 38,
     "metadata": {},
     "output_type": "execute_result"
    }
   ],
   "source": [
    "heat_complaint_data = data[(data['complaint_type'] == 'HEAT/HOT WATER') & (data['borough'])].reset_index(drop=True)\n",
    "heat_complaint_data"
   ]
  },
  {
   "cell_type": "code",
   "execution_count": 39,
   "id": "d6e81cbd",
   "metadata": {
    "execution": {
     "iopub.execute_input": "2023-11-08T04:25:10.687164Z",
     "iopub.status.busy": "2023-11-08T04:25:10.686842Z",
     "iopub.status.idle": "2023-11-08T04:25:11.881878Z",
     "shell.execute_reply": "2023-11-08T04:25:11.880781Z"
    },
    "papermill": {
     "duration": 1.233158,
     "end_time": "2023-11-08T04:25:11.884441",
     "exception": false,
     "start_time": "2023-11-08T04:25:10.651283",
     "status": "completed"
    },
    "tags": []
   },
   "outputs": [
    {
     "name": "stderr",
     "output_type": "stream",
     "text": [
      "/tmp/ipykernel_25/3244569454.py:1: DtypeWarning: Columns (19,20,22,23,64,65,80) have mixed types. Specify dtype option on import or set low_memory=False.\n",
      "  pd.read_csv('/kaggle/input/nyc311opendata//BX_18v1.csv')\n"
     ]
    },
    {
     "data": {
      "text/html": [
       "<div>\n",
       "<style scoped>\n",
       "    .dataframe tbody tr th:only-of-type {\n",
       "        vertical-align: middle;\n",
       "    }\n",
       "\n",
       "    .dataframe tbody tr th {\n",
       "        vertical-align: top;\n",
       "    }\n",
       "\n",
       "    .dataframe thead th {\n",
       "        text-align: right;\n",
       "    }\n",
       "</style>\n",
       "<table border=\"1\" class=\"dataframe\">\n",
       "  <thead>\n",
       "    <tr style=\"text-align: right;\">\n",
       "      <th></th>\n",
       "      <th>Borough</th>\n",
       "      <th>Block</th>\n",
       "      <th>Lot</th>\n",
       "      <th>CD</th>\n",
       "      <th>CT2010</th>\n",
       "      <th>CB2010</th>\n",
       "      <th>SchoolDist</th>\n",
       "      <th>Council</th>\n",
       "      <th>ZipCode</th>\n",
       "      <th>FireComp</th>\n",
       "      <th>...</th>\n",
       "      <th>ZMCode</th>\n",
       "      <th>Sanborn</th>\n",
       "      <th>TaxMap</th>\n",
       "      <th>EDesigNum</th>\n",
       "      <th>APPBBL</th>\n",
       "      <th>APPDate</th>\n",
       "      <th>PLUTOMapID</th>\n",
       "      <th>FIRM07_FLAG</th>\n",
       "      <th>PFIRM15_FLAG</th>\n",
       "      <th>Version</th>\n",
       "    </tr>\n",
       "  </thead>\n",
       "  <tbody>\n",
       "    <tr>\n",
       "      <th>0</th>\n",
       "      <td>BX</td>\n",
       "      <td>2260</td>\n",
       "      <td>1</td>\n",
       "      <td>201</td>\n",
       "      <td>19.0</td>\n",
       "      <td>1022.0</td>\n",
       "      <td>7.0</td>\n",
       "      <td>8.0</td>\n",
       "      <td>10454.0</td>\n",
       "      <td>L029</td>\n",
       "      <td>...</td>\n",
       "      <td>NaN</td>\n",
       "      <td>209S016</td>\n",
       "      <td>20901.0</td>\n",
       "      <td>E-143</td>\n",
       "      <td>0.0</td>\n",
       "      <td>NaN</td>\n",
       "      <td>1</td>\n",
       "      <td>NaN</td>\n",
       "      <td>NaN</td>\n",
       "      <td>18V1</td>\n",
       "    </tr>\n",
       "    <tr>\n",
       "      <th>1</th>\n",
       "      <td>BX</td>\n",
       "      <td>2260</td>\n",
       "      <td>4</td>\n",
       "      <td>201</td>\n",
       "      <td>19.0</td>\n",
       "      <td>1022.0</td>\n",
       "      <td>7.0</td>\n",
       "      <td>8.0</td>\n",
       "      <td>10454.0</td>\n",
       "      <td>L029</td>\n",
       "      <td>...</td>\n",
       "      <td>NaN</td>\n",
       "      <td>209S016</td>\n",
       "      <td>20901.0</td>\n",
       "      <td>E-143</td>\n",
       "      <td>0.0</td>\n",
       "      <td>NaN</td>\n",
       "      <td>1</td>\n",
       "      <td>NaN</td>\n",
       "      <td>NaN</td>\n",
       "      <td>18V1</td>\n",
       "    </tr>\n",
       "    <tr>\n",
       "      <th>2</th>\n",
       "      <td>BX</td>\n",
       "      <td>2260</td>\n",
       "      <td>10</td>\n",
       "      <td>201</td>\n",
       "      <td>19.0</td>\n",
       "      <td>1022.0</td>\n",
       "      <td>7.0</td>\n",
       "      <td>8.0</td>\n",
       "      <td>10454.0</td>\n",
       "      <td>L029</td>\n",
       "      <td>...</td>\n",
       "      <td>NaN</td>\n",
       "      <td>209S016</td>\n",
       "      <td>20901.0</td>\n",
       "      <td>E-143</td>\n",
       "      <td>0.0</td>\n",
       "      <td>NaN</td>\n",
       "      <td>1</td>\n",
       "      <td>NaN</td>\n",
       "      <td>NaN</td>\n",
       "      <td>18V1</td>\n",
       "    </tr>\n",
       "    <tr>\n",
       "      <th>3</th>\n",
       "      <td>BX</td>\n",
       "      <td>2260</td>\n",
       "      <td>17</td>\n",
       "      <td>201</td>\n",
       "      <td>19.0</td>\n",
       "      <td>1022.0</td>\n",
       "      <td>7.0</td>\n",
       "      <td>8.0</td>\n",
       "      <td>10454.0</td>\n",
       "      <td>L029</td>\n",
       "      <td>...</td>\n",
       "      <td>NaN</td>\n",
       "      <td>209S016</td>\n",
       "      <td>20901.0</td>\n",
       "      <td>E-143</td>\n",
       "      <td>0.0</td>\n",
       "      <td>NaN</td>\n",
       "      <td>1</td>\n",
       "      <td>NaN</td>\n",
       "      <td>NaN</td>\n",
       "      <td>18V1</td>\n",
       "    </tr>\n",
       "    <tr>\n",
       "      <th>4</th>\n",
       "      <td>BX</td>\n",
       "      <td>2260</td>\n",
       "      <td>18</td>\n",
       "      <td>201</td>\n",
       "      <td>19.0</td>\n",
       "      <td>1022.0</td>\n",
       "      <td>7.0</td>\n",
       "      <td>8.0</td>\n",
       "      <td>10454.0</td>\n",
       "      <td>L029</td>\n",
       "      <td>...</td>\n",
       "      <td>NaN</td>\n",
       "      <td>209S016</td>\n",
       "      <td>20901.0</td>\n",
       "      <td>E-143</td>\n",
       "      <td>0.0</td>\n",
       "      <td>NaN</td>\n",
       "      <td>1</td>\n",
       "      <td>NaN</td>\n",
       "      <td>NaN</td>\n",
       "      <td>18V1</td>\n",
       "    </tr>\n",
       "    <tr>\n",
       "      <th>...</th>\n",
       "      <td>...</td>\n",
       "      <td>...</td>\n",
       "      <td>...</td>\n",
       "      <td>...</td>\n",
       "      <td>...</td>\n",
       "      <td>...</td>\n",
       "      <td>...</td>\n",
       "      <td>...</td>\n",
       "      <td>...</td>\n",
       "      <td>...</td>\n",
       "      <td>...</td>\n",
       "      <td>...</td>\n",
       "      <td>...</td>\n",
       "      <td>...</td>\n",
       "      <td>...</td>\n",
       "      <td>...</td>\n",
       "      <td>...</td>\n",
       "      <td>...</td>\n",
       "      <td>...</td>\n",
       "      <td>...</td>\n",
       "      <td>...</td>\n",
       "    </tr>\n",
       "    <tr>\n",
       "      <th>89849</th>\n",
       "      <td>BX</td>\n",
       "      <td>9999</td>\n",
       "      <td>100</td>\n",
       "      <td>204</td>\n",
       "      <td>NaN</td>\n",
       "      <td>NaN</td>\n",
       "      <td>NaN</td>\n",
       "      <td>NaN</td>\n",
       "      <td>NaN</td>\n",
       "      <td>NaN</td>\n",
       "      <td>...</td>\n",
       "      <td>NaN</td>\n",
       "      <td>200 000</td>\n",
       "      <td>2.0</td>\n",
       "      <td>NaN</td>\n",
       "      <td>NaN</td>\n",
       "      <td>NaN</td>\n",
       "      <td>3</td>\n",
       "      <td>NaN</td>\n",
       "      <td>NaN</td>\n",
       "      <td>18V1</td>\n",
       "    </tr>\n",
       "    <tr>\n",
       "      <th>89850</th>\n",
       "      <td>BX</td>\n",
       "      <td>9999</td>\n",
       "      <td>150</td>\n",
       "      <td>205</td>\n",
       "      <td>NaN</td>\n",
       "      <td>NaN</td>\n",
       "      <td>NaN</td>\n",
       "      <td>NaN</td>\n",
       "      <td>NaN</td>\n",
       "      <td>NaN</td>\n",
       "      <td>...</td>\n",
       "      <td>NaN</td>\n",
       "      <td>200 000</td>\n",
       "      <td>2.0</td>\n",
       "      <td>NaN</td>\n",
       "      <td>NaN</td>\n",
       "      <td>NaN</td>\n",
       "      <td>3</td>\n",
       "      <td>NaN</td>\n",
       "      <td>NaN</td>\n",
       "      <td>18V1</td>\n",
       "    </tr>\n",
       "    <tr>\n",
       "      <th>89851</th>\n",
       "      <td>BX</td>\n",
       "      <td>9999</td>\n",
       "      <td>200</td>\n",
       "      <td>205</td>\n",
       "      <td>NaN</td>\n",
       "      <td>NaN</td>\n",
       "      <td>NaN</td>\n",
       "      <td>NaN</td>\n",
       "      <td>NaN</td>\n",
       "      <td>NaN</td>\n",
       "      <td>...</td>\n",
       "      <td>NaN</td>\n",
       "      <td>200 000</td>\n",
       "      <td>2.0</td>\n",
       "      <td>NaN</td>\n",
       "      <td>NaN</td>\n",
       "      <td>NaN</td>\n",
       "      <td>3</td>\n",
       "      <td>NaN</td>\n",
       "      <td>NaN</td>\n",
       "      <td>18V1</td>\n",
       "    </tr>\n",
       "    <tr>\n",
       "      <th>89852</th>\n",
       "      <td>BX</td>\n",
       "      <td>9999</td>\n",
       "      <td>8900</td>\n",
       "      <td>209</td>\n",
       "      <td>NaN</td>\n",
       "      <td>NaN</td>\n",
       "      <td>NaN</td>\n",
       "      <td>NaN</td>\n",
       "      <td>NaN</td>\n",
       "      <td>NaN</td>\n",
       "      <td>...</td>\n",
       "      <td>NaN</td>\n",
       "      <td>200 000</td>\n",
       "      <td>2.0</td>\n",
       "      <td>NaN</td>\n",
       "      <td>NaN</td>\n",
       "      <td>NaN</td>\n",
       "      <td>3</td>\n",
       "      <td>NaN</td>\n",
       "      <td>NaN</td>\n",
       "      <td>18V1</td>\n",
       "    </tr>\n",
       "    <tr>\n",
       "      <th>89853</th>\n",
       "      <td>BX</td>\n",
       "      <td>0</td>\n",
       "      <td>8900</td>\n",
       "      <td>208</td>\n",
       "      <td>NaN</td>\n",
       "      <td>NaN</td>\n",
       "      <td>NaN</td>\n",
       "      <td>NaN</td>\n",
       "      <td>NaN</td>\n",
       "      <td>NaN</td>\n",
       "      <td>...</td>\n",
       "      <td>NaN</td>\n",
       "      <td>NaN</td>\n",
       "      <td>NaN</td>\n",
       "      <td>NaN</td>\n",
       "      <td>NaN</td>\n",
       "      <td>NaN</td>\n",
       "      <td>3</td>\n",
       "      <td>NaN</td>\n",
       "      <td>NaN</td>\n",
       "      <td>18V1</td>\n",
       "    </tr>\n",
       "  </tbody>\n",
       "</table>\n",
       "<p>89854 rows × 87 columns</p>\n",
       "</div>"
      ],
      "text/plain": [
       "      Borough  Block   Lot   CD  CT2010  CB2010  SchoolDist  Council  ZipCode  \\\n",
       "0          BX   2260     1  201    19.0  1022.0         7.0      8.0  10454.0   \n",
       "1          BX   2260     4  201    19.0  1022.0         7.0      8.0  10454.0   \n",
       "2          BX   2260    10  201    19.0  1022.0         7.0      8.0  10454.0   \n",
       "3          BX   2260    17  201    19.0  1022.0         7.0      8.0  10454.0   \n",
       "4          BX   2260    18  201    19.0  1022.0         7.0      8.0  10454.0   \n",
       "...       ...    ...   ...  ...     ...     ...         ...      ...      ...   \n",
       "89849      BX   9999   100  204     NaN     NaN         NaN      NaN      NaN   \n",
       "89850      BX   9999   150  205     NaN     NaN         NaN      NaN      NaN   \n",
       "89851      BX   9999   200  205     NaN     NaN         NaN      NaN      NaN   \n",
       "89852      BX   9999  8900  209     NaN     NaN         NaN      NaN      NaN   \n",
       "89853      BX      0  8900  208     NaN     NaN         NaN      NaN      NaN   \n",
       "\n",
       "      FireComp  ...  ZMCode  Sanborn   TaxMap  EDesigNum  APPBBL APPDate  \\\n",
       "0         L029  ...     NaN  209S016  20901.0      E-143     0.0     NaN   \n",
       "1         L029  ...     NaN  209S016  20901.0      E-143     0.0     NaN   \n",
       "2         L029  ...     NaN  209S016  20901.0      E-143     0.0     NaN   \n",
       "3         L029  ...     NaN  209S016  20901.0      E-143     0.0     NaN   \n",
       "4         L029  ...     NaN  209S016  20901.0      E-143     0.0     NaN   \n",
       "...        ...  ...     ...      ...      ...        ...     ...     ...   \n",
       "89849      NaN  ...     NaN  200 000      2.0        NaN     NaN     NaN   \n",
       "89850      NaN  ...     NaN  200 000      2.0        NaN     NaN     NaN   \n",
       "89851      NaN  ...     NaN  200 000      2.0        NaN     NaN     NaN   \n",
       "89852      NaN  ...     NaN  200 000      2.0        NaN     NaN     NaN   \n",
       "89853      NaN  ...     NaN      NaN      NaN        NaN     NaN     NaN   \n",
       "\n",
       "      PLUTOMapID FIRM07_FLAG PFIRM15_FLAG Version  \n",
       "0              1         NaN          NaN    18V1  \n",
       "1              1         NaN          NaN    18V1  \n",
       "2              1         NaN          NaN    18V1  \n",
       "3              1         NaN          NaN    18V1  \n",
       "4              1         NaN          NaN    18V1  \n",
       "...          ...         ...          ...     ...  \n",
       "89849          3         NaN          NaN    18V1  \n",
       "89850          3         NaN          NaN    18V1  \n",
       "89851          3         NaN          NaN    18V1  \n",
       "89852          3         NaN          NaN    18V1  \n",
       "89853          3         NaN          NaN    18V1  \n",
       "\n",
       "[89854 rows x 87 columns]"
      ]
     },
     "execution_count": 39,
     "metadata": {},
     "output_type": "execute_result"
    }
   ],
   "source": [
    "pd.read_csv('/kaggle/input/nyc311opendata//BX_18v1.csv')"
   ]
  },
  {
   "cell_type": "code",
   "execution_count": 40,
   "id": "b1437ad7",
   "metadata": {
    "execution": {
     "iopub.execute_input": "2023-11-08T04:25:11.955138Z",
     "iopub.status.busy": "2023-11-08T04:25:11.954519Z",
     "iopub.status.idle": "2023-11-08T04:25:12.461534Z",
     "shell.execute_reply": "2023-11-08T04:25:12.460615Z"
    },
    "papermill": {
     "duration": 0.544759,
     "end_time": "2023-11-08T04:25:12.463835",
     "exception": false,
     "start_time": "2023-11-08T04:25:11.919076",
     "status": "completed"
    },
    "tags": []
   },
   "outputs": [
    {
     "data": {
      "text/html": [
       "<div>\n",
       "<style scoped>\n",
       "    .dataframe tbody tr th:only-of-type {\n",
       "        vertical-align: middle;\n",
       "    }\n",
       "\n",
       "    .dataframe tbody tr th {\n",
       "        vertical-align: top;\n",
       "    }\n",
       "\n",
       "    .dataframe thead th {\n",
       "        text-align: right;\n",
       "    }\n",
       "</style>\n",
       "<table border=\"1\" class=\"dataframe\">\n",
       "  <thead>\n",
       "    <tr style=\"text-align: right;\">\n",
       "      <th></th>\n",
       "      <th>Lot</th>\n",
       "      <th>ZipCode</th>\n",
       "      <th>Address</th>\n",
       "      <th>LotArea</th>\n",
       "      <th>BldgArea</th>\n",
       "      <th>ResArea</th>\n",
       "      <th>OfficeArea</th>\n",
       "      <th>RetailArea</th>\n",
       "      <th>NumBldgs</th>\n",
       "      <th>NumFloors</th>\n",
       "      <th>LotDepth</th>\n",
       "      <th>BldgDepth</th>\n",
       "      <th>YearBuilt</th>\n",
       "      <th>YearAlter1</th>\n",
       "      <th>BuiltFAR</th>\n",
       "      <th>ResidFAR</th>\n",
       "      <th>CommFAR</th>\n",
       "      <th>FacilFAR</th>\n",
       "      <th>XCoord</th>\n",
       "      <th>YCoord</th>\n",
       "    </tr>\n",
       "  </thead>\n",
       "  <tbody>\n",
       "    <tr>\n",
       "      <th>0</th>\n",
       "      <td>1</td>\n",
       "      <td>10454.0</td>\n",
       "      <td>122 BRUCKNER BOULEVARD</td>\n",
       "      <td>15000</td>\n",
       "      <td>0</td>\n",
       "      <td>0</td>\n",
       "      <td>0</td>\n",
       "      <td>0</td>\n",
       "      <td>1</td>\n",
       "      <td>0.0</td>\n",
       "      <td>200.0</td>\n",
       "      <td>0.0</td>\n",
       "      <td>0</td>\n",
       "      <td>0</td>\n",
       "      <td>0.00</td>\n",
       "      <td>6.02</td>\n",
       "      <td>5.0</td>\n",
       "      <td>6.5</td>\n",
       "      <td>1005957.0</td>\n",
       "      <td>232162.0</td>\n",
       "    </tr>\n",
       "    <tr>\n",
       "      <th>1</th>\n",
       "      <td>4</td>\n",
       "      <td>10454.0</td>\n",
       "      <td>126 BRUCKNER BOULEVARD</td>\n",
       "      <td>13770</td>\n",
       "      <td>752</td>\n",
       "      <td>0</td>\n",
       "      <td>272</td>\n",
       "      <td>0</td>\n",
       "      <td>2</td>\n",
       "      <td>1.0</td>\n",
       "      <td>100.0</td>\n",
       "      <td>16.0</td>\n",
       "      <td>1931</td>\n",
       "      <td>1994</td>\n",
       "      <td>0.05</td>\n",
       "      <td>6.02</td>\n",
       "      <td>5.0</td>\n",
       "      <td>6.5</td>\n",
       "      <td>1006076.0</td>\n",
       "      <td>232156.0</td>\n",
       "    </tr>\n",
       "    <tr>\n",
       "      <th>2</th>\n",
       "      <td>10</td>\n",
       "      <td>10454.0</td>\n",
       "      <td>138 BRUCKNER BOULEVARD</td>\n",
       "      <td>35000</td>\n",
       "      <td>39375</td>\n",
       "      <td>0</td>\n",
       "      <td>0</td>\n",
       "      <td>0</td>\n",
       "      <td>1</td>\n",
       "      <td>2.0</td>\n",
       "      <td>200.0</td>\n",
       "      <td>200.0</td>\n",
       "      <td>1931</td>\n",
       "      <td>0</td>\n",
       "      <td>1.13</td>\n",
       "      <td>6.02</td>\n",
       "      <td>5.0</td>\n",
       "      <td>6.5</td>\n",
       "      <td>1006187.0</td>\n",
       "      <td>232036.0</td>\n",
       "    </tr>\n",
       "    <tr>\n",
       "      <th>3</th>\n",
       "      <td>17</td>\n",
       "      <td>10454.0</td>\n",
       "      <td>144 BRUCKNER BOULEVARD</td>\n",
       "      <td>2500</td>\n",
       "      <td>12500</td>\n",
       "      <td>12500</td>\n",
       "      <td>0</td>\n",
       "      <td>0</td>\n",
       "      <td>1</td>\n",
       "      <td>5.0</td>\n",
       "      <td>100.0</td>\n",
       "      <td>85.0</td>\n",
       "      <td>1931</td>\n",
       "      <td>2001</td>\n",
       "      <td>5.00</td>\n",
       "      <td>6.02</td>\n",
       "      <td>5.0</td>\n",
       "      <td>6.5</td>\n",
       "      <td>1006299.0</td>\n",
       "      <td>232033.0</td>\n",
       "    </tr>\n",
       "    <tr>\n",
       "      <th>4</th>\n",
       "      <td>18</td>\n",
       "      <td>10454.0</td>\n",
       "      <td>148 BRUCKNER BOULEVARD</td>\n",
       "      <td>1875</td>\n",
       "      <td>8595</td>\n",
       "      <td>6876</td>\n",
       "      <td>0</td>\n",
       "      <td>1719</td>\n",
       "      <td>1</td>\n",
       "      <td>5.0</td>\n",
       "      <td>75.0</td>\n",
       "      <td>70.0</td>\n",
       "      <td>1920</td>\n",
       "      <td>2009</td>\n",
       "      <td>4.58</td>\n",
       "      <td>6.02</td>\n",
       "      <td>5.0</td>\n",
       "      <td>6.5</td>\n",
       "      <td>1006363.0</td>\n",
       "      <td>232040.0</td>\n",
       "    </tr>\n",
       "  </tbody>\n",
       "</table>\n",
       "</div>"
      ],
      "text/plain": [
       "   Lot  ZipCode                 Address  LotArea  BldgArea  ResArea  \\\n",
       "0    1  10454.0  122 BRUCKNER BOULEVARD    15000         0        0   \n",
       "1    4  10454.0  126 BRUCKNER BOULEVARD    13770       752        0   \n",
       "2   10  10454.0  138 BRUCKNER BOULEVARD    35000     39375        0   \n",
       "3   17  10454.0  144 BRUCKNER BOULEVARD     2500     12500    12500   \n",
       "4   18  10454.0  148 BRUCKNER BOULEVARD     1875      8595     6876   \n",
       "\n",
       "   OfficeArea  RetailArea  NumBldgs  NumFloors  LotDepth  BldgDepth  \\\n",
       "0           0           0         1        0.0     200.0        0.0   \n",
       "1         272           0         2        1.0     100.0       16.0   \n",
       "2           0           0         1        2.0     200.0      200.0   \n",
       "3           0           0         1        5.0     100.0       85.0   \n",
       "4           0        1719         1        5.0      75.0       70.0   \n",
       "\n",
       "   YearBuilt  YearAlter1  BuiltFAR  ResidFAR  CommFAR  FacilFAR     XCoord  \\\n",
       "0          0           0      0.00      6.02      5.0       6.5  1005957.0   \n",
       "1       1931        1994      0.05      6.02      5.0       6.5  1006076.0   \n",
       "2       1931           0      1.13      6.02      5.0       6.5  1006187.0   \n",
       "3       1931        2001      5.00      6.02      5.0       6.5  1006299.0   \n",
       "4       1920        2009      4.58      6.02      5.0       6.5  1006363.0   \n",
       "\n",
       "     YCoord  \n",
       "0  232162.0  \n",
       "1  232156.0  \n",
       "2  232036.0  \n",
       "3  232033.0  \n",
       "4  232040.0  "
      ]
     },
     "execution_count": 40,
     "metadata": {},
     "output_type": "execute_result"
    }
   ],
   "source": [
    " columns = ['Address', 'BldgArea', 'BldgDepth', 'BuiltFAR', 'CommFAR', 'FacilFAR', 'Lot', 'LotArea', 'LotDepth', \n",
    "           'NumBldgs', 'NumFloors', 'OfficeArea', 'ResArea', 'ResidFAR', 'RetailArea', 'YearBuilt', 'YearAlter1', \n",
    "           'ZipCode', 'YCoord', 'XCoord']\n",
    "\n",
    "bronx_pluto_data = pd.read_csv('/kaggle/input/nyc311opendata//BX_18v1.csv', usecols = columns)\n",
    "bronx_pluto_data.head()"
   ]
  },
  {
   "cell_type": "code",
   "execution_count": 41,
   "id": "6368dd90",
   "metadata": {
    "execution": {
     "iopub.execute_input": "2023-11-08T04:25:12.536237Z",
     "iopub.status.busy": "2023-11-08T04:25:12.535315Z",
     "iopub.status.idle": "2023-11-08T04:25:12.541805Z",
     "shell.execute_reply": "2023-11-08T04:25:12.540920Z"
    },
    "papermill": {
     "duration": 0.045426,
     "end_time": "2023-11-08T04:25:12.543974",
     "exception": false,
     "start_time": "2023-11-08T04:25:12.498548",
     "status": "completed"
    },
    "tags": []
   },
   "outputs": [
    {
     "data": {
      "text/plain": [
       "(89854, 20)"
      ]
     },
     "execution_count": 41,
     "metadata": {},
     "output_type": "execute_result"
    }
   ],
   "source": [
    "bronx_pluto_data.shape"
   ]
  },
  {
   "cell_type": "markdown",
   "id": "b6970d47",
   "metadata": {
    "papermill": {
     "duration": 0.034512,
     "end_time": "2023-11-08T04:25:12.612772",
     "exception": false,
     "start_time": "2023-11-08T04:25:12.578260",
     "status": "completed"
    },
    "tags": []
   },
   "source": [
    "Dropping missing values from bronx pluto data"
   ]
  },
  {
   "cell_type": "code",
   "execution_count": 42,
   "id": "babc2ab7",
   "metadata": {
    "execution": {
     "iopub.execute_input": "2023-11-08T04:25:12.687029Z",
     "iopub.status.busy": "2023-11-08T04:25:12.686310Z",
     "iopub.status.idle": "2023-11-08T04:25:12.702728Z",
     "shell.execute_reply": "2023-11-08T04:25:12.701786Z"
    },
    "papermill": {
     "duration": 0.056861,
     "end_time": "2023-11-08T04:25:12.704946",
     "exception": false,
     "start_time": "2023-11-08T04:25:12.648085",
     "status": "completed"
    },
    "tags": []
   },
   "outputs": [
    {
     "data": {
      "text/plain": [
       "69"
      ]
     },
     "execution_count": 42,
     "metadata": {},
     "output_type": "execute_result"
    }
   ],
   "source": [
    "bronx_pluto_data['Address'].isnull().sum()"
   ]
  },
  {
   "cell_type": "code",
   "execution_count": 43,
   "id": "28bda1e1",
   "metadata": {
    "execution": {
     "iopub.execute_input": "2023-11-08T04:25:12.776980Z",
     "iopub.status.busy": "2023-11-08T04:25:12.776131Z",
     "iopub.status.idle": "2023-11-08T04:25:12.810160Z",
     "shell.execute_reply": "2023-11-08T04:25:12.809164Z"
    },
    "papermill": {
     "duration": 0.072506,
     "end_time": "2023-11-08T04:25:12.812346",
     "exception": false,
     "start_time": "2023-11-08T04:25:12.739840",
     "status": "completed"
    },
    "tags": []
   },
   "outputs": [
    {
     "data": {
      "text/plain": [
       "0"
      ]
     },
     "execution_count": 43,
     "metadata": {},
     "output_type": "execute_result"
    }
   ],
   "source": [
    "bronx_pluto_data.dropna(subset = ['Address'], axis = 0, inplace = True)\n",
    "bronx_pluto_data['Address'].isnull().sum()"
   ]
  },
  {
   "cell_type": "code",
   "execution_count": 44,
   "id": "ffc08f61",
   "metadata": {
    "execution": {
     "iopub.execute_input": "2023-11-08T04:25:12.887680Z",
     "iopub.status.busy": "2023-11-08T04:25:12.886868Z",
     "iopub.status.idle": "2023-11-08T04:25:13.507642Z",
     "shell.execute_reply": "2023-11-08T04:25:13.506655Z"
    },
    "papermill": {
     "duration": 0.662483,
     "end_time": "2023-11-08T04:25:13.509840",
     "exception": false,
     "start_time": "2023-11-08T04:25:12.847357",
     "status": "completed"
    },
    "tags": []
   },
   "outputs": [
    {
     "data": {
      "text/plain": [
       "(2037846, 16)"
      ]
     },
     "execution_count": 44,
     "metadata": {},
     "output_type": "execute_result"
    }
   ],
   "source": [
    "heat_complaint_data.dropna(subset =['incident_address'], axis=0, inplace = True)# dropping rows where instance address is null\n",
    "heat_complaint_data.shape"
   ]
  },
  {
   "cell_type": "code",
   "execution_count": 45,
   "id": "6f52e2a7",
   "metadata": {
    "execution": {
     "iopub.execute_input": "2023-11-08T04:25:13.583770Z",
     "iopub.status.busy": "2023-11-08T04:25:13.583345Z",
     "iopub.status.idle": "2023-11-08T04:25:15.831518Z",
     "shell.execute_reply": "2023-11-08T04:25:15.830449Z"
    },
    "papermill": {
     "duration": 2.288677,
     "end_time": "2023-11-08T04:25:15.834174",
     "exception": false,
     "start_time": "2023-11-08T04:25:13.545497",
     "status": "completed"
    },
    "tags": []
   },
   "outputs": [
    {
     "data": {
      "text/plain": [
       "((132942, 1),\n",
       "                            Complaints #\n",
       " incident_address                       \n",
       " 34 ARDEN STREET                   13814\n",
       " 89-21 ELMHURST AVENUE             10139\n",
       " 3810 BAILEY AVENUE                 7112\n",
       " 1025 BOYNTON AVENUE                5773\n",
       " 9511 SHORE ROAD                    4396\n",
       " ...                                 ...\n",
       " 29 SKILLMAN AVENUE                    1\n",
       " 29 ST MARKS AVENUE                    1\n",
       " 29 VAN BRUNT STREET                   1\n",
       " 29 WASHINGTON SQUARE WEST             1\n",
       " UNKNOWN                               1\n",
       " \n",
       " [132942 rows x 1 columns])"
      ]
     },
     "execution_count": 45,
     "metadata": {},
     "output_type": "execute_result"
    }
   ],
   "source": [
    "bronx_heat_complaint_data = heat_complaint_data.groupby('incident_address').count()['borough'].to_frame()\n",
    "\n",
    "bronx_heat_complaint_data.columns = ['Complaints #']\n",
    "bronx_heat_complaint_data.shape, bronx_heat_complaint_data.sort_values(by='Complaints #', ascending=False)"
   ]
  },
  {
   "cell_type": "code",
   "execution_count": 46,
   "id": "7ee638ed",
   "metadata": {
    "execution": {
     "iopub.execute_input": "2023-11-08T04:25:15.912827Z",
     "iopub.status.busy": "2023-11-08T04:25:15.912052Z",
     "iopub.status.idle": "2023-11-08T04:25:15.968256Z",
     "shell.execute_reply": "2023-11-08T04:25:15.967389Z"
    },
    "papermill": {
     "duration": 0.097479,
     "end_time": "2023-11-08T04:25:15.970201",
     "exception": false,
     "start_time": "2023-11-08T04:25:15.872722",
     "status": "completed"
    },
    "tags": []
   },
   "outputs": [
    {
     "data": {
      "text/plain": [
       "Address\n",
       "SHORE DRIVE            42\n",
       "PALISADE AVENUE        37\n",
       "PARK AVENUE            35\n",
       "WHITE PLAINS ROAD      35\n",
       "BRUCKNER BOULEVARD     34\n",
       "                       ..\n",
       "2069 LACOMBE AVENUE     1\n",
       "2071 LACOMBE AVENUE     1\n",
       "2073 LACOMBE AVENUE     1\n",
       "2075 LACOMBE AVENUE     1\n",
       "GOLD STREET             1\n",
       "Name: count, Length: 87017, dtype: int64"
      ]
     },
     "execution_count": 46,
     "metadata": {},
     "output_type": "execute_result"
    }
   ],
   "source": [
    "bronx_pluto_data['Address'].value_counts() "
   ]
  },
  {
   "cell_type": "markdown",
   "id": "63f0ae67",
   "metadata": {
    "papermill": {
     "duration": 0.034426,
     "end_time": "2023-11-08T04:25:16.039511",
     "exception": false,
     "start_time": "2023-11-08T04:25:16.005085",
     "status": "completed"
    },
    "tags": []
   },
   "source": [
    "We have to remove duplicate addresses"
   ]
  },
  {
   "cell_type": "code",
   "execution_count": 47,
   "id": "1a031db2",
   "metadata": {
    "execution": {
     "iopub.execute_input": "2023-11-08T04:25:16.109511Z",
     "iopub.status.busy": "2023-11-08T04:25:16.109132Z",
     "iopub.status.idle": "2023-11-08T04:25:16.128059Z",
     "shell.execute_reply": "2023-11-08T04:25:16.127105Z"
    },
    "papermill": {
     "duration": 0.056574,
     "end_time": "2023-11-08T04:25:16.130324",
     "exception": false,
     "start_time": "2023-11-08T04:25:16.073750",
     "status": "completed"
    },
    "tags": []
   },
   "outputs": [],
   "source": [
    "bronx_pluto_data.drop_duplicates(subset = 'Address', keep = 'first', inplace = True)"
   ]
  },
  {
   "cell_type": "code",
   "execution_count": 48,
   "id": "2914bb91",
   "metadata": {
    "execution": {
     "iopub.execute_input": "2023-11-08T04:25:16.202569Z",
     "iopub.status.busy": "2023-11-08T04:25:16.201834Z",
     "iopub.status.idle": "2023-11-08T04:25:16.256919Z",
     "shell.execute_reply": "2023-11-08T04:25:16.256014Z"
    },
    "papermill": {
     "duration": 0.093786,
     "end_time": "2023-11-08T04:25:16.259096",
     "exception": false,
     "start_time": "2023-11-08T04:25:16.165310",
     "status": "completed"
    },
    "tags": []
   },
   "outputs": [
    {
     "data": {
      "text/plain": [
       "Address\n",
       "122 BRUCKNER BOULEVARD    1\n",
       "1423 NEEDHAM AVENUE       1\n",
       "1407 NEEDHAM AVENUE       1\n",
       "1409 NEEDHAM AVENUE       1\n",
       "1411 NEEDHAM AVENUE       1\n",
       "                         ..\n",
       "522 LELAND AVENUE         1\n",
       "520 LELAND AVENUE         1\n",
       "518 LELAND AVENUE         1\n",
       "516 LELAND AVENUE         1\n",
       "GOLD STREET               1\n",
       "Name: count, Length: 87017, dtype: int64"
      ]
     },
     "execution_count": 48,
     "metadata": {},
     "output_type": "execute_result"
    }
   ],
   "source": [
    "bronx_pluto_data['Address'].value_counts() "
   ]
  },
  {
   "cell_type": "code",
   "execution_count": 49,
   "id": "c2b024e9",
   "metadata": {
    "execution": {
     "iopub.execute_input": "2023-11-08T04:25:16.331661Z",
     "iopub.status.busy": "2023-11-08T04:25:16.331332Z",
     "iopub.status.idle": "2023-11-08T04:25:16.336987Z",
     "shell.execute_reply": "2023-11-08T04:25:16.336170Z"
    },
    "papermill": {
     "duration": 0.044034,
     "end_time": "2023-11-08T04:25:16.339046",
     "exception": false,
     "start_time": "2023-11-08T04:25:16.295012",
     "status": "completed"
    },
    "tags": []
   },
   "outputs": [
    {
     "data": {
      "text/plain": [
       "(87017, 20)"
      ]
     },
     "execution_count": 49,
     "metadata": {},
     "output_type": "execute_result"
    }
   ],
   "source": [
    "bronx_pluto_data.shape"
   ]
  },
  {
   "cell_type": "code",
   "execution_count": 50,
   "id": "bbe87c30",
   "metadata": {
    "execution": {
     "iopub.execute_input": "2023-11-08T04:25:16.412759Z",
     "iopub.status.busy": "2023-11-08T04:25:16.412433Z",
     "iopub.status.idle": "2023-11-08T04:25:16.551422Z",
     "shell.execute_reply": "2023-11-08T04:25:16.550393Z"
    },
    "papermill": {
     "duration": 0.178193,
     "end_time": "2023-11-08T04:25:16.553459",
     "exception": false,
     "start_time": "2023-11-08T04:25:16.375266",
     "status": "completed"
    },
    "tags": []
   },
   "outputs": [
    {
     "data": {
      "text/html": [
       "<div>\n",
       "<style scoped>\n",
       "    .dataframe tbody tr th:only-of-type {\n",
       "        vertical-align: middle;\n",
       "    }\n",
       "\n",
       "    .dataframe tbody tr th {\n",
       "        vertical-align: top;\n",
       "    }\n",
       "\n",
       "    .dataframe thead th {\n",
       "        text-align: right;\n",
       "    }\n",
       "</style>\n",
       "<table border=\"1\" class=\"dataframe\">\n",
       "  <thead>\n",
       "    <tr style=\"text-align: right;\">\n",
       "      <th></th>\n",
       "      <th>Complaints #</th>\n",
       "      <th>Lot</th>\n",
       "      <th>ZipCode</th>\n",
       "      <th>Address</th>\n",
       "      <th>LotArea</th>\n",
       "      <th>BldgArea</th>\n",
       "      <th>ResArea</th>\n",
       "      <th>OfficeArea</th>\n",
       "      <th>RetailArea</th>\n",
       "      <th>NumBldgs</th>\n",
       "      <th>...</th>\n",
       "      <th>LotDepth</th>\n",
       "      <th>BldgDepth</th>\n",
       "      <th>YearBuilt</th>\n",
       "      <th>YearAlter1</th>\n",
       "      <th>BuiltFAR</th>\n",
       "      <th>ResidFAR</th>\n",
       "      <th>CommFAR</th>\n",
       "      <th>FacilFAR</th>\n",
       "      <th>XCoord</th>\n",
       "      <th>YCoord</th>\n",
       "    </tr>\n",
       "  </thead>\n",
       "  <tbody>\n",
       "    <tr>\n",
       "      <th>0</th>\n",
       "      <td>NaN</td>\n",
       "      <td>1</td>\n",
       "      <td>10454.0</td>\n",
       "      <td>122 BRUCKNER BOULEVARD</td>\n",
       "      <td>15000</td>\n",
       "      <td>0</td>\n",
       "      <td>0</td>\n",
       "      <td>0</td>\n",
       "      <td>0</td>\n",
       "      <td>1</td>\n",
       "      <td>...</td>\n",
       "      <td>200.0</td>\n",
       "      <td>0.0</td>\n",
       "      <td>0</td>\n",
       "      <td>0</td>\n",
       "      <td>0.00</td>\n",
       "      <td>6.02</td>\n",
       "      <td>5.0</td>\n",
       "      <td>6.5</td>\n",
       "      <td>1005957.0</td>\n",
       "      <td>232162.0</td>\n",
       "    </tr>\n",
       "    <tr>\n",
       "      <th>1</th>\n",
       "      <td>NaN</td>\n",
       "      <td>4</td>\n",
       "      <td>10454.0</td>\n",
       "      <td>126 BRUCKNER BOULEVARD</td>\n",
       "      <td>13770</td>\n",
       "      <td>752</td>\n",
       "      <td>0</td>\n",
       "      <td>272</td>\n",
       "      <td>0</td>\n",
       "      <td>2</td>\n",
       "      <td>...</td>\n",
       "      <td>100.0</td>\n",
       "      <td>16.0</td>\n",
       "      <td>1931</td>\n",
       "      <td>1994</td>\n",
       "      <td>0.05</td>\n",
       "      <td>6.02</td>\n",
       "      <td>5.0</td>\n",
       "      <td>6.5</td>\n",
       "      <td>1006076.0</td>\n",
       "      <td>232156.0</td>\n",
       "    </tr>\n",
       "    <tr>\n",
       "      <th>2</th>\n",
       "      <td>NaN</td>\n",
       "      <td>10</td>\n",
       "      <td>10454.0</td>\n",
       "      <td>138 BRUCKNER BOULEVARD</td>\n",
       "      <td>35000</td>\n",
       "      <td>39375</td>\n",
       "      <td>0</td>\n",
       "      <td>0</td>\n",
       "      <td>0</td>\n",
       "      <td>1</td>\n",
       "      <td>...</td>\n",
       "      <td>200.0</td>\n",
       "      <td>200.0</td>\n",
       "      <td>1931</td>\n",
       "      <td>0</td>\n",
       "      <td>1.13</td>\n",
       "      <td>6.02</td>\n",
       "      <td>5.0</td>\n",
       "      <td>6.5</td>\n",
       "      <td>1006187.0</td>\n",
       "      <td>232036.0</td>\n",
       "    </tr>\n",
       "    <tr>\n",
       "      <th>3</th>\n",
       "      <td>2.0</td>\n",
       "      <td>17</td>\n",
       "      <td>10454.0</td>\n",
       "      <td>144 BRUCKNER BOULEVARD</td>\n",
       "      <td>2500</td>\n",
       "      <td>12500</td>\n",
       "      <td>12500</td>\n",
       "      <td>0</td>\n",
       "      <td>0</td>\n",
       "      <td>1</td>\n",
       "      <td>...</td>\n",
       "      <td>100.0</td>\n",
       "      <td>85.0</td>\n",
       "      <td>1931</td>\n",
       "      <td>2001</td>\n",
       "      <td>5.00</td>\n",
       "      <td>6.02</td>\n",
       "      <td>5.0</td>\n",
       "      <td>6.5</td>\n",
       "      <td>1006299.0</td>\n",
       "      <td>232033.0</td>\n",
       "    </tr>\n",
       "    <tr>\n",
       "      <th>4</th>\n",
       "      <td>13.0</td>\n",
       "      <td>18</td>\n",
       "      <td>10454.0</td>\n",
       "      <td>148 BRUCKNER BOULEVARD</td>\n",
       "      <td>1875</td>\n",
       "      <td>8595</td>\n",
       "      <td>6876</td>\n",
       "      <td>0</td>\n",
       "      <td>1719</td>\n",
       "      <td>1</td>\n",
       "      <td>...</td>\n",
       "      <td>75.0</td>\n",
       "      <td>70.0</td>\n",
       "      <td>1920</td>\n",
       "      <td>2009</td>\n",
       "      <td>4.58</td>\n",
       "      <td>6.02</td>\n",
       "      <td>5.0</td>\n",
       "      <td>6.5</td>\n",
       "      <td>1006363.0</td>\n",
       "      <td>232040.0</td>\n",
       "    </tr>\n",
       "  </tbody>\n",
       "</table>\n",
       "<p>5 rows × 21 columns</p>\n",
       "</div>"
      ],
      "text/plain": [
       "   Complaints #  Lot  ZipCode                 Address  LotArea  BldgArea  \\\n",
       "0           NaN    1  10454.0  122 BRUCKNER BOULEVARD    15000         0   \n",
       "1           NaN    4  10454.0  126 BRUCKNER BOULEVARD    13770       752   \n",
       "2           NaN   10  10454.0  138 BRUCKNER BOULEVARD    35000     39375   \n",
       "3           2.0   17  10454.0  144 BRUCKNER BOULEVARD     2500     12500   \n",
       "4          13.0   18  10454.0  148 BRUCKNER BOULEVARD     1875      8595   \n",
       "\n",
       "   ResArea  OfficeArea  RetailArea  NumBldgs  ...  LotDepth  BldgDepth  \\\n",
       "0        0           0           0         1  ...     200.0        0.0   \n",
       "1        0         272           0         2  ...     100.0       16.0   \n",
       "2        0           0           0         1  ...     200.0      200.0   \n",
       "3    12500           0           0         1  ...     100.0       85.0   \n",
       "4     6876           0        1719         1  ...      75.0       70.0   \n",
       "\n",
       "   YearBuilt  YearAlter1  BuiltFAR  ResidFAR  CommFAR  FacilFAR     XCoord  \\\n",
       "0          0           0      0.00      6.02      5.0       6.5  1005957.0   \n",
       "1       1931        1994      0.05      6.02      5.0       6.5  1006076.0   \n",
       "2       1931           0      1.13      6.02      5.0       6.5  1006187.0   \n",
       "3       1931        2001      5.00      6.02      5.0       6.5  1006299.0   \n",
       "4       1920        2009      4.58      6.02      5.0       6.5  1006363.0   \n",
       "\n",
       "     YCoord  \n",
       "0  232162.0  \n",
       "1  232156.0  \n",
       "2  232036.0  \n",
       "3  232033.0  \n",
       "4  232040.0  \n",
       "\n",
       "[5 rows x 21 columns]"
      ]
     },
     "execution_count": 50,
     "metadata": {},
     "output_type": "execute_result"
    }
   ],
   "source": [
    "merged_data = pd.merge(bronx_heat_complaint_data, bronx_pluto_data, right_on = 'Address', left_index = True, how = 'right')\n",
    "merged_data.head()"
   ]
  },
  {
   "cell_type": "code",
   "execution_count": 51,
   "id": "d95f2ec7",
   "metadata": {
    "execution": {
     "iopub.execute_input": "2023-11-08T04:25:16.625341Z",
     "iopub.status.busy": "2023-11-08T04:25:16.625016Z",
     "iopub.status.idle": "2023-11-08T04:25:16.631103Z",
     "shell.execute_reply": "2023-11-08T04:25:16.630266Z"
    },
    "papermill": {
     "duration": 0.043814,
     "end_time": "2023-11-08T04:25:16.632952",
     "exception": false,
     "start_time": "2023-11-08T04:25:16.589138",
     "status": "completed"
    },
    "tags": []
   },
   "outputs": [
    {
     "data": {
      "text/plain": [
       "Index(['Complaints #', 'Lot', 'ZipCode', 'Address', 'LotArea', 'BldgArea',\n",
       "       'ResArea', 'OfficeArea', 'RetailArea', 'NumBldgs', 'NumFloors',\n",
       "       'LotDepth', 'BldgDepth', 'YearBuilt', 'YearAlter1', 'BuiltFAR',\n",
       "       'ResidFAR', 'CommFAR', 'FacilFAR', 'XCoord', 'YCoord'],\n",
       "      dtype='object')"
      ]
     },
     "execution_count": 51,
     "metadata": {},
     "output_type": "execute_result"
    }
   ],
   "source": [
    "merged_data.columns"
   ]
  },
  {
   "cell_type": "markdown",
   "id": "8ddee196",
   "metadata": {
    "papermill": {
     "duration": 0.034665,
     "end_time": "2023-11-08T04:25:16.703165",
     "exception": false,
     "start_time": "2023-11-08T04:25:16.668500",
     "status": "completed"
    },
    "tags": []
   },
   "source": [
    "lets measure linear correlation between complaints and other attributes"
   ]
  },
  {
   "cell_type": "code",
   "execution_count": 52,
   "id": "046a5292",
   "metadata": {
    "execution": {
     "iopub.execute_input": "2023-11-08T04:25:16.775709Z",
     "iopub.status.busy": "2023-11-08T04:25:16.775354Z",
     "iopub.status.idle": "2023-11-08T04:25:17.014189Z",
     "shell.execute_reply": "2023-11-08T04:25:17.013240Z"
    },
    "papermill": {
     "duration": 0.278275,
     "end_time": "2023-11-08T04:25:17.016288",
     "exception": false,
     "start_time": "2023-11-08T04:25:16.738013",
     "status": "completed"
    },
    "tags": []
   },
   "outputs": [
    {
     "data": {
      "text/html": [
       "<style type=\"text/css\">\n",
       "#T_c6bb0_row0_col0 {\n",
       "  background-color: #67000d;\n",
       "  color: #f1f1f1;\n",
       "}\n",
       "#T_c6bb0_row1_col0 {\n",
       "  background-color: #fc9d7f;\n",
       "  color: #000000;\n",
       "}\n",
       "#T_c6bb0_row2_col0 {\n",
       "  background-color: #fcab8f;\n",
       "  color: #000000;\n",
       "}\n",
       "#T_c6bb0_row3_col0 {\n",
       "  background-color: #fcae92;\n",
       "  color: #000000;\n",
       "}\n",
       "#T_c6bb0_row4_col0, #T_c6bb0_row5_col0 {\n",
       "  background-color: #fcb89e;\n",
       "  color: #000000;\n",
       "}\n",
       "#T_c6bb0_row6_col0 {\n",
       "  background-color: #fcbca2;\n",
       "  color: #000000;\n",
       "}\n",
       "#T_c6bb0_row7_col0 {\n",
       "  background-color: #fcc1a8;\n",
       "  color: #000000;\n",
       "}\n",
       "#T_c6bb0_row8_col0 {\n",
       "  background-color: #fdd1be;\n",
       "  color: #000000;\n",
       "}\n",
       "#T_c6bb0_row9_col0 {\n",
       "  background-color: #fdd5c4;\n",
       "  color: #000000;\n",
       "}\n",
       "#T_c6bb0_row10_col0 {\n",
       "  background-color: #fedccd;\n",
       "  color: #000000;\n",
       "}\n",
       "#T_c6bb0_row11_col0 {\n",
       "  background-color: #fedfd0;\n",
       "  color: #000000;\n",
       "}\n",
       "#T_c6bb0_row12_col0 {\n",
       "  background-color: #fee3d6;\n",
       "  color: #000000;\n",
       "}\n",
       "#T_c6bb0_row13_col0, #T_c6bb0_row14_col0 {\n",
       "  background-color: #fee4d8;\n",
       "  color: #000000;\n",
       "}\n",
       "#T_c6bb0_row15_col0 {\n",
       "  background-color: #fee5d8;\n",
       "  color: #000000;\n",
       "}\n",
       "#T_c6bb0_row16_col0 {\n",
       "  background-color: #fee5d9;\n",
       "  color: #000000;\n",
       "}\n",
       "#T_c6bb0_row17_col0 {\n",
       "  background-color: #fee7dc;\n",
       "  color: #000000;\n",
       "}\n",
       "#T_c6bb0_row18_col0 {\n",
       "  background-color: #ffefe8;\n",
       "  color: #000000;\n",
       "}\n",
       "#T_c6bb0_row19_col0 {\n",
       "  background-color: #fff5f0;\n",
       "  color: #000000;\n",
       "}\n",
       "</style>\n",
       "<table id=\"T_c6bb0\">\n",
       "  <thead>\n",
       "    <tr>\n",
       "      <th class=\"blank level0\" >&nbsp;</th>\n",
       "      <th id=\"T_c6bb0_level0_col0\" class=\"col_heading level0 col0\" >Complaints #</th>\n",
       "    </tr>\n",
       "  </thead>\n",
       "  <tbody>\n",
       "    <tr>\n",
       "      <th id=\"T_c6bb0_level0_row0\" class=\"row_heading level0 row0\" >Complaints #</th>\n",
       "      <td id=\"T_c6bb0_row0_col0\" class=\"data row0 col0\" >1.000000</td>\n",
       "    </tr>\n",
       "    <tr>\n",
       "      <th id=\"T_c6bb0_level0_row1\" class=\"row_heading level0 row1\" >NumFloors</th>\n",
       "      <td id=\"T_c6bb0_row1_col0\" class=\"data row1 col0\" >0.263560</td>\n",
       "    </tr>\n",
       "    <tr>\n",
       "      <th id=\"T_c6bb0_level0_row2\" class=\"row_heading level0 row2\" >BldgDepth</th>\n",
       "      <td id=\"T_c6bb0_row2_col0\" class=\"data row2 col0\" >0.215916</td>\n",
       "    </tr>\n",
       "    <tr>\n",
       "      <th id=\"T_c6bb0_level0_row3\" class=\"row_heading level0 row3\" >ResArea</th>\n",
       "      <td id=\"T_c6bb0_row3_col0\" class=\"data row3 col0\" >0.210359</td>\n",
       "    </tr>\n",
       "    <tr>\n",
       "      <th id=\"T_c6bb0_level0_row4\" class=\"row_heading level0 row4\" >BldgArea</th>\n",
       "      <td id=\"T_c6bb0_row4_col0\" class=\"data row4 col0\" >0.174359</td>\n",
       "    </tr>\n",
       "    <tr>\n",
       "      <th id=\"T_c6bb0_level0_row5\" class=\"row_heading level0 row5\" >BuiltFAR</th>\n",
       "      <td id=\"T_c6bb0_row5_col0\" class=\"data row5 col0\" >0.172603</td>\n",
       "    </tr>\n",
       "    <tr>\n",
       "      <th id=\"T_c6bb0_level0_row6\" class=\"row_heading level0 row6\" >ResidFAR</th>\n",
       "      <td id=\"T_c6bb0_row6_col0\" class=\"data row6 col0\" >0.162701</td>\n",
       "    </tr>\n",
       "    <tr>\n",
       "      <th id=\"T_c6bb0_level0_row7\" class=\"row_heading level0 row7\" >FacilFAR</th>\n",
       "      <td id=\"T_c6bb0_row7_col0\" class=\"data row7 col0\" >0.145359</td>\n",
       "    </tr>\n",
       "    <tr>\n",
       "      <th id=\"T_c6bb0_level0_row8\" class=\"row_heading level0 row8\" >LotDepth</th>\n",
       "      <td id=\"T_c6bb0_row8_col0\" class=\"data row8 col0\" >0.081989</td>\n",
       "    </tr>\n",
       "    <tr>\n",
       "      <th id=\"T_c6bb0_level0_row9\" class=\"row_heading level0 row9\" >YearAlter1</th>\n",
       "      <td id=\"T_c6bb0_row9_col0\" class=\"data row9 col0\" >0.065679</td>\n",
       "    </tr>\n",
       "    <tr>\n",
       "      <th id=\"T_c6bb0_level0_row10\" class=\"row_heading level0 row10\" >LotArea</th>\n",
       "      <td id=\"T_c6bb0_row10_col0\" class=\"data row10 col0\" >0.040780</td>\n",
       "    </tr>\n",
       "    <tr>\n",
       "      <th id=\"T_c6bb0_level0_row11\" class=\"row_heading level0 row11\" >RetailArea</th>\n",
       "      <td id=\"T_c6bb0_row11_col0\" class=\"data row11 col0\" >0.028323</td>\n",
       "    </tr>\n",
       "    <tr>\n",
       "      <th id=\"T_c6bb0_level0_row12\" class=\"row_heading level0 row12\" >YearBuilt</th>\n",
       "      <td id=\"T_c6bb0_row12_col0\" class=\"data row12 col0\" >0.007126</td>\n",
       "    </tr>\n",
       "    <tr>\n",
       "      <th id=\"T_c6bb0_level0_row13\" class=\"row_heading level0 row13\" >YCoord</th>\n",
       "      <td id=\"T_c6bb0_row13_col0\" class=\"data row13 col0\" >0.000586</td>\n",
       "    </tr>\n",
       "    <tr>\n",
       "      <th id=\"T_c6bb0_level0_row14\" class=\"row_heading level0 row14\" >Lot</th>\n",
       "      <td id=\"T_c6bb0_row14_col0\" class=\"data row14 col0\" >-0.000916</td>\n",
       "    </tr>\n",
       "    <tr>\n",
       "      <th id=\"T_c6bb0_level0_row15\" class=\"row_heading level0 row15\" >OfficeArea</th>\n",
       "      <td id=\"T_c6bb0_row15_col0\" class=\"data row15 col0\" >-0.005771</td>\n",
       "    </tr>\n",
       "    <tr>\n",
       "      <th id=\"T_c6bb0_level0_row16\" class=\"row_heading level0 row16\" >CommFAR</th>\n",
       "      <td id=\"T_c6bb0_row16_col0\" class=\"data row16 col0\" >-0.007909</td>\n",
       "    </tr>\n",
       "    <tr>\n",
       "      <th id=\"T_c6bb0_level0_row17\" class=\"row_heading level0 row17\" >NumBldgs</th>\n",
       "      <td id=\"T_c6bb0_row17_col0\" class=\"data row17 col0\" >-0.020291</td>\n",
       "    </tr>\n",
       "    <tr>\n",
       "      <th id=\"T_c6bb0_level0_row18\" class=\"row_heading level0 row18\" >ZipCode</th>\n",
       "      <td id=\"T_c6bb0_row18_col0\" class=\"data row18 col0\" >-0.074453</td>\n",
       "    </tr>\n",
       "    <tr>\n",
       "      <th id=\"T_c6bb0_level0_row19\" class=\"row_heading level0 row19\" >XCoord</th>\n",
       "      <td id=\"T_c6bb0_row19_col0\" class=\"data row19 col0\" >-0.116159</td>\n",
       "    </tr>\n",
       "  </tbody>\n",
       "</table>\n"
      ],
      "text/plain": [
       "<pandas.io.formats.style.Styler at 0x7fddd4b267d0>"
      ]
     },
     "metadata": {},
     "output_type": "display_data"
    }
   ],
   "source": [
    "correlation_matrix = merged_data.select_dtypes(include=[np.number]).corr()['Complaints #'].sort_values(ascending = False)\n",
    "\n",
    "display(correlation_matrix.to_frame().style.background_gradient(cmap = 'Reds', axis = 0))\n"
   ]
  },
  {
   "cell_type": "markdown",
   "id": "a272121f",
   "metadata": {
    "papermill": {
     "duration": 0.036049,
     "end_time": "2023-11-08T04:25:17.089037",
     "exception": false,
     "start_time": "2023-11-08T04:25:17.052988",
     "status": "completed"
    },
    "tags": []
   },
   "source": [
    "'NumFloors' has a positive correlation of approximately 0.264 with 'Complaints #'.\n",
    "\n",
    "'BldgDepth', 'ResArea', 'BldgArea', and 'BuiltFAR' also have positive correlations with 'Complaints #' but they are relatively weaker, around 0.21 to 0.17."
   ]
  },
  {
   "cell_type": "markdown",
   "id": "d028bf5f",
   "metadata": {
    "papermill": {
     "duration": 0.036029,
     "end_time": "2023-11-08T04:25:17.160908",
     "exception": false,
     "start_time": "2023-11-08T04:25:17.124879",
     "status": "completed"
    },
    "tags": []
   },
   "source": [
    "lets measure associations that might be nonlinear but still exhibit a monotonic trend."
   ]
  },
  {
   "cell_type": "code",
   "execution_count": 53,
   "id": "1388437f",
   "metadata": {
    "execution": {
     "iopub.execute_input": "2023-11-08T04:25:17.234916Z",
     "iopub.status.busy": "2023-11-08T04:25:17.234016Z",
     "iopub.status.idle": "2023-11-08T04:25:18.135771Z",
     "shell.execute_reply": "2023-11-08T04:25:18.134821Z"
    },
    "papermill": {
     "duration": 0.941292,
     "end_time": "2023-11-08T04:25:18.137975",
     "exception": false,
     "start_time": "2023-11-08T04:25:17.196683",
     "status": "completed"
    },
    "tags": []
   },
   "outputs": [
    {
     "data": {
      "text/html": [
       "<style type=\"text/css\">\n",
       "#T_1613e_row0_col0 {\n",
       "  background-color: #67000d;\n",
       "  color: #f1f1f1;\n",
       "}\n",
       "#T_1613e_row1_col0 {\n",
       "  background-color: #dc2924;\n",
       "  color: #f1f1f1;\n",
       "}\n",
       "#T_1613e_row2_col0, #T_1613e_row3_col0 {\n",
       "  background-color: #e43027;\n",
       "  color: #f1f1f1;\n",
       "}\n",
       "#T_1613e_row4_col0 {\n",
       "  background-color: #e53228;\n",
       "  color: #f1f1f1;\n",
       "}\n",
       "#T_1613e_row5_col0 {\n",
       "  background-color: #f14432;\n",
       "  color: #f1f1f1;\n",
       "}\n",
       "#T_1613e_row6_col0 {\n",
       "  background-color: #f6563d;\n",
       "  color: #f1f1f1;\n",
       "}\n",
       "#T_1613e_row7_col0 {\n",
       "  background-color: #fb7151;\n",
       "  color: #f1f1f1;\n",
       "}\n",
       "#T_1613e_row8_col0 {\n",
       "  background-color: #fb7656;\n",
       "  color: #f1f1f1;\n",
       "}\n",
       "#T_1613e_row9_col0 {\n",
       "  background-color: #fc9879;\n",
       "  color: #000000;\n",
       "}\n",
       "#T_1613e_row10_col0 {\n",
       "  background-color: #fca285;\n",
       "  color: #000000;\n",
       "}\n",
       "#T_1613e_row11_col0 {\n",
       "  background-color: #fca98c;\n",
       "  color: #000000;\n",
       "}\n",
       "#T_1613e_row12_col0 {\n",
       "  background-color: #fcc1a8;\n",
       "  color: #000000;\n",
       "}\n",
       "#T_1613e_row13_col0 {\n",
       "  background-color: #fdc9b3;\n",
       "  color: #000000;\n",
       "}\n",
       "#T_1613e_row14_col0 {\n",
       "  background-color: #fdd0bc;\n",
       "  color: #000000;\n",
       "}\n",
       "#T_1613e_row15_col0 {\n",
       "  background-color: #fdd3c1;\n",
       "  color: #000000;\n",
       "}\n",
       "#T_1613e_row16_col0 {\n",
       "  background-color: #fedaca;\n",
       "  color: #000000;\n",
       "}\n",
       "#T_1613e_row17_col0 {\n",
       "  background-color: #fedecf;\n",
       "  color: #000000;\n",
       "}\n",
       "#T_1613e_row18_col0 {\n",
       "  background-color: #feeae0;\n",
       "  color: #000000;\n",
       "}\n",
       "#T_1613e_row19_col0 {\n",
       "  background-color: #fff5f0;\n",
       "  color: #000000;\n",
       "}\n",
       "</style>\n",
       "<table id=\"T_1613e\">\n",
       "  <thead>\n",
       "    <tr>\n",
       "      <th class=\"blank level0\" >&nbsp;</th>\n",
       "      <th id=\"T_1613e_level0_col0\" class=\"col_heading level0 col0\" >Complaints #</th>\n",
       "    </tr>\n",
       "  </thead>\n",
       "  <tbody>\n",
       "    <tr>\n",
       "      <th id=\"T_1613e_level0_row0\" class=\"row_heading level0 row0\" >Complaints #</th>\n",
       "      <td id=\"T_1613e_row0_col0\" class=\"data row0 col0\" >1.000000</td>\n",
       "    </tr>\n",
       "    <tr>\n",
       "      <th id=\"T_1613e_level0_row1\" class=\"row_heading level0 row1\" >ResArea</th>\n",
       "      <td id=\"T_1613e_row1_col0\" class=\"data row1 col0\" >0.602320</td>\n",
       "    </tr>\n",
       "    <tr>\n",
       "      <th id=\"T_1613e_level0_row2\" class=\"row_heading level0 row2\" >NumFloors</th>\n",
       "      <td id=\"T_1613e_row2_col0\" class=\"data row2 col0\" >0.568275</td>\n",
       "    </tr>\n",
       "    <tr>\n",
       "      <th id=\"T_1613e_level0_row3\" class=\"row_heading level0 row3\" >BuiltFAR</th>\n",
       "      <td id=\"T_1613e_row3_col0\" class=\"data row3 col0\" >0.567686</td>\n",
       "    </tr>\n",
       "    <tr>\n",
       "      <th id=\"T_1613e_level0_row4\" class=\"row_heading level0 row4\" >BldgArea</th>\n",
       "      <td id=\"T_1613e_row4_col0\" class=\"data row4 col0\" >0.560613</td>\n",
       "    </tr>\n",
       "    <tr>\n",
       "      <th id=\"T_1613e_level0_row5\" class=\"row_heading level0 row5\" >BldgDepth</th>\n",
       "      <td id=\"T_1613e_row5_col0\" class=\"data row5 col0\" >0.486913</td>\n",
       "    </tr>\n",
       "    <tr>\n",
       "      <th id=\"T_1613e_level0_row6\" class=\"row_heading level0 row6\" >LotArea</th>\n",
       "      <td id=\"T_1613e_row6_col0\" class=\"data row6 col0\" >0.426809</td>\n",
       "    </tr>\n",
       "    <tr>\n",
       "      <th id=\"T_1613e_level0_row7\" class=\"row_heading level0 row7\" >ResidFAR</th>\n",
       "      <td id=\"T_1613e_row7_col0\" class=\"data row7 col0\" >0.334626</td>\n",
       "    </tr>\n",
       "    <tr>\n",
       "      <th id=\"T_1613e_level0_row8\" class=\"row_heading level0 row8\" >FacilFAR</th>\n",
       "      <td id=\"T_1613e_row8_col0\" class=\"data row8 col0\" >0.313371</td>\n",
       "    </tr>\n",
       "    <tr>\n",
       "      <th id=\"T_1613e_level0_row9\" class=\"row_heading level0 row9\" >YearAlter1</th>\n",
       "      <td id=\"T_1613e_row9_col0\" class=\"data row9 col0\" >0.176184</td>\n",
       "    </tr>\n",
       "    <tr>\n",
       "      <th id=\"T_1613e_level0_row10\" class=\"row_heading level0 row10\" >RetailArea</th>\n",
       "      <td id=\"T_1613e_row10_col0\" class=\"data row10 col0\" >0.137766</td>\n",
       "    </tr>\n",
       "    <tr>\n",
       "      <th id=\"T_1613e_level0_row11\" class=\"row_heading level0 row11\" >LotDepth</th>\n",
       "      <td id=\"T_1613e_row11_col0\" class=\"data row11 col0\" >0.113341</td>\n",
       "    </tr>\n",
       "    <tr>\n",
       "      <th id=\"T_1613e_level0_row12\" class=\"row_heading level0 row12\" >OfficeArea</th>\n",
       "      <td id=\"T_1613e_row12_col0\" class=\"data row12 col0\" >0.018597</td>\n",
       "    </tr>\n",
       "    <tr>\n",
       "      <th id=\"T_1613e_level0_row13\" class=\"row_heading level0 row13\" >CommFAR</th>\n",
       "      <td id=\"T_1613e_row13_col0\" class=\"data row13 col0\" >-0.016100</td>\n",
       "    </tr>\n",
       "    <tr>\n",
       "      <th id=\"T_1613e_level0_row14\" class=\"row_heading level0 row14\" >YCoord</th>\n",
       "      <td id=\"T_1613e_row14_col0\" class=\"data row14 col0\" >-0.048110</td>\n",
       "    </tr>\n",
       "    <tr>\n",
       "      <th id=\"T_1613e_level0_row15\" class=\"row_heading level0 row15\" >Lot</th>\n",
       "      <td id=\"T_1613e_row15_col0\" class=\"data row15 col0\" >-0.062565</td>\n",
       "    </tr>\n",
       "    <tr>\n",
       "      <th id=\"T_1613e_level0_row16\" class=\"row_heading level0 row16\" >YearBuilt</th>\n",
       "      <td id=\"T_1613e_row16_col0\" class=\"data row16 col0\" >-0.093898</td>\n",
       "    </tr>\n",
       "    <tr>\n",
       "      <th id=\"T_1613e_level0_row17\" class=\"row_heading level0 row17\" >NumBldgs</th>\n",
       "      <td id=\"T_1613e_row17_col0\" class=\"data row17 col0\" >-0.105007</td>\n",
       "    </tr>\n",
       "    <tr>\n",
       "      <th id=\"T_1613e_level0_row18\" class=\"row_heading level0 row18\" >ZipCode</th>\n",
       "      <td id=\"T_1613e_row18_col0\" class=\"data row18 col0\" >-0.189809</td>\n",
       "    </tr>\n",
       "    <tr>\n",
       "      <th id=\"T_1613e_level0_row19\" class=\"row_heading level0 row19\" >XCoord</th>\n",
       "      <td id=\"T_1613e_row19_col0\" class=\"data row19 col0\" >-0.279203</td>\n",
       "    </tr>\n",
       "  </tbody>\n",
       "</table>\n"
      ],
      "text/plain": [
       "<pandas.io.formats.style.Styler at 0x7fddf7d473d0>"
      ]
     },
     "metadata": {},
     "output_type": "display_data"
    }
   ],
   "source": [
    "spearman_corr = merged_data.select_dtypes(include=[np.number]).corr(method = 'spearman')['Complaints #'].sort_values(ascending = False)\n",
    "display(spearman_corr.to_frame().style.background_gradient(cmap = 'Reds', axis = 0))"
   ]
  },
  {
   "cell_type": "markdown",
   "id": "35661337",
   "metadata": {
    "papermill": {
     "duration": 0.03518,
     "end_time": "2023-11-08T04:25:18.209650",
     "exception": false,
     "start_time": "2023-11-08T04:25:18.174470",
     "status": "completed"
    },
    "tags": []
   },
   "source": [
    "'ResArea' has a strong positive Spearman correlation of approximately 0.602 with 'Complaints #'. This suggests that as 'ResArea' increases, 'Complaints #' tends to increase in a monotonic fashion.\n",
    "\n",
    "'NumFloors' and 'BuiltFAR' also have strong positive correlations of approximately 0.568 and 0.568, respectively, with 'Complaints #'.\n",
    "\n",
    "'BldgArea' and 'BldgDepth' have positive correlations with 'Complaints #' as well, but they are slightly weaker, around 0.561 and 0.487, respectively."
   ]
  },
  {
   "cell_type": "code",
   "execution_count": 54,
   "id": "6b38451c",
   "metadata": {
    "execution": {
     "iopub.execute_input": "2023-11-08T04:25:18.282636Z",
     "iopub.status.busy": "2023-11-08T04:25:18.282288Z",
     "iopub.status.idle": "2023-11-08T04:25:19.841218Z",
     "shell.execute_reply": "2023-11-08T04:25:19.840261Z"
    },
    "papermill": {
     "duration": 1.598642,
     "end_time": "2023-11-08T04:25:19.843704",
     "exception": false,
     "start_time": "2023-11-08T04:25:18.245062",
     "status": "completed"
    },
    "tags": []
   },
   "outputs": [
    {
     "data": {
      "image/png": "[encoded data removed]",
      "text/plain": [
       "<Figure size 1000x800 with 2 Axes>"
      ]
     },
     "metadata": {},
     "output_type": "display_data"
    }
   ],
   "source": [
    "spearman_corr = merged_data.select_dtypes(include=[np.number]).corr(method = 'spearman')\n",
    "plt.figure(figsize = (10, 8))\n",
    "\n",
    "mask = np.triu(np.ones_like(spearman_corr, dtype = bool))\n",
    "ax = sns.heatmap(spearman_corr, mask = mask, cmap = 'Reds')"
   ]
  },
  {
   "cell_type": "code",
   "execution_count": 55,
   "id": "2e019d0e",
   "metadata": {
    "execution": {
     "iopub.execute_input": "2023-11-08T04:25:19.921135Z",
     "iopub.status.busy": "2023-11-08T04:25:19.920816Z",
     "iopub.status.idle": "2023-11-08T04:25:19.930587Z",
     "shell.execute_reply": "2023-11-08T04:25:19.929828Z"
    },
    "papermill": {
     "duration": 0.050692,
     "end_time": "2023-11-08T04:25:19.932506",
     "exception": false,
     "start_time": "2023-11-08T04:25:19.881814",
     "status": "completed"
    },
    "tags": []
   },
   "outputs": [],
   "source": [
    "merged_data = merged_data.dropna(subset = ['Complaints #'], axis = 0)"
   ]
  },
  {
   "cell_type": "code",
   "execution_count": 56,
   "id": "f7e09c05",
   "metadata": {
    "execution": {
     "iopub.execute_input": "2023-11-08T04:25:20.007920Z",
     "iopub.status.busy": "2023-11-08T04:25:20.007228Z",
     "iopub.status.idle": "2023-11-08T04:25:20.013725Z",
     "shell.execute_reply": "2023-11-08T04:25:20.012793Z"
    },
    "papermill": {
     "duration": 0.046679,
     "end_time": "2023-11-08T04:25:20.015716",
     "exception": false,
     "start_time": "2023-11-08T04:25:19.969037",
     "status": "completed"
    },
    "tags": []
   },
   "outputs": [],
   "source": [
    "merged_data_stats = pd.DataFrame(columns = merged_data.columns[1:], index = ['Correlation', 'P-value'])"
   ]
  },
  {
   "cell_type": "code",
   "execution_count": 57,
   "id": "b073ed5a",
   "metadata": {
    "execution": {
     "iopub.execute_input": "2023-11-08T04:25:20.092918Z",
     "iopub.status.busy": "2023-11-08T04:25:20.092179Z",
     "iopub.status.idle": "2023-11-08T04:25:20.096447Z",
     "shell.execute_reply": "2023-11-08T04:25:20.095529Z"
    },
    "papermill": {
     "duration": 0.045646,
     "end_time": "2023-11-08T04:25:20.098551",
     "exception": false,
     "start_time": "2023-11-08T04:25:20.052905",
     "status": "completed"
    },
    "tags": []
   },
   "outputs": [],
   "source": [
    "from scipy import stats"
   ]
  },
  {
   "cell_type": "code",
   "execution_count": 58,
   "id": "c89177a2",
   "metadata": {
    "execution": {
     "iopub.execute_input": "2023-11-08T04:25:20.176750Z",
     "iopub.status.busy": "2023-11-08T04:25:20.176041Z",
     "iopub.status.idle": "2023-11-08T04:25:20.308675Z",
     "shell.execute_reply": "2023-11-08T04:25:20.307657Z"
    },
    "papermill": {
     "duration": 0.1745,
     "end_time": "2023-11-08T04:25:20.310873",
     "exception": false,
     "start_time": "2023-11-08T04:25:20.136373",
     "status": "completed"
    },
    "tags": []
   },
   "outputs": [
    {
     "data": {
      "text/html": [
       "<div>\n",
       "<style scoped>\n",
       "    .dataframe tbody tr th:only-of-type {\n",
       "        vertical-align: middle;\n",
       "    }\n",
       "\n",
       "    .dataframe tbody tr th {\n",
       "        vertical-align: top;\n",
       "    }\n",
       "\n",
       "    .dataframe thead th {\n",
       "        text-align: right;\n",
       "    }\n",
       "</style>\n",
       "<table border=\"1\" class=\"dataframe\">\n",
       "  <thead>\n",
       "    <tr style=\"text-align: right;\">\n",
       "      <th></th>\n",
       "      <th>Correlation</th>\n",
       "      <th>P-value</th>\n",
       "    </tr>\n",
       "  </thead>\n",
       "  <tbody>\n",
       "    <tr>\n",
       "      <th>ResArea</th>\n",
       "      <td>0.60232</td>\n",
       "      <td>0.0</td>\n",
       "    </tr>\n",
       "    <tr>\n",
       "      <th>NumFloors</th>\n",
       "      <td>0.568275</td>\n",
       "      <td>0.0</td>\n",
       "    </tr>\n",
       "    <tr>\n",
       "      <th>BuiltFAR</th>\n",
       "      <td>0.567686</td>\n",
       "      <td>0.0</td>\n",
       "    </tr>\n",
       "    <tr>\n",
       "      <th>BldgArea</th>\n",
       "      <td>0.560613</td>\n",
       "      <td>0.0</td>\n",
       "    </tr>\n",
       "    <tr>\n",
       "      <th>BldgDepth</th>\n",
       "      <td>0.486913</td>\n",
       "      <td>0.0</td>\n",
       "    </tr>\n",
       "    <tr>\n",
       "      <th>LotArea</th>\n",
       "      <td>0.426809</td>\n",
       "      <td>0.0</td>\n",
       "    </tr>\n",
       "    <tr>\n",
       "      <th>ResidFAR</th>\n",
       "      <td>0.334626</td>\n",
       "      <td>0.0</td>\n",
       "    </tr>\n",
       "    <tr>\n",
       "      <th>FacilFAR</th>\n",
       "      <td>0.313371</td>\n",
       "      <td>0.0</td>\n",
       "    </tr>\n",
       "    <tr>\n",
       "      <th>YearAlter1</th>\n",
       "      <td>0.176184</td>\n",
       "      <td>0.0</td>\n",
       "    </tr>\n",
       "    <tr>\n",
       "      <th>RetailArea</th>\n",
       "      <td>0.137766</td>\n",
       "      <td>0.0</td>\n",
       "    </tr>\n",
       "    <tr>\n",
       "      <th>LotDepth</th>\n",
       "      <td>0.113341</td>\n",
       "      <td>0.0</td>\n",
       "    </tr>\n",
       "    <tr>\n",
       "      <th>OfficeArea</th>\n",
       "      <td>0.018597</td>\n",
       "      <td>0.011752</td>\n",
       "    </tr>\n",
       "    <tr>\n",
       "      <th>CommFAR</th>\n",
       "      <td>-0.0161</td>\n",
       "      <td>0.029167</td>\n",
       "    </tr>\n",
       "    <tr>\n",
       "      <th>Address</th>\n",
       "      <td>-0.044327</td>\n",
       "      <td>0.0</td>\n",
       "    </tr>\n",
       "    <tr>\n",
       "      <th>Lot</th>\n",
       "      <td>-0.062565</td>\n",
       "      <td>0.0</td>\n",
       "    </tr>\n",
       "    <tr>\n",
       "      <th>YearBuilt</th>\n",
       "      <td>-0.093898</td>\n",
       "      <td>0.0</td>\n",
       "    </tr>\n",
       "    <tr>\n",
       "      <th>NumBldgs</th>\n",
       "      <td>-0.105007</td>\n",
       "      <td>0.0</td>\n",
       "    </tr>\n",
       "    <tr>\n",
       "      <th>ZipCode</th>\n",
       "      <td>-0.189809</td>\n",
       "      <td>0.0</td>\n",
       "    </tr>\n",
       "    <tr>\n",
       "      <th>XCoord</th>\n",
       "      <td>NaN</td>\n",
       "      <td>NaN</td>\n",
       "    </tr>\n",
       "    <tr>\n",
       "      <th>YCoord</th>\n",
       "      <td>NaN</td>\n",
       "      <td>NaN</td>\n",
       "    </tr>\n",
       "  </tbody>\n",
       "</table>\n",
       "</div>"
      ],
      "text/plain": [
       "           Correlation   P-value\n",
       "ResArea        0.60232       0.0\n",
       "NumFloors     0.568275       0.0\n",
       "BuiltFAR      0.567686       0.0\n",
       "BldgArea      0.560613       0.0\n",
       "BldgDepth     0.486913       0.0\n",
       "LotArea       0.426809       0.0\n",
       "ResidFAR      0.334626       0.0\n",
       "FacilFAR      0.313371       0.0\n",
       "YearAlter1    0.176184       0.0\n",
       "RetailArea    0.137766       0.0\n",
       "LotDepth      0.113341       0.0\n",
       "OfficeArea    0.018597  0.011752\n",
       "CommFAR        -0.0161  0.029167\n",
       "Address      -0.044327       0.0\n",
       "Lot          -0.062565       0.0\n",
       "YearBuilt    -0.093898       0.0\n",
       "NumBldgs     -0.105007       0.0\n",
       "ZipCode      -0.189809       0.0\n",
       "XCoord             NaN       NaN\n",
       "YCoord             NaN       NaN"
      ]
     },
     "execution_count": 58,
     "metadata": {},
     "output_type": "execute_result"
    }
   ],
   "source": [
    "for i in merged_data_stats.columns:\n",
    "    spearman, p_value = stats.spearmanr(merged_data['Complaints #'], merged_data[i])\n",
    "    merged_data_stats[i]['Correlation'] = spearman\n",
    "    merged_data_stats[i]['P-value'] = p_value\n",
    "    \n",
    "merged_data_stats.T.sort_values(by = 'Correlation', ascending = False)"
   ]
  },
  {
   "cell_type": "markdown",
   "id": "63471a7f",
   "metadata": {
    "papermill": {
     "duration": 0.036601,
     "end_time": "2023-11-08T04:25:20.385555",
     "exception": false,
     "start_time": "2023-11-08T04:25:20.348954",
     "status": "completed"
    },
    "tags": []
   },
   "source": [
    "Using Spearman's correlation coefficient, I observed that the total number of 'HEAT/HOT WATER' complaints displays a moderate positive correlation with six key features in the dataset. These features are 'ResArea', 'NumFloors', 'BuiltFAR', 'BldgArea', 'BldgDepth', and 'LotArea'. This suggests that as these features increase, the number of 'HEAT/HOT WATER' complaints tends to increase in a monotonic fashion.\n",
    "\n",
    "What's interesting to note is that when we measured the linear correlation using Pearson's correlation coefficient, only two of these features, namely 'NumFloors' and 'BldgDepth', displayed a weak linear correlation. The remaining four features ('ResArea', 'BuiltFAR', 'BldgArea', and 'LotArea') exhibited a very weak linear correlation with the total number of 'HEAT/HOT WATER' complaints."
   ]
  },
  {
   "cell_type": "code",
   "execution_count": 59,
   "id": "48e29c44",
   "metadata": {
    "execution": {
     "iopub.execute_input": "2023-11-08T04:25:20.461324Z",
     "iopub.status.busy": "2023-11-08T04:25:20.460547Z",
     "iopub.status.idle": "2023-11-08T04:25:20.955525Z",
     "shell.execute_reply": "2023-11-08T04:25:20.954665Z"
    },
    "papermill": {
     "duration": 0.535942,
     "end_time": "2023-11-08T04:25:20.958033",
     "exception": false,
     "start_time": "2023-11-08T04:25:20.422091",
     "status": "completed"
    },
    "tags": []
   },
   "outputs": [],
   "source": [
    "from sklearn.model_selection import train_test_split\n",
    "from sklearn.preprocessing import StandardScaler\n",
    "\n"
   ]
  },
  {
   "cell_type": "code",
   "execution_count": 60,
   "id": "77c3ebf9",
   "metadata": {
    "execution": {
     "iopub.execute_input": "2023-11-08T04:25:21.038063Z",
     "iopub.status.busy": "2023-11-08T04:25:21.037373Z",
     "iopub.status.idle": "2023-11-08T04:25:21.858489Z",
     "shell.execute_reply": "2023-11-08T04:25:21.857658Z"
    },
    "papermill": {
     "duration": 0.863838,
     "end_time": "2023-11-08T04:25:21.861289",
     "exception": false,
     "start_time": "2023-11-08T04:25:20.997451",
     "status": "completed"
    },
    "tags": []
   },
   "outputs": [],
   "source": [
    "from imblearn.pipeline import Pipeline\n",
    "from imblearn.under_sampling import RandomUnderSampler\n",
    "from imblearn.over_sampling import SMOTE"
   ]
  },
  {
   "cell_type": "code",
   "execution_count": 61,
   "id": "9237de4d",
   "metadata": {
    "execution": {
     "iopub.execute_input": "2023-11-08T04:25:21.944243Z",
     "iopub.status.busy": "2023-11-08T04:25:21.943416Z",
     "iopub.status.idle": "2023-11-08T04:25:22.464737Z",
     "shell.execute_reply": "2023-11-08T04:25:22.463881Z"
    },
    "papermill": {
     "duration": 0.564123,
     "end_time": "2023-11-08T04:25:22.467072",
     "exception": false,
     "start_time": "2023-11-08T04:25:21.902949",
     "status": "completed"
    },
    "tags": []
   },
   "outputs": [],
   "source": [
    "from sklearn.metrics import confusion_matrix, accuracy_score, roc_curve, roc_auc_score\n",
    "from sklearn.model_selection import cross_val_score, cross_val_predict,GridSearchCV, StratifiedKFold,learning_curve\n",
    "from sklearn.ensemble import RandomForestClassifier\n",
    "from xgboost import XGBClassifier\n"
   ]
  },
  {
   "cell_type": "code",
   "execution_count": 62,
   "id": "358f1379",
   "metadata": {
    "execution": {
     "iopub.execute_input": "2023-11-08T04:25:22.545500Z",
     "iopub.status.busy": "2023-11-08T04:25:22.544803Z",
     "iopub.status.idle": "2023-11-08T04:25:22.549882Z",
     "shell.execute_reply": "2023-11-08T04:25:22.548876Z"
    },
    "papermill": {
     "duration": 0.045668,
     "end_time": "2023-11-08T04:25:22.551897",
     "exception": false,
     "start_time": "2023-11-08T04:25:22.506229",
     "status": "completed"
    },
    "tags": []
   },
   "outputs": [],
   "source": [
    "label_size = 17\n",
    "plt.rcParams['axes.labelsize'] = label_size\n",
    "plt.rcParams['axes.titlesize'] = label_size\n",
    "plt.rcParams['xtick.labelsize'] = label_size-3\n",
    "plt.rcParams['ytick.labelsize'] = label_size-3"
   ]
  },
  {
   "cell_type": "code",
   "execution_count": 63,
   "id": "ec581b70",
   "metadata": {
    "execution": {
     "iopub.execute_input": "2023-11-08T04:25:22.627028Z",
     "iopub.status.busy": "2023-11-08T04:25:22.626738Z",
     "iopub.status.idle": "2023-11-08T04:25:22.630843Z",
     "shell.execute_reply": "2023-11-08T04:25:22.629950Z"
    },
    "papermill": {
     "duration": 0.0438,
     "end_time": "2023-11-08T04:25:22.632770",
     "exception": false,
     "start_time": "2023-11-08T04:25:22.588970",
     "status": "completed"
    },
    "tags": []
   },
   "outputs": [],
   "source": [
    "random_state = 42\n",
    "scoring_metric = 'accuracy'"
   ]
  },
  {
   "cell_type": "code",
   "execution_count": null,
   "id": "c8e96ec2",
   "metadata": {
    "papermill": {
     "duration": 0.036436,
     "end_time": "2023-11-08T04:25:22.706684",
     "exception": false,
     "start_time": "2023-11-08T04:25:22.670248",
     "status": "completed"
    },
    "tags": []
   },
   "outputs": [],
   "source": []
  },
  {
   "cell_type": "code",
   "execution_count": null,
   "id": "ba36fcbc",
   "metadata": {
    "papermill": {
     "duration": 0.040331,
     "end_time": "2023-11-08T04:25:22.785232",
     "exception": false,
     "start_time": "2023-11-08T04:25:22.744901",
     "status": "completed"
    },
    "tags": []
   },
   "outputs": [],
   "source": []
  }
 ],
 "metadata": {
  "kernelspec": {
   "display_name": "Python 3",
   "language": "python",
   "name": "python3"
  },
  "language_info": {
   "codemirror_mode": {
    "name": "ipython",
    "version": 3
   },
   "file_extension": ".py",
   "mimetype": "text/x-python",
   "name": "python",
   "nbconvert_exporter": "python",
   "pygments_lexer": "ipython3",
   "version": "3.10.12"
  },
  "papermill": {
   "default_parameters": {},
   "duration": 149.848963,
   "end_time": "2023-11-08T04:25:24.248373",
   "environment_variables": {},
   "exception": null,
   "input_path": "__notebook__.ipynb",
   "output_path": "__notebook__.ipynb",
   "parameters": {},
   "start_time": "2023-11-08T04:22:54.399410",
   "version": "2.4.0"
  }
 },
 "nbformat": 4,
 "nbformat_minor": 5
}
