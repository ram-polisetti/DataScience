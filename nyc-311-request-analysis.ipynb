{
 "cells": [
  {
   "cell_type": "markdown",
   "id": "c525f709",
   "metadata": {
    "_cell_guid": "b1076dfc-b9ad-4769-8c92-a6c4dae69d19",
    "_uuid": "8f2839f25d086af736a60e9eeb907d3b93b6e0e5",
    "papermill": {
     "duration": 0.012441,
     "end_time": "2023-11-04T04:41:05.984366",
     "exception": false,
     "start_time": "2023-11-04T04:41:05.971925",
     "status": "completed"
    },
    "tags": []
   },
   "source": [
    "# **NYC 311 Request Analysis**"
   ]
  },
  {
   "cell_type": "markdown",
   "id": "33c85089",
   "metadata": {
    "papermill": {
     "duration": 0.011788,
     "end_time": "2023-11-04T04:41:06.008573",
     "exception": false,
     "start_time": "2023-11-04T04:41:05.996785",
     "status": "completed"
    },
    "tags": []
   },
   "source": [
    "## **Problem Statement**\n",
    "\n",
    "The New York City Department of Housing Preservation and Development (HPD) needs help answering the following key questions:\n",
    "\n",
    "* What type of housing complaint should be prioritized first based on frequency, severity, and other factors in the 311 data?\n",
    "\n",
    "* Are certain boroughs, ZIP codes, or streets experiencing more severe complaints of this top priority type? \n",
    "\n",
    "* Does the top complaint type correlate with any particular housing/building characteristics? \n",
    "\n",
    "* Can a predictive model be developed to forecast future complaints of the priority type?\n",
    "\n"
   ]
  },
  {
   "cell_type": "markdown",
   "id": "e5174c04",
   "metadata": {
    "papermill": {
     "duration": 0.011121,
     "end_time": "2023-11-04T04:41:06.031690",
     "exception": false,
     "start_time": "2023-11-04T04:41:06.020569",
     "status": "completed"
    },
    "tags": []
   },
   "source": [
    "## **Goal**\n",
    "\n",
    "My goal is to deliver data-backed recommendations that provide actionable insights to help HPD manage its growing volume of 311 cases and build a predictive model for forecasting future complaints."
   ]
  },
  {
   "cell_type": "markdown",
   "id": "cb105e7d",
   "metadata": {
    "papermill": {
     "duration": 0.011674,
     "end_time": "2023-11-04T04:41:06.054864",
     "exception": false,
     "start_time": "2023-11-04T04:41:06.043190",
     "status": "completed"
    },
    "tags": []
   },
   "source": [
    "## **NYC 311 Complaint Dataset**\n",
    "\n",
    "The primary dataset used for this analysis is a preprocessed version of the NYC 311 Complaints dataset obtained from the NYC OpenData portal. This public dataset contains records of complaints filed through the 311 system by NYC residents from 2010 to August 2019. For the purposes of this analysis, the raw 311 data was preprocessed to contain only relevant columns and rows to make the volume more manageable. While similar to 311 datasets used in other analyses, minor differences in the data may lead to small numerical discrepancies. However, these differences do not impact the overall findings and conclusions drawn from the data to address the key questions posed by the NYC Department of Housing Preservation and Development regarding 311 complaint insights."
   ]
  },
  {
   "cell_type": "markdown",
   "id": "a0cf8df1",
   "metadata": {
    "papermill": {
     "duration": 0.011481,
     "end_time": "2023-11-04T04:41:06.077775",
     "exception": false,
     "start_time": "2023-11-04T04:41:06.066294",
     "status": "completed"
    },
    "tags": []
   },
   "source": [
    "## **Dataset for Housing**\n",
    "\n",
    "Here is a revised paragraph about the building characteristics dataset without directly mentioning using CSV files from another source:\n",
    "\n",
    "The second dataset used in this analysis contains building characteristic information for houses across New York City's five boroughs - Bronx, Brooklyn, Manhattan, Queens, and Staten Island. This dataset was compiled from publicly available sources containing information on various attributes of NYC houses and buildings, such as year built, number of units, building class category, and more. The building characteristics data was consolidated and preprocessed into a single dataset organized with one row per building and columns for each relevant attribute. This consolidated dataset provides important housing insights that can be analyzed in conjunction with the 311 complaints data to identify any correlations between complaint types and building features. As with the 311 data, the building characteristics dataset was preprocessed to contain only necessary information to address the key questions from HPD."
   ]
  },
  {
   "cell_type": "code",
   "execution_count": 1,
   "id": "8bd6c25e",
   "metadata": {
    "execution": {
     "iopub.execute_input": "2023-11-04T04:41:06.102831Z",
     "iopub.status.busy": "2023-11-04T04:41:06.102537Z",
     "iopub.status.idle": "2023-11-04T04:41:09.527781Z",
     "shell.execute_reply": "2023-11-04T04:41:09.526997Z"
    },
    "papermill": {
     "duration": 3.440634,
     "end_time": "2023-11-04T04:41:09.530191",
     "exception": false,
     "start_time": "2023-11-04T04:41:06.089557",
     "status": "completed"
    },
    "tags": []
   },
   "outputs": [
    {
     "name": "stderr",
     "output_type": "stream",
     "text": [
      "/opt/conda/lib/python3.10/site-packages/scipy/__init__.py:146: UserWarning: A NumPy version >=1.16.5 and <1.23.0 is required for this version of SciPy (detected version 1.23.5\n",
      "  warnings.warn(f\"A NumPy version >={np_minversion} and <{np_maxversion}\"\n"
     ]
    }
   ],
   "source": [
    "# Importing libraries\n",
    "import numpy as np \n",
    "import pandas as pd\n",
    "import geopandas as gpd\n",
    "import missingno as msno\n",
    "import seaborn as sns\n",
    "import matplotlib.pyplot as plt\n",
    "import matplotlib.patches as mpatches"
   ]
  },
  {
   "cell_type": "code",
   "execution_count": 2,
   "id": "9eaadd5f",
   "metadata": {
    "execution": {
     "iopub.execute_input": "2023-11-04T04:41:09.556024Z",
     "iopub.status.busy": "2023-11-04T04:41:09.555232Z",
     "iopub.status.idle": "2023-11-04T04:42:02.297316Z",
     "shell.execute_reply": "2023-11-04T04:42:02.296304Z"
    },
    "papermill": {
     "duration": 52.757489,
     "end_time": "2023-11-04T04:42:02.299879",
     "exception": false,
     "start_time": "2023-11-04T04:41:09.542390",
     "status": "completed"
    },
    "tags": []
   },
   "outputs": [],
   "source": [
    "data = pd.read_csv('/kaggle/input/nyc311opendata/fhrw-4uyv.csv')"
   ]
  },
  {
   "cell_type": "code",
   "execution_count": 3,
   "id": "b766a1d9",
   "metadata": {
    "execution": {
     "iopub.execute_input": "2023-11-04T04:42:02.325956Z",
     "iopub.status.busy": "2023-11-04T04:42:02.325632Z",
     "iopub.status.idle": "2023-11-04T04:42:02.333501Z",
     "shell.execute_reply": "2023-11-04T04:42:02.332391Z"
    },
    "papermill": {
     "duration": 0.022995,
     "end_time": "2023-11-04T04:42:02.335537",
     "exception": false,
     "start_time": "2023-11-04T04:42:02.312542",
     "status": "completed"
    },
    "tags": []
   },
   "outputs": [
    {
     "data": {
      "text/plain": [
       "Index(['created_date', 'unique_key', 'complaint_type', 'incident_zip',\n",
       "       'incident_address', 'street_name', 'address_type', 'city',\n",
       "       'resolution_description', 'borough', 'latitude', 'longitude',\n",
       "       'closed_date', 'location_type', 'status'],\n",
       "      dtype='object')"
      ]
     },
     "execution_count": 3,
     "metadata": {},
     "output_type": "execute_result"
    }
   ],
   "source": [
    "data.columns"
   ]
  },
  {
   "cell_type": "code",
   "execution_count": 4,
   "id": "c66f5736",
   "metadata": {
    "execution": {
     "iopub.execute_input": "2023-11-04T04:42:02.361570Z",
     "iopub.status.busy": "2023-11-04T04:42:02.361258Z",
     "iopub.status.idle": "2023-11-04T04:42:02.367116Z",
     "shell.execute_reply": "2023-11-04T04:42:02.366175Z"
    },
    "papermill": {
     "duration": 0.021306,
     "end_time": "2023-11-04T04:42:02.369112",
     "exception": false,
     "start_time": "2023-11-04T04:42:02.347806",
     "status": "completed"
    },
    "tags": []
   },
   "outputs": [
    {
     "data": {
      "text/plain": [
       "(5846787, 15)"
      ]
     },
     "execution_count": 4,
     "metadata": {},
     "output_type": "execute_result"
    }
   ],
   "source": [
    "data.shape"
   ]
  },
  {
   "cell_type": "code",
   "execution_count": 5,
   "id": "ee32c0c7",
   "metadata": {
    "execution": {
     "iopub.execute_input": "2023-11-04T04:42:02.395594Z",
     "iopub.status.busy": "2023-11-04T04:42:02.395299Z",
     "iopub.status.idle": "2023-11-04T04:42:02.427934Z",
     "shell.execute_reply": "2023-11-04T04:42:02.426580Z"
    },
    "papermill": {
     "duration": 0.048023,
     "end_time": "2023-11-04T04:42:02.430062",
     "exception": false,
     "start_time": "2023-11-04T04:42:02.382039",
     "status": "completed"
    },
    "tags": []
   },
   "outputs": [
    {
     "name": "stdout",
     "output_type": "stream",
     "text": [
      "<class 'pandas.core.frame.DataFrame'>\n",
      "RangeIndex: 5846787 entries, 0 to 5846786\n",
      "Data columns (total 15 columns):\n",
      " #   Column                  Dtype  \n",
      "---  ------                  -----  \n",
      " 0   created_date            object \n",
      " 1   unique_key              int64  \n",
      " 2   complaint_type          object \n",
      " 3   incident_zip            float64\n",
      " 4   incident_address        object \n",
      " 5   street_name             object \n",
      " 6   address_type            object \n",
      " 7   city                    object \n",
      " 8   resolution_description  object \n",
      " 9   borough                 object \n",
      " 10  latitude                float64\n",
      " 11  longitude               float64\n",
      " 12  closed_date             object \n",
      " 13  location_type           object \n",
      " 14  status                  object \n",
      "dtypes: float64(3), int64(1), object(11)\n",
      "memory usage: 669.1+ MB\n"
     ]
    }
   ],
   "source": [
    "data.info()"
   ]
  },
  {
   "cell_type": "markdown",
   "id": "0817f037",
   "metadata": {
    "papermill": {
     "duration": 0.012863,
     "end_time": "2023-11-04T04:42:02.456416",
     "exception": false,
     "start_time": "2023-11-04T04:42:02.443553",
     "status": "completed"
    },
    "tags": []
   },
   "source": [
    "The 311 complaint dataset contains 15 columns capturing information such as complaint details, location coordinates, resolution status, and other relevant data. The columns represent a mix of data types including numeric, textual, and datetime fields. \n",
    "\n",
    "As mentioned previously, the 'complaint_type' column is particularly important for this analysis as it contains distinct categories of complaints received by the 311 system. Examining trends and frequencies of different complaint types will enable identifying priorities and insights for the Department of Housing Preservation and Development. \n",
    "\n",
    "In total, the 311 dataset contains over 5846787 rows of complaints spanning multiple years. "
   ]
  },
  {
   "cell_type": "code",
   "execution_count": 6,
   "id": "9d7802cf",
   "metadata": {
    "execution": {
     "iopub.execute_input": "2023-11-04T04:42:02.483492Z",
     "iopub.status.busy": "2023-11-04T04:42:02.483164Z",
     "iopub.status.idle": "2023-11-04T04:42:02.506322Z",
     "shell.execute_reply": "2023-11-04T04:42:02.505538Z"
    },
    "papermill": {
     "duration": 0.039156,
     "end_time": "2023-11-04T04:42:02.508365",
     "exception": false,
     "start_time": "2023-11-04T04:42:02.469209",
     "status": "completed"
    },
    "tags": []
   },
   "outputs": [
    {
     "data": {
      "text/html": [
       "<div>\n",
       "<style scoped>\n",
       "    .dataframe tbody tr th:only-of-type {\n",
       "        vertical-align: middle;\n",
       "    }\n",
       "\n",
       "    .dataframe tbody tr th {\n",
       "        vertical-align: top;\n",
       "    }\n",
       "\n",
       "    .dataframe thead th {\n",
       "        text-align: right;\n",
       "    }\n",
       "</style>\n",
       "<table border=\"1\" class=\"dataframe\">\n",
       "  <thead>\n",
       "    <tr style=\"text-align: right;\">\n",
       "      <th></th>\n",
       "      <th>created_date</th>\n",
       "      <th>unique_key</th>\n",
       "      <th>complaint_type</th>\n",
       "      <th>incident_zip</th>\n",
       "      <th>incident_address</th>\n",
       "      <th>street_name</th>\n",
       "      <th>address_type</th>\n",
       "      <th>city</th>\n",
       "      <th>resolution_description</th>\n",
       "      <th>borough</th>\n",
       "      <th>latitude</th>\n",
       "      <th>longitude</th>\n",
       "      <th>closed_date</th>\n",
       "      <th>location_type</th>\n",
       "      <th>status</th>\n",
       "    </tr>\n",
       "  </thead>\n",
       "  <tbody>\n",
       "    <tr>\n",
       "      <th>0</th>\n",
       "      <td>2019-08-23T12:35:54.000</td>\n",
       "      <td>43624241</td>\n",
       "      <td>HEAT/HOT WATER</td>\n",
       "      <td>10032.0</td>\n",
       "      <td>560 WEST  160 STREET</td>\n",
       "      <td>WEST  160 STREET</td>\n",
       "      <td>ADDRESS</td>\n",
       "      <td>NEW YORK</td>\n",
       "      <td>The complaint you filed is a duplicate of a co...</td>\n",
       "      <td>MANHATTAN</td>\n",
       "      <td>40.835396</td>\n",
       "      <td>-73.942262</td>\n",
       "      <td>NaN</td>\n",
       "      <td>RESIDENTIAL BUILDING</td>\n",
       "      <td>Open</td>\n",
       "    </tr>\n",
       "    <tr>\n",
       "      <th>1</th>\n",
       "      <td>2019-08-23T08:43:58.000</td>\n",
       "      <td>43623659</td>\n",
       "      <td>UNSANITARY CONDITION</td>\n",
       "      <td>11208.0</td>\n",
       "      <td>261 MONTAUK AVENUE</td>\n",
       "      <td>MONTAUK AVENUE</td>\n",
       "      <td>ADDRESS</td>\n",
       "      <td>BROOKLYN</td>\n",
       "      <td>The following complaint conditions are still o...</td>\n",
       "      <td>BROOKLYN</td>\n",
       "      <td>40.672494</td>\n",
       "      <td>-73.877521</td>\n",
       "      <td>NaN</td>\n",
       "      <td>RESIDENTIAL BUILDING</td>\n",
       "      <td>Open</td>\n",
       "    </tr>\n",
       "    <tr>\n",
       "      <th>2</th>\n",
       "      <td>2019-08-23T09:08:09.000</td>\n",
       "      <td>43624463</td>\n",
       "      <td>UNSANITARY CONDITION</td>\n",
       "      <td>10002.0</td>\n",
       "      <td>125 MADISON STREET</td>\n",
       "      <td>MADISON STREET</td>\n",
       "      <td>ADDRESS</td>\n",
       "      <td>NEW YORK</td>\n",
       "      <td>The following complaint conditions are still o...</td>\n",
       "      <td>MANHATTAN</td>\n",
       "      <td>40.712353</td>\n",
       "      <td>-73.993947</td>\n",
       "      <td>NaN</td>\n",
       "      <td>RESIDENTIAL BUILDING</td>\n",
       "      <td>Open</td>\n",
       "    </tr>\n",
       "    <tr>\n",
       "      <th>3</th>\n",
       "      <td>2019-08-23T16:36:08.000</td>\n",
       "      <td>43625072</td>\n",
       "      <td>DOOR/WINDOW</td>\n",
       "      <td>11211.0</td>\n",
       "      <td>525 UNION AVENUE</td>\n",
       "      <td>UNION AVENUE</td>\n",
       "      <td>ADDRESS</td>\n",
       "      <td>BROOKLYN</td>\n",
       "      <td>The following complaint conditions are still o...</td>\n",
       "      <td>BROOKLYN</td>\n",
       "      <td>40.716233</td>\n",
       "      <td>-73.951986</td>\n",
       "      <td>NaN</td>\n",
       "      <td>RESIDENTIAL BUILDING</td>\n",
       "      <td>Open</td>\n",
       "    </tr>\n",
       "    <tr>\n",
       "      <th>4</th>\n",
       "      <td>2019-08-23T11:15:00.000</td>\n",
       "      <td>43623738</td>\n",
       "      <td>UNSANITARY CONDITION</td>\n",
       "      <td>11372.0</td>\n",
       "      <td>35-52F 73 STREET</td>\n",
       "      <td>73 STREET</td>\n",
       "      <td>ADDRESS</td>\n",
       "      <td>Jackson Heights</td>\n",
       "      <td>NaN</td>\n",
       "      <td>QUEENS</td>\n",
       "      <td>40.750533</td>\n",
       "      <td>-73.892998</td>\n",
       "      <td>NaN</td>\n",
       "      <td>RESIDENTIAL BUILDING</td>\n",
       "      <td>Open</td>\n",
       "    </tr>\n",
       "  </tbody>\n",
       "</table>\n",
       "</div>"
      ],
      "text/plain": [
       "              created_date  unique_key        complaint_type  incident_zip  \\\n",
       "0  2019-08-23T12:35:54.000    43624241        HEAT/HOT WATER       10032.0   \n",
       "1  2019-08-23T08:43:58.000    43623659  UNSANITARY CONDITION       11208.0   \n",
       "2  2019-08-23T09:08:09.000    43624463  UNSANITARY CONDITION       10002.0   \n",
       "3  2019-08-23T16:36:08.000    43625072           DOOR/WINDOW       11211.0   \n",
       "4  2019-08-23T11:15:00.000    43623738  UNSANITARY CONDITION       11372.0   \n",
       "\n",
       "       incident_address       street_name address_type             city  \\\n",
       "0  560 WEST  160 STREET  WEST  160 STREET      ADDRESS         NEW YORK   \n",
       "1    261 MONTAUK AVENUE    MONTAUK AVENUE      ADDRESS         BROOKLYN   \n",
       "2    125 MADISON STREET    MADISON STREET      ADDRESS         NEW YORK   \n",
       "3      525 UNION AVENUE      UNION AVENUE      ADDRESS         BROOKLYN   \n",
       "4      35-52F 73 STREET         73 STREET      ADDRESS  Jackson Heights   \n",
       "\n",
       "                              resolution_description    borough   latitude  \\\n",
       "0  The complaint you filed is a duplicate of a co...  MANHATTAN  40.835396   \n",
       "1  The following complaint conditions are still o...   BROOKLYN  40.672494   \n",
       "2  The following complaint conditions are still o...  MANHATTAN  40.712353   \n",
       "3  The following complaint conditions are still o...   BROOKLYN  40.716233   \n",
       "4                                                NaN     QUEENS  40.750533   \n",
       "\n",
       "   longitude closed_date         location_type status  \n",
       "0 -73.942262         NaN  RESIDENTIAL BUILDING   Open  \n",
       "1 -73.877521         NaN  RESIDENTIAL BUILDING   Open  \n",
       "2 -73.993947         NaN  RESIDENTIAL BUILDING   Open  \n",
       "3 -73.951986         NaN  RESIDENTIAL BUILDING   Open  \n",
       "4 -73.892998         NaN  RESIDENTIAL BUILDING   Open  "
      ]
     },
     "execution_count": 6,
     "metadata": {},
     "output_type": "execute_result"
    }
   ],
   "source": [
    "data.head()"
   ]
  },
  {
   "cell_type": "code",
   "execution_count": 7,
   "id": "136cac7b",
   "metadata": {
    "execution": {
     "iopub.execute_input": "2023-11-04T04:42:02.534445Z",
     "iopub.status.busy": "2023-11-04T04:42:02.534171Z",
     "iopub.status.idle": "2023-11-04T04:42:06.680243Z",
     "shell.execute_reply": "2023-11-04T04:42:06.679223Z"
    },
    "papermill": {
     "duration": 4.161847,
     "end_time": "2023-11-04T04:42:06.682747",
     "exception": false,
     "start_time": "2023-11-04T04:42:02.520900",
     "status": "completed"
    },
    "tags": []
   },
   "outputs": [],
   "source": [
    "data['created_date'] = pd.to_datetime(data['created_date'])\n",
    "data['closed_date'] = pd.to_datetime(data['closed_date'])"
   ]
  },
  {
   "cell_type": "code",
   "execution_count": 8,
   "id": "fb3bc63b",
   "metadata": {
    "execution": {
     "iopub.execute_input": "2023-11-04T04:42:06.754220Z",
     "iopub.status.busy": "2023-11-04T04:42:06.753855Z",
     "iopub.status.idle": "2023-11-04T04:42:07.237340Z",
     "shell.execute_reply": "2023-11-04T04:42:07.236542Z"
    },
    "papermill": {
     "duration": 0.500105,
     "end_time": "2023-11-04T04:42:07.239722",
     "exception": false,
     "start_time": "2023-11-04T04:42:06.739617",
     "status": "completed"
    },
    "tags": []
   },
   "outputs": [],
   "source": [
    "data['Year'] = data['created_date'].dt.year"
   ]
  },
  {
   "cell_type": "code",
   "execution_count": 9,
   "id": "24f043c9",
   "metadata": {
    "execution": {
     "iopub.execute_input": "2023-11-04T04:42:07.266020Z",
     "iopub.status.busy": "2023-11-04T04:42:07.265731Z",
     "iopub.status.idle": "2023-11-04T04:42:07.284543Z",
     "shell.execute_reply": "2023-11-04T04:42:07.283668Z"
    },
    "papermill": {
     "duration": 0.034027,
     "end_time": "2023-11-04T04:42:07.286635",
     "exception": false,
     "start_time": "2023-11-04T04:42:07.252608",
     "status": "completed"
    },
    "tags": []
   },
   "outputs": [
    {
     "data": {
      "text/html": [
       "<div>\n",
       "<style scoped>\n",
       "    .dataframe tbody tr th:only-of-type {\n",
       "        vertical-align: middle;\n",
       "    }\n",
       "\n",
       "    .dataframe tbody tr th {\n",
       "        vertical-align: top;\n",
       "    }\n",
       "\n",
       "    .dataframe thead th {\n",
       "        text-align: right;\n",
       "    }\n",
       "</style>\n",
       "<table border=\"1\" class=\"dataframe\">\n",
       "  <thead>\n",
       "    <tr style=\"text-align: right;\">\n",
       "      <th></th>\n",
       "      <th>created_date</th>\n",
       "      <th>unique_key</th>\n",
       "      <th>complaint_type</th>\n",
       "      <th>incident_zip</th>\n",
       "      <th>incident_address</th>\n",
       "      <th>street_name</th>\n",
       "      <th>address_type</th>\n",
       "      <th>city</th>\n",
       "      <th>resolution_description</th>\n",
       "      <th>borough</th>\n",
       "      <th>latitude</th>\n",
       "      <th>longitude</th>\n",
       "      <th>closed_date</th>\n",
       "      <th>location_type</th>\n",
       "      <th>status</th>\n",
       "      <th>Year</th>\n",
       "    </tr>\n",
       "  </thead>\n",
       "  <tbody>\n",
       "    <tr>\n",
       "      <th>0</th>\n",
       "      <td>2019-08-23 12:35:54</td>\n",
       "      <td>43624241</td>\n",
       "      <td>HEAT/HOT WATER</td>\n",
       "      <td>10032.0</td>\n",
       "      <td>560 WEST  160 STREET</td>\n",
       "      <td>WEST  160 STREET</td>\n",
       "      <td>ADDRESS</td>\n",
       "      <td>NEW YORK</td>\n",
       "      <td>The complaint you filed is a duplicate of a co...</td>\n",
       "      <td>MANHATTAN</td>\n",
       "      <td>40.835396</td>\n",
       "      <td>-73.942262</td>\n",
       "      <td>NaT</td>\n",
       "      <td>RESIDENTIAL BUILDING</td>\n",
       "      <td>Open</td>\n",
       "      <td>2019</td>\n",
       "    </tr>\n",
       "    <tr>\n",
       "      <th>1</th>\n",
       "      <td>2019-08-23 08:43:58</td>\n",
       "      <td>43623659</td>\n",
       "      <td>UNSANITARY CONDITION</td>\n",
       "      <td>11208.0</td>\n",
       "      <td>261 MONTAUK AVENUE</td>\n",
       "      <td>MONTAUK AVENUE</td>\n",
       "      <td>ADDRESS</td>\n",
       "      <td>BROOKLYN</td>\n",
       "      <td>The following complaint conditions are still o...</td>\n",
       "      <td>BROOKLYN</td>\n",
       "      <td>40.672494</td>\n",
       "      <td>-73.877521</td>\n",
       "      <td>NaT</td>\n",
       "      <td>RESIDENTIAL BUILDING</td>\n",
       "      <td>Open</td>\n",
       "      <td>2019</td>\n",
       "    </tr>\n",
       "    <tr>\n",
       "      <th>2</th>\n",
       "      <td>2019-08-23 09:08:09</td>\n",
       "      <td>43624463</td>\n",
       "      <td>UNSANITARY CONDITION</td>\n",
       "      <td>10002.0</td>\n",
       "      <td>125 MADISON STREET</td>\n",
       "      <td>MADISON STREET</td>\n",
       "      <td>ADDRESS</td>\n",
       "      <td>NEW YORK</td>\n",
       "      <td>The following complaint conditions are still o...</td>\n",
       "      <td>MANHATTAN</td>\n",
       "      <td>40.712353</td>\n",
       "      <td>-73.993947</td>\n",
       "      <td>NaT</td>\n",
       "      <td>RESIDENTIAL BUILDING</td>\n",
       "      <td>Open</td>\n",
       "      <td>2019</td>\n",
       "    </tr>\n",
       "    <tr>\n",
       "      <th>3</th>\n",
       "      <td>2019-08-23 16:36:08</td>\n",
       "      <td>43625072</td>\n",
       "      <td>DOOR/WINDOW</td>\n",
       "      <td>11211.0</td>\n",
       "      <td>525 UNION AVENUE</td>\n",
       "      <td>UNION AVENUE</td>\n",
       "      <td>ADDRESS</td>\n",
       "      <td>BROOKLYN</td>\n",
       "      <td>The following complaint conditions are still o...</td>\n",
       "      <td>BROOKLYN</td>\n",
       "      <td>40.716233</td>\n",
       "      <td>-73.951986</td>\n",
       "      <td>NaT</td>\n",
       "      <td>RESIDENTIAL BUILDING</td>\n",
       "      <td>Open</td>\n",
       "      <td>2019</td>\n",
       "    </tr>\n",
       "    <tr>\n",
       "      <th>4</th>\n",
       "      <td>2019-08-23 11:15:00</td>\n",
       "      <td>43623738</td>\n",
       "      <td>UNSANITARY CONDITION</td>\n",
       "      <td>11372.0</td>\n",
       "      <td>35-52F 73 STREET</td>\n",
       "      <td>73 STREET</td>\n",
       "      <td>ADDRESS</td>\n",
       "      <td>Jackson Heights</td>\n",
       "      <td>NaN</td>\n",
       "      <td>QUEENS</td>\n",
       "      <td>40.750533</td>\n",
       "      <td>-73.892998</td>\n",
       "      <td>NaT</td>\n",
       "      <td>RESIDENTIAL BUILDING</td>\n",
       "      <td>Open</td>\n",
       "      <td>2019</td>\n",
       "    </tr>\n",
       "  </tbody>\n",
       "</table>\n",
       "</div>"
      ],
      "text/plain": [
       "         created_date  unique_key        complaint_type  incident_zip  \\\n",
       "0 2019-08-23 12:35:54    43624241        HEAT/HOT WATER       10032.0   \n",
       "1 2019-08-23 08:43:58    43623659  UNSANITARY CONDITION       11208.0   \n",
       "2 2019-08-23 09:08:09    43624463  UNSANITARY CONDITION       10002.0   \n",
       "3 2019-08-23 16:36:08    43625072           DOOR/WINDOW       11211.0   \n",
       "4 2019-08-23 11:15:00    43623738  UNSANITARY CONDITION       11372.0   \n",
       "\n",
       "       incident_address       street_name address_type             city  \\\n",
       "0  560 WEST  160 STREET  WEST  160 STREET      ADDRESS         NEW YORK   \n",
       "1    261 MONTAUK AVENUE    MONTAUK AVENUE      ADDRESS         BROOKLYN   \n",
       "2    125 MADISON STREET    MADISON STREET      ADDRESS         NEW YORK   \n",
       "3      525 UNION AVENUE      UNION AVENUE      ADDRESS         BROOKLYN   \n",
       "4      35-52F 73 STREET         73 STREET      ADDRESS  Jackson Heights   \n",
       "\n",
       "                              resolution_description    borough   latitude  \\\n",
       "0  The complaint you filed is a duplicate of a co...  MANHATTAN  40.835396   \n",
       "1  The following complaint conditions are still o...   BROOKLYN  40.672494   \n",
       "2  The following complaint conditions are still o...  MANHATTAN  40.712353   \n",
       "3  The following complaint conditions are still o...   BROOKLYN  40.716233   \n",
       "4                                                NaN     QUEENS  40.750533   \n",
       "\n",
       "   longitude closed_date         location_type status  Year  \n",
       "0 -73.942262         NaT  RESIDENTIAL BUILDING   Open  2019  \n",
       "1 -73.877521         NaT  RESIDENTIAL BUILDING   Open  2019  \n",
       "2 -73.993947         NaT  RESIDENTIAL BUILDING   Open  2019  \n",
       "3 -73.951986         NaT  RESIDENTIAL BUILDING   Open  2019  \n",
       "4 -73.892998         NaT  RESIDENTIAL BUILDING   Open  2019  "
      ]
     },
     "execution_count": 9,
     "metadata": {},
     "output_type": "execute_result"
    }
   ],
   "source": [
    "data.head()"
   ]
  },
  {
   "cell_type": "markdown",
   "id": "22309158",
   "metadata": {
    "papermill": {
     "duration": 0.013092,
     "end_time": "2023-11-04T04:42:07.313605",
     "exception": false,
     "start_time": "2023-11-04T04:42:07.300513",
     "status": "completed"
    },
    "tags": []
   },
   "source": []
  },
  {
   "cell_type": "code",
   "execution_count": 10,
   "id": "20a741ec",
   "metadata": {
    "execution": {
     "iopub.execute_input": "2023-11-04T04:42:07.341075Z",
     "iopub.status.busy": "2023-11-04T04:42:07.340744Z",
     "iopub.status.idle": "2023-11-04T04:42:09.553475Z",
     "shell.execute_reply": "2023-11-04T04:42:09.552319Z"
    },
    "papermill": {
     "duration": 2.228946,
     "end_time": "2023-11-04T04:42:09.555495",
     "exception": false,
     "start_time": "2023-11-04T04:42:07.326549",
     "status": "completed"
    },
    "tags": []
   },
   "outputs": [
    {
     "data": {
      "text/plain": [
       "<Axes: >"
      ]
     },
     "execution_count": 10,
     "metadata": {},
     "output_type": "execute_result"
    },
    {
     "data": {
      "image/png": "[encoded data removed]",
      "text/plain": [
       "<Figure size 400x400 with 1 Axes>"
      ]
     },
     "metadata": {},
     "output_type": "display_data"
    }
   ],
   "source": [
    "\n",
    "import requests\n",
    "\n",
    "# Download the GeoJSON file and save it locally\n",
    "url = 'https://github.com/codeforgermany/click_that_hood/raw/main/public/data/new-york-city-boroughs.geojson'\n",
    "response = requests.get(url)\n",
    "with open('new-york-city-boroughs.geojson', 'wb') as file:\n",
    "    file.write(response.content)\n",
    "\n",
    "# Read the locally saved GeoJSON file\n",
    "borough_map = gpd.read_file('new-york-city-boroughs.geojson')\n",
    "fig, ax = plt.subplots(figsize = (4, 4))\n",
    "borough_map['geometry'].boundary.plot(edgecolor='green', linewidth=1, ax=ax)\n",
    "borough_map.plot(color='lightblue', alpha=0.7, ax=ax)"
   ]
  },
  {
   "cell_type": "markdown",
   "id": "c910eb95",
   "metadata": {
    "papermill": {
     "duration": 0.014765,
     "end_time": "2023-11-04T04:42:09.584374",
     "exception": false,
     "start_time": "2023-11-04T04:42:09.569609",
     "status": "completed"
    },
    "tags": []
   },
   "source": [
    "### What type of housing complaint should be prioritized first based on frequency, severity, and other factors in the 311 data?"
   ]
  },
  {
   "cell_type": "code",
   "execution_count": 11,
   "id": "5793aab7",
   "metadata": {
    "execution": {
     "iopub.execute_input": "2023-11-04T04:42:09.614980Z",
     "iopub.status.busy": "2023-11-04T04:42:09.614218Z",
     "iopub.status.idle": "2023-11-04T04:42:10.125414Z",
     "shell.execute_reply": "2023-11-04T04:42:10.124511Z"
    },
    "papermill": {
     "duration": 0.528871,
     "end_time": "2023-11-04T04:42:10.127568",
     "exception": false,
     "start_time": "2023-11-04T04:42:09.598697",
     "status": "completed"
    },
    "tags": []
   },
   "outputs": [
    {
     "data": {
      "text/plain": [
       "29"
      ]
     },
     "execution_count": 11,
     "metadata": {},
     "output_type": "execute_result"
    }
   ],
   "source": [
    "data.complaint_type.nunique()"
   ]
  },
  {
   "cell_type": "markdown",
   "id": "bfbb5b7b",
   "metadata": {
    "papermill": {
     "duration": 0.013676,
     "end_time": "2023-11-04T04:42:10.155562",
     "exception": false,
     "start_time": "2023-11-04T04:42:10.141886",
     "status": "completed"
    },
    "tags": []
   },
   "source": [
    "There are 29 different complaint types"
   ]
  },
  {
   "cell_type": "code",
   "execution_count": 12,
   "id": "9f49e7df",
   "metadata": {
    "execution": {
     "iopub.execute_input": "2023-11-04T04:42:10.185767Z",
     "iopub.status.busy": "2023-11-04T04:42:10.185450Z",
     "iopub.status.idle": "2023-11-04T04:42:11.085520Z",
     "shell.execute_reply": "2023-11-04T04:42:11.084558Z"
    },
    "papermill": {
     "duration": 0.917084,
     "end_time": "2023-11-04T04:42:11.087573",
     "exception": false,
     "start_time": "2023-11-04T04:42:10.170489",
     "status": "completed"
    },
    "tags": []
   },
   "outputs": [
    {
     "data": {
      "text/plain": [
       "complaint_type\n",
       "HEAT/HOT WATER            1149978\n",
       "HEATING                    887869\n",
       "PLUMBING                   702046\n",
       "GENERAL CONSTRUCTION       500863\n",
       "UNSANITARY CONDITION       434830\n",
       "PAINT - PLASTER            361258\n",
       "PAINT/PLASTER              340753\n",
       "ELECTRIC                   303115\n",
       "NONCONST                   260890\n",
       "DOOR/WINDOW                199443\n",
       "WATER LEAK                 186913\n",
       "GENERAL                    145825\n",
       "FLOORING/STAIRS            135159\n",
       "APPLIANCE                  109480\n",
       "HPD Literature Request      52830\n",
       "SAFETY                      49904\n",
       "OUTSIDE BUILDING             7015\n",
       "ELEVATOR                     6397\n",
       "Unsanitary Condition         5499\n",
       "CONSTRUCTION                 5078\n",
       "General                      1163\n",
       "Safety                        424\n",
       "STRUCTURAL                     16\n",
       "Plumbing                       11\n",
       "AGENCY                          9\n",
       "VACANT APARTMENT                8\n",
       "Outside Building                6\n",
       "Appliance                       4\n",
       "Mold                            1\n",
       "Name: count, dtype: int64"
      ]
     },
     "execution_count": 12,
     "metadata": {},
     "output_type": "execute_result"
    }
   ],
   "source": [
    "data.complaint_type.value_counts()"
   ]
  },
  {
   "cell_type": "code",
   "execution_count": 13,
   "id": "a36340f4",
   "metadata": {
    "execution": {
     "iopub.execute_input": "2023-11-04T04:42:11.118323Z",
     "iopub.status.busy": "2023-11-04T04:42:11.118050Z",
     "iopub.status.idle": "2023-11-04T04:42:12.357530Z",
     "shell.execute_reply": "2023-11-04T04:42:12.356526Z"
    },
    "papermill": {
     "duration": 1.256716,
     "end_time": "2023-11-04T04:42:12.359629",
     "exception": false,
     "start_time": "2023-11-04T04:42:11.102913",
     "status": "completed"
    },
    "tags": []
   },
   "outputs": [
    {
     "data": {
      "text/plain": [
       "Year\n",
       "2010           HEATING\n",
       "2011           HEATING\n",
       "2012           HEATING\n",
       "2013           HEATING\n",
       "2014    HEAT/HOT WATER\n",
       "2015    HEAT/HOT WATER\n",
       "2016    HEAT/HOT WATER\n",
       "2017    HEAT/HOT WATER\n",
       "2018    HEAT/HOT WATER\n",
       "2019    HEAT/HOT WATER\n",
       "Name: complaint_type, dtype: object"
      ]
     },
     "execution_count": 13,
     "metadata": {},
     "output_type": "execute_result"
    }
   ],
   "source": [
    "data.groupby(['Year'])['complaint_type'].agg(pd.Series.mode)"
   ]
  },
  {
   "cell_type": "markdown",
   "id": "731d0525",
   "metadata": {
    "papermill": {
     "duration": 0.014556,
     "end_time": "2023-11-04T04:42:12.389345",
     "exception": false,
     "start_time": "2023-11-04T04:42:12.374789",
     "status": "completed"
    },
    "tags": []
   },
   "source": [
    "\n",
    "\n",
    "- Heat/Hot Water and Heating complaints could be combined into a general \"Heat Issue\" category. Since they are the top two most frequent complaint types, merging them would consolidate the most common issues.\n",
    "\n",
    "- Plumbing, Water Leak, and Mold complaints could be merged into a \"Plumbing Issue\" or \"Water Issue\" category. These issues seem related to general plumbing systems. \n",
    "\n",
    "- General Construction and NonConst complaints could be combined into a broader \"Construction Issue\" category to cover all construction-related concerns.\n",
    "\n",
    "- Paint/Plaster and Paint-Plaster complaints seem duplicative and could be merged into a \"Paint Issue\" category.\n",
    "\n",
    "- Door/Window, Flooring/Stairs complaints could potentially be grouped into a \"Features/Fixtures Issue\" category covering issues with appliances, doors, floors etc.\n",
    "\n",
    "- Safety and Outside Building complaints could be merged into a \"Building Exterior Issue\" category encompassing external building/safety issues.\n",
    "\n",
    "- Electrical, Elevator, and Appliance complaints may fit into an \"Electrical/Mechanical Issue\" category covering power, mechanical and electrical system issues.\n"
   ]
  },
  {
   "cell_type": "code",
   "execution_count": 14,
   "id": "ec71c40c",
   "metadata": {
    "execution": {
     "iopub.execute_input": "2023-11-04T04:42:12.418380Z",
     "iopub.status.busy": "2023-11-04T04:42:12.418086Z",
     "iopub.status.idle": "2023-11-04T04:42:16.887646Z",
     "shell.execute_reply": "2023-11-04T04:42:16.886502Z"
    },
    "papermill": {
     "duration": 4.487039,
     "end_time": "2023-11-04T04:42:16.890161",
     "exception": false,
     "start_time": "2023-11-04T04:42:12.403122",
     "status": "completed"
    },
    "tags": []
   },
   "outputs": [],
   "source": [
    "\n",
    "\n",
    "# Merge Heat/Hot Water and Heating\n",
    "data.loc[data['complaint_type'] == 'HEATING', 'complaint_type'] = 'HEAT/HOT WATER'\n",
    "\n",
    "# Merge Paint/Plaster and Paint - Plaster\n",
    "data.loc[data['complaint_type'] == 'PAINT - PLASTER', 'complaint_type'] = 'PAINT/PLASTER'\n",
    "\n",
    "# Merge Plumbing, Water Leak, and Mold  \n",
    "data.loc[data['complaint_type'].isin(['WATER LEAK', 'MOLD']), 'complaint_type'] = 'PLUMBING'\n",
    "\n",
    "# Merge General Construction and NonConst\n",
    "data.loc[data['complaint_type'] == 'NONCONST', 'complaint_type'] = 'GENERAL CONSTRUCTION'\n",
    "\n",
    "# Merge Door/Window, Flooring/Stairs, and Appliance\n",
    "data.loc[data['complaint_type'].isin(['DOOR/WINDOW', 'FLOORING/STAIRS']), 'complaint_type'] = 'APPLIANCE'\n",
    "\n",
    "# Merge Safety and Outside Building \n",
    "data.loc[data['complaint_type'] == 'OUTSIDE BUILDING', 'complaint_type'] = 'SAFETY'\n",
    "\n",
    "# Merge Electrical, Elevator, and Appliance\n",
    "data.loc[data['complaint_type'].isin(['ELEVATOR', 'APPLIANCE']), 'complaint_type'] = 'ELECTRIC'\n",
    "\n",
    "data.loc[data['complaint_type'].isin(['General']), 'complaint_type'] = 'GENERAL'"
   ]
  },
  {
   "cell_type": "code",
   "execution_count": 15,
   "id": "91de2614",
   "metadata": {
    "execution": {
     "iopub.execute_input": "2023-11-04T04:42:16.920332Z",
     "iopub.status.busy": "2023-11-04T04:42:16.919992Z",
     "iopub.status.idle": "2023-11-04T04:42:18.098608Z",
     "shell.execute_reply": "2023-11-04T04:42:18.097675Z"
    },
    "papermill": {
     "duration": 1.196278,
     "end_time": "2023-11-04T04:42:18.101034",
     "exception": false,
     "start_time": "2023-11-04T04:42:16.904756",
     "status": "completed"
    },
    "tags": []
   },
   "outputs": [
    {
     "data": {
      "text/plain": [
       "Year\n",
       "2010          HEAT/HOT WATER\n",
       "2011    GENERAL CONSTRUCTION\n",
       "2012          HEAT/HOT WATER\n",
       "2013          HEAT/HOT WATER\n",
       "2014          HEAT/HOT WATER\n",
       "2015          HEAT/HOT WATER\n",
       "2016          HEAT/HOT WATER\n",
       "2017          HEAT/HOT WATER\n",
       "2018          HEAT/HOT WATER\n",
       "2019          HEAT/HOT WATER\n",
       "Name: complaint_type, dtype: object"
      ]
     },
     "execution_count": 15,
     "metadata": {},
     "output_type": "execute_result"
    }
   ],
   "source": [
    "data.groupby(['Year'])['complaint_type'].agg(pd.Series.mode)"
   ]
  },
  {
   "cell_type": "code",
   "execution_count": 16,
   "id": "f480c19e",
   "metadata": {
    "execution": {
     "iopub.execute_input": "2023-11-04T04:42:18.132536Z",
     "iopub.status.busy": "2023-11-04T04:42:18.132232Z",
     "iopub.status.idle": "2023-11-04T04:42:18.990991Z",
     "shell.execute_reply": "2023-11-04T04:42:18.990009Z"
    },
    "papermill": {
     "duration": 0.87687,
     "end_time": "2023-11-04T04:42:18.993150",
     "exception": false,
     "start_time": "2023-11-04T04:42:18.116280",
     "status": "completed"
    },
    "tags": []
   },
   "outputs": [
    {
     "name": "stdout",
     "output_type": "stream",
     "text": [
      "Top 5 complaints\n"
     ]
    },
    {
     "data": {
      "text/plain": [
       "complaint_type\n",
       "HEAT/HOT WATER          2037847\n",
       "PLUMBING                 888959\n",
       "GENERAL CONSTRUCTION     761753\n",
       "ELECTRIC                 753594\n",
       "PAINT/PLASTER            702011\n",
       "Name: count, dtype: int64"
      ]
     },
     "execution_count": 16,
     "metadata": {},
     "output_type": "execute_result"
    }
   ],
   "source": [
    "print(\"Top 5 complaints\")\n",
    "data.complaint_type.value_counts().head()\n"
   ]
  },
  {
   "cell_type": "markdown",
   "id": "32578412",
   "metadata": {
    "papermill": {
     "duration": 0.01477,
     "end_time": "2023-11-04T04:42:19.023043",
     "exception": false,
     "start_time": "2023-11-04T04:42:19.008273",
     "status": "completed"
    },
    "tags": []
   },
   "source": [
    "To better visualize the distribution of complaint types, the less frequent categories were consolidated into a new combined \"Rest\" complaint type. This merging of long-tail complaint types simplifies the analysis by reducing the number of categories to focus on the most common issues."
   ]
  },
  {
   "cell_type": "code",
   "execution_count": 17,
   "id": "8d0b2e7a",
   "metadata": {
    "execution": {
     "iopub.execute_input": "2023-11-04T04:42:19.054105Z",
     "iopub.status.busy": "2023-11-04T04:42:19.053790Z",
     "iopub.status.idle": "2023-11-04T04:42:19.909347Z",
     "shell.execute_reply": "2023-11-04T04:42:19.908469Z"
    },
    "papermill": {
     "duration": 0.873502,
     "end_time": "2023-11-04T04:42:19.911309",
     "exception": false,
     "start_time": "2023-11-04T04:42:19.037807",
     "status": "completed"
    },
    "tags": []
   },
   "outputs": [
    {
     "data": {
      "text/plain": [
       "complaint_type\n",
       "HEAT/HOT WATER            2037847\n",
       "PLUMBING                   888959\n",
       "GENERAL CONSTRUCTION       761753\n",
       "ELECTRIC                   753594\n",
       "PAINT/PLASTER              702011\n",
       "UNSANITARY CONDITION       434830\n",
       "GENERAL                    146988\n",
       "SAFETY                      56919\n",
       "HPD Literature Request      52830\n",
       "Unsanitary Condition         5499\n",
       "CONSTRUCTION                 5078\n",
       "Safety                        424\n",
       "STRUCTURAL                     16\n",
       "Plumbing                       11\n",
       "AGENCY                          9\n",
       "VACANT APARTMENT                8\n",
       "Outside Building                6\n",
       "Appliance                       4\n",
       "Mold                            1\n",
       "Name: count, dtype: int64"
      ]
     },
     "execution_count": 17,
     "metadata": {},
     "output_type": "execute_result"
    }
   ],
   "source": [
    "data.complaint_type.value_counts()"
   ]
  },
  {
   "cell_type": "code",
   "execution_count": 18,
   "id": "dc226471",
   "metadata": {
    "execution": {
     "iopub.execute_input": "2023-11-04T04:42:19.941470Z",
     "iopub.status.busy": "2023-11-04T04:42:19.941166Z",
     "iopub.status.idle": "2023-11-04T04:42:23.348756Z",
     "shell.execute_reply": "2023-11-04T04:42:23.347819Z"
    },
    "papermill": {
     "duration": 3.424963,
     "end_time": "2023-11-04T04:42:23.351051",
     "exception": false,
     "start_time": "2023-11-04T04:42:19.926088",
     "status": "completed"
    },
    "tags": []
   },
   "outputs": [
    {
     "data": {
      "text/plain": [
       "Index(['Mold', 'Appliance', 'Outside Building', 'VACANT APARTMENT', 'AGENCY',\n",
       "       'Plumbing', 'STRUCTURAL', 'Safety', 'CONSTRUCTION',\n",
       "       'Unsanitary Condition', 'HPD Literature Request'],\n",
       "      dtype='object', name='complaint_type')"
      ]
     },
     "execution_count": 18,
     "metadata": {},
     "output_type": "execute_result"
    }
   ],
   "source": [
    "data_copy = data.copy()\n",
    "\n",
    "category = data['complaint_type'].value_counts().sort_values().head(11).index\n",
    "category"
   ]
  },
  {
   "cell_type": "code",
   "execution_count": 19,
   "id": "e8f72207",
   "metadata": {
    "execution": {
     "iopub.execute_input": "2023-11-04T04:42:23.381964Z",
     "iopub.status.busy": "2023-11-04T04:42:23.381643Z",
     "iopub.status.idle": "2023-11-04T04:42:23.748010Z",
     "shell.execute_reply": "2023-11-04T04:42:23.747136Z"
    },
    "papermill": {
     "duration": 0.384145,
     "end_time": "2023-11-04T04:42:23.750014",
     "exception": false,
     "start_time": "2023-11-04T04:42:23.365869",
     "status": "completed"
    },
    "tags": []
   },
   "outputs": [],
   "source": [
    "data_copy.loc[data_copy['complaint_type'].isin(category), 'complaint_type'] = 'Rest'"
   ]
  },
  {
   "cell_type": "code",
   "execution_count": 20,
   "id": "06150c71",
   "metadata": {
    "execution": {
     "iopub.execute_input": "2023-11-04T04:42:23.781413Z",
     "iopub.status.busy": "2023-11-04T04:42:23.781090Z",
     "iopub.status.idle": "2023-11-04T04:42:24.648888Z",
     "shell.execute_reply": "2023-11-04T04:42:24.647337Z"
    },
    "papermill": {
     "duration": 0.887066,
     "end_time": "2023-11-04T04:42:24.652166",
     "exception": false,
     "start_time": "2023-11-04T04:42:23.765100",
     "status": "completed"
    },
    "tags": []
   },
   "outputs": [],
   "source": [
    "complaints = data_copy['complaint_type'].value_counts().sort_values()"
   ]
  },
  {
   "cell_type": "code",
   "execution_count": 21,
   "id": "5ef026c4",
   "metadata": {
    "execution": {
     "iopub.execute_input": "2023-11-04T04:42:24.690686Z",
     "iopub.status.busy": "2023-11-04T04:42:24.690201Z",
     "iopub.status.idle": "2023-11-04T04:42:24.697112Z",
     "shell.execute_reply": "2023-11-04T04:42:24.696268Z"
    },
    "papermill": {
     "duration": 0.024322,
     "end_time": "2023-11-04T04:42:24.699056",
     "exception": false,
     "start_time": "2023-11-04T04:42:24.674734",
     "status": "completed"
    },
    "tags": []
   },
   "outputs": [
    {
     "data": {
      "text/plain": [
       "complaint_type\n",
       "SAFETY                    56919\n",
       "Rest                      63886\n",
       "GENERAL                  146988\n",
       "UNSANITARY CONDITION     434830\n",
       "PAINT/PLASTER            702011\n",
       "ELECTRIC                 753594\n",
       "GENERAL CONSTRUCTION     761753\n",
       "PLUMBING                 888959\n",
       "HEAT/HOT WATER          2037847\n",
       "Name: count, dtype: int64"
      ]
     },
     "execution_count": 21,
     "metadata": {},
     "output_type": "execute_result"
    }
   ],
   "source": [
    "complaints"
   ]
  },
  {
   "cell_type": "code",
   "execution_count": null,
   "id": "e6e09c1e",
   "metadata": {
    "papermill": {
     "duration": 0.014651,
     "end_time": "2023-11-04T04:42:24.728531",
     "exception": false,
     "start_time": "2023-11-04T04:42:24.713880",
     "status": "completed"
    },
    "tags": []
   },
   "outputs": [],
   "source": []
  },
  {
   "cell_type": "code",
   "execution_count": 22,
   "id": "02582c8f",
   "metadata": {
    "execution": {
     "iopub.execute_input": "2023-11-04T04:42:24.759499Z",
     "iopub.status.busy": "2023-11-04T04:42:24.759227Z",
     "iopub.status.idle": "2023-11-04T04:42:25.188683Z",
     "shell.execute_reply": "2023-11-04T04:42:25.187750Z"
    },
    "papermill": {
     "duration": 0.44779,
     "end_time": "2023-11-04T04:42:25.191124",
     "exception": false,
     "start_time": "2023-11-04T04:42:24.743334",
     "status": "completed"
    },
    "tags": []
   },
   "outputs": [
    {
     "data": {
      "image/png": "[encoded data removed]",
      "text/plain": [
       "<Figure size 1200x900 with 1 Axes>"
      ]
     },
     "metadata": {},
     "output_type": "display_data"
    }
   ],
   "source": [
    "complaints.plot(kind='barh', figsize=(12, 9), fontsize=11, color=sns.color_palette('coolwarm', len(complaints)))\n",
    "plt.ylabel('Complaint Type', fontsize=14)\n",
    "plt.xlabel('Number of Complaints', fontsize=14)\n",
    "\n",
    "for index, value in enumerate(complaints):\n",
    "    label = str(format(int(value), ',')) + '  -  {}%'.format(round( (value/complaints.sum())*100, 1)) \n",
    "    plt.annotate(label, xy = (value , index ), color = 'black')"
   ]
  },
  {
   "cell_type": "markdown",
   "id": "87b41a5c",
   "metadata": {
    "papermill": {
     "duration": 0.01494,
     "end_time": "2023-11-04T04:42:25.222183",
     "exception": false,
     "start_time": "2023-11-04T04:42:25.207243",
     "status": "completed"
    },
    "tags": []
   },
   "source": [
    "Heating water is the most complained type in the industry, with 34.9% of all complaints. This is followed by plumbing (15.2%), general construction (13.0%), paint/plaster (12.0%), and unsanitary condition (7.4%)."
   ]
  },
  {
   "cell_type": "code",
   "execution_count": 23,
   "id": "6595a10c",
   "metadata": {
    "execution": {
     "iopub.execute_input": "2023-11-04T04:42:25.254075Z",
     "iopub.status.busy": "2023-11-04T04:42:25.253755Z",
     "iopub.status.idle": "2023-11-04T04:42:26.421228Z",
     "shell.execute_reply": "2023-11-04T04:42:26.420210Z"
    },
    "papermill": {
     "duration": 1.186048,
     "end_time": "2023-11-04T04:42:26.423417",
     "exception": false,
     "start_time": "2023-11-04T04:42:25.237369",
     "status": "completed"
    },
    "tags": []
   },
   "outputs": [
    {
     "data": {
      "text/plain": [
       "Year\n",
       "2010          HEAT/HOT WATER\n",
       "2011    GENERAL CONSTRUCTION\n",
       "2012          HEAT/HOT WATER\n",
       "2013          HEAT/HOT WATER\n",
       "2014          HEAT/HOT WATER\n",
       "2015          HEAT/HOT WATER\n",
       "2016          HEAT/HOT WATER\n",
       "2017          HEAT/HOT WATER\n",
       "2018          HEAT/HOT WATER\n",
       "2019          HEAT/HOT WATER\n",
       "Name: complaint_type, dtype: object"
      ]
     },
     "execution_count": 23,
     "metadata": {},
     "output_type": "execute_result"
    }
   ],
   "source": [
    "data.groupby(['Year'])['complaint_type'].agg(pd.Series.mode)"
   ]
  },
  {
   "cell_type": "markdown",
   "id": "cf0c3394",
   "metadata": {
    "papermill": {
     "duration": 0.01567,
     "end_time": "2023-11-04T04:42:26.454993",
     "exception": false,
     "start_time": "2023-11-04T04:42:26.439323",
     "status": "completed"
    },
    "tags": []
   },
   "source": [
    "it looks like \"HEAT/HOT WATER\" is the most common complaint type for all years from 2010 to 2019."
   ]
  },
  {
   "cell_type": "markdown",
   "id": "0155ab70",
   "metadata": {
    "papermill": {
     "duration": 0.015561,
     "end_time": "2023-11-04T04:42:26.486194",
     "exception": false,
     "start_time": "2023-11-04T04:42:26.470633",
     "status": "completed"
    },
    "tags": []
   },
   "source": [
    "Are certain boroughs, ZIP codes, or streets experiencing more severe complaints of this top priority type?\n",
    "\n"
   ]
  },
  {
   "cell_type": "code",
   "execution_count": 24,
   "id": "f4518b02",
   "metadata": {
    "execution": {
     "iopub.execute_input": "2023-11-04T04:42:26.518542Z",
     "iopub.status.busy": "2023-11-04T04:42:26.518230Z",
     "iopub.status.idle": "2023-11-04T04:42:27.863841Z",
     "shell.execute_reply": "2023-11-04T04:42:27.862751Z"
    },
    "papermill": {
     "duration": 1.36464,
     "end_time": "2023-11-04T04:42:27.866407",
     "exception": false,
     "start_time": "2023-11-04T04:42:26.501767",
     "status": "completed"
    },
    "tags": []
   },
   "outputs": [
    {
     "data": {
      "text/html": [
       "<div>\n",
       "<style scoped>\n",
       "    .dataframe tbody tr th:only-of-type {\n",
       "        vertical-align: middle;\n",
       "    }\n",
       "\n",
       "    .dataframe tbody tr th {\n",
       "        vertical-align: top;\n",
       "    }\n",
       "\n",
       "    .dataframe thead th {\n",
       "        text-align: right;\n",
       "    }\n",
       "</style>\n",
       "<table border=\"1\" class=\"dataframe\">\n",
       "  <thead>\n",
       "    <tr style=\"text-align: right;\">\n",
       "      <th></th>\n",
       "      <th>borough</th>\n",
       "      <th>incident_zip</th>\n",
       "      <th>street_name</th>\n",
       "      <th>latitude</th>\n",
       "      <th>longitude</th>\n",
       "      <th>complaint_type</th>\n",
       "    </tr>\n",
       "  </thead>\n",
       "  <tbody>\n",
       "    <tr>\n",
       "      <th>0</th>\n",
       "      <td>MANHATTAN</td>\n",
       "      <td>10032.0</td>\n",
       "      <td>WEST  160 STREET</td>\n",
       "      <td>40.835396</td>\n",
       "      <td>-73.942262</td>\n",
       "      <td>HEAT/HOT WATER</td>\n",
       "    </tr>\n",
       "    <tr>\n",
       "      <th>19</th>\n",
       "      <td>MANHATTAN</td>\n",
       "      <td>10026.0</td>\n",
       "      <td>WEST  113 STREET</td>\n",
       "      <td>40.801529</td>\n",
       "      <td>-73.954533</td>\n",
       "      <td>HEAT/HOT WATER</td>\n",
       "    </tr>\n",
       "    <tr>\n",
       "      <th>20</th>\n",
       "      <td>QUEENS</td>\n",
       "      <td>11691.0</td>\n",
       "      <td>DIX AVENUE</td>\n",
       "      <td>40.606587</td>\n",
       "      <td>-73.755868</td>\n",
       "      <td>HEAT/HOT WATER</td>\n",
       "    </tr>\n",
       "    <tr>\n",
       "      <th>38</th>\n",
       "      <td>MANHATTAN</td>\n",
       "      <td>10031.0</td>\n",
       "      <td>WEST  134 STREET</td>\n",
       "      <td>40.818604</td>\n",
       "      <td>-73.953625</td>\n",
       "      <td>HEAT/HOT WATER</td>\n",
       "    </tr>\n",
       "    <tr>\n",
       "      <th>43</th>\n",
       "      <td>BROOKLYN</td>\n",
       "      <td>11226.0</td>\n",
       "      <td>CROOKE AVENUE</td>\n",
       "      <td>40.651999</td>\n",
       "      <td>-73.964560</td>\n",
       "      <td>HEAT/HOT WATER</td>\n",
       "    </tr>\n",
       "  </tbody>\n",
       "</table>\n",
       "</div>"
      ],
      "text/plain": [
       "      borough  incident_zip       street_name   latitude  longitude  \\\n",
       "0   MANHATTAN       10032.0  WEST  160 STREET  40.835396 -73.942262   \n",
       "19  MANHATTAN       10026.0  WEST  113 STREET  40.801529 -73.954533   \n",
       "20     QUEENS       11691.0        DIX AVENUE  40.606587 -73.755868   \n",
       "38  MANHATTAN       10031.0  WEST  134 STREET  40.818604 -73.953625   \n",
       "43   BROOKLYN       11226.0     CROOKE AVENUE  40.651999 -73.964560   \n",
       "\n",
       "    complaint_type  \n",
       "0   HEAT/HOT WATER  \n",
       "19  HEAT/HOT WATER  \n",
       "20  HEAT/HOT WATER  \n",
       "38  HEAT/HOT WATER  \n",
       "43  HEAT/HOT WATER  "
      ]
     },
     "execution_count": 24,
     "metadata": {},
     "output_type": "execute_result"
    }
   ],
   "source": [
    "area_data = data[['borough', 'incident_zip', 'street_name', 'latitude', 'longitude', 'complaint_type']]\n",
    "area_data = area_data[area_data['complaint_type'] == 'HEAT/HOT WATER']\n",
    "area_data.head()"
   ]
  },
  {
   "cell_type": "code",
   "execution_count": 25,
   "id": "f39087f4",
   "metadata": {
    "execution": {
     "iopub.execute_input": "2023-11-04T04:42:27.903293Z",
     "iopub.status.busy": "2023-11-04T04:42:27.903019Z",
     "iopub.status.idle": "2023-11-04T04:42:27.908580Z",
     "shell.execute_reply": "2023-11-04T04:42:27.907689Z"
    },
    "papermill": {
     "duration": 0.025108,
     "end_time": "2023-11-04T04:42:27.910739",
     "exception": false,
     "start_time": "2023-11-04T04:42:27.885631",
     "status": "completed"
    },
    "tags": []
   },
   "outputs": [
    {
     "data": {
      "text/plain": [
       "(2037847, 6)"
      ]
     },
     "execution_count": 25,
     "metadata": {},
     "output_type": "execute_result"
    }
   ],
   "source": [
    "area_data.shape"
   ]
  },
  {
   "cell_type": "code",
   "execution_count": 26,
   "id": "b8eeb1ac",
   "metadata": {
    "execution": {
     "iopub.execute_input": "2023-11-04T04:42:27.945875Z",
     "iopub.status.busy": "2023-11-04T04:42:27.945621Z",
     "iopub.status.idle": "2023-11-04T04:42:28.503298Z",
     "shell.execute_reply": "2023-11-04T04:42:28.502301Z"
    },
    "papermill": {
     "duration": 0.577517,
     "end_time": "2023-11-04T04:42:28.505307",
     "exception": false,
     "start_time": "2023-11-04T04:42:27.927790",
     "status": "completed"
    },
    "tags": []
   },
   "outputs": [
    {
     "data": {
      "text/plain": [
       "borough               0\n",
       "complaint_type        0\n",
       "street_name           1\n",
       "latitude          18965\n",
       "longitude         18965\n",
       "incident_zip      18969\n",
       "dtype: int64"
      ]
     },
     "execution_count": 26,
     "metadata": {},
     "output_type": "execute_result"
    }
   ],
   "source": [
    "area_data.isnull().sum().sort_values()"
   ]
  },
  {
   "cell_type": "code",
   "execution_count": 27,
   "id": "8af12441",
   "metadata": {
    "execution": {
     "iopub.execute_input": "2023-11-04T04:42:28.542663Z",
     "iopub.status.busy": "2023-11-04T04:42:28.542364Z",
     "iopub.status.idle": "2023-11-04T04:42:29.654624Z",
     "shell.execute_reply": "2023-11-04T04:42:29.653734Z"
    },
    "papermill": {
     "duration": 1.133614,
     "end_time": "2023-11-04T04:42:29.656701",
     "exception": false,
     "start_time": "2023-11-04T04:42:28.523087",
     "status": "completed"
    },
    "tags": []
   },
   "outputs": [
    {
     "data": {
      "text/html": [
       "<div>\n",
       "<style scoped>\n",
       "    .dataframe tbody tr th:only-of-type {\n",
       "        vertical-align: middle;\n",
       "    }\n",
       "\n",
       "    .dataframe tbody tr th {\n",
       "        vertical-align: top;\n",
       "    }\n",
       "\n",
       "    .dataframe thead th {\n",
       "        text-align: right;\n",
       "    }\n",
       "</style>\n",
       "<table border=\"1\" class=\"dataframe\">\n",
       "  <thead>\n",
       "    <tr style=\"text-align: right;\">\n",
       "      <th></th>\n",
       "      <th>Counts</th>\n",
       "      <th>%</th>\n",
       "    </tr>\n",
       "  </thead>\n",
       "  <tbody>\n",
       "    <tr>\n",
       "      <th>borough</th>\n",
       "      <td>0</td>\n",
       "      <td>0.000000</td>\n",
       "    </tr>\n",
       "    <tr>\n",
       "      <th>complaint_type</th>\n",
       "      <td>0</td>\n",
       "      <td>0.000000</td>\n",
       "    </tr>\n",
       "    <tr>\n",
       "      <th>street_name</th>\n",
       "      <td>1</td>\n",
       "      <td>0.000049</td>\n",
       "    </tr>\n",
       "    <tr>\n",
       "      <th>latitude</th>\n",
       "      <td>18965</td>\n",
       "      <td>0.930639</td>\n",
       "    </tr>\n",
       "    <tr>\n",
       "      <th>longitude</th>\n",
       "      <td>18965</td>\n",
       "      <td>0.930639</td>\n",
       "    </tr>\n",
       "    <tr>\n",
       "      <th>incident_zip</th>\n",
       "      <td>18969</td>\n",
       "      <td>0.930835</td>\n",
       "    </tr>\n",
       "  </tbody>\n",
       "</table>\n",
       "</div>"
      ],
      "text/plain": [
       "                Counts         %\n",
       "borough              0  0.000000\n",
       "complaint_type       0  0.000000\n",
       "street_name          1  0.000049\n",
       "latitude         18965  0.930639\n",
       "longitude        18965  0.930639\n",
       "incident_zip     18969  0.930835"
      ]
     },
     "execution_count": 27,
     "metadata": {},
     "output_type": "execute_result"
    }
   ],
   "source": [
    "percentages = (area_data.isnull().sum()*100/area_data.shape[0]).sort_values()\n",
    "\n",
    "nan_data = pd.concat([area_data.isnull().sum().sort_values(), percentages], axis=1, keys=['Counts','%'])\n",
    "nan_data"
   ]
  },
  {
   "cell_type": "code",
   "execution_count": 28,
   "id": "b2a76c25",
   "metadata": {
    "execution": {
     "iopub.execute_input": "2023-11-04T04:42:29.690804Z",
     "iopub.status.busy": "2023-11-04T04:42:29.690510Z",
     "iopub.status.idle": "2023-11-04T04:42:35.652674Z",
     "shell.execute_reply": "2023-11-04T04:42:35.651551Z"
    },
    "papermill": {
     "duration": 5.981751,
     "end_time": "2023-11-04T04:42:35.655045",
     "exception": false,
     "start_time": "2023-11-04T04:42:29.673294",
     "status": "completed"
    },
    "tags": []
   },
   "outputs": [
    {
     "data": {
      "text/plain": [
       "<Axes: >"
      ]
     },
     "execution_count": 28,
     "metadata": {},
     "output_type": "execute_result"
    },
    {
     "data": {
      "image/png": "[encoded data removed]",
      "text/plain": [
       "<Figure size 2500x1000 with 2 Axes>"
      ]
     },
     "metadata": {},
     "output_type": "display_data"
    }
   ],
   "source": [
    "msno.matrix(area_data)"
   ]
  },
  {
   "cell_type": "code",
   "execution_count": 29,
   "id": "0c4f553d",
   "metadata": {
    "execution": {
     "iopub.execute_input": "2023-11-04T04:42:35.691552Z",
     "iopub.status.busy": "2023-11-04T04:42:35.691247Z",
     "iopub.status.idle": "2023-11-04T04:42:36.141460Z",
     "shell.execute_reply": "2023-11-04T04:42:36.140449Z"
    },
    "papermill": {
     "duration": 0.471358,
     "end_time": "2023-11-04T04:42:36.144490",
     "exception": false,
     "start_time": "2023-11-04T04:42:35.673132",
     "status": "completed"
    },
    "tags": []
   },
   "outputs": [],
   "source": [
    "from sklearn.model_selection import train_test_split\n",
    "from sklearn.preprocessing import StandardScaler\n",
    "\n",
    "from scipy import stats"
   ]
  },
  {
   "cell_type": "code",
   "execution_count": 30,
   "id": "f11b5f7f",
   "metadata": {
    "execution": {
     "iopub.execute_input": "2023-11-04T04:42:36.189090Z",
     "iopub.status.busy": "2023-11-04T04:42:36.188156Z",
     "iopub.status.idle": "2023-11-04T04:42:36.948326Z",
     "shell.execute_reply": "2023-11-04T04:42:36.947519Z"
    },
    "papermill": {
     "duration": 0.783366,
     "end_time": "2023-11-04T04:42:36.950687",
     "exception": false,
     "start_time": "2023-11-04T04:42:36.167321",
     "status": "completed"
    },
    "tags": []
   },
   "outputs": [],
   "source": [
    "from imblearn.pipeline import Pipeline\n",
    "from imblearn.under_sampling import RandomUnderSampler\n",
    "from imblearn.over_sampling import SMOTE"
   ]
  },
  {
   "cell_type": "code",
   "execution_count": 31,
   "id": "57774cbe",
   "metadata": {
    "execution": {
     "iopub.execute_input": "2023-11-04T04:42:36.987812Z",
     "iopub.status.busy": "2023-11-04T04:42:36.987307Z",
     "iopub.status.idle": "2023-11-04T04:42:37.305169Z",
     "shell.execute_reply": "2023-11-04T04:42:37.304313Z"
    },
    "papermill": {
     "duration": 0.338531,
     "end_time": "2023-11-04T04:42:37.307698",
     "exception": false,
     "start_time": "2023-11-04T04:42:36.969167",
     "status": "completed"
    },
    "tags": []
   },
   "outputs": [],
   "source": [
    "from sklearn.metrics import confusion_matrix, accuracy_score, roc_curve, roc_auc_score\n",
    "from sklearn.model_selection import cross_val_score, cross_val_predict,GridSearchCV, StratifiedKFold,learning_curve\n",
    "from sklearn.ensemble import RandomForestClassifier\n",
    "from xgboost import XGBClassifier\n"
   ]
  },
  {
   "cell_type": "code",
   "execution_count": 32,
   "id": "32d4dba1",
   "metadata": {
    "execution": {
     "iopub.execute_input": "2023-11-04T04:42:37.344035Z",
     "iopub.status.busy": "2023-11-04T04:42:37.343512Z",
     "iopub.status.idle": "2023-11-04T04:42:37.348764Z",
     "shell.execute_reply": "2023-11-04T04:42:37.347879Z"
    },
    "papermill": {
     "duration": 0.025465,
     "end_time": "2023-11-04T04:42:37.350785",
     "exception": false,
     "start_time": "2023-11-04T04:42:37.325320",
     "status": "completed"
    },
    "tags": []
   },
   "outputs": [],
   "source": [
    "label_size = 17\n",
    "plt.rcParams['axes.labelsize'] = label_size\n",
    "plt.rcParams['axes.titlesize'] = label_size\n",
    "plt.rcParams['xtick.labelsize'] = label_size-3\n",
    "plt.rcParams['ytick.labelsize'] = label_size-3"
   ]
  },
  {
   "cell_type": "code",
   "execution_count": 33,
   "id": "01468426",
   "metadata": {
    "execution": {
     "iopub.execute_input": "2023-11-04T04:42:37.385770Z",
     "iopub.status.busy": "2023-11-04T04:42:37.385500Z",
     "iopub.status.idle": "2023-11-04T04:42:37.389319Z",
     "shell.execute_reply": "2023-11-04T04:42:37.388474Z"
    },
    "papermill": {
     "duration": 0.023565,
     "end_time": "2023-11-04T04:42:37.391227",
     "exception": false,
     "start_time": "2023-11-04T04:42:37.367662",
     "status": "completed"
    },
    "tags": []
   },
   "outputs": [],
   "source": [
    "random_state = 42\n",
    "scoring_metric = 'accuracy'"
   ]
  },
  {
   "cell_type": "code",
   "execution_count": null,
   "id": "1d56a7a7",
   "metadata": {
    "papermill": {
     "duration": 0.016769,
     "end_time": "2023-11-04T04:42:37.424802",
     "exception": false,
     "start_time": "2023-11-04T04:42:37.408033",
     "status": "completed"
    },
    "tags": []
   },
   "outputs": [],
   "source": []
  },
  {
   "cell_type": "code",
   "execution_count": null,
   "id": "e98035a9",
   "metadata": {
    "papermill": {
     "duration": 0.016612,
     "end_time": "2023-11-04T04:42:37.458221",
     "exception": false,
     "start_time": "2023-11-04T04:42:37.441609",
     "status": "completed"
    },
    "tags": []
   },
   "outputs": [],
   "source": []
  }
 ],
 "metadata": {
  "kernelspec": {
   "display_name": "Python 3",
   "language": "python",
   "name": "python3"
  },
  "language_info": {
   "codemirror_mode": {
    "name": "ipython",
    "version": 3
   },
   "file_extension": ".py",
   "mimetype": "text/x-python",
   "name": "python",
   "nbconvert_exporter": "python",
   "pygments_lexer": "ipython3",
   "version": "3.10.12"
  },
  "papermill": {
   "default_parameters": {},
   "duration": 97.289799,
   "end_time": "2023-11-04T04:42:38.595324",
   "environment_variables": {},
   "exception": null,
   "input_path": "__notebook__.ipynb",
   "output_path": "__notebook__.ipynb",
   "parameters": {},
   "start_time": "2023-11-04T04:41:01.305525",
   "version": "2.4.0"
  }
 },
 "nbformat": 4,
 "nbformat_minor": 5
}
