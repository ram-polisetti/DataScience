{
 "cells": [
  {
   "cell_type": "code",
   "execution_count": 1,
   "id": "c6b496d4",
   "metadata": {
    "execution": {
     "iopub.execute_input": "2023-11-15T19:54:10.650735Z",
     "iopub.status.busy": "2023-11-15T19:54:10.650413Z",
     "iopub.status.idle": "2023-11-15T19:54:11.492251Z",
     "shell.execute_reply": "2023-11-15T19:54:11.491477Z"
    },
    "papermill": {
     "duration": 0.858178,
     "end_time": "2023-11-15T19:54:11.494725",
     "exception": false,
     "start_time": "2023-11-15T19:54:10.636547",
     "status": "completed"
    },
    "tags": []
   },
   "outputs": [],
   "source": [
    "# Importing libraries\n",
    "import numpy as np \n",
    "import pandas as pd"
   ]
  },
  {
   "cell_type": "code",
   "execution_count": 2,
   "id": "7b8d8e3b",
   "metadata": {
    "execution": {
     "iopub.execute_input": "2023-11-15T19:54:11.519492Z",
     "iopub.status.busy": "2023-11-15T19:54:11.519089Z",
     "iopub.status.idle": "2023-11-15T19:54:11.614142Z",
     "shell.execute_reply": "2023-11-15T19:54:11.613050Z"
    },
    "papermill": {
     "duration": 0.110014,
     "end_time": "2023-11-15T19:54:11.616554",
     "exception": false,
     "start_time": "2023-11-15T19:54:11.506540",
     "status": "completed"
    },
    "tags": []
   },
   "outputs": [
    {
     "data": {
      "text/html": [
       "<div>\n",
       "<style scoped>\n",
       "    .dataframe tbody tr th:only-of-type {\n",
       "        vertical-align: middle;\n",
       "    }\n",
       "\n",
       "    .dataframe tbody tr th {\n",
       "        vertical-align: top;\n",
       "    }\n",
       "\n",
       "    .dataframe thead th {\n",
       "        text-align: right;\n",
       "    }\n",
       "</style>\n",
       "<table border=\"1\" class=\"dataframe\">\n",
       "  <thead>\n",
       "    <tr style=\"text-align: right;\">\n",
       "      <th></th>\n",
       "      <th>customerID</th>\n",
       "      <th>gender</th>\n",
       "      <th>SeniorCitizen</th>\n",
       "      <th>Partner</th>\n",
       "      <th>Dependents</th>\n",
       "      <th>tenure</th>\n",
       "      <th>PhoneService</th>\n",
       "      <th>MultipleLines</th>\n",
       "      <th>InternetService</th>\n",
       "      <th>OnlineSecurity</th>\n",
       "      <th>...</th>\n",
       "      <th>DeviceProtection</th>\n",
       "      <th>TechSupport</th>\n",
       "      <th>StreamingTV</th>\n",
       "      <th>StreamingMovies</th>\n",
       "      <th>Contract</th>\n",
       "      <th>PaperlessBilling</th>\n",
       "      <th>PaymentMethod</th>\n",
       "      <th>MonthlyCharges</th>\n",
       "      <th>TotalCharges</th>\n",
       "      <th>Churn</th>\n",
       "    </tr>\n",
       "  </thead>\n",
       "  <tbody>\n",
       "    <tr>\n",
       "      <th>0</th>\n",
       "      <td>7590-VHVEG</td>\n",
       "      <td>Female</td>\n",
       "      <td>0</td>\n",
       "      <td>Yes</td>\n",
       "      <td>No</td>\n",
       "      <td>1</td>\n",
       "      <td>No</td>\n",
       "      <td>No phone service</td>\n",
       "      <td>DSL</td>\n",
       "      <td>No</td>\n",
       "      <td>...</td>\n",
       "      <td>No</td>\n",
       "      <td>No</td>\n",
       "      <td>No</td>\n",
       "      <td>No</td>\n",
       "      <td>Month-to-month</td>\n",
       "      <td>Yes</td>\n",
       "      <td>Electronic check</td>\n",
       "      <td>29.85</td>\n",
       "      <td>29.85</td>\n",
       "      <td>No</td>\n",
       "    </tr>\n",
       "    <tr>\n",
       "      <th>1</th>\n",
       "      <td>5575-GNVDE</td>\n",
       "      <td>Male</td>\n",
       "      <td>0</td>\n",
       "      <td>No</td>\n",
       "      <td>No</td>\n",
       "      <td>34</td>\n",
       "      <td>Yes</td>\n",
       "      <td>No</td>\n",
       "      <td>DSL</td>\n",
       "      <td>Yes</td>\n",
       "      <td>...</td>\n",
       "      <td>Yes</td>\n",
       "      <td>No</td>\n",
       "      <td>No</td>\n",
       "      <td>No</td>\n",
       "      <td>One year</td>\n",
       "      <td>No</td>\n",
       "      <td>Mailed check</td>\n",
       "      <td>56.95</td>\n",
       "      <td>1889.5</td>\n",
       "      <td>No</td>\n",
       "    </tr>\n",
       "    <tr>\n",
       "      <th>2</th>\n",
       "      <td>3668-QPYBK</td>\n",
       "      <td>Male</td>\n",
       "      <td>0</td>\n",
       "      <td>No</td>\n",
       "      <td>No</td>\n",
       "      <td>2</td>\n",
       "      <td>Yes</td>\n",
       "      <td>No</td>\n",
       "      <td>DSL</td>\n",
       "      <td>Yes</td>\n",
       "      <td>...</td>\n",
       "      <td>No</td>\n",
       "      <td>No</td>\n",
       "      <td>No</td>\n",
       "      <td>No</td>\n",
       "      <td>Month-to-month</td>\n",
       "      <td>Yes</td>\n",
       "      <td>Mailed check</td>\n",
       "      <td>53.85</td>\n",
       "      <td>108.15</td>\n",
       "      <td>Yes</td>\n",
       "    </tr>\n",
       "    <tr>\n",
       "      <th>3</th>\n",
       "      <td>7795-CFOCW</td>\n",
       "      <td>Male</td>\n",
       "      <td>0</td>\n",
       "      <td>No</td>\n",
       "      <td>No</td>\n",
       "      <td>45</td>\n",
       "      <td>No</td>\n",
       "      <td>No phone service</td>\n",
       "      <td>DSL</td>\n",
       "      <td>Yes</td>\n",
       "      <td>...</td>\n",
       "      <td>Yes</td>\n",
       "      <td>Yes</td>\n",
       "      <td>No</td>\n",
       "      <td>No</td>\n",
       "      <td>One year</td>\n",
       "      <td>No</td>\n",
       "      <td>Bank transfer (automatic)</td>\n",
       "      <td>42.30</td>\n",
       "      <td>1840.75</td>\n",
       "      <td>No</td>\n",
       "    </tr>\n",
       "    <tr>\n",
       "      <th>4</th>\n",
       "      <td>9237-HQITU</td>\n",
       "      <td>Female</td>\n",
       "      <td>0</td>\n",
       "      <td>No</td>\n",
       "      <td>No</td>\n",
       "      <td>2</td>\n",
       "      <td>Yes</td>\n",
       "      <td>No</td>\n",
       "      <td>Fiber optic</td>\n",
       "      <td>No</td>\n",
       "      <td>...</td>\n",
       "      <td>No</td>\n",
       "      <td>No</td>\n",
       "      <td>No</td>\n",
       "      <td>No</td>\n",
       "      <td>Month-to-month</td>\n",
       "      <td>Yes</td>\n",
       "      <td>Electronic check</td>\n",
       "      <td>70.70</td>\n",
       "      <td>151.65</td>\n",
       "      <td>Yes</td>\n",
       "    </tr>\n",
       "  </tbody>\n",
       "</table>\n",
       "<p>5 rows × 21 columns</p>\n",
       "</div>"
      ],
      "text/plain": [
       "   customerID  gender  SeniorCitizen Partner Dependents  tenure PhoneService  \\\n",
       "0  7590-VHVEG  Female              0     Yes         No       1           No   \n",
       "1  5575-GNVDE    Male              0      No         No      34          Yes   \n",
       "2  3668-QPYBK    Male              0      No         No       2          Yes   \n",
       "3  7795-CFOCW    Male              0      No         No      45           No   \n",
       "4  9237-HQITU  Female              0      No         No       2          Yes   \n",
       "\n",
       "      MultipleLines InternetService OnlineSecurity  ... DeviceProtection  \\\n",
       "0  No phone service             DSL             No  ...               No   \n",
       "1                No             DSL            Yes  ...              Yes   \n",
       "2                No             DSL            Yes  ...               No   \n",
       "3  No phone service             DSL            Yes  ...              Yes   \n",
       "4                No     Fiber optic             No  ...               No   \n",
       "\n",
       "  TechSupport StreamingTV StreamingMovies        Contract PaperlessBilling  \\\n",
       "0          No          No              No  Month-to-month              Yes   \n",
       "1          No          No              No        One year               No   \n",
       "2          No          No              No  Month-to-month              Yes   \n",
       "3         Yes          No              No        One year               No   \n",
       "4          No          No              No  Month-to-month              Yes   \n",
       "\n",
       "               PaymentMethod MonthlyCharges  TotalCharges Churn  \n",
       "0           Electronic check          29.85         29.85    No  \n",
       "1               Mailed check          56.95        1889.5    No  \n",
       "2               Mailed check          53.85        108.15   Yes  \n",
       "3  Bank transfer (automatic)          42.30       1840.75    No  \n",
       "4           Electronic check          70.70        151.65   Yes  \n",
       "\n",
       "[5 rows x 21 columns]"
      ]
     },
     "execution_count": 2,
     "metadata": {},
     "output_type": "execute_result"
    }
   ],
   "source": [
    "telco_data = pd.read_csv('/kaggle/input/wa-fnusec-telcocustomerchurn/WA_Fn-UseC_-Telco-Customer-Churn.csv')\n",
    "telco_data.head()"
   ]
  },
  {
   "cell_type": "code",
   "execution_count": 3,
   "id": "6ac50467",
   "metadata": {
    "execution": {
     "iopub.execute_input": "2023-11-15T19:54:11.644598Z",
     "iopub.status.busy": "2023-11-15T19:54:11.644299Z",
     "iopub.status.idle": "2023-11-15T19:54:11.650467Z",
     "shell.execute_reply": "2023-11-15T19:54:11.649546Z"
    },
    "papermill": {
     "duration": 0.021841,
     "end_time": "2023-11-15T19:54:11.652522",
     "exception": false,
     "start_time": "2023-11-15T19:54:11.630681",
     "status": "completed"
    },
    "tags": []
   },
   "outputs": [
    {
     "data": {
      "text/plain": [
       "(7043, 21)"
      ]
     },
     "execution_count": 3,
     "metadata": {},
     "output_type": "execute_result"
    }
   ],
   "source": [
    "telco_data.shape"
   ]
  },
  {
   "cell_type": "code",
   "execution_count": 4,
   "id": "c66f906f",
   "metadata": {
    "execution": {
     "iopub.execute_input": "2023-11-15T19:54:11.678538Z",
     "iopub.status.busy": "2023-11-15T19:54:11.678275Z",
     "iopub.status.idle": "2023-11-15T19:54:11.685679Z",
     "shell.execute_reply": "2023-11-15T19:54:11.684667Z"
    },
    "papermill": {
     "duration": 0.022914,
     "end_time": "2023-11-15T19:54:11.687736",
     "exception": false,
     "start_time": "2023-11-15T19:54:11.664822",
     "status": "completed"
    },
    "tags": []
   },
   "outputs": [
    {
     "data": {
      "text/plain": [
       "Index(['customerID', 'gender', 'SeniorCitizen', 'Partner', 'Dependents',\n",
       "       'tenure', 'PhoneService', 'MultipleLines', 'InternetService',\n",
       "       'OnlineSecurity', 'OnlineBackup', 'DeviceProtection', 'TechSupport',\n",
       "       'StreamingTV', 'StreamingMovies', 'Contract', 'PaperlessBilling',\n",
       "       'PaymentMethod', 'MonthlyCharges', 'TotalCharges', 'Churn'],\n",
       "      dtype='object')"
      ]
     },
     "execution_count": 4,
     "metadata": {},
     "output_type": "execute_result"
    }
   ],
   "source": [
    "telco_data.columns"
   ]
  },
  {
   "cell_type": "code",
   "execution_count": 5,
   "id": "bb53b688",
   "metadata": {
    "execution": {
     "iopub.execute_input": "2023-11-15T19:54:11.715466Z",
     "iopub.status.busy": "2023-11-15T19:54:11.714760Z",
     "iopub.status.idle": "2023-11-15T19:54:11.753582Z",
     "shell.execute_reply": "2023-11-15T19:54:11.752422Z"
    },
    "papermill": {
     "duration": 0.055497,
     "end_time": "2023-11-15T19:54:11.756191",
     "exception": false,
     "start_time": "2023-11-15T19:54:11.700694",
     "status": "completed"
    },
    "tags": []
   },
   "outputs": [
    {
     "name": "stdout",
     "output_type": "stream",
     "text": [
      "<class 'pandas.core.frame.DataFrame'>\n",
      "RangeIndex: 7043 entries, 0 to 7042\n",
      "Data columns (total 21 columns):\n",
      " #   Column            Non-Null Count  Dtype  \n",
      "---  ------            --------------  -----  \n",
      " 0   customerID        7043 non-null   object \n",
      " 1   gender            7043 non-null   object \n",
      " 2   SeniorCitizen     7043 non-null   int64  \n",
      " 3   Partner           7043 non-null   object \n",
      " 4   Dependents        7043 non-null   object \n",
      " 5   tenure            7043 non-null   int64  \n",
      " 6   PhoneService      7043 non-null   object \n",
      " 7   MultipleLines     7043 non-null   object \n",
      " 8   InternetService   7043 non-null   object \n",
      " 9   OnlineSecurity    7043 non-null   object \n",
      " 10  OnlineBackup      7043 non-null   object \n",
      " 11  DeviceProtection  7043 non-null   object \n",
      " 12  TechSupport       7043 non-null   object \n",
      " 13  StreamingTV       7043 non-null   object \n",
      " 14  StreamingMovies   7043 non-null   object \n",
      " 15  Contract          7043 non-null   object \n",
      " 16  PaperlessBilling  7043 non-null   object \n",
      " 17  PaymentMethod     7043 non-null   object \n",
      " 18  MonthlyCharges    7043 non-null   float64\n",
      " 19  TotalCharges      7043 non-null   object \n",
      " 20  Churn             7043 non-null   object \n",
      "dtypes: float64(1), int64(2), object(18)\n",
      "memory usage: 1.1+ MB\n"
     ]
    }
   ],
   "source": [
    "telco_data.info()"
   ]
  },
  {
   "cell_type": "code",
   "execution_count": 6,
   "id": "4bc017b7",
   "metadata": {
    "execution": {
     "iopub.execute_input": "2023-11-15T19:54:11.785843Z",
     "iopub.status.busy": "2023-11-15T19:54:11.784883Z",
     "iopub.status.idle": "2023-11-15T19:54:11.806905Z",
     "shell.execute_reply": "2023-11-15T19:54:11.805934Z"
    },
    "papermill": {
     "duration": 0.03945,
     "end_time": "2023-11-15T19:54:11.809316",
     "exception": false,
     "start_time": "2023-11-15T19:54:11.769866",
     "status": "completed"
    },
    "tags": []
   },
   "outputs": [
    {
     "data": {
      "text/plain": [
       "customerID          0\n",
       "gender              0\n",
       "SeniorCitizen       0\n",
       "Partner             0\n",
       "Dependents          0\n",
       "tenure              0\n",
       "PhoneService        0\n",
       "MultipleLines       0\n",
       "InternetService     0\n",
       "OnlineSecurity      0\n",
       "OnlineBackup        0\n",
       "DeviceProtection    0\n",
       "TechSupport         0\n",
       "StreamingTV         0\n",
       "StreamingMovies     0\n",
       "Contract            0\n",
       "PaperlessBilling    0\n",
       "PaymentMethod       0\n",
       "MonthlyCharges      0\n",
       "TotalCharges        0\n",
       "Churn               0\n",
       "dtype: int64"
      ]
     },
     "execution_count": 6,
     "metadata": {},
     "output_type": "execute_result"
    }
   ],
   "source": [
    "telco_data.isnull().sum()"
   ]
  },
  {
   "cell_type": "markdown",
   "id": "c769b878",
   "metadata": {
    "papermill": {
     "duration": 0.015529,
     "end_time": "2023-11-15T19:54:11.839642",
     "exception": false,
     "start_time": "2023-11-15T19:54:11.824113",
     "status": "completed"
    },
    "tags": []
   },
   "source": [
    "Dataset comprises of 7043 rows and 21 attributes. There are no null values in the dataset but the column TotalCharges is wrongly detected as object."
   ]
  },
  {
   "cell_type": "code",
   "execution_count": 7,
   "id": "9ab8e781",
   "metadata": {
    "execution": {
     "iopub.execute_input": "2023-11-15T19:54:11.873085Z",
     "iopub.status.busy": "2023-11-15T19:54:11.872117Z",
     "iopub.status.idle": "2023-11-15T19:54:11.883877Z",
     "shell.execute_reply": "2023-11-15T19:54:11.882691Z"
    },
    "papermill": {
     "duration": 0.031381,
     "end_time": "2023-11-15T19:54:11.886489",
     "exception": false,
     "start_time": "2023-11-15T19:54:11.855108",
     "status": "completed"
    },
    "tags": []
   },
   "outputs": [],
   "source": [
    "telco_data.TotalCharges = pd.to_numeric(telco_data.TotalCharges, errors='coerce')"
   ]
  },
  {
   "cell_type": "code",
   "execution_count": 8,
   "id": "4eefab6d",
   "metadata": {
    "execution": {
     "iopub.execute_input": "2023-11-15T19:54:11.919542Z",
     "iopub.status.busy": "2023-11-15T19:54:11.919146Z",
     "iopub.status.idle": "2023-11-15T19:54:11.946840Z",
     "shell.execute_reply": "2023-11-15T19:54:11.945504Z"
    },
    "papermill": {
     "duration": 0.0468,
     "end_time": "2023-11-15T19:54:11.949299",
     "exception": false,
     "start_time": "2023-11-15T19:54:11.902499",
     "status": "completed"
    },
    "tags": []
   },
   "outputs": [
    {
     "name": "stdout",
     "output_type": "stream",
     "text": [
      "<class 'pandas.core.frame.DataFrame'>\n",
      "RangeIndex: 7043 entries, 0 to 7042\n",
      "Data columns (total 21 columns):\n",
      " #   Column            Non-Null Count  Dtype  \n",
      "---  ------            --------------  -----  \n",
      " 0   customerID        7043 non-null   object \n",
      " 1   gender            7043 non-null   object \n",
      " 2   SeniorCitizen     7043 non-null   int64  \n",
      " 3   Partner           7043 non-null   object \n",
      " 4   Dependents        7043 non-null   object \n",
      " 5   tenure            7043 non-null   int64  \n",
      " 6   PhoneService      7043 non-null   object \n",
      " 7   MultipleLines     7043 non-null   object \n",
      " 8   InternetService   7043 non-null   object \n",
      " 9   OnlineSecurity    7043 non-null   object \n",
      " 10  OnlineBackup      7043 non-null   object \n",
      " 11  DeviceProtection  7043 non-null   object \n",
      " 12  TechSupport       7043 non-null   object \n",
      " 13  StreamingTV       7043 non-null   object \n",
      " 14  StreamingMovies   7043 non-null   object \n",
      " 15  Contract          7043 non-null   object \n",
      " 16  PaperlessBilling  7043 non-null   object \n",
      " 17  PaymentMethod     7043 non-null   object \n",
      " 18  MonthlyCharges    7043 non-null   float64\n",
      " 19  TotalCharges      7032 non-null   float64\n",
      " 20  Churn             7043 non-null   object \n",
      "dtypes: float64(2), int64(2), object(17)\n",
      "memory usage: 1.1+ MB\n"
     ]
    }
   ],
   "source": [
    "telco_data.info()"
   ]
  },
  {
   "cell_type": "code",
   "execution_count": 9,
   "id": "d6894524",
   "metadata": {
    "execution": {
     "iopub.execute_input": "2023-11-15T19:54:11.981880Z",
     "iopub.status.busy": "2023-11-15T19:54:11.981092Z",
     "iopub.status.idle": "2023-11-15T19:54:12.004257Z",
     "shell.execute_reply": "2023-11-15T19:54:12.003048Z"
    },
    "papermill": {
     "duration": 0.04238,
     "end_time": "2023-11-15T19:54:12.006854",
     "exception": false,
     "start_time": "2023-11-15T19:54:11.964474",
     "status": "completed"
    },
    "tags": []
   },
   "outputs": [
    {
     "data": {
      "text/plain": [
       "customerID           0\n",
       "gender               0\n",
       "SeniorCitizen        0\n",
       "Partner              0\n",
       "Dependents           0\n",
       "tenure               0\n",
       "PhoneService         0\n",
       "MultipleLines        0\n",
       "InternetService      0\n",
       "OnlineSecurity       0\n",
       "OnlineBackup         0\n",
       "DeviceProtection     0\n",
       "TechSupport          0\n",
       "StreamingTV          0\n",
       "StreamingMovies      0\n",
       "Contract             0\n",
       "PaperlessBilling     0\n",
       "PaymentMethod        0\n",
       "MonthlyCharges       0\n",
       "TotalCharges        11\n",
       "Churn                0\n",
       "dtype: int64"
      ]
     },
     "execution_count": 9,
     "metadata": {},
     "output_type": "execute_result"
    }
   ],
   "source": [
    "telco_data.isnull().sum()"
   ]
  },
  {
   "cell_type": "markdown",
   "id": "3a35c0ee",
   "metadata": {
    "papermill": {
     "duration": 0.015008,
     "end_time": "2023-11-15T19:54:12.037409",
     "exception": false,
     "start_time": "2023-11-15T19:54:12.022401",
     "status": "completed"
    },
    "tags": []
   },
   "source": [
    "TotalCharges have 11 Missing values. "
   ]
  },
  {
   "cell_type": "code",
   "execution_count": 10,
   "id": "e5c12d36",
   "metadata": {
    "execution": {
     "iopub.execute_input": "2023-11-15T19:54:12.069468Z",
     "iopub.status.busy": "2023-11-15T19:54:12.069065Z",
     "iopub.status.idle": "2023-11-15T19:54:12.103083Z",
     "shell.execute_reply": "2023-11-15T19:54:12.101974Z"
    },
    "papermill": {
     "duration": 0.052653,
     "end_time": "2023-11-15T19:54:12.105359",
     "exception": false,
     "start_time": "2023-11-15T19:54:12.052706",
     "status": "completed"
    },
    "tags": []
   },
   "outputs": [
    {
     "data": {
      "text/html": [
       "<div>\n",
       "<style scoped>\n",
       "    .dataframe tbody tr th:only-of-type {\n",
       "        vertical-align: middle;\n",
       "    }\n",
       "\n",
       "    .dataframe tbody tr th {\n",
       "        vertical-align: top;\n",
       "    }\n",
       "\n",
       "    .dataframe thead th {\n",
       "        text-align: right;\n",
       "    }\n",
       "</style>\n",
       "<table border=\"1\" class=\"dataframe\">\n",
       "  <thead>\n",
       "    <tr style=\"text-align: right;\">\n",
       "      <th></th>\n",
       "      <th>customerID</th>\n",
       "      <th>gender</th>\n",
       "      <th>SeniorCitizen</th>\n",
       "      <th>Partner</th>\n",
       "      <th>Dependents</th>\n",
       "      <th>tenure</th>\n",
       "      <th>PhoneService</th>\n",
       "      <th>MultipleLines</th>\n",
       "      <th>InternetService</th>\n",
       "      <th>OnlineSecurity</th>\n",
       "      <th>...</th>\n",
       "      <th>DeviceProtection</th>\n",
       "      <th>TechSupport</th>\n",
       "      <th>StreamingTV</th>\n",
       "      <th>StreamingMovies</th>\n",
       "      <th>Contract</th>\n",
       "      <th>PaperlessBilling</th>\n",
       "      <th>PaymentMethod</th>\n",
       "      <th>MonthlyCharges</th>\n",
       "      <th>TotalCharges</th>\n",
       "      <th>Churn</th>\n",
       "    </tr>\n",
       "  </thead>\n",
       "  <tbody>\n",
       "    <tr>\n",
       "      <th>488</th>\n",
       "      <td>4472-LVYGI</td>\n",
       "      <td>Female</td>\n",
       "      <td>0</td>\n",
       "      <td>Yes</td>\n",
       "      <td>Yes</td>\n",
       "      <td>0</td>\n",
       "      <td>No</td>\n",
       "      <td>No phone service</td>\n",
       "      <td>DSL</td>\n",
       "      <td>Yes</td>\n",
       "      <td>...</td>\n",
       "      <td>Yes</td>\n",
       "      <td>Yes</td>\n",
       "      <td>Yes</td>\n",
       "      <td>No</td>\n",
       "      <td>Two year</td>\n",
       "      <td>Yes</td>\n",
       "      <td>Bank transfer (automatic)</td>\n",
       "      <td>52.55</td>\n",
       "      <td>NaN</td>\n",
       "      <td>No</td>\n",
       "    </tr>\n",
       "    <tr>\n",
       "      <th>753</th>\n",
       "      <td>3115-CZMZD</td>\n",
       "      <td>Male</td>\n",
       "      <td>0</td>\n",
       "      <td>No</td>\n",
       "      <td>Yes</td>\n",
       "      <td>0</td>\n",
       "      <td>Yes</td>\n",
       "      <td>No</td>\n",
       "      <td>No</td>\n",
       "      <td>No internet service</td>\n",
       "      <td>...</td>\n",
       "      <td>No internet service</td>\n",
       "      <td>No internet service</td>\n",
       "      <td>No internet service</td>\n",
       "      <td>No internet service</td>\n",
       "      <td>Two year</td>\n",
       "      <td>No</td>\n",
       "      <td>Mailed check</td>\n",
       "      <td>20.25</td>\n",
       "      <td>NaN</td>\n",
       "      <td>No</td>\n",
       "    </tr>\n",
       "    <tr>\n",
       "      <th>936</th>\n",
       "      <td>5709-LVOEQ</td>\n",
       "      <td>Female</td>\n",
       "      <td>0</td>\n",
       "      <td>Yes</td>\n",
       "      <td>Yes</td>\n",
       "      <td>0</td>\n",
       "      <td>Yes</td>\n",
       "      <td>No</td>\n",
       "      <td>DSL</td>\n",
       "      <td>Yes</td>\n",
       "      <td>...</td>\n",
       "      <td>Yes</td>\n",
       "      <td>No</td>\n",
       "      <td>Yes</td>\n",
       "      <td>Yes</td>\n",
       "      <td>Two year</td>\n",
       "      <td>No</td>\n",
       "      <td>Mailed check</td>\n",
       "      <td>80.85</td>\n",
       "      <td>NaN</td>\n",
       "      <td>No</td>\n",
       "    </tr>\n",
       "    <tr>\n",
       "      <th>1082</th>\n",
       "      <td>4367-NUYAO</td>\n",
       "      <td>Male</td>\n",
       "      <td>0</td>\n",
       "      <td>Yes</td>\n",
       "      <td>Yes</td>\n",
       "      <td>0</td>\n",
       "      <td>Yes</td>\n",
       "      <td>Yes</td>\n",
       "      <td>No</td>\n",
       "      <td>No internet service</td>\n",
       "      <td>...</td>\n",
       "      <td>No internet service</td>\n",
       "      <td>No internet service</td>\n",
       "      <td>No internet service</td>\n",
       "      <td>No internet service</td>\n",
       "      <td>Two year</td>\n",
       "      <td>No</td>\n",
       "      <td>Mailed check</td>\n",
       "      <td>25.75</td>\n",
       "      <td>NaN</td>\n",
       "      <td>No</td>\n",
       "    </tr>\n",
       "    <tr>\n",
       "      <th>1340</th>\n",
       "      <td>1371-DWPAZ</td>\n",
       "      <td>Female</td>\n",
       "      <td>0</td>\n",
       "      <td>Yes</td>\n",
       "      <td>Yes</td>\n",
       "      <td>0</td>\n",
       "      <td>No</td>\n",
       "      <td>No phone service</td>\n",
       "      <td>DSL</td>\n",
       "      <td>Yes</td>\n",
       "      <td>...</td>\n",
       "      <td>Yes</td>\n",
       "      <td>Yes</td>\n",
       "      <td>Yes</td>\n",
       "      <td>No</td>\n",
       "      <td>Two year</td>\n",
       "      <td>No</td>\n",
       "      <td>Credit card (automatic)</td>\n",
       "      <td>56.05</td>\n",
       "      <td>NaN</td>\n",
       "      <td>No</td>\n",
       "    </tr>\n",
       "    <tr>\n",
       "      <th>3331</th>\n",
       "      <td>7644-OMVMY</td>\n",
       "      <td>Male</td>\n",
       "      <td>0</td>\n",
       "      <td>Yes</td>\n",
       "      <td>Yes</td>\n",
       "      <td>0</td>\n",
       "      <td>Yes</td>\n",
       "      <td>No</td>\n",
       "      <td>No</td>\n",
       "      <td>No internet service</td>\n",
       "      <td>...</td>\n",
       "      <td>No internet service</td>\n",
       "      <td>No internet service</td>\n",
       "      <td>No internet service</td>\n",
       "      <td>No internet service</td>\n",
       "      <td>Two year</td>\n",
       "      <td>No</td>\n",
       "      <td>Mailed check</td>\n",
       "      <td>19.85</td>\n",
       "      <td>NaN</td>\n",
       "      <td>No</td>\n",
       "    </tr>\n",
       "    <tr>\n",
       "      <th>3826</th>\n",
       "      <td>3213-VVOLG</td>\n",
       "      <td>Male</td>\n",
       "      <td>0</td>\n",
       "      <td>Yes</td>\n",
       "      <td>Yes</td>\n",
       "      <td>0</td>\n",
       "      <td>Yes</td>\n",
       "      <td>Yes</td>\n",
       "      <td>No</td>\n",
       "      <td>No internet service</td>\n",
       "      <td>...</td>\n",
       "      <td>No internet service</td>\n",
       "      <td>No internet service</td>\n",
       "      <td>No internet service</td>\n",
       "      <td>No internet service</td>\n",
       "      <td>Two year</td>\n",
       "      <td>No</td>\n",
       "      <td>Mailed check</td>\n",
       "      <td>25.35</td>\n",
       "      <td>NaN</td>\n",
       "      <td>No</td>\n",
       "    </tr>\n",
       "    <tr>\n",
       "      <th>4380</th>\n",
       "      <td>2520-SGTTA</td>\n",
       "      <td>Female</td>\n",
       "      <td>0</td>\n",
       "      <td>Yes</td>\n",
       "      <td>Yes</td>\n",
       "      <td>0</td>\n",
       "      <td>Yes</td>\n",
       "      <td>No</td>\n",
       "      <td>No</td>\n",
       "      <td>No internet service</td>\n",
       "      <td>...</td>\n",
       "      <td>No internet service</td>\n",
       "      <td>No internet service</td>\n",
       "      <td>No internet service</td>\n",
       "      <td>No internet service</td>\n",
       "      <td>Two year</td>\n",
       "      <td>No</td>\n",
       "      <td>Mailed check</td>\n",
       "      <td>20.00</td>\n",
       "      <td>NaN</td>\n",
       "      <td>No</td>\n",
       "    </tr>\n",
       "    <tr>\n",
       "      <th>5218</th>\n",
       "      <td>2923-ARZLG</td>\n",
       "      <td>Male</td>\n",
       "      <td>0</td>\n",
       "      <td>Yes</td>\n",
       "      <td>Yes</td>\n",
       "      <td>0</td>\n",
       "      <td>Yes</td>\n",
       "      <td>No</td>\n",
       "      <td>No</td>\n",
       "      <td>No internet service</td>\n",
       "      <td>...</td>\n",
       "      <td>No internet service</td>\n",
       "      <td>No internet service</td>\n",
       "      <td>No internet service</td>\n",
       "      <td>No internet service</td>\n",
       "      <td>One year</td>\n",
       "      <td>Yes</td>\n",
       "      <td>Mailed check</td>\n",
       "      <td>19.70</td>\n",
       "      <td>NaN</td>\n",
       "      <td>No</td>\n",
       "    </tr>\n",
       "    <tr>\n",
       "      <th>6670</th>\n",
       "      <td>4075-WKNIU</td>\n",
       "      <td>Female</td>\n",
       "      <td>0</td>\n",
       "      <td>Yes</td>\n",
       "      <td>Yes</td>\n",
       "      <td>0</td>\n",
       "      <td>Yes</td>\n",
       "      <td>Yes</td>\n",
       "      <td>DSL</td>\n",
       "      <td>No</td>\n",
       "      <td>...</td>\n",
       "      <td>Yes</td>\n",
       "      <td>Yes</td>\n",
       "      <td>Yes</td>\n",
       "      <td>No</td>\n",
       "      <td>Two year</td>\n",
       "      <td>No</td>\n",
       "      <td>Mailed check</td>\n",
       "      <td>73.35</td>\n",
       "      <td>NaN</td>\n",
       "      <td>No</td>\n",
       "    </tr>\n",
       "    <tr>\n",
       "      <th>6754</th>\n",
       "      <td>2775-SEFEE</td>\n",
       "      <td>Male</td>\n",
       "      <td>0</td>\n",
       "      <td>No</td>\n",
       "      <td>Yes</td>\n",
       "      <td>0</td>\n",
       "      <td>Yes</td>\n",
       "      <td>Yes</td>\n",
       "      <td>DSL</td>\n",
       "      <td>Yes</td>\n",
       "      <td>...</td>\n",
       "      <td>No</td>\n",
       "      <td>Yes</td>\n",
       "      <td>No</td>\n",
       "      <td>No</td>\n",
       "      <td>Two year</td>\n",
       "      <td>Yes</td>\n",
       "      <td>Bank transfer (automatic)</td>\n",
       "      <td>61.90</td>\n",
       "      <td>NaN</td>\n",
       "      <td>No</td>\n",
       "    </tr>\n",
       "  </tbody>\n",
       "</table>\n",
       "<p>11 rows × 21 columns</p>\n",
       "</div>"
      ],
      "text/plain": [
       "      customerID  gender  SeniorCitizen Partner Dependents  tenure  \\\n",
       "488   4472-LVYGI  Female              0     Yes        Yes       0   \n",
       "753   3115-CZMZD    Male              0      No        Yes       0   \n",
       "936   5709-LVOEQ  Female              0     Yes        Yes       0   \n",
       "1082  4367-NUYAO    Male              0     Yes        Yes       0   \n",
       "1340  1371-DWPAZ  Female              0     Yes        Yes       0   \n",
       "3331  7644-OMVMY    Male              0     Yes        Yes       0   \n",
       "3826  3213-VVOLG    Male              0     Yes        Yes       0   \n",
       "4380  2520-SGTTA  Female              0     Yes        Yes       0   \n",
       "5218  2923-ARZLG    Male              0     Yes        Yes       0   \n",
       "6670  4075-WKNIU  Female              0     Yes        Yes       0   \n",
       "6754  2775-SEFEE    Male              0      No        Yes       0   \n",
       "\n",
       "     PhoneService     MultipleLines InternetService       OnlineSecurity  ...  \\\n",
       "488            No  No phone service             DSL                  Yes  ...   \n",
       "753           Yes                No              No  No internet service  ...   \n",
       "936           Yes                No             DSL                  Yes  ...   \n",
       "1082          Yes               Yes              No  No internet service  ...   \n",
       "1340           No  No phone service             DSL                  Yes  ...   \n",
       "3331          Yes                No              No  No internet service  ...   \n",
       "3826          Yes               Yes              No  No internet service  ...   \n",
       "4380          Yes                No              No  No internet service  ...   \n",
       "5218          Yes                No              No  No internet service  ...   \n",
       "6670          Yes               Yes             DSL                   No  ...   \n",
       "6754          Yes               Yes             DSL                  Yes  ...   \n",
       "\n",
       "         DeviceProtection          TechSupport          StreamingTV  \\\n",
       "488                   Yes                  Yes                  Yes   \n",
       "753   No internet service  No internet service  No internet service   \n",
       "936                   Yes                   No                  Yes   \n",
       "1082  No internet service  No internet service  No internet service   \n",
       "1340                  Yes                  Yes                  Yes   \n",
       "3331  No internet service  No internet service  No internet service   \n",
       "3826  No internet service  No internet service  No internet service   \n",
       "4380  No internet service  No internet service  No internet service   \n",
       "5218  No internet service  No internet service  No internet service   \n",
       "6670                  Yes                  Yes                  Yes   \n",
       "6754                   No                  Yes                   No   \n",
       "\n",
       "          StreamingMovies  Contract PaperlessBilling  \\\n",
       "488                    No  Two year              Yes   \n",
       "753   No internet service  Two year               No   \n",
       "936                   Yes  Two year               No   \n",
       "1082  No internet service  Two year               No   \n",
       "1340                   No  Two year               No   \n",
       "3331  No internet service  Two year               No   \n",
       "3826  No internet service  Two year               No   \n",
       "4380  No internet service  Two year               No   \n",
       "5218  No internet service  One year              Yes   \n",
       "6670                   No  Two year               No   \n",
       "6754                   No  Two year              Yes   \n",
       "\n",
       "                  PaymentMethod MonthlyCharges  TotalCharges  Churn  \n",
       "488   Bank transfer (automatic)          52.55           NaN     No  \n",
       "753                Mailed check          20.25           NaN     No  \n",
       "936                Mailed check          80.85           NaN     No  \n",
       "1082               Mailed check          25.75           NaN     No  \n",
       "1340    Credit card (automatic)          56.05           NaN     No  \n",
       "3331               Mailed check          19.85           NaN     No  \n",
       "3826               Mailed check          25.35           NaN     No  \n",
       "4380               Mailed check          20.00           NaN     No  \n",
       "5218               Mailed check          19.70           NaN     No  \n",
       "6670               Mailed check          73.35           NaN     No  \n",
       "6754  Bank transfer (automatic)          61.90           NaN     No  \n",
       "\n",
       "[11 rows x 21 columns]"
      ]
     },
     "execution_count": 10,
     "metadata": {},
     "output_type": "execute_result"
    }
   ],
   "source": [
    "telco_data[telco_data.TotalCharges.isnull()]"
   ]
  },
  {
   "cell_type": "markdown",
   "id": "43c39dc9",
   "metadata": {
    "papermill": {
     "duration": 0.013913,
     "end_time": "2023-11-15T19:54:12.188407",
     "exception": false,
     "start_time": "2023-11-15T19:54:12.174494",
     "status": "completed"
    },
    "tags": []
   },
   "source": [
    "All these observations have zero tenure eventhough the monthly charges are not null. These observations look contradictory."
   ]
  },
  {
   "cell_type": "code",
   "execution_count": 11,
   "id": "c1373037",
   "metadata": {
    "execution": {
     "iopub.execute_input": "2023-11-15T19:54:12.219342Z",
     "iopub.status.busy": "2023-11-15T19:54:12.218926Z",
     "iopub.status.idle": "2023-11-15T19:54:12.241147Z",
     "shell.execute_reply": "2023-11-15T19:54:12.240041Z"
    },
    "papermill": {
     "duration": 0.040561,
     "end_time": "2023-11-15T19:54:12.243664",
     "exception": false,
     "start_time": "2023-11-15T19:54:12.203103",
     "status": "completed"
    },
    "tags": []
   },
   "outputs": [
    {
     "name": "stdout",
     "output_type": "stream",
     "text": [
      "Column: customerID - Unique Values: ['7590-VHVEG' '5575-GNVDE' '3668-QPYBK' ... '4801-JZAZL' '8361-LTMKD'\n",
      " '3186-AJIEK']\n",
      "Column: gender - Unique Values: ['Female' 'Male']\n",
      "Column: SeniorCitizen - Unique Values: [0 1]\n",
      "Column: Partner - Unique Values: ['Yes' 'No']\n",
      "Column: Dependents - Unique Values: ['No' 'Yes']\n",
      "Column: tenure - Unique Values: [ 1 34  2 45  8 22 10 28 62 13 16 58 49 25 69 52 71 21 12 30 47 72 17 27\n",
      "  5 46 11 70 63 43 15 60 18 66  9  3 31 50 64 56  7 42 35 48 29 65 38 68\n",
      " 32 55 37 36 41  6  4 33 67 23 57 61 14 20 53 40 59 24 44 19 54 51 26  0\n",
      " 39]\n",
      "Column: PhoneService - Unique Values: ['No' 'Yes']\n",
      "Column: MultipleLines - Unique Values: ['No phone service' 'No' 'Yes']\n",
      "Column: InternetService - Unique Values: ['DSL' 'Fiber optic' 'No']\n",
      "Column: OnlineSecurity - Unique Values: ['No' 'Yes' 'No internet service']\n",
      "Column: OnlineBackup - Unique Values: ['Yes' 'No' 'No internet service']\n",
      "Column: DeviceProtection - Unique Values: ['No' 'Yes' 'No internet service']\n",
      "Column: TechSupport - Unique Values: ['No' 'Yes' 'No internet service']\n",
      "Column: StreamingTV - Unique Values: ['No' 'Yes' 'No internet service']\n",
      "Column: StreamingMovies - Unique Values: ['No' 'Yes' 'No internet service']\n",
      "Column: Contract - Unique Values: ['Month-to-month' 'One year' 'Two year']\n",
      "Column: PaperlessBilling - Unique Values: ['Yes' 'No']\n",
      "Column: PaymentMethod - Unique Values: ['Electronic check' 'Mailed check' 'Bank transfer (automatic)'\n",
      " 'Credit card (automatic)']\n",
      "Column: MonthlyCharges - Unique Values: [29.85 56.95 53.85 ... 63.1  44.2  78.7 ]\n",
      "Column: TotalCharges - Unique Values: [  29.85 1889.5   108.15 ...  346.45  306.6  6844.5 ]\n",
      "Column: Churn - Unique Values: ['No' 'Yes']\n"
     ]
    }
   ],
   "source": [
    "# lets look at unique values for each column\n",
    "for column in telco_data.columns:\n",
    "    print('Column: {} - Unique Values: {}'.format(column, telco_data[column].unique()))"
   ]
  },
  {
   "cell_type": "markdown",
   "id": "d04f259e",
   "metadata": {
    "papermill": {
     "duration": 0.0142,
     "end_time": "2023-11-15T19:54:12.273691",
     "exception": false,
     "start_time": "2023-11-15T19:54:12.259491",
     "status": "completed"
    },
    "tags": []
   },
   "source": [
    "These columns can be categorized into 3 categories\n",
    "\n",
    "1. Demographic Information\n",
    "    - gender\n",
    "    - SeniorCitizen\n",
    "    - Partner\n",
    "    - Dependents\n",
    "2. Customer Account Information\n",
    "    - tenure\n",
    "    - Contract\n",
    "    - PaperlessBilling\n",
    "    - PaymentMethod\n",
    "    - MonthlyCharges\n",
    "    - TotalCharges\n",
    "3. Services Information\n",
    "    - PhoneService\n",
    "    - MultipleLines\n",
    "    - InternetServices\n",
    "    - OnlineSecurity\n",
    "    - OnlineBackup\n",
    "    - DeviceProtection\n",
    "    - TechSupport\n",
    "    - StreamingTV\n",
    "    - StreamingMovies"
   ]
  },
  {
   "cell_type": "code",
   "execution_count": 12,
   "id": "72c11785",
   "metadata": {
    "execution": {
     "iopub.execute_input": "2023-11-15T19:54:12.303961Z",
     "iopub.status.busy": "2023-11-15T19:54:12.303566Z",
     "iopub.status.idle": "2023-11-15T19:54:12.311346Z",
     "shell.execute_reply": "2023-11-15T19:54:12.310452Z"
    },
    "papermill": {
     "duration": 0.025261,
     "end_time": "2023-11-15T19:54:12.313432",
     "exception": false,
     "start_time": "2023-11-15T19:54:12.288171",
     "status": "completed"
    },
    "tags": []
   },
   "outputs": [],
   "source": [
    "#Dropping customerID \n",
    "telco_data.drop(columns='customerID', inplace=True)"
   ]
  },
  {
   "cell_type": "markdown",
   "id": "4062a4b0",
   "metadata": {
    "papermill": {
     "duration": 0.014359,
     "end_time": "2023-11-15T19:54:12.342387",
     "exception": false,
     "start_time": "2023-11-15T19:54:12.328028",
     "status": "completed"
    },
    "tags": []
   },
   "source": [
    "Column: PaymentMethod - Unique Values: ['Electronic check' 'Mailed check' 'Bank transfer (automatic)'\n",
    " 'Credit card (automatic)']\n",
    " the string '(automatic)' is redundant. "
   ]
  },
  {
   "cell_type": "code",
   "execution_count": 13,
   "id": "a6aca1b3",
   "metadata": {
    "execution": {
     "iopub.execute_input": "2023-11-15T19:54:12.378766Z",
     "iopub.status.busy": "2023-11-15T19:54:12.378339Z",
     "iopub.status.idle": "2023-11-15T19:54:12.390295Z",
     "shell.execute_reply": "2023-11-15T19:54:12.389129Z"
    },
    "papermill": {
     "duration": 0.035,
     "end_time": "2023-11-15T19:54:12.392839",
     "exception": false,
     "start_time": "2023-11-15T19:54:12.357839",
     "status": "completed"
    },
    "tags": []
   },
   "outputs": [],
   "source": [
    "telco_data['PaymentMethod'] = telco_data['PaymentMethod'].str.replace(' (automatic)', '', regex=False)"
   ]
  },
  {
   "cell_type": "code",
   "execution_count": 14,
   "id": "b828ef65",
   "metadata": {
    "execution": {
     "iopub.execute_input": "2023-11-15T19:54:12.429978Z",
     "iopub.status.busy": "2023-11-15T19:54:12.429072Z",
     "iopub.status.idle": "2023-11-15T19:54:12.436704Z",
     "shell.execute_reply": "2023-11-15T19:54:12.435769Z"
    },
    "papermill": {
     "duration": 0.026238,
     "end_time": "2023-11-15T19:54:12.438781",
     "exception": false,
     "start_time": "2023-11-15T19:54:12.412543",
     "status": "completed"
    },
    "tags": []
   },
   "outputs": [
    {
     "data": {
      "text/plain": [
       "array(['Electronic check', 'Mailed check', 'Bank transfer', 'Credit card'],\n",
       "      dtype=object)"
      ]
     },
     "execution_count": 14,
     "metadata": {},
     "output_type": "execute_result"
    }
   ],
   "source": [
    "telco_data.PaymentMethod.unique()"
   ]
  },
  {
   "cell_type": "code",
   "execution_count": 15,
   "id": "724b07b8",
   "metadata": {
    "execution": {
     "iopub.execute_input": "2023-11-15T19:54:12.470047Z",
     "iopub.status.busy": "2023-11-15T19:54:12.469675Z",
     "iopub.status.idle": "2023-11-15T19:54:13.786160Z",
     "shell.execute_reply": "2023-11-15T19:54:13.785200Z"
    },
    "papermill": {
     "duration": 1.335235,
     "end_time": "2023-11-15T19:54:13.788718",
     "exception": false,
     "start_time": "2023-11-15T19:54:12.453483",
     "status": "completed"
    },
    "tags": []
   },
   "outputs": [
    {
     "name": "stderr",
     "output_type": "stream",
     "text": [
      "/opt/conda/lib/python3.10/site-packages/scipy/__init__.py:146: UserWarning: A NumPy version >=1.16.5 and <1.23.0 is required for this version of SciPy (detected version 1.23.5\n",
      "  warnings.warn(f\"A NumPy version >={np_minversion} and <{np_maxversion}\"\n"
     ]
    }
   ],
   "source": [
    "import matplotlib.pyplot as plt\n",
    "import seaborn as sns\n",
    "import math"
   ]
  },
  {
   "cell_type": "code",
   "execution_count": 16,
   "id": "3214228d",
   "metadata": {
    "execution": {
     "iopub.execute_input": "2023-11-15T19:54:13.819439Z",
     "iopub.status.busy": "2023-11-15T19:54:13.818873Z",
     "iopub.status.idle": "2023-11-15T19:54:14.125777Z",
     "shell.execute_reply": "2023-11-15T19:54:14.124855Z"
    },
    "papermill": {
     "duration": 0.324728,
     "end_time": "2023-11-15T19:54:14.127876",
     "exception": false,
     "start_time": "2023-11-15T19:54:13.803148",
     "status": "completed"
    },
    "tags": []
   },
   "outputs": [
    {
     "data": {
      "image/png": "[encoded data removed]",
      "text/plain": [
       "<Figure size 1000x600 with 1 Axes>"
      ]
     },
     "metadata": {},
     "output_type": "display_data"
    }
   ],
   "source": [
    "fig, ax = plt.subplots(figsize=(10, 6))\n",
    "churn_response_proportion = telco_data['Churn'].value_counts(normalize=True)\n",
    "sns.barplot(x=churn_response_proportion.index, y=churn_response_proportion, palette=['salmon', 'lightgreen'])\n",
    "plt.title(\"Proportion of observations of the response variable\")\n",
    "plt.xlabel('Churn')\n",
    "plt.ylabel('Proportion of observations')\n",
    "plt.show()"
   ]
  },
  {
   "cell_type": "markdown",
   "id": "7057008b",
   "metadata": {
    "papermill": {
     "duration": 0.014809,
     "end_time": "2023-11-15T19:54:14.158099",
     "exception": false,
     "start_time": "2023-11-15T19:54:14.143290",
     "status": "completed"
    },
    "tags": []
   },
   "source": [
    "the dataset is imbalanced. lets take a look at normalized stacked bar plots for each variable to understand the influence on Churn column"
   ]
  },
  {
   "cell_type": "markdown",
   "id": "09a9056a",
   "metadata": {
    "papermill": {
     "duration": 0.014794,
     "end_time": "2023-11-15T19:54:14.187773",
     "exception": false,
     "start_time": "2023-11-15T19:54:14.172979",
     "status": "completed"
    },
    "tags": []
   },
   "source": [
    "Lets start with demographic information\n",
    "\n",
    "- gender\n",
    "- SeniorCitizen\n",
    "- Partner\n",
    "- Dependents"
   ]
  },
  {
   "cell_type": "code",
   "execution_count": 17,
   "id": "c906d238",
   "metadata": {
    "execution": {
     "iopub.execute_input": "2023-11-15T19:54:14.218263Z",
     "iopub.status.busy": "2023-11-15T19:54:14.217893Z",
     "iopub.status.idle": "2023-11-15T19:54:14.228057Z",
     "shell.execute_reply": "2023-11-15T19:54:14.227231Z"
    },
    "papermill": {
     "duration": 0.028077,
     "end_time": "2023-11-15T19:54:14.230052",
     "exception": false,
     "start_time": "2023-11-15T19:54:14.201975",
     "status": "completed"
    },
    "tags": []
   },
   "outputs": [],
   "source": [
    "\n",
    "def percentage_stacked_plot(columns_to_plot, super_title):\n",
    "    \n",
    "    '''\n",
    "    Prints a 100% stacked plot of the response variable for independent variable of the list columns_to_plot.\n",
    "            Parameters:\n",
    "                    columns_to_plot (list of string): Names of the variables to plot\n",
    "                    super_title (string): Super title of the visualization\n",
    "            Returns:\n",
    "                    None\n",
    "    '''\n",
    "    \n",
    "    number_of_columns = 2\n",
    "    number_of_rows = math.ceil(len(columns_to_plot)/2)\n",
    "\n",
    "    # create a figure\n",
    "    fig = plt.figure(figsize=(12, 5 * number_of_rows)) \n",
    "    fig.suptitle(super_title, fontsize=22,  y=.95)\n",
    " \n",
    "\n",
    "    # loop to each column name to create a subplot\n",
    "    for index, column in enumerate(columns_to_plot, 1):\n",
    "\n",
    "        # create the subplot\n",
    "        ax = fig.add_subplot(number_of_rows, number_of_columns, index)\n",
    "\n",
    "        # calculate the percentage of observations of the response variable for each group of the independent variable\n",
    "        # 100% stacked bar plot\n",
    "        prop_by_independent = pd.crosstab(telco_data[column], telco_data['Churn']).apply(lambda x: x/x.sum()*100, axis=1)\n",
    "\n",
    "        prop_by_independent.plot(kind='bar', ax=ax, stacked=True,\n",
    "                                 rot=0, color=['springgreen','salmon'])\n",
    "\n",
    "        # set the legend in the upper right corner\n",
    "        ax.legend(loc=\"upper right\", bbox_to_anchor=(0.62, 0.5, 0.5, 0.5),\n",
    "                  title='Churn', fancybox=True)\n",
    "\n",
    "        # set title and labels\n",
    "        ax.set_title('Proportion of observations by ' + column,\n",
    "                     fontsize=16, loc='left')\n",
    "\n",
    "        ax.tick_params(rotation='auto')\n",
    "\n",
    "        # eliminate the frame from the plot\n",
    "        spine_names = ('top', 'right', 'bottom', 'left')\n",
    "        for spine_name in spine_names:\n",
    "            ax.spines[spine_name].set_visible(False)\n"
   ]
  },
  {
   "cell_type": "code",
   "execution_count": 18,
   "id": "975bbc64",
   "metadata": {
    "execution": {
     "iopub.execute_input": "2023-11-15T19:54:14.260951Z",
     "iopub.status.busy": "2023-11-15T19:54:14.260663Z",
     "iopub.status.idle": "2023-11-15T19:54:15.325921Z",
     "shell.execute_reply": "2023-11-15T19:54:15.324941Z"
    },
    "papermill": {
     "duration": 1.083525,
     "end_time": "2023-11-15T19:54:15.328197",
     "exception": false,
     "start_time": "2023-11-15T19:54:14.244672",
     "status": "completed"
    },
    "tags": []
   },
   "outputs": [
    {
     "data": {
      "image/png": "[encoded data removed]",
      "text/plain": [
       "<Figure size 1200x1000 with 4 Axes>"
      ]
     },
     "metadata": {},
     "output_type": "display_data"
    }
   ],
   "source": [
    "# demographic column names\n",
    "demographic_columns = ['gender', 'SeniorCitizen', 'Partner', 'Dependents']\n",
    "\n",
    "# stacked plot of demographic columns\n",
    "percentage_stacked_plot(demographic_columns, 'Demographic Information')"
   ]
  },
  {
   "cell_type": "markdown",
   "id": "1d42769b",
   "metadata": {
    "papermill": {
     "duration": 0.017217,
     "end_time": "2023-11-15T19:54:15.362584",
     "exception": false,
     "start_time": "2023-11-15T19:54:15.345367",
     "status": "completed"
    },
    "tags": []
   },
   "source": [
    "\n",
    "- The churn rate for senior citizens is nearly twice as high as the churn rate for young citizens. \n",
    "\n",
    "- Gender does not appear to be a major predictive factor for churn. The churn rate is similar for both male and female customers. \n",
    "\n",
    "- Customers who have a partner are less likely to churn compared to customers without a partner."
   ]
  },
  {
   "cell_type": "markdown",
   "id": "b013d9f1",
   "metadata": {
    "papermill": {
     "duration": 0.01721,
     "end_time": "2023-11-15T19:54:15.397403",
     "exception": false,
     "start_time": "2023-11-15T19:54:15.380193",
     "status": "completed"
    },
    "tags": []
   },
   "source": [
    "Lets do the same anlysis on Customer Account Information\n",
    "- contract\n",
    "- papelessbilling\n",
    "- paymentmethod"
   ]
  },
  {
   "cell_type": "code",
   "execution_count": 19,
   "id": "385b9469",
   "metadata": {
    "execution": {
     "iopub.execute_input": "2023-11-15T19:54:15.434733Z",
     "iopub.status.busy": "2023-11-15T19:54:15.434360Z",
     "iopub.status.idle": "2023-11-15T19:54:16.172264Z",
     "shell.execute_reply": "2023-11-15T19:54:16.171308Z"
    },
    "papermill": {
     "duration": 0.759028,
     "end_time": "2023-11-15T19:54:16.174838",
     "exception": false,
     "start_time": "2023-11-15T19:54:15.415810",
     "status": "completed"
    },
    "tags": []
   },
   "outputs": [
    {
     "data": {
      "image/png": "[encoded data removed]",
      "text/plain": [
       "<Figure size 1200x1000 with 3 Axes>"
      ]
     },
     "metadata": {},
     "output_type": "display_data"
    }
   ],
   "source": [
    "\n",
    "# customer account column names\n",
    "account_columns = ['Contract', 'PaperlessBilling', 'PaymentMethod']\n",
    "\n",
    "# stacked plot of customer account columns\n",
    "percentage_stacked_plot(account_columns, 'Customer Account Information')"
   ]
  },
  {
   "cell_type": "markdown",
   "id": "3c8edb24",
   "metadata": {
    "papermill": {
     "duration": 0.015912,
     "end_time": "2023-11-15T19:54:16.207983",
     "exception": false,
     "start_time": "2023-11-15T19:54:16.192071",
     "status": "completed"
    },
    "tags": []
   },
   "source": [
    "\n",
    "- Customers with month-to-month contracts have higher churn rates than customers with yearly contracts.\n",
    "\n",
    "- Customers who pay by electronic check are more likely to churn compared to those using other payment methods. \n",
    "\n",
    "- Customers who are subscribed to paperless billing have a higher churn rate than those who receive paper bills."
   ]
  },
  {
   "cell_type": "markdown",
   "id": "af5afe82",
   "metadata": {
    "papermill": {
     "duration": 0.016627,
     "end_time": "2023-11-15T19:54:16.240461",
     "exception": false,
     "start_time": "2023-11-15T19:54:16.223834",
     "status": "completed"
    },
    "tags": []
   },
   "source": [
    "Lets do the analysis on Customer Account Information\n",
    "- tenure\n",
    "- monthlycharges\n",
    "- totalcharges\n",
    "\n",
    "For all numeric attributes, we see differing distributions between customers who churned and those who did not. This suggests that each of these attributes will be useful in predicting whether a given customer is likely to churn. Specifically, the distribution of values is different for churning versus non-churning customers across all the numeric attributes. This indicates these features contain signal that can help distinguish between the two classes."
   ]
  },
  {
   "cell_type": "code",
   "execution_count": 20,
   "id": "cfc2925d",
   "metadata": {
    "execution": {
     "iopub.execute_input": "2023-11-15T19:54:16.274354Z",
     "iopub.status.busy": "2023-11-15T19:54:16.273767Z",
     "iopub.status.idle": "2023-11-15T19:54:17.266125Z",
     "shell.execute_reply": "2023-11-15T19:54:17.265167Z"
    },
    "papermill": {
     "duration": 1.012169,
     "end_time": "2023-11-15T19:54:17.268829",
     "exception": false,
     "start_time": "2023-11-15T19:54:16.256660",
     "status": "completed"
    },
    "tags": []
   },
   "outputs": [
    {
     "data": {
      "image/png": "[encoded data removed]",
      "text/plain": [
       "<Figure size 1200x1000 with 3 Axes>"
      ]
     },
     "metadata": {},
     "output_type": "display_data"
    }
   ],
   "source": [
    "\n",
    "def histogram_plots(columns_to_plot, super_title):\n",
    "    '''\n",
    "     Prints a histogram for each independent variable of the list columns_to_plot.\n",
    "            Parameters:\n",
    "                    columns_to_plot (list of string): Names of the variables to plot\n",
    "                    super_title (string): Super title of the visualization\n",
    "            Returns:\n",
    "                    None\n",
    "    '''\n",
    "    # set number of rows and number of columns\n",
    "    number_of_columns = 2\n",
    "    number_of_rows = math.ceil(len(columns_to_plot)/2)\n",
    "\n",
    "    # create a figure\n",
    "    fig = plt.figure(figsize=(12, 5 * number_of_rows)) \n",
    "    fig.suptitle(super_title, fontsize=22,  y=.95)\n",
    " \n",
    "\n",
    "    # loop to each demographic column name to create a subplot\n",
    "    for index, column in enumerate(columns_to_plot, 1):\n",
    "\n",
    "        # create the subplot\n",
    "        ax = fig.add_subplot(number_of_rows, number_of_columns, index)\n",
    "\n",
    "        # histograms for each class (normalized histogram)\n",
    "        telco_data[telco_data['Churn']=='No'][column].plot(kind='hist', ax=ax, density=True, \n",
    "                                                       alpha=0.5, color='springgreen', label='No')\n",
    "        telco_data[telco_data['Churn']=='Yes'][column].plot(kind='hist', ax=ax, density=True,\n",
    "                                                        alpha=0.5, color='salmon', label='Yes')\n",
    "        \n",
    "        # set the legend in the upper right corner\n",
    "        ax.legend(loc=\"upper right\", bbox_to_anchor=(0.5, 0.5, 0.5, 0.5),\n",
    "                  title='Churn', fancybox=True)\n",
    "\n",
    "        # set title and labels\n",
    "        ax.set_title('Distribution of ' + column + ' by churn',\n",
    "                     fontsize=16, loc='left')\n",
    "\n",
    "        ax.tick_params(rotation='auto')\n",
    "\n",
    "        # eliminate the frame from the plot\n",
    "        spine_names = ('top', 'right', 'bottom', 'left')\n",
    "        for spine_name in spine_names:\n",
    "            ax.spines[spine_name].set_visible(False)\n",
    "            \n",
    "# customer account column names\n",
    "account_columns_numeric = ['tenure', 'MonthlyCharges', 'TotalCharges']\n",
    "# histogram of costumer account columns \n",
    "histogram_plots(account_columns_numeric, 'Customer Account Information')\n"
   ]
  },
  {
   "cell_type": "markdown",
   "id": "0b60b75b",
   "metadata": {
    "papermill": {
     "duration": 0.02041,
     "end_time": "2023-11-15T19:54:17.308684",
     "exception": false,
     "start_time": "2023-11-15T19:54:17.288274",
     "status": "completed"
    },
    "tags": []
   },
   "source": [
    "- There is a trend of higher churn rates when monthly charges are high.\n",
    "- Customers who have been with the company for a short tenure (new customers) tend to have higher churn rates.\n",
    "- Customers with high total charges accrued over time are less likely to churn."
   ]
  },
  {
   "cell_type": "markdown",
   "id": "8ee4e825",
   "metadata": {
    "papermill": {
     "duration": 0.018091,
     "end_time": "2023-11-15T19:54:17.345280",
     "exception": false,
     "start_time": "2023-11-15T19:54:17.327189",
     "status": "completed"
    },
    "tags": []
   },
   "source": [
    "Lets do the analysis for services\n",
    "- PhoneService\n",
    "- MultipleLines\n",
    "- InternetServices\n",
    "- OnlineSecurity\n",
    "- OnlineBackup\n",
    "- DeviceProtection\n",
    "- TechSupport\n",
    "- StreamingTV\n",
    "- StreamingMovies"
   ]
  },
  {
   "cell_type": "code",
   "execution_count": 21,
   "id": "36bde23a",
   "metadata": {
    "execution": {
     "iopub.execute_input": "2023-11-15T19:54:17.384325Z",
     "iopub.status.busy": "2023-11-15T19:54:17.383435Z",
     "iopub.status.idle": "2023-11-15T19:54:19.667003Z",
     "shell.execute_reply": "2023-11-15T19:54:19.666038Z"
    },
    "papermill": {
     "duration": 2.306974,
     "end_time": "2023-11-15T19:54:19.670447",
     "exception": false,
     "start_time": "2023-11-15T19:54:17.363473",
     "status": "completed"
    },
    "tags": []
   },
   "outputs": [
    {
     "data": {
      "image/png": "[encoded data removed]",
      "text/plain": [
       "<Figure size 1200x2500 with 9 Axes>"
      ]
     },
     "metadata": {},
     "output_type": "display_data"
    }
   ],
   "source": [
    "# services column names\n",
    "services_columns = ['PhoneService', 'MultipleLines', 'InternetService', 'OnlineSecurity',\n",
    "                   'OnlineBackup', 'DeviceProtection', 'TechSupport', 'StreamingTV', 'StreamingMovies']\n",
    "\n",
    "# stacked plot of services columns\n",
    "percentage_stacked_plot(services_columns, 'Services Information')"
   ]
  },
  {
   "cell_type": "markdown",
   "id": "fb2f2023",
   "metadata": {
    "papermill": {
     "duration": 0.020024,
     "end_time": "2023-11-15T19:54:19.710247",
     "exception": false,
     "start_time": "2023-11-15T19:54:19.690223",
     "status": "completed"
    },
    "tags": []
   },
   "source": [
    "\n",
    "\n",
    "- Phone service attributes like having phone service or multiple lines do not appear to be major predictive factors for churn. The churn percentage is nearly equal across the different classes of these variables.\n",
    "\n",
    "- Customers who have online security enabled churn less than those without online security.\n",
    "\n",
    "- Customers without tech support tend to have higher churn rates compared to those who have tech support."
   ]
  },
  {
   "cell_type": "markdown",
   "id": "b1423a5b",
   "metadata": {
    "papermill": {
     "duration": 0.020549,
     "end_time": "2023-11-15T19:54:19.751766",
     "exception": false,
     "start_time": "2023-11-15T19:54:19.731217",
     "status": "completed"
    },
    "tags": []
   },
   "source": [
    "Lets understand the mutual dependency between independent categorical variables and the response variable"
   ]
  },
  {
   "cell_type": "code",
   "execution_count": 22,
   "id": "0013bb03",
   "metadata": {
    "execution": {
     "iopub.execute_input": "2023-11-15T19:54:19.795101Z",
     "iopub.status.busy": "2023-11-15T19:54:19.794726Z",
     "iopub.status.idle": "2023-11-15T19:54:20.408283Z",
     "shell.execute_reply": "2023-11-15T19:54:20.407290Z"
    },
    "papermill": {
     "duration": 0.63776,
     "end_time": "2023-11-15T19:54:20.410429",
     "exception": false,
     "start_time": "2023-11-15T19:54:19.772669",
     "status": "completed"
    },
    "tags": []
   },
   "outputs": [
    {
     "name": "stdout",
     "output_type": "stream",
     "text": [
      "Contract            0.098453\n",
      "OnlineSecurity      0.064677\n",
      "TechSupport         0.063021\n",
      "InternetService     0.055574\n",
      "OnlineBackup        0.046792\n",
      "PaymentMethod       0.044519\n",
      "DeviceProtection    0.043917\n",
      "StreamingMovies     0.032001\n",
      "StreamingTV         0.031908\n",
      "PaperlessBilling    0.019194\n",
      "Dependents          0.014467\n",
      "Partner             0.011454\n",
      "MultipleLines       0.000801\n",
      "PhoneService        0.000072\n",
      "gender              0.000037\n",
      "dtype: float64\n"
     ]
    }
   ],
   "source": [
    "from sklearn.metrics import mutual_info_score\n",
    "\n",
    "# function that computes the mutual information score between a categorical series and the column Churn\n",
    "def compute_mutual_information(categorical_series):\n",
    "    return mutual_info_score(categorical_series, telco_data['Churn'])\n",
    "\n",
    "# select categorical variables excluding the response variable\n",
    "categorical_variables = telco_data.select_dtypes(include='object').drop('Churn', axis=1)\n",
    "\n",
    "# compute the mutual information score between each categorical variable and the target\n",
    "feature_importance = categorical_variables.apply(compute_mutual_information).sort_values(ascending=False)\n",
    "\n",
    "# visualize feature importance\n",
    "print(feature_importance)\n"
   ]
  },
  {
   "cell_type": "code",
   "execution_count": 23,
   "id": "ac8e4e14",
   "metadata": {
    "execution": {
     "iopub.execute_input": "2023-11-15T19:54:20.452253Z",
     "iopub.status.busy": "2023-11-15T19:54:20.451966Z",
     "iopub.status.idle": "2023-11-15T19:54:20.772867Z",
     "shell.execute_reply": "2023-11-15T19:54:20.771912Z"
    },
    "papermill": {
     "duration": 0.344703,
     "end_time": "2023-11-15T19:54:20.774980",
     "exception": false,
     "start_time": "2023-11-15T19:54:20.430277",
     "status": "completed"
    },
    "tags": []
   },
   "outputs": [
    {
     "data": {
      "image/png": "[encoded data removed]",
      "text/plain": [
       "<Figure size 800x600 with 1 Axes>"
      ]
     },
     "metadata": {},
     "output_type": "display_data"
    }
   ],
   "source": [
    "\n",
    "# Plotting the horizontal bar graph\n",
    "plt.figure(figsize=(8, 6))\n",
    "feature_importance_sorted = feature_importance.sort_values() \n",
    "plt.barh(feature_importance_sorted.index, feature_importance_sorted.values, color='skyblue')\n",
    "plt.xlabel('Mutual Information Score')\n",
    "plt.title('Mutual Information Scores for Categorical Variables')\n",
    "plt.tight_layout()\n",
    "plt.show()\n"
   ]
  },
  {
   "cell_type": "markdown",
   "id": "3267fc17",
   "metadata": {
    "papermill": {
     "duration": 0.020123,
     "end_time": "2023-11-15T19:54:20.815987",
     "exception": false,
     "start_time": "2023-11-15T19:54:20.795864",
     "status": "completed"
    },
    "tags": []
   },
   "source": [
    "The variables gender, PhoneService, and MultipleLines have mutual information scores very close to 0 with respect to the target churn variable. This indicates these features do not have a strong relationship with churn. This aligns with our previous conclusions from visualizing the data"
   ]
  },
  {
   "cell_type": "code",
   "execution_count": 24,
   "id": "de3fc6f6",
   "metadata": {
    "execution": {
     "iopub.execute_input": "2023-11-15T19:54:20.860784Z",
     "iopub.status.busy": "2023-11-15T19:54:20.860421Z",
     "iopub.status.idle": "2023-11-15T19:54:20.877537Z",
     "shell.execute_reply": "2023-11-15T19:54:20.876763Z"
    },
    "papermill": {
     "duration": 0.041136,
     "end_time": "2023-11-15T19:54:20.879545",
     "exception": false,
     "start_time": "2023-11-15T19:54:20.838409",
     "status": "completed"
    },
    "tags": []
   },
   "outputs": [],
   "source": [
    "telco_data_tranformed = telco_data.copy()\n",
    "\n",
    "# label encoding (binary variables)\n",
    "label_encoding_columns = ['gender', 'Partner', 'Dependents', 'PaperlessBilling', 'PhoneService', 'Churn']\n",
    "\n",
    "# encode categorical binary features using label encoding\n",
    "for column in label_encoding_columns:\n",
    "    if column == 'gender':\n",
    "        telco_data_tranformed[column] = telco_data_tranformed[column].map({'Female': 1, 'Male': 0})\n",
    "    else: \n",
    "        telco_data_tranformed[column] = telco_data_tranformed[column].map({'Yes': 1, 'No': 0}) "
   ]
  },
  {
   "cell_type": "code",
   "execution_count": 25,
   "id": "984204b9",
   "metadata": {
    "execution": {
     "iopub.execute_input": "2023-11-15T19:54:20.922937Z",
     "iopub.status.busy": "2023-11-15T19:54:20.922589Z",
     "iopub.status.idle": "2023-11-15T19:54:20.945803Z",
     "shell.execute_reply": "2023-11-15T19:54:20.945045Z"
    },
    "papermill": {
     "duration": 0.047989,
     "end_time": "2023-11-15T19:54:20.948100",
     "exception": false,
     "start_time": "2023-11-15T19:54:20.900111",
     "status": "completed"
    },
    "tags": []
   },
   "outputs": [],
   "source": [
    "\n",
    "# one-hot encoding (categorical variables with more than two levels)\n",
    "one_hot_encoding_columns = ['MultipleLines', 'InternetService', 'OnlineSecurity', 'OnlineBackup', 'DeviceProtection', \n",
    "                            'TechSupport', 'StreamingTV',  'StreamingMovies', 'Contract', 'PaymentMethod']\n",
    "\n",
    "# encode categorical variables with more than two levels using one-hot encoding\n",
    "telco_data_tranformed = pd.get_dummies(telco_data_tranformed, columns = one_hot_encoding_columns)\n"
   ]
  },
  {
   "cell_type": "code",
   "execution_count": 26,
   "id": "ccdb76c3",
   "metadata": {
    "execution": {
     "iopub.execute_input": "2023-11-15T19:54:20.993322Z",
     "iopub.status.busy": "2023-11-15T19:54:20.992692Z",
     "iopub.status.idle": "2023-11-15T19:54:21.015883Z",
     "shell.execute_reply": "2023-11-15T19:54:21.014832Z"
    },
    "papermill": {
     "duration": 0.047327,
     "end_time": "2023-11-15T19:54:21.018085",
     "exception": false,
     "start_time": "2023-11-15T19:54:20.970758",
     "status": "completed"
    },
    "tags": []
   },
   "outputs": [
    {
     "data": {
      "text/html": [
       "<div>\n",
       "<style scoped>\n",
       "    .dataframe tbody tr th:only-of-type {\n",
       "        vertical-align: middle;\n",
       "    }\n",
       "\n",
       "    .dataframe tbody tr th {\n",
       "        vertical-align: top;\n",
       "    }\n",
       "\n",
       "    .dataframe thead th {\n",
       "        text-align: right;\n",
       "    }\n",
       "</style>\n",
       "<table border=\"1\" class=\"dataframe\">\n",
       "  <thead>\n",
       "    <tr style=\"text-align: right;\">\n",
       "      <th></th>\n",
       "      <th>gender</th>\n",
       "      <th>SeniorCitizen</th>\n",
       "      <th>Partner</th>\n",
       "      <th>Dependents</th>\n",
       "      <th>tenure</th>\n",
       "      <th>PhoneService</th>\n",
       "      <th>PaperlessBilling</th>\n",
       "      <th>MonthlyCharges</th>\n",
       "      <th>TotalCharges</th>\n",
       "      <th>Churn</th>\n",
       "      <th>...</th>\n",
       "      <th>StreamingMovies_No</th>\n",
       "      <th>StreamingMovies_No internet service</th>\n",
       "      <th>StreamingMovies_Yes</th>\n",
       "      <th>Contract_Month-to-month</th>\n",
       "      <th>Contract_One year</th>\n",
       "      <th>Contract_Two year</th>\n",
       "      <th>PaymentMethod_Bank transfer</th>\n",
       "      <th>PaymentMethod_Credit card</th>\n",
       "      <th>PaymentMethod_Electronic check</th>\n",
       "      <th>PaymentMethod_Mailed check</th>\n",
       "    </tr>\n",
       "  </thead>\n",
       "  <tbody>\n",
       "    <tr>\n",
       "      <th>0</th>\n",
       "      <td>1</td>\n",
       "      <td>0</td>\n",
       "      <td>1</td>\n",
       "      <td>0</td>\n",
       "      <td>1</td>\n",
       "      <td>0</td>\n",
       "      <td>1</td>\n",
       "      <td>29.85</td>\n",
       "      <td>29.85</td>\n",
       "      <td>0</td>\n",
       "      <td>...</td>\n",
       "      <td>True</td>\n",
       "      <td>False</td>\n",
       "      <td>False</td>\n",
       "      <td>True</td>\n",
       "      <td>False</td>\n",
       "      <td>False</td>\n",
       "      <td>False</td>\n",
       "      <td>False</td>\n",
       "      <td>True</td>\n",
       "      <td>False</td>\n",
       "    </tr>\n",
       "    <tr>\n",
       "      <th>1</th>\n",
       "      <td>0</td>\n",
       "      <td>0</td>\n",
       "      <td>0</td>\n",
       "      <td>0</td>\n",
       "      <td>34</td>\n",
       "      <td>1</td>\n",
       "      <td>0</td>\n",
       "      <td>56.95</td>\n",
       "      <td>1889.50</td>\n",
       "      <td>0</td>\n",
       "      <td>...</td>\n",
       "      <td>True</td>\n",
       "      <td>False</td>\n",
       "      <td>False</td>\n",
       "      <td>False</td>\n",
       "      <td>True</td>\n",
       "      <td>False</td>\n",
       "      <td>False</td>\n",
       "      <td>False</td>\n",
       "      <td>False</td>\n",
       "      <td>True</td>\n",
       "    </tr>\n",
       "    <tr>\n",
       "      <th>2</th>\n",
       "      <td>0</td>\n",
       "      <td>0</td>\n",
       "      <td>0</td>\n",
       "      <td>0</td>\n",
       "      <td>2</td>\n",
       "      <td>1</td>\n",
       "      <td>1</td>\n",
       "      <td>53.85</td>\n",
       "      <td>108.15</td>\n",
       "      <td>1</td>\n",
       "      <td>...</td>\n",
       "      <td>True</td>\n",
       "      <td>False</td>\n",
       "      <td>False</td>\n",
       "      <td>True</td>\n",
       "      <td>False</td>\n",
       "      <td>False</td>\n",
       "      <td>False</td>\n",
       "      <td>False</td>\n",
       "      <td>False</td>\n",
       "      <td>True</td>\n",
       "    </tr>\n",
       "    <tr>\n",
       "      <th>3</th>\n",
       "      <td>0</td>\n",
       "      <td>0</td>\n",
       "      <td>0</td>\n",
       "      <td>0</td>\n",
       "      <td>45</td>\n",
       "      <td>0</td>\n",
       "      <td>0</td>\n",
       "      <td>42.30</td>\n",
       "      <td>1840.75</td>\n",
       "      <td>0</td>\n",
       "      <td>...</td>\n",
       "      <td>True</td>\n",
       "      <td>False</td>\n",
       "      <td>False</td>\n",
       "      <td>False</td>\n",
       "      <td>True</td>\n",
       "      <td>False</td>\n",
       "      <td>True</td>\n",
       "      <td>False</td>\n",
       "      <td>False</td>\n",
       "      <td>False</td>\n",
       "    </tr>\n",
       "    <tr>\n",
       "      <th>4</th>\n",
       "      <td>1</td>\n",
       "      <td>0</td>\n",
       "      <td>0</td>\n",
       "      <td>0</td>\n",
       "      <td>2</td>\n",
       "      <td>1</td>\n",
       "      <td>1</td>\n",
       "      <td>70.70</td>\n",
       "      <td>151.65</td>\n",
       "      <td>1</td>\n",
       "      <td>...</td>\n",
       "      <td>True</td>\n",
       "      <td>False</td>\n",
       "      <td>False</td>\n",
       "      <td>True</td>\n",
       "      <td>False</td>\n",
       "      <td>False</td>\n",
       "      <td>False</td>\n",
       "      <td>False</td>\n",
       "      <td>True</td>\n",
       "      <td>False</td>\n",
       "    </tr>\n",
       "  </tbody>\n",
       "</table>\n",
       "<p>5 rows × 41 columns</p>\n",
       "</div>"
      ],
      "text/plain": [
       "   gender  SeniorCitizen  Partner  Dependents  tenure  PhoneService  \\\n",
       "0       1              0        1           0       1             0   \n",
       "1       0              0        0           0      34             1   \n",
       "2       0              0        0           0       2             1   \n",
       "3       0              0        0           0      45             0   \n",
       "4       1              0        0           0       2             1   \n",
       "\n",
       "   PaperlessBilling  MonthlyCharges  TotalCharges  Churn  ...  \\\n",
       "0                 1           29.85         29.85      0  ...   \n",
       "1                 0           56.95       1889.50      0  ...   \n",
       "2                 1           53.85        108.15      1  ...   \n",
       "3                 0           42.30       1840.75      0  ...   \n",
       "4                 1           70.70        151.65      1  ...   \n",
       "\n",
       "   StreamingMovies_No  StreamingMovies_No internet service  \\\n",
       "0                True                                False   \n",
       "1                True                                False   \n",
       "2                True                                False   \n",
       "3                True                                False   \n",
       "4                True                                False   \n",
       "\n",
       "   StreamingMovies_Yes  Contract_Month-to-month  Contract_One year  \\\n",
       "0                False                     True              False   \n",
       "1                False                    False               True   \n",
       "2                False                     True              False   \n",
       "3                False                    False               True   \n",
       "4                False                     True              False   \n",
       "\n",
       "   Contract_Two year  PaymentMethod_Bank transfer  PaymentMethod_Credit card  \\\n",
       "0              False                        False                      False   \n",
       "1              False                        False                      False   \n",
       "2              False                        False                      False   \n",
       "3              False                         True                      False   \n",
       "4              False                        False                      False   \n",
       "\n",
       "   PaymentMethod_Electronic check  PaymentMethod_Mailed check  \n",
       "0                            True                       False  \n",
       "1                           False                        True  \n",
       "2                           False                        True  \n",
       "3                           False                       False  \n",
       "4                            True                       False  \n",
       "\n",
       "[5 rows x 41 columns]"
      ]
     },
     "execution_count": 26,
     "metadata": {},
     "output_type": "execute_result"
    }
   ],
   "source": [
    "telco_data_tranformed.head()"
   ]
  },
  {
   "cell_type": "code",
   "execution_count": 27,
   "id": "b5379e82",
   "metadata": {
    "execution": {
     "iopub.execute_input": "2023-11-15T19:54:21.064098Z",
     "iopub.status.busy": "2023-11-15T19:54:21.063513Z",
     "iopub.status.idle": "2023-11-15T19:54:21.073796Z",
     "shell.execute_reply": "2023-11-15T19:54:21.072881Z"
    },
    "papermill": {
     "duration": 0.035613,
     "end_time": "2023-11-15T19:54:21.075976",
     "exception": false,
     "start_time": "2023-11-15T19:54:21.040363",
     "status": "completed"
    },
    "tags": []
   },
   "outputs": [],
   "source": [
    "\n",
    "# min-max normalization (numeric variables)\n",
    "min_max_columns = ['tenure', 'MonthlyCharges', 'TotalCharges']\n",
    "\n",
    "# scale numerical variables using min max scaler\n",
    "for column in min_max_columns:\n",
    "        # minimum value of the column\n",
    "        min_column = telco_data_tranformed[column].min()\n",
    "        # maximum value of the column\n",
    "        max_column = telco_data_tranformed[column].max()\n",
    "        # min max scaler\n",
    "        telco_data_tranformed[column] = (telco_data_tranformed[column] - min_column) / (max_column - min_column)   \n"
   ]
  },
  {
   "cell_type": "code",
   "execution_count": 28,
   "id": "2270d91d",
   "metadata": {
    "execution": {
     "iopub.execute_input": "2023-11-15T19:54:21.121117Z",
     "iopub.status.busy": "2023-11-15T19:54:21.120232Z",
     "iopub.status.idle": "2023-11-15T19:54:21.143616Z",
     "shell.execute_reply": "2023-11-15T19:54:21.142714Z"
    },
    "papermill": {
     "duration": 0.047449,
     "end_time": "2023-11-15T19:54:21.145776",
     "exception": false,
     "start_time": "2023-11-15T19:54:21.098327",
     "status": "completed"
    },
    "tags": []
   },
   "outputs": [
    {
     "data": {
      "text/html": [
       "<div>\n",
       "<style scoped>\n",
       "    .dataframe tbody tr th:only-of-type {\n",
       "        vertical-align: middle;\n",
       "    }\n",
       "\n",
       "    .dataframe tbody tr th {\n",
       "        vertical-align: top;\n",
       "    }\n",
       "\n",
       "    .dataframe thead th {\n",
       "        text-align: right;\n",
       "    }\n",
       "</style>\n",
       "<table border=\"1\" class=\"dataframe\">\n",
       "  <thead>\n",
       "    <tr style=\"text-align: right;\">\n",
       "      <th></th>\n",
       "      <th>gender</th>\n",
       "      <th>SeniorCitizen</th>\n",
       "      <th>Partner</th>\n",
       "      <th>Dependents</th>\n",
       "      <th>tenure</th>\n",
       "      <th>PhoneService</th>\n",
       "      <th>PaperlessBilling</th>\n",
       "      <th>MonthlyCharges</th>\n",
       "      <th>TotalCharges</th>\n",
       "      <th>Churn</th>\n",
       "      <th>...</th>\n",
       "      <th>StreamingMovies_No</th>\n",
       "      <th>StreamingMovies_No internet service</th>\n",
       "      <th>StreamingMovies_Yes</th>\n",
       "      <th>Contract_Month-to-month</th>\n",
       "      <th>Contract_One year</th>\n",
       "      <th>Contract_Two year</th>\n",
       "      <th>PaymentMethod_Bank transfer</th>\n",
       "      <th>PaymentMethod_Credit card</th>\n",
       "      <th>PaymentMethod_Electronic check</th>\n",
       "      <th>PaymentMethod_Mailed check</th>\n",
       "    </tr>\n",
       "  </thead>\n",
       "  <tbody>\n",
       "    <tr>\n",
       "      <th>0</th>\n",
       "      <td>1</td>\n",
       "      <td>0</td>\n",
       "      <td>1</td>\n",
       "      <td>0</td>\n",
       "      <td>0.013889</td>\n",
       "      <td>0</td>\n",
       "      <td>1</td>\n",
       "      <td>0.115423</td>\n",
       "      <td>0.001275</td>\n",
       "      <td>0</td>\n",
       "      <td>...</td>\n",
       "      <td>True</td>\n",
       "      <td>False</td>\n",
       "      <td>False</td>\n",
       "      <td>True</td>\n",
       "      <td>False</td>\n",
       "      <td>False</td>\n",
       "      <td>False</td>\n",
       "      <td>False</td>\n",
       "      <td>True</td>\n",
       "      <td>False</td>\n",
       "    </tr>\n",
       "    <tr>\n",
       "      <th>1</th>\n",
       "      <td>0</td>\n",
       "      <td>0</td>\n",
       "      <td>0</td>\n",
       "      <td>0</td>\n",
       "      <td>0.472222</td>\n",
       "      <td>1</td>\n",
       "      <td>0</td>\n",
       "      <td>0.385075</td>\n",
       "      <td>0.215867</td>\n",
       "      <td>0</td>\n",
       "      <td>...</td>\n",
       "      <td>True</td>\n",
       "      <td>False</td>\n",
       "      <td>False</td>\n",
       "      <td>False</td>\n",
       "      <td>True</td>\n",
       "      <td>False</td>\n",
       "      <td>False</td>\n",
       "      <td>False</td>\n",
       "      <td>False</td>\n",
       "      <td>True</td>\n",
       "    </tr>\n",
       "    <tr>\n",
       "      <th>2</th>\n",
       "      <td>0</td>\n",
       "      <td>0</td>\n",
       "      <td>0</td>\n",
       "      <td>0</td>\n",
       "      <td>0.027778</td>\n",
       "      <td>1</td>\n",
       "      <td>1</td>\n",
       "      <td>0.354229</td>\n",
       "      <td>0.010310</td>\n",
       "      <td>1</td>\n",
       "      <td>...</td>\n",
       "      <td>True</td>\n",
       "      <td>False</td>\n",
       "      <td>False</td>\n",
       "      <td>True</td>\n",
       "      <td>False</td>\n",
       "      <td>False</td>\n",
       "      <td>False</td>\n",
       "      <td>False</td>\n",
       "      <td>False</td>\n",
       "      <td>True</td>\n",
       "    </tr>\n",
       "    <tr>\n",
       "      <th>3</th>\n",
       "      <td>0</td>\n",
       "      <td>0</td>\n",
       "      <td>0</td>\n",
       "      <td>0</td>\n",
       "      <td>0.625000</td>\n",
       "      <td>0</td>\n",
       "      <td>0</td>\n",
       "      <td>0.239303</td>\n",
       "      <td>0.210241</td>\n",
       "      <td>0</td>\n",
       "      <td>...</td>\n",
       "      <td>True</td>\n",
       "      <td>False</td>\n",
       "      <td>False</td>\n",
       "      <td>False</td>\n",
       "      <td>True</td>\n",
       "      <td>False</td>\n",
       "      <td>True</td>\n",
       "      <td>False</td>\n",
       "      <td>False</td>\n",
       "      <td>False</td>\n",
       "    </tr>\n",
       "    <tr>\n",
       "      <th>4</th>\n",
       "      <td>1</td>\n",
       "      <td>0</td>\n",
       "      <td>0</td>\n",
       "      <td>0</td>\n",
       "      <td>0.027778</td>\n",
       "      <td>1</td>\n",
       "      <td>1</td>\n",
       "      <td>0.521891</td>\n",
       "      <td>0.015330</td>\n",
       "      <td>1</td>\n",
       "      <td>...</td>\n",
       "      <td>True</td>\n",
       "      <td>False</td>\n",
       "      <td>False</td>\n",
       "      <td>True</td>\n",
       "      <td>False</td>\n",
       "      <td>False</td>\n",
       "      <td>False</td>\n",
       "      <td>False</td>\n",
       "      <td>True</td>\n",
       "      <td>False</td>\n",
       "    </tr>\n",
       "  </tbody>\n",
       "</table>\n",
       "<p>5 rows × 41 columns</p>\n",
       "</div>"
      ],
      "text/plain": [
       "   gender  SeniorCitizen  Partner  Dependents    tenure  PhoneService  \\\n",
       "0       1              0        1           0  0.013889             0   \n",
       "1       0              0        0           0  0.472222             1   \n",
       "2       0              0        0           0  0.027778             1   \n",
       "3       0              0        0           0  0.625000             0   \n",
       "4       1              0        0           0  0.027778             1   \n",
       "\n",
       "   PaperlessBilling  MonthlyCharges  TotalCharges  Churn  ...  \\\n",
       "0                 1        0.115423      0.001275      0  ...   \n",
       "1                 0        0.385075      0.215867      0  ...   \n",
       "2                 1        0.354229      0.010310      1  ...   \n",
       "3                 0        0.239303      0.210241      0  ...   \n",
       "4                 1        0.521891      0.015330      1  ...   \n",
       "\n",
       "   StreamingMovies_No  StreamingMovies_No internet service  \\\n",
       "0                True                                False   \n",
       "1                True                                False   \n",
       "2                True                                False   \n",
       "3                True                                False   \n",
       "4                True                                False   \n",
       "\n",
       "   StreamingMovies_Yes  Contract_Month-to-month  Contract_One year  \\\n",
       "0                False                     True              False   \n",
       "1                False                    False               True   \n",
       "2                False                     True              False   \n",
       "3                False                    False               True   \n",
       "4                False                     True              False   \n",
       "\n",
       "   Contract_Two year  PaymentMethod_Bank transfer  PaymentMethod_Credit card  \\\n",
       "0              False                        False                      False   \n",
       "1              False                        False                      False   \n",
       "2              False                        False                      False   \n",
       "3              False                         True                      False   \n",
       "4              False                        False                      False   \n",
       "\n",
       "   PaymentMethod_Electronic check  PaymentMethod_Mailed check  \n",
       "0                            True                       False  \n",
       "1                           False                        True  \n",
       "2                           False                        True  \n",
       "3                           False                       False  \n",
       "4                            True                       False  \n",
       "\n",
       "[5 rows x 41 columns]"
      ]
     },
     "execution_count": 28,
     "metadata": {},
     "output_type": "execute_result"
    }
   ],
   "source": [
    "telco_data_tranformed.head()"
   ]
  },
  {
   "cell_type": "code",
   "execution_count": 29,
   "id": "801c2782",
   "metadata": {
    "execution": {
     "iopub.execute_input": "2023-11-15T19:54:21.190402Z",
     "iopub.status.busy": "2023-11-15T19:54:21.190136Z",
     "iopub.status.idle": "2023-11-15T19:54:21.200232Z",
     "shell.execute_reply": "2023-11-15T19:54:21.199364Z"
    },
    "papermill": {
     "duration": 0.033719,
     "end_time": "2023-11-15T19:54:21.202066",
     "exception": false,
     "start_time": "2023-11-15T19:54:21.168347",
     "status": "completed"
    },
    "tags": []
   },
   "outputs": [
    {
     "data": {
      "text/plain": [
       "gender                                   0\n",
       "SeniorCitizen                            0\n",
       "Partner                                  0\n",
       "Dependents                               0\n",
       "tenure                                   0\n",
       "PhoneService                             0\n",
       "PaperlessBilling                         0\n",
       "MonthlyCharges                           0\n",
       "TotalCharges                            11\n",
       "Churn                                    0\n",
       "MultipleLines_No                         0\n",
       "MultipleLines_No phone service           0\n",
       "MultipleLines_Yes                        0\n",
       "InternetService_DSL                      0\n",
       "InternetService_Fiber optic              0\n",
       "InternetService_No                       0\n",
       "OnlineSecurity_No                        0\n",
       "OnlineSecurity_No internet service       0\n",
       "OnlineSecurity_Yes                       0\n",
       "OnlineBackup_No                          0\n",
       "OnlineBackup_No internet service         0\n",
       "OnlineBackup_Yes                         0\n",
       "DeviceProtection_No                      0\n",
       "DeviceProtection_No internet service     0\n",
       "DeviceProtection_Yes                     0\n",
       "TechSupport_No                           0\n",
       "TechSupport_No internet service          0\n",
       "TechSupport_Yes                          0\n",
       "StreamingTV_No                           0\n",
       "StreamingTV_No internet service          0\n",
       "StreamingTV_Yes                          0\n",
       "StreamingMovies_No                       0\n",
       "StreamingMovies_No internet service      0\n",
       "StreamingMovies_Yes                      0\n",
       "Contract_Month-to-month                  0\n",
       "Contract_One year                        0\n",
       "Contract_Two year                        0\n",
       "PaymentMethod_Bank transfer              0\n",
       "PaymentMethod_Credit card                0\n",
       "PaymentMethod_Electronic check           0\n",
       "PaymentMethod_Mailed check               0\n",
       "dtype: int64"
      ]
     },
     "execution_count": 29,
     "metadata": {},
     "output_type": "execute_result"
    }
   ],
   "source": [
    "telco_data_tranformed.isnull().sum()"
   ]
  },
  {
   "cell_type": "code",
   "execution_count": 30,
   "id": "6d238027",
   "metadata": {
    "execution": {
     "iopub.execute_input": "2023-11-15T19:54:21.246071Z",
     "iopub.status.busy": "2023-11-15T19:54:21.245769Z",
     "iopub.status.idle": "2023-11-15T19:54:21.258779Z",
     "shell.execute_reply": "2023-11-15T19:54:21.257963Z"
    },
    "papermill": {
     "duration": 0.037565,
     "end_time": "2023-11-15T19:54:21.260631",
     "exception": false,
     "start_time": "2023-11-15T19:54:21.223066",
     "status": "completed"
    },
    "tags": []
   },
   "outputs": [
    {
     "data": {
      "text/plain": [
       "gender                                  0\n",
       "SeniorCitizen                           0\n",
       "Partner                                 0\n",
       "Dependents                              0\n",
       "tenure                                  0\n",
       "PhoneService                            0\n",
       "PaperlessBilling                        0\n",
       "MonthlyCharges                          0\n",
       "TotalCharges                            0\n",
       "Churn                                   0\n",
       "MultipleLines_No                        0\n",
       "MultipleLines_No phone service          0\n",
       "MultipleLines_Yes                       0\n",
       "InternetService_DSL                     0\n",
       "InternetService_Fiber optic             0\n",
       "InternetService_No                      0\n",
       "OnlineSecurity_No                       0\n",
       "OnlineSecurity_No internet service      0\n",
       "OnlineSecurity_Yes                      0\n",
       "OnlineBackup_No                         0\n",
       "OnlineBackup_No internet service        0\n",
       "OnlineBackup_Yes                        0\n",
       "DeviceProtection_No                     0\n",
       "DeviceProtection_No internet service    0\n",
       "DeviceProtection_Yes                    0\n",
       "TechSupport_No                          0\n",
       "TechSupport_No internet service         0\n",
       "TechSupport_Yes                         0\n",
       "StreamingTV_No                          0\n",
       "StreamingTV_No internet service         0\n",
       "StreamingTV_Yes                         0\n",
       "StreamingMovies_No                      0\n",
       "StreamingMovies_No internet service     0\n",
       "StreamingMovies_Yes                     0\n",
       "Contract_Month-to-month                 0\n",
       "Contract_One year                       0\n",
       "Contract_Two year                       0\n",
       "PaymentMethod_Bank transfer             0\n",
       "PaymentMethod_Credit card               0\n",
       "PaymentMethod_Electronic check          0\n",
       "PaymentMethod_Mailed check              0\n",
       "dtype: int64"
      ]
     },
     "execution_count": 30,
     "metadata": {},
     "output_type": "execute_result"
    }
   ],
   "source": [
    "telco_data_tranformed.dropna(inplace=True)\n",
    "telco_data_tranformed.isnull().sum()"
   ]
  },
  {
   "cell_type": "code",
   "execution_count": 31,
   "id": "ec49737c",
   "metadata": {
    "execution": {
     "iopub.execute_input": "2023-11-15T19:54:21.309948Z",
     "iopub.status.busy": "2023-11-15T19:54:21.309567Z",
     "iopub.status.idle": "2023-11-15T19:54:21.319276Z",
     "shell.execute_reply": "2023-11-15T19:54:21.318300Z"
    },
    "papermill": {
     "duration": 0.036952,
     "end_time": "2023-11-15T19:54:21.321582",
     "exception": false,
     "start_time": "2023-11-15T19:54:21.284630",
     "status": "completed"
    },
    "tags": []
   },
   "outputs": [
    {
     "data": {
      "text/plain": [
       "(Index(['gender', 'SeniorCitizen', 'Partner', 'Dependents', 'tenure',\n",
       "        'PhoneService', 'PaperlessBilling', 'MonthlyCharges', 'TotalCharges',\n",
       "        'MultipleLines_No', 'MultipleLines_No phone service',\n",
       "        'MultipleLines_Yes', 'InternetService_DSL',\n",
       "        'InternetService_Fiber optic', 'InternetService_No',\n",
       "        'OnlineSecurity_No', 'OnlineSecurity_No internet service',\n",
       "        'OnlineSecurity_Yes', 'OnlineBackup_No',\n",
       "        'OnlineBackup_No internet service', 'OnlineBackup_Yes',\n",
       "        'DeviceProtection_No', 'DeviceProtection_No internet service',\n",
       "        'DeviceProtection_Yes', 'TechSupport_No',\n",
       "        'TechSupport_No internet service', 'TechSupport_Yes', 'StreamingTV_No',\n",
       "        'StreamingTV_No internet service', 'StreamingTV_Yes',\n",
       "        'StreamingMovies_No', 'StreamingMovies_No internet service',\n",
       "        'StreamingMovies_Yes', 'Contract_Month-to-month', 'Contract_One year',\n",
       "        'Contract_Two year', 'PaymentMethod_Bank transfer',\n",
       "        'PaymentMethod_Credit card', 'PaymentMethod_Electronic check',\n",
       "        'PaymentMethod_Mailed check'],\n",
       "       dtype='object'),\n",
       " 'Churn')"
      ]
     },
     "execution_count": 31,
     "metadata": {},
     "output_type": "execute_result"
    }
   ],
   "source": [
    "X = telco_data_tranformed.drop(columns='Churn')\n",
    "y = telco_data_tranformed.loc[:, 'Churn']\n",
    "X.columns, y.name"
   ]
  },
  {
   "cell_type": "code",
   "execution_count": 32,
   "id": "b8c04504",
   "metadata": {
    "execution": {
     "iopub.execute_input": "2023-11-15T19:54:21.375398Z",
     "iopub.status.busy": "2023-11-15T19:54:21.374479Z",
     "iopub.status.idle": "2023-11-15T19:54:21.396659Z",
     "shell.execute_reply": "2023-11-15T19:54:21.395550Z"
    },
    "papermill": {
     "duration": 0.051811,
     "end_time": "2023-11-15T19:54:21.398912",
     "exception": false,
     "start_time": "2023-11-15T19:54:21.347101",
     "status": "completed"
    },
    "tags": []
   },
   "outputs": [],
   "source": [
    "from sklearn.model_selection import train_test_split\n",
    "# split the data in training and testing sets\n",
    "X_train, X_test, y_train, y_test = train_test_split(X, y, test_size=0.25,\n",
    "                                                    random_state=40, shuffle=True)"
   ]
  },
  {
   "cell_type": "code",
   "execution_count": 33,
   "id": "63aa0c2c",
   "metadata": {
    "execution": {
     "iopub.execute_input": "2023-11-15T19:54:21.447167Z",
     "iopub.status.busy": "2023-11-15T19:54:21.446786Z",
     "iopub.status.idle": "2023-11-15T19:54:21.827342Z",
     "shell.execute_reply": "2023-11-15T19:54:21.826363Z"
    },
    "papermill": {
     "duration": 0.407771,
     "end_time": "2023-11-15T19:54:21.829858",
     "exception": false,
     "start_time": "2023-11-15T19:54:21.422087",
     "status": "completed"
    },
    "tags": []
   },
   "outputs": [],
   "source": [
    "from sklearn.dummy import DummyClassifier\n",
    "from sklearn.neighbors import KNeighborsClassifier\n",
    "from sklearn.linear_model import LogisticRegression\n",
    "from sklearn.svm import SVC\n",
    "from sklearn.ensemble import RandomForestClassifier, GradientBoostingClassifier\n"
   ]
  },
  {
   "cell_type": "code",
   "execution_count": 34,
   "id": "6836e97b",
   "metadata": {
    "execution": {
     "iopub.execute_input": "2023-11-15T19:54:21.880090Z",
     "iopub.status.busy": "2023-11-15T19:54:21.879052Z",
     "iopub.status.idle": "2023-11-15T19:54:21.886801Z",
     "shell.execute_reply": "2023-11-15T19:54:21.885827Z"
    },
    "papermill": {
     "duration": 0.034991,
     "end_time": "2023-11-15T19:54:21.888937",
     "exception": false,
     "start_time": "2023-11-15T19:54:21.853946",
     "status": "completed"
    },
    "tags": []
   },
   "outputs": [],
   "source": [
    "\n",
    "def create_models(seed=2):\n",
    "    '''\n",
    "    Create a list of machine learning models.\n",
    "            Parameters:\n",
    "                    seed (integer): random seed of the models\n",
    "            Returns:\n",
    "                    models (list): list containing the models\n",
    "    '''\n",
    "\n",
    "    models = []\n",
    "    models.append(('dummy_classifier', DummyClassifier(random_state=seed, strategy='most_frequent')))\n",
    "    models.append(('k_nearest_neighbors', KNeighborsClassifier()))\n",
    "    models.append(('logistic_regression', LogisticRegression(random_state=seed)))\n",
    "    models.append(('support_vector_machines', SVC(random_state=seed)))\n",
    "    models.append(('random_forest', RandomForestClassifier(random_state=seed)))\n",
    "    models.append(('gradient_boosting', GradientBoostingClassifier(random_state=seed)))\n",
    "    \n",
    "    return models\n",
    "\n",
    "# create a list with all the algorithms we are going to assess\n",
    "models = create_models()\n"
   ]
  },
  {
   "cell_type": "code",
   "execution_count": 35,
   "id": "7a1ff5e6",
   "metadata": {
    "execution": {
     "iopub.execute_input": "2023-11-15T19:54:21.939608Z",
     "iopub.status.busy": "2023-11-15T19:54:21.938935Z",
     "iopub.status.idle": "2023-11-15T19:54:26.318466Z",
     "shell.execute_reply": "2023-11-15T19:54:26.317523Z"
    },
    "papermill": {
     "duration": 4.407306,
     "end_time": "2023-11-15T19:54:26.320880",
     "exception": false,
     "start_time": "2023-11-15T19:54:21.913574",
     "status": "completed"
    },
    "tags": []
   },
   "outputs": [
    {
     "name": "stdout",
     "output_type": "stream",
     "text": [
      "Classifier: dummy_classifier, Accuracy: 0.745164960182025)\n",
      "Classifier: k_nearest_neighbors, Accuracy: 0.7536973833902162)\n",
      "Classifier: logistic_regression, Accuracy: 0.7923777019340159)\n",
      "Classifier: support_vector_machines, Accuracy: 0.78839590443686)\n",
      "Classifier: random_forest, Accuracy: 0.7696245733788396)\n",
      "Classifier: gradient_boosting, Accuracy: 0.7963594994311718)\n"
     ]
    }
   ],
   "source": [
    "from sklearn.metrics import accuracy_score\n",
    "# test the accuracy of each model using default hyperparameters\n",
    "results = []\n",
    "names = []\n",
    "scoring = 'accuracy'\n",
    "for name, model in models:\n",
    "    # fit the model with the training data\n",
    "    model.fit(X_train, y_train).predict(X_test)\n",
    "    # make predictions with the testing data\n",
    "    predictions = model.predict(X_test)\n",
    "    # calculate accuracy \n",
    "    accuracy = accuracy_score(y_test, predictions)\n",
    "    # append the model name and the accuracy to the lists\n",
    "    results.append(accuracy)\n",
    "    names.append(name)\n",
    "    # print classifier accuracy\n",
    "    print('Classifier: {}, Accuracy: {})'.format(name, accuracy))\n"
   ]
  },
  {
   "cell_type": "markdown",
   "id": "139b7d91",
   "metadata": {
    "papermill": {
     "duration": 0.024032,
     "end_time": "2023-11-15T19:54:26.369378",
     "exception": false,
     "start_time": "2023-11-15T19:54:26.345346",
     "status": "completed"
    },
    "tags": []
   },
   "source": [
    "Gradient Boosting has higher accuracy than all other classifiers"
   ]
  },
  {
   "cell_type": "code",
   "execution_count": 36,
   "id": "b21622e0",
   "metadata": {
    "execution": {
     "iopub.execute_input": "2023-11-15T19:54:26.419554Z",
     "iopub.status.busy": "2023-11-15T19:54:26.419167Z",
     "iopub.status.idle": "2023-11-15T19:54:47.374441Z",
     "shell.execute_reply": "2023-11-15T19:54:47.373315Z"
    },
    "papermill": {
     "duration": 20.983005,
     "end_time": "2023-11-15T19:54:47.376934",
     "exception": false,
     "start_time": "2023-11-15T19:54:26.393929",
     "status": "completed"
    },
    "tags": []
   },
   "outputs": [
    {
     "name": "stdout",
     "output_type": "stream",
     "text": [
      "Collecting numpy==1.22.0\r\n",
      "  Downloading numpy-1.22.0-cp310-cp310-manylinux_2_17_x86_64.manylinux2014_x86_64.whl (16.8 MB)\r\n",
      "\u001b[2K     \u001b[90m━━━━━━━━━━━━━━━━━━━━━━━━━━━━━━━━━━━━━━━━\u001b[0m \u001b[32m16.8/16.8 MB\u001b[0m \u001b[31m56.2 MB/s\u001b[0m eta \u001b[36m0:00:00\u001b[0m\r\n",
      "\u001b[?25hInstalling collected packages: numpy\r\n",
      "  Attempting uninstall: numpy\r\n",
      "    Found existing installation: numpy 1.23.5\r\n",
      "    Uninstalling numpy-1.23.5:\r\n",
      "      Successfully uninstalled numpy-1.23.5\r\n",
      "\u001b[31mERROR: pip's dependency resolver does not currently take into account all the packages that are installed. This behaviour is the source of the following dependency conflicts.\r\n",
      "cudf 23.8.0 requires cupy-cuda11x>=12.0.0, which is not installed.\r\n",
      "cuml 23.8.0 requires cupy-cuda11x>=12.0.0, which is not installed.\r\n",
      "dask-cudf 23.8.0 requires cupy-cuda11x>=12.0.0, which is not installed.\r\n",
      "apache-beam 2.46.0 requires dill<0.3.2,>=0.3.1.1, but you have dill 0.3.7 which is incompatible.\r\n",
      "apache-beam 2.46.0 requires pyarrow<10.0.0,>=3.0.0, but you have pyarrow 11.0.0 which is incompatible.\r\n",
      "chex 0.1.82 requires numpy>=1.25.0, but you have numpy 1.22.0 which is incompatible.\r\n",
      "cudf 23.8.0 requires pandas<1.6.0dev0,>=1.3, but you have pandas 2.0.2 which is incompatible.\r\n",
      "cudf 23.8.0 requires protobuf<5,>=4.21, but you have protobuf 3.20.3 which is incompatible.\r\n",
      "cuml 23.8.0 requires dask==2023.7.1, but you have dask 2023.9.0 which is incompatible.\r\n",
      "dask-cuda 23.8.0 requires dask==2023.7.1, but you have dask 2023.9.0 which is incompatible.\r\n",
      "dask-cuda 23.8.0 requires pandas<1.6.0dev0,>=1.3, but you have pandas 2.0.2 which is incompatible.\r\n",
      "dask-cudf 23.8.0 requires dask==2023.7.1, but you have dask 2023.9.0 which is incompatible.\r\n",
      "dask-cudf 23.8.0 requires pandas<1.6.0dev0,>=1.3, but you have pandas 2.0.2 which is incompatible.\r\n",
      "fitter 1.6.0 requires pandas<3.0.0,>=2.0.3, but you have pandas 2.0.2 which is incompatible.\r\n",
      "librosa 0.10.1 requires numpy!=1.22.0,!=1.22.1,!=1.22.2,>=1.20.3, but you have numpy 1.22.0 which is incompatible.\r\n",
      "momepy 0.6.0 requires shapely>=2, but you have shapely 1.8.5.post1 which is incompatible.\r\n",
      "pymc3 3.11.5 requires scipy<1.8.0,>=1.7.3, but you have scipy 1.11.2 which is incompatible.\r\n",
      "raft-dask 23.8.0 requires dask==2023.7.1, but you have dask 2023.9.0 which is incompatible.\r\n",
      "ydata-profiling 4.3.1 requires scipy<1.11,>=1.4.1, but you have scipy 1.11.2 which is incompatible.\u001b[0m\u001b[31m\r\n",
      "\u001b[0mSuccessfully installed numpy-1.22.0\r\n"
     ]
    }
   ],
   "source": [
    "!pip install numpy==1.22.0\n"
   ]
  },
  {
   "cell_type": "code",
   "execution_count": 37,
   "id": "c04ae1cf",
   "metadata": {
    "execution": {
     "iopub.execute_input": "2023-11-15T19:54:47.426418Z",
     "iopub.status.busy": "2023-11-15T19:54:47.425789Z",
     "iopub.status.idle": "2023-11-15T19:58:33.150088Z",
     "shell.execute_reply": "2023-11-15T19:58:33.148839Z"
    },
    "papermill": {
     "duration": 225.777178,
     "end_time": "2023-11-15T19:58:33.178389",
     "exception": false,
     "start_time": "2023-11-15T19:54:47.401211",
     "status": "completed"
    },
    "tags": []
   },
   "outputs": [
    {
     "name": "stdout",
     "output_type": "stream",
     "text": [
      "{'n_estimators': 120, 'min_samples_split': 4, 'max_features': 'log2', 'max_depth': 3}\n"
     ]
    }
   ],
   "source": [
    "from sklearn.model_selection import RandomizedSearchCV\n",
    "\n",
    "# define the parameter grid\n",
    "grid_parameters = {'n_estimators': [80, 90, 100, 110, 115, 120],\n",
    "                   'max_depth': [3, 4, 5, 6],\n",
    "                   'max_features': [None, 1.0, 'sqrt', 'log2'], \n",
    "                   'min_samples_split': [2, 3, 4, 5]}\n",
    "\n",
    "\n",
    "# define the RandomizedSearchCV class for trying different parameter combinations\n",
    "random_search = RandomizedSearchCV(estimator=GradientBoostingClassifier(),\n",
    "                                   param_distributions=grid_parameters,\n",
    "                                   cv=5,\n",
    "                                   n_iter=150,\n",
    "                                   n_jobs=-1)\n",
    "\n",
    "# fitting the model for random search \n",
    "random_search.fit(X_train, y_train)\n",
    "\n",
    "# print best parameter after tuning\n",
    "print(random_search.best_params_)\n"
   ]
  },
  {
   "cell_type": "code",
   "execution_count": 38,
   "id": "a099bed0",
   "metadata": {
    "execution": {
     "iopub.execute_input": "2023-11-15T19:58:33.231098Z",
     "iopub.status.busy": "2023-11-15T19:58:33.230287Z",
     "iopub.status.idle": "2023-11-15T19:58:33.248624Z",
     "shell.execute_reply": "2023-11-15T19:58:33.247662Z"
    },
    "papermill": {
     "duration": 0.047043,
     "end_time": "2023-11-15T19:58:33.250965",
     "exception": false,
     "start_time": "2023-11-15T19:58:33.203922",
     "status": "completed"
    },
    "tags": []
   },
   "outputs": [
    {
     "data": {
      "text/plain": [
       "array([[1148,  162],\n",
       "       [ 194,  254]])"
      ]
     },
     "execution_count": 38,
     "metadata": {},
     "output_type": "execute_result"
    }
   ],
   "source": [
    "from sklearn.metrics import confusion_matrix\n",
    "\n",
    "# make the predictions\n",
    "random_search_predictions = random_search.predict(X_test)\n",
    "\n",
    "# construct the confusion matrix\n",
    "confusion_matrix = confusion_matrix(y_test, random_search_predictions)\n",
    "\n",
    "# visualize the confusion matrix\n",
    "confusion_matrix"
   ]
  },
  {
   "cell_type": "code",
   "execution_count": 39,
   "id": "4753912c",
   "metadata": {
    "execution": {
     "iopub.execute_input": "2023-11-15T19:58:33.305463Z",
     "iopub.status.busy": "2023-11-15T19:58:33.305078Z",
     "iopub.status.idle": "2023-11-15T19:58:33.321046Z",
     "shell.execute_reply": "2023-11-15T19:58:33.319768Z"
    },
    "papermill": {
     "duration": 0.045628,
     "end_time": "2023-11-15T19:58:33.323163",
     "exception": false,
     "start_time": "2023-11-15T19:58:33.277535",
     "status": "completed"
    },
    "tags": []
   },
   "outputs": [
    {
     "name": "stdout",
     "output_type": "stream",
     "text": [
      "              precision    recall  f1-score   support\n",
      "\n",
      "           0       0.86      0.88      0.87      1310\n",
      "           1       0.61      0.57      0.59       448\n",
      "\n",
      "    accuracy                           0.80      1758\n",
      "   macro avg       0.73      0.72      0.73      1758\n",
      "weighted avg       0.79      0.80      0.79      1758\n",
      "\n"
     ]
    }
   ],
   "source": [
    "from sklearn.metrics import classification_report\n",
    "print(classification_report(y_test, random_search_predictions))"
   ]
  }
 ],
 "metadata": {
  "kaggle": {
   "accelerator": "nvidiaTeslaT4",
   "dataSources": [
    {
     "datasetId": 84176,
     "sourceId": 195306,
     "sourceType": "datasetVersion"
    }
   ],
   "dockerImageVersionId": 30558,
   "isGpuEnabled": true,
   "isInternetEnabled": true,
   "language": "python",
   "sourceType": "notebook"
  },
  "kernelspec": {
   "display_name": "Python 3 (ipykernel)",
   "language": "python",
   "name": "python3"
  },
  "language_info": {
   "codemirror_mode": {
    "name": "ipython",
    "version": 3
   },
   "file_extension": ".py",
   "mimetype": "text/x-python",
   "name": "python",
   "nbconvert_exporter": "python",
   "pygments_lexer": "ipython3",
   "version": "3.11.5"
  },
  "papermill": {
   "default_parameters": {},
   "duration": 269.255467,
   "end_time": "2023-11-15T19:58:35.969104",
   "environment_variables": {},
   "exception": null,
   "input_path": "__notebook__.ipynb",
   "output_path": "__notebook__.ipynb",
   "parameters": {},
   "start_time": "2023-11-15T19:54:06.713637",
   "version": "2.4.0"
  }
 },
 "nbformat": 4,
 "nbformat_minor": 5
}
