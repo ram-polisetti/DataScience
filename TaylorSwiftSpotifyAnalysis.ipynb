{
 "cells": [
  {
   "cell_type": "code",
   "execution_count": 1,
   "id": "6971ed83",
   "metadata": {
    "_cell_guid": "b1076dfc-b9ad-4769-8c92-a6c4dae69d19",
    "_uuid": "8f2839f25d086af736a60e9eeb907d3b93b6e0e5",
    "execution": {
     "iopub.execute_input": "2023-11-20T21:25:39.944223Z",
     "iopub.status.busy": "2023-11-20T21:25:39.943653Z",
     "iopub.status.idle": "2023-11-20T21:25:42.044074Z",
     "shell.execute_reply": "2023-11-20T21:25:42.042982Z"
    },
    "papermill": {
     "duration": 2.108738,
     "end_time": "2023-11-20T21:25:42.047388",
     "exception": false,
     "start_time": "2023-11-20T21:25:39.938650",
     "status": "completed"
    },
    "tags": []
   },
   "outputs": [],
   "source": [
    "import numpy as np\n",
    "import pandas as pd\n",
    "import seaborn as sns\n",
    "import matplotlib.pyplot as plt"
   ]
  },
  {
   "cell_type": "code",
   "execution_count": 2,
   "id": "ca101c9c",
   "metadata": {
    "execution": {
     "iopub.execute_input": "2023-11-20T21:25:42.055217Z",
     "iopub.status.busy": "2023-11-20T21:25:42.054629Z",
     "iopub.status.idle": "2023-11-20T21:25:42.099942Z",
     "shell.execute_reply": "2023-11-20T21:25:42.097962Z"
    },
    "papermill": {
     "duration": 0.053992,
     "end_time": "2023-11-20T21:25:42.104294",
     "exception": false,
     "start_time": "2023-11-20T21:25:42.050302",
     "status": "completed"
    },
    "tags": []
   },
   "outputs": [],
   "source": [
    "spotify_data = pd.read_csv(\"/kaggle/input/top-spotify-songs-2023/spotify-2023.csv\", encoding='latin1')"
   ]
  },
  {
   "cell_type": "code",
   "execution_count": 3,
   "id": "a6e993f0",
   "metadata": {
    "execution": {
     "iopub.execute_input": "2023-11-20T21:25:42.113087Z",
     "iopub.status.busy": "2023-11-20T21:25:42.112170Z",
     "iopub.status.idle": "2023-11-20T21:25:42.117790Z",
     "shell.execute_reply": "2023-11-20T21:25:42.116859Z"
    },
    "papermill": {
     "duration": 0.012995,
     "end_time": "2023-11-20T21:25:42.120682",
     "exception": false,
     "start_time": "2023-11-20T21:25:42.107687",
     "status": "completed"
    },
    "tags": []
   },
   "outputs": [],
   "source": [
    "plt.rcParams['figure.dpi'] = 300\n",
    "plt.rcParams[\"axes.spines.right\"] = False\n",
    "plt.rcParams[\"axes.spines.top\"] = False\n",
    "plt.rcParams[\"figure.figsize\"] = (4.5, 3.5)"
   ]
  }
 ],
 "metadata": {
  "kaggle": {
   "accelerator": "none",
   "dataSources": [
    {
     "datasetId": 3668746,
     "sourceId": 6367938,
     "sourceType": "datasetVersion"
    }
   ],
   "dockerImageVersionId": 30587,
   "isGpuEnabled": false,
   "isInternetEnabled": true,
   "language": "python",
   "sourceType": "notebook"
  },
  "kernelspec": {
   "display_name": "Python 3",
   "language": "python",
   "name": "python3"
  },
  "language_info": {
   "codemirror_mode": {
    "name": "ipython",
    "version": 3
   },
   "file_extension": ".py",
   "mimetype": "text/x-python",
   "name": "python",
   "nbconvert_exporter": "python",
   "pygments_lexer": "ipython3",
   "version": "3.10.12"
  },
  "papermill": {
   "default_parameters": {},
   "duration": 6.886589,
   "end_time": "2023-11-20T21:25:43.150245",
   "environment_variables": {},
   "exception": null,
   "input_path": "__notebook__.ipynb",
   "output_path": "__notebook__.ipynb",
   "parameters": {},
   "start_time": "2023-11-20T21:25:36.263656",
   "version": "2.4.0"
  }
 },
 "nbformat": 4,
 "nbformat_minor": 5
}
