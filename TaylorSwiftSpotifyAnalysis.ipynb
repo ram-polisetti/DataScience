{
 "cells": [
  {
   "cell_type": "code",
   "execution_count": 1,
   "id": "4d2b478d",
   "metadata": {
    "_cell_guid": "b1076dfc-b9ad-4769-8c92-a6c4dae69d19",
    "_uuid": "8f2839f25d086af736a60e9eeb907d3b93b6e0e5",
    "execution": {
     "iopub.execute_input": "2023-11-21T20:03:26.328069Z",
     "iopub.status.busy": "2023-11-21T20:03:26.327689Z",
     "iopub.status.idle": "2023-11-21T20:03:28.022874Z",
     "shell.execute_reply": "2023-11-21T20:03:28.020907Z"
    },
    "papermill": {
     "duration": 1.705293,
     "end_time": "2023-11-21T20:03:28.026623",
     "exception": false,
     "start_time": "2023-11-21T20:03:26.321330",
     "status": "completed"
    },
    "tags": []
   },
   "outputs": [],
   "source": [
    "import numpy as np\n",
    "import pandas as pd\n",
    "import seaborn as sns"
   ]
  },
  {
   "cell_type": "code",
   "execution_count": 2,
   "id": "8c28e818",
   "metadata": {
    "execution": {
     "iopub.execute_input": "2023-11-21T20:03:28.039555Z",
     "iopub.status.busy": "2023-11-21T20:03:28.038973Z",
     "iopub.status.idle": "2023-11-21T20:03:28.077243Z",
     "shell.execute_reply": "2023-11-21T20:03:28.076125Z"
    },
    "papermill": {
     "duration": 0.046936,
     "end_time": "2023-11-21T20:03:28.080140",
     "exception": false,
     "start_time": "2023-11-21T20:03:28.033204",
     "status": "completed"
    },
    "tags": []
   },
   "outputs": [],
   "source": [
    "spotify_data = pd.read_csv(\"/kaggle/input/top-spotify-songs-2023/spotify-2023.csv\", encoding='latin1')"
   ]
  },
  {
   "cell_type": "code",
   "execution_count": 3,
   "id": "07ee1d44",
   "metadata": {
    "execution": {
     "iopub.execute_input": "2023-11-21T20:03:28.090883Z",
     "iopub.status.busy": "2023-11-21T20:03:28.090478Z",
     "iopub.status.idle": "2023-11-21T20:03:28.097709Z",
     "shell.execute_reply": "2023-11-21T20:03:28.096697Z"
    },
    "papermill": {
     "duration": 0.015336,
     "end_time": "2023-11-21T20:03:28.099893",
     "exception": false,
     "start_time": "2023-11-21T20:03:28.084557",
     "status": "completed"
    },
    "tags": []
   },
   "outputs": [
    {
     "data": {
      "text/plain": [
       "(953, 24)"
      ]
     },
     "execution_count": 3,
     "metadata": {},
     "output_type": "execute_result"
    }
   ],
   "source": [
    "spotify_data.shape"
   ]
  },
  {
   "cell_type": "code",
   "execution_count": 4,
   "id": "3e0a2ecc",
   "metadata": {
    "execution": {
     "iopub.execute_input": "2023-11-21T20:03:28.110666Z",
     "iopub.status.busy": "2023-11-21T20:03:28.110256Z",
     "iopub.status.idle": "2023-11-21T20:03:28.117587Z",
     "shell.execute_reply": "2023-11-21T20:03:28.116435Z"
    },
    "papermill": {
     "duration": 0.015427,
     "end_time": "2023-11-21T20:03:28.119908",
     "exception": false,
     "start_time": "2023-11-21T20:03:28.104481",
     "status": "completed"
    },
    "tags": []
   },
   "outputs": [
    {
     "data": {
      "text/plain": [
       "Index(['track_name', 'artist(s)_name', 'artist_count', 'released_year',\n",
       "       'released_month', 'released_day', 'in_spotify_playlists',\n",
       "       'in_spotify_charts', 'streams', 'in_apple_playlists', 'in_apple_charts',\n",
       "       'in_deezer_playlists', 'in_deezer_charts', 'in_shazam_charts', 'bpm',\n",
       "       'key', 'mode', 'danceability_%', 'valence_%', 'energy_%',\n",
       "       'acousticness_%', 'instrumentalness_%', 'liveness_%', 'speechiness_%'],\n",
       "      dtype='object')"
      ]
     },
     "execution_count": 4,
     "metadata": {},
     "output_type": "execute_result"
    }
   ],
   "source": [
    "spotify_data.columns"
   ]
  },
  {
   "cell_type": "markdown",
   "id": "9026ce15",
   "metadata": {
    "papermill": {
     "duration": 0.004378,
     "end_time": "2023-11-21T20:03:28.129104",
     "exception": false,
     "start_time": "2023-11-21T20:03:28.124726",
     "status": "completed"
    },
    "tags": []
   },
   "source": [
    "Dataset column Description\n",
    "- track_name: Name of the song\n",
    "- artist(s)_name: Name of the artist(s) of the song\n",
    "- artist_count: Number of artists contributing to the song\n",
    "- released_year: Year when the song was released\n",
    "- released_month: Month when the song was released\n",
    "- released_day: Day of the month when the song was released\n",
    "- in_spotify_playlists: Number of Spotify playlists the song is included in\n",
    "- in_spotify_charts: Presence and rank of the song on Spotify charts\n",
    "- streams: Total number of streams on Spotify\n",
    "- in_apple_playlists: Number of Apple Music playlists the song is included in\n",
    "- in_apple_charts: Presence and rank of the song on Apple Music charts\n",
    "- in_deezer_playlists: Number of Deezer playlists the song is included in\n",
    "- in_deezer_charts: Presence and rank of the song on Deezer charts\n",
    "- in_shazam_charts: Presence and rank of the song on Shazam charts\n",
    "- bpm: Beats per minute, a measure of song tempo\n",
    "- key: Key of the song\n",
    "- mode: Mode of the song (major or minor)\n",
    "- danceability_%: Percentage indicating how suitable the song is for dancing\n",
    "- valence_%: Positivity of the song's musical content\n",
    "- energy_%: Perceived energy level of the song\n",
    "- acousticness_%: Amount of acoustic sound in the song\n",
    "- instrumentalness_%: Amount of instrumental content in the song\n",
    "- liveness_%: Presence of live performance elements\n",
    "- speechiness_%: Amount of spoken words in the song"
   ]
  },
  {
   "cell_type": "code",
   "execution_count": 5,
   "id": "50d92199",
   "metadata": {
    "execution": {
     "iopub.execute_input": "2023-11-21T20:03:28.140660Z",
     "iopub.status.busy": "2023-11-21T20:03:28.139458Z",
     "iopub.status.idle": "2023-11-21T20:03:28.175301Z",
     "shell.execute_reply": "2023-11-21T20:03:28.174093Z"
    },
    "papermill": {
     "duration": 0.044355,
     "end_time": "2023-11-21T20:03:28.178101",
     "exception": false,
     "start_time": "2023-11-21T20:03:28.133746",
     "status": "completed"
    },
    "tags": []
   },
   "outputs": [
    {
     "data": {
      "text/html": [
       "<div>\n",
       "<style scoped>\n",
       "    .dataframe tbody tr th:only-of-type {\n",
       "        vertical-align: middle;\n",
       "    }\n",
       "\n",
       "    .dataframe tbody tr th {\n",
       "        vertical-align: top;\n",
       "    }\n",
       "\n",
       "    .dataframe thead th {\n",
       "        text-align: right;\n",
       "    }\n",
       "</style>\n",
       "<table border=\"1\" class=\"dataframe\">\n",
       "  <thead>\n",
       "    <tr style=\"text-align: right;\">\n",
       "      <th></th>\n",
       "      <th>track_name</th>\n",
       "      <th>artist(s)_name</th>\n",
       "      <th>artist_count</th>\n",
       "      <th>released_year</th>\n",
       "      <th>released_month</th>\n",
       "      <th>released_day</th>\n",
       "      <th>in_spotify_playlists</th>\n",
       "      <th>in_spotify_charts</th>\n",
       "      <th>streams</th>\n",
       "      <th>in_apple_playlists</th>\n",
       "      <th>...</th>\n",
       "      <th>bpm</th>\n",
       "      <th>key</th>\n",
       "      <th>mode</th>\n",
       "      <th>danceability_%</th>\n",
       "      <th>valence_%</th>\n",
       "      <th>energy_%</th>\n",
       "      <th>acousticness_%</th>\n",
       "      <th>instrumentalness_%</th>\n",
       "      <th>liveness_%</th>\n",
       "      <th>speechiness_%</th>\n",
       "    </tr>\n",
       "  </thead>\n",
       "  <tbody>\n",
       "    <tr>\n",
       "      <th>0</th>\n",
       "      <td>Seven (feat. Latto) (Explicit Ver.)</td>\n",
       "      <td>Latto, Jung Kook</td>\n",
       "      <td>2</td>\n",
       "      <td>2023</td>\n",
       "      <td>7</td>\n",
       "      <td>14</td>\n",
       "      <td>553</td>\n",
       "      <td>147</td>\n",
       "      <td>141381703</td>\n",
       "      <td>43</td>\n",
       "      <td>...</td>\n",
       "      <td>125</td>\n",
       "      <td>B</td>\n",
       "      <td>Major</td>\n",
       "      <td>80</td>\n",
       "      <td>89</td>\n",
       "      <td>83</td>\n",
       "      <td>31</td>\n",
       "      <td>0</td>\n",
       "      <td>8</td>\n",
       "      <td>4</td>\n",
       "    </tr>\n",
       "    <tr>\n",
       "      <th>1</th>\n",
       "      <td>LALA</td>\n",
       "      <td>Myke Towers</td>\n",
       "      <td>1</td>\n",
       "      <td>2023</td>\n",
       "      <td>3</td>\n",
       "      <td>23</td>\n",
       "      <td>1474</td>\n",
       "      <td>48</td>\n",
       "      <td>133716286</td>\n",
       "      <td>48</td>\n",
       "      <td>...</td>\n",
       "      <td>92</td>\n",
       "      <td>C#</td>\n",
       "      <td>Major</td>\n",
       "      <td>71</td>\n",
       "      <td>61</td>\n",
       "      <td>74</td>\n",
       "      <td>7</td>\n",
       "      <td>0</td>\n",
       "      <td>10</td>\n",
       "      <td>4</td>\n",
       "    </tr>\n",
       "    <tr>\n",
       "      <th>2</th>\n",
       "      <td>vampire</td>\n",
       "      <td>Olivia Rodrigo</td>\n",
       "      <td>1</td>\n",
       "      <td>2023</td>\n",
       "      <td>6</td>\n",
       "      <td>30</td>\n",
       "      <td>1397</td>\n",
       "      <td>113</td>\n",
       "      <td>140003974</td>\n",
       "      <td>94</td>\n",
       "      <td>...</td>\n",
       "      <td>138</td>\n",
       "      <td>F</td>\n",
       "      <td>Major</td>\n",
       "      <td>51</td>\n",
       "      <td>32</td>\n",
       "      <td>53</td>\n",
       "      <td>17</td>\n",
       "      <td>0</td>\n",
       "      <td>31</td>\n",
       "      <td>6</td>\n",
       "    </tr>\n",
       "    <tr>\n",
       "      <th>3</th>\n",
       "      <td>Cruel Summer</td>\n",
       "      <td>Taylor Swift</td>\n",
       "      <td>1</td>\n",
       "      <td>2019</td>\n",
       "      <td>8</td>\n",
       "      <td>23</td>\n",
       "      <td>7858</td>\n",
       "      <td>100</td>\n",
       "      <td>800840817</td>\n",
       "      <td>116</td>\n",
       "      <td>...</td>\n",
       "      <td>170</td>\n",
       "      <td>A</td>\n",
       "      <td>Major</td>\n",
       "      <td>55</td>\n",
       "      <td>58</td>\n",
       "      <td>72</td>\n",
       "      <td>11</td>\n",
       "      <td>0</td>\n",
       "      <td>11</td>\n",
       "      <td>15</td>\n",
       "    </tr>\n",
       "    <tr>\n",
       "      <th>4</th>\n",
       "      <td>WHERE SHE GOES</td>\n",
       "      <td>Bad Bunny</td>\n",
       "      <td>1</td>\n",
       "      <td>2023</td>\n",
       "      <td>5</td>\n",
       "      <td>18</td>\n",
       "      <td>3133</td>\n",
       "      <td>50</td>\n",
       "      <td>303236322</td>\n",
       "      <td>84</td>\n",
       "      <td>...</td>\n",
       "      <td>144</td>\n",
       "      <td>A</td>\n",
       "      <td>Minor</td>\n",
       "      <td>65</td>\n",
       "      <td>23</td>\n",
       "      <td>80</td>\n",
       "      <td>14</td>\n",
       "      <td>63</td>\n",
       "      <td>11</td>\n",
       "      <td>6</td>\n",
       "    </tr>\n",
       "  </tbody>\n",
       "</table>\n",
       "<p>5 rows × 24 columns</p>\n",
       "</div>"
      ],
      "text/plain": [
       "                            track_name    artist(s)_name  artist_count  \\\n",
       "0  Seven (feat. Latto) (Explicit Ver.)  Latto, Jung Kook             2   \n",
       "1                                 LALA       Myke Towers             1   \n",
       "2                              vampire    Olivia Rodrigo             1   \n",
       "3                         Cruel Summer      Taylor Swift             1   \n",
       "4                       WHERE SHE GOES         Bad Bunny             1   \n",
       "\n",
       "   released_year  released_month  released_day  in_spotify_playlists  \\\n",
       "0           2023               7            14                   553   \n",
       "1           2023               3            23                  1474   \n",
       "2           2023               6            30                  1397   \n",
       "3           2019               8            23                  7858   \n",
       "4           2023               5            18                  3133   \n",
       "\n",
       "   in_spotify_charts    streams  in_apple_playlists  ...  bpm key   mode  \\\n",
       "0                147  141381703                  43  ...  125   B  Major   \n",
       "1                 48  133716286                  48  ...   92  C#  Major   \n",
       "2                113  140003974                  94  ...  138   F  Major   \n",
       "3                100  800840817                 116  ...  170   A  Major   \n",
       "4                 50  303236322                  84  ...  144   A  Minor   \n",
       "\n",
       "  danceability_%  valence_% energy_% acousticness_%  instrumentalness_%  \\\n",
       "0             80         89       83             31                   0   \n",
       "1             71         61       74              7                   0   \n",
       "2             51         32       53             17                   0   \n",
       "3             55         58       72             11                   0   \n",
       "4             65         23       80             14                  63   \n",
       "\n",
       "   liveness_%  speechiness_%  \n",
       "0           8              4  \n",
       "1          10              4  \n",
       "2          31              6  \n",
       "3          11             15  \n",
       "4          11              6  \n",
       "\n",
       "[5 rows x 24 columns]"
      ]
     },
     "execution_count": 5,
     "metadata": {},
     "output_type": "execute_result"
    }
   ],
   "source": [
    "spotify_data.head()"
   ]
  },
  {
   "cell_type": "code",
   "execution_count": 6,
   "id": "c97bc934",
   "metadata": {
    "execution": {
     "iopub.execute_input": "2023-11-21T20:03:28.190081Z",
     "iopub.status.busy": "2023-11-21T20:03:28.189664Z",
     "iopub.status.idle": "2023-11-21T20:03:28.198873Z",
     "shell.execute_reply": "2023-11-21T20:03:28.197697Z"
    },
    "papermill": {
     "duration": 0.018099,
     "end_time": "2023-11-21T20:03:28.201327",
     "exception": false,
     "start_time": "2023-11-21T20:03:28.183228",
     "status": "completed"
    },
    "tags": []
   },
   "outputs": [
    {
     "data": {
      "text/plain": [
       "<bound method Series.unique of 0        Latto, Jung Kook\n",
       "1             Myke Towers\n",
       "2          Olivia Rodrigo\n",
       "3            Taylor Swift\n",
       "4               Bad Bunny\n",
       "              ...        \n",
       "948          Selena Gomez\n",
       "949          Taylor Swift\n",
       "950    Feid, Paulo Londra\n",
       "951    Feid, Sech, Jhayco\n",
       "952             Burna Boy\n",
       "Name: artist(s)_name, Length: 953, dtype: object>"
      ]
     },
     "execution_count": 6,
     "metadata": {},
     "output_type": "execute_result"
    }
   ],
   "source": [
    "spotify_data['artist(s)_name'].unique"
   ]
  },
  {
   "cell_type": "code",
   "execution_count": 7,
   "id": "155e2a65",
   "metadata": {
    "execution": {
     "iopub.execute_input": "2023-11-21T20:03:28.213345Z",
     "iopub.status.busy": "2023-11-21T20:03:28.212880Z",
     "iopub.status.idle": "2023-11-21T20:03:28.220085Z",
     "shell.execute_reply": "2023-11-21T20:03:28.218992Z"
    },
    "papermill": {
     "duration": 0.01569,
     "end_time": "2023-11-21T20:03:28.222146",
     "exception": false,
     "start_time": "2023-11-21T20:03:28.206456",
     "status": "completed"
    },
    "tags": []
   },
   "outputs": [
    {
     "data": {
      "text/plain": [
       "True"
      ]
     },
     "execution_count": 7,
     "metadata": {},
     "output_type": "execute_result"
    }
   ],
   "source": [
    "'Taylor Swift' in spotify_data['artist(s)_name'].values"
   ]
  },
  {
   "cell_type": "code",
   "execution_count": 8,
   "id": "3d938c99",
   "metadata": {
    "execution": {
     "iopub.execute_input": "2023-11-21T20:03:28.234751Z",
     "iopub.status.busy": "2023-11-21T20:03:28.233793Z",
     "iopub.status.idle": "2023-11-21T20:03:28.249980Z",
     "shell.execute_reply": "2023-11-21T20:03:28.248991Z"
    },
    "papermill": {
     "duration": 0.024901,
     "end_time": "2023-11-21T20:03:28.252216",
     "exception": false,
     "start_time": "2023-11-21T20:03:28.227315",
     "status": "completed"
    },
    "tags": []
   },
   "outputs": [
    {
     "data": {
      "text/plain": [
       "artist(s)_name\n",
       "Taylor Swift                  34\n",
       "Taylor Swift, Ice Spice        1\n",
       "Lana Del Rey, Taylor Swift     1\n",
       "Taylor Swift, Lana Del Rey     1\n",
       "Ed Sheeran, Taylor Swift       1\n",
       "Name: count, dtype: int64"
      ]
     },
     "execution_count": 8,
     "metadata": {},
     "output_type": "execute_result"
    }
   ],
   "source": [
    "pattern = 'taylor swift'\n",
    "spotify_data[spotify_data['artist(s)_name'].str.contains(pattern, case=False)]['artist(s)_name'].value_counts()"
   ]
  },
  {
   "cell_type": "markdown",
   "id": "cca1cd76",
   "metadata": {
    "papermill": {
     "duration": 0.004942,
     "end_time": "2023-11-21T20:03:28.262983",
     "exception": false,
     "start_time": "2023-11-21T20:03:28.258041",
     "status": "completed"
    },
    "tags": []
   },
   "source": [
    "We are only interested in Taylor Swift Data"
   ]
  },
  {
   "cell_type": "code",
   "execution_count": 9,
   "id": "d925f06f",
   "metadata": {
    "execution": {
     "iopub.execute_input": "2023-11-21T20:03:28.275852Z",
     "iopub.status.busy": "2023-11-21T20:03:28.275095Z",
     "iopub.status.idle": "2023-11-21T20:03:28.296006Z",
     "shell.execute_reply": "2023-11-21T20:03:28.294873Z"
    },
    "papermill": {
     "duration": 0.029948,
     "end_time": "2023-11-21T20:03:28.298480",
     "exception": false,
     "start_time": "2023-11-21T20:03:28.268532",
     "status": "completed"
    },
    "tags": []
   },
   "outputs": [
    {
     "data": {
      "text/html": [
       "<div>\n",
       "<style scoped>\n",
       "    .dataframe tbody tr th:only-of-type {\n",
       "        vertical-align: middle;\n",
       "    }\n",
       "\n",
       "    .dataframe tbody tr th {\n",
       "        vertical-align: top;\n",
       "    }\n",
       "\n",
       "    .dataframe thead th {\n",
       "        text-align: right;\n",
       "    }\n",
       "</style>\n",
       "<table border=\"1\" class=\"dataframe\">\n",
       "  <thead>\n",
       "    <tr style=\"text-align: right;\">\n",
       "      <th></th>\n",
       "      <th>track_name</th>\n",
       "      <th>artist(s)_name</th>\n",
       "      <th>artist_count</th>\n",
       "      <th>released_year</th>\n",
       "      <th>released_month</th>\n",
       "      <th>released_day</th>\n",
       "      <th>in_spotify_playlists</th>\n",
       "      <th>in_spotify_charts</th>\n",
       "      <th>streams</th>\n",
       "      <th>in_apple_playlists</th>\n",
       "      <th>...</th>\n",
       "      <th>bpm</th>\n",
       "      <th>key</th>\n",
       "      <th>mode</th>\n",
       "      <th>danceability_%</th>\n",
       "      <th>valence_%</th>\n",
       "      <th>energy_%</th>\n",
       "      <th>acousticness_%</th>\n",
       "      <th>instrumentalness_%</th>\n",
       "      <th>liveness_%</th>\n",
       "      <th>speechiness_%</th>\n",
       "    </tr>\n",
       "  </thead>\n",
       "  <tbody>\n",
       "    <tr>\n",
       "      <th>3</th>\n",
       "      <td>Cruel Summer</td>\n",
       "      <td>Taylor Swift</td>\n",
       "      <td>1</td>\n",
       "      <td>2019</td>\n",
       "      <td>8</td>\n",
       "      <td>23</td>\n",
       "      <td>7858</td>\n",
       "      <td>100</td>\n",
       "      <td>800840817</td>\n",
       "      <td>116</td>\n",
       "      <td>...</td>\n",
       "      <td>170</td>\n",
       "      <td>A</td>\n",
       "      <td>Major</td>\n",
       "      <td>55</td>\n",
       "      <td>58</td>\n",
       "      <td>72</td>\n",
       "      <td>11</td>\n",
       "      <td>0</td>\n",
       "      <td>11</td>\n",
       "      <td>15</td>\n",
       "    </tr>\n",
       "    <tr>\n",
       "      <th>21</th>\n",
       "      <td>I Can See You (Taylorï¿½ï¿½ï¿½s Version) (From...</td>\n",
       "      <td>Taylor Swift</td>\n",
       "      <td>1</td>\n",
       "      <td>2023</td>\n",
       "      <td>7</td>\n",
       "      <td>7</td>\n",
       "      <td>516</td>\n",
       "      <td>38</td>\n",
       "      <td>52135248</td>\n",
       "      <td>73</td>\n",
       "      <td>...</td>\n",
       "      <td>123</td>\n",
       "      <td>F#</td>\n",
       "      <td>Major</td>\n",
       "      <td>69</td>\n",
       "      <td>82</td>\n",
       "      <td>76</td>\n",
       "      <td>6</td>\n",
       "      <td>0</td>\n",
       "      <td>6</td>\n",
       "      <td>3</td>\n",
       "    </tr>\n",
       "    <tr>\n",
       "      <th>33</th>\n",
       "      <td>Anti-Hero</td>\n",
       "      <td>Taylor Swift</td>\n",
       "      <td>1</td>\n",
       "      <td>2022</td>\n",
       "      <td>10</td>\n",
       "      <td>21</td>\n",
       "      <td>9082</td>\n",
       "      <td>56</td>\n",
       "      <td>999748277</td>\n",
       "      <td>242</td>\n",
       "      <td>...</td>\n",
       "      <td>97</td>\n",
       "      <td>E</td>\n",
       "      <td>Major</td>\n",
       "      <td>64</td>\n",
       "      <td>51</td>\n",
       "      <td>63</td>\n",
       "      <td>12</td>\n",
       "      <td>0</td>\n",
       "      <td>19</td>\n",
       "      <td>5</td>\n",
       "    </tr>\n",
       "    <tr>\n",
       "      <th>37</th>\n",
       "      <td>Blank Space</td>\n",
       "      <td>Taylor Swift</td>\n",
       "      <td>1</td>\n",
       "      <td>2014</td>\n",
       "      <td>1</td>\n",
       "      <td>1</td>\n",
       "      <td>11434</td>\n",
       "      <td>53</td>\n",
       "      <td>1355959075</td>\n",
       "      <td>154</td>\n",
       "      <td>...</td>\n",
       "      <td>96</td>\n",
       "      <td>F</td>\n",
       "      <td>Major</td>\n",
       "      <td>75</td>\n",
       "      <td>57</td>\n",
       "      <td>68</td>\n",
       "      <td>9</td>\n",
       "      <td>0</td>\n",
       "      <td>13</td>\n",
       "      <td>6</td>\n",
       "    </tr>\n",
       "    <tr>\n",
       "      <th>38</th>\n",
       "      <td>Style</td>\n",
       "      <td>Taylor Swift</td>\n",
       "      <td>1</td>\n",
       "      <td>2014</td>\n",
       "      <td>1</td>\n",
       "      <td>1</td>\n",
       "      <td>7830</td>\n",
       "      <td>42</td>\n",
       "      <td>786181836</td>\n",
       "      <td>94</td>\n",
       "      <td>...</td>\n",
       "      <td>95</td>\n",
       "      <td>D</td>\n",
       "      <td>Major</td>\n",
       "      <td>60</td>\n",
       "      <td>48</td>\n",
       "      <td>79</td>\n",
       "      <td>0</td>\n",
       "      <td>0</td>\n",
       "      <td>12</td>\n",
       "      <td>4</td>\n",
       "    </tr>\n",
       "  </tbody>\n",
       "</table>\n",
       "<p>5 rows × 24 columns</p>\n",
       "</div>"
      ],
      "text/plain": [
       "                                           track_name artist(s)_name  \\\n",
       "3                                        Cruel Summer   Taylor Swift   \n",
       "21  I Can See You (Taylorï¿½ï¿½ï¿½s Version) (From...   Taylor Swift   \n",
       "33                                          Anti-Hero   Taylor Swift   \n",
       "37                                        Blank Space   Taylor Swift   \n",
       "38                                              Style   Taylor Swift   \n",
       "\n",
       "    artist_count  released_year  released_month  released_day  \\\n",
       "3              1           2019               8            23   \n",
       "21             1           2023               7             7   \n",
       "33             1           2022              10            21   \n",
       "37             1           2014               1             1   \n",
       "38             1           2014               1             1   \n",
       "\n",
       "    in_spotify_playlists  in_spotify_charts     streams  in_apple_playlists  \\\n",
       "3                   7858                100   800840817                 116   \n",
       "21                   516                 38    52135248                  73   \n",
       "33                  9082                 56   999748277                 242   \n",
       "37                 11434                 53  1355959075                 154   \n",
       "38                  7830                 42   786181836                  94   \n",
       "\n",
       "    ...  bpm key   mode danceability_%  valence_% energy_% acousticness_%  \\\n",
       "3   ...  170   A  Major             55         58       72             11   \n",
       "21  ...  123  F#  Major             69         82       76              6   \n",
       "33  ...   97   E  Major             64         51       63             12   \n",
       "37  ...   96   F  Major             75         57       68              9   \n",
       "38  ...   95   D  Major             60         48       79              0   \n",
       "\n",
       "    instrumentalness_%  liveness_%  speechiness_%  \n",
       "3                    0          11             15  \n",
       "21                   0           6              3  \n",
       "33                   0          19              5  \n",
       "37                   0          13              6  \n",
       "38                   0          12              4  \n",
       "\n",
       "[5 rows x 24 columns]"
      ]
     },
     "execution_count": 9,
     "metadata": {},
     "output_type": "execute_result"
    }
   ],
   "source": [
    "taylorswift_data = spotify_data[spotify_data['artist(s)_name']=='Taylor Swift'].copy()\n",
    "taylorswift_data.head()"
   ]
  },
  {
   "cell_type": "markdown",
   "id": "12271017",
   "metadata": {
    "papermill": {
     "duration": 0.005258,
     "end_time": "2023-11-21T20:03:28.309467",
     "exception": false,
     "start_time": "2023-11-21T20:03:28.304209",
     "status": "completed"
    },
    "tags": []
   },
   "source": [
    "since the only artist in the dataset is Taylor Swift and the she's the only one who sang these songs"
   ]
  },
  {
   "cell_type": "code",
   "execution_count": 10,
   "id": "596a02cf",
   "metadata": {
    "execution": {
     "iopub.execute_input": "2023-11-21T20:03:28.322370Z",
     "iopub.status.busy": "2023-11-21T20:03:28.321939Z",
     "iopub.status.idle": "2023-11-21T20:03:28.330586Z",
     "shell.execute_reply": "2023-11-21T20:03:28.329514Z"
    },
    "papermill": {
     "duration": 0.017622,
     "end_time": "2023-11-21T20:03:28.332642",
     "exception": false,
     "start_time": "2023-11-21T20:03:28.315020",
     "status": "completed"
    },
    "tags": []
   },
   "outputs": [
    {
     "data": {
      "text/plain": [
       "mode\n",
       "Major    30\n",
       "Minor     4\n",
       "Name: count, dtype: int64"
      ]
     },
     "execution_count": 10,
     "metadata": {},
     "output_type": "execute_result"
    }
   ],
   "source": [
    "taylorswift_data['mode'].value_counts()"
   ]
  },
  {
   "cell_type": "markdown",
   "id": "87b46546",
   "metadata": {
    "papermill": {
     "duration": 0.00531,
     "end_time": "2023-11-21T20:03:28.343694",
     "exception": false,
     "start_time": "2023-11-21T20:03:28.338384",
     "status": "completed"
    },
    "tags": []
   },
   "source": [
    "The major mode typically has a brighter, happier sound, while the minor mode often conveys a more somber or melancholic tone."
   ]
  },
  {
   "cell_type": "code",
   "execution_count": 11,
   "id": "24ec5a05",
   "metadata": {
    "execution": {
     "iopub.execute_input": "2023-11-21T20:03:28.357068Z",
     "iopub.status.busy": "2023-11-21T20:03:28.356210Z",
     "iopub.status.idle": "2023-11-21T20:03:28.361693Z",
     "shell.execute_reply": "2023-11-21T20:03:28.360513Z"
    },
    "papermill": {
     "duration": 0.015085,
     "end_time": "2023-11-21T20:03:28.364327",
     "exception": false,
     "start_time": "2023-11-21T20:03:28.349242",
     "status": "completed"
    },
    "tags": []
   },
   "outputs": [],
   "source": [
    "import matplotlib.pyplot as plt\n",
    "plt.rcParams['figure.dpi'] = 300\n",
    "plt.rcParams[\"axes.spines.right\"] = False\n",
    "plt.rcParams[\"axes.spines.top\"] = False\n",
    "plt.rcParams[\"figure.figsize\"] = (4.5, 3.5)"
   ]
  },
  {
   "cell_type": "code",
   "execution_count": null,
   "id": "e798fea5",
   "metadata": {
    "papermill": {
     "duration": 0.005673,
     "end_time": "2023-11-21T20:03:28.375704",
     "exception": false,
     "start_time": "2023-11-21T20:03:28.370031",
     "status": "completed"
    },
    "tags": []
   },
   "outputs": [],
   "source": []
  }
 ],
 "metadata": {
  "kaggle": {
   "accelerator": "none",
   "dataSources": [
    {
     "datasetId": 3668746,
     "sourceId": 6367938,
     "sourceType": "datasetVersion"
    }
   ],
   "dockerImageVersionId": 30587,
   "isGpuEnabled": false,
   "isInternetEnabled": true,
   "language": "python",
   "sourceType": "notebook"
  },
  "kernelspec": {
   "display_name": "Python 3",
   "language": "python",
   "name": "python3"
  },
  "language_info": {
   "codemirror_mode": {
    "name": "ipython",
    "version": 3
   },
   "file_extension": ".py",
   "mimetype": "text/x-python",
   "name": "python",
   "nbconvert_exporter": "python",
   "pygments_lexer": "ipython3",
   "version": "3.10.12"
  },
  "papermill": {
   "default_parameters": {},
   "duration": 5.747981,
   "end_time": "2023-11-21T20:03:29.003516",
   "environment_variables": {},
   "exception": null,
   "input_path": "__notebook__.ipynb",
   "output_path": "__notebook__.ipynb",
   "parameters": {},
   "start_time": "2023-11-21T20:03:23.255535",
   "version": "2.4.0"
  }
 },
 "nbformat": 4,
 "nbformat_minor": 5
}
