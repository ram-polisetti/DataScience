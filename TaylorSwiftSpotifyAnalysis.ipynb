{
 "cells": [
  {
   "cell_type": "code",
   "execution_count": 1,
   "id": "94269a76",
   "metadata": {
    "_cell_guid": "b1076dfc-b9ad-4769-8c92-a6c4dae69d19",
    "_uuid": "8f2839f25d086af736a60e9eeb907d3b93b6e0e5",
    "execution": {
     "iopub.execute_input": "2023-11-21T21:05:43.923645Z",
     "iopub.status.busy": "2023-11-21T21:05:43.922496Z",
     "iopub.status.idle": "2023-11-21T21:05:46.052073Z",
     "shell.execute_reply": "2023-11-21T21:05:46.050859Z"
    },
    "papermill": {
     "duration": 2.14841,
     "end_time": "2023-11-21T21:05:46.055104",
     "exception": false,
     "start_time": "2023-11-21T21:05:43.906694",
     "status": "completed"
    },
    "tags": []
   },
   "outputs": [],
   "source": [
    "import numpy as np\n",
    "import pandas as pd\n",
    "import seaborn as sns"
   ]
  },
  {
   "cell_type": "code",
   "execution_count": 2,
   "id": "10c02777",
   "metadata": {
    "execution": {
     "iopub.execute_input": "2023-11-21T21:05:46.074126Z",
     "iopub.status.busy": "2023-11-21T21:05:46.072667Z",
     "iopub.status.idle": "2023-11-21T21:05:46.123730Z",
     "shell.execute_reply": "2023-11-21T21:05:46.122483Z"
    },
    "papermill": {
     "duration": 0.063803,
     "end_time": "2023-11-21T21:05:46.126880",
     "exception": false,
     "start_time": "2023-11-21T21:05:46.063077",
     "status": "completed"
    },
    "tags": []
   },
   "outputs": [],
   "source": [
    "spotify_data = pd.read_csv(\"/kaggle/input/top-spotify-songs-2023/spotify-2023.csv\", encoding='latin1')"
   ]
  },
  {
   "cell_type": "code",
   "execution_count": 3,
   "id": "32226b33",
   "metadata": {
    "execution": {
     "iopub.execute_input": "2023-11-21T21:05:46.144643Z",
     "iopub.status.busy": "2023-11-21T21:05:46.144155Z",
     "iopub.status.idle": "2023-11-21T21:05:46.152569Z",
     "shell.execute_reply": "2023-11-21T21:05:46.151356Z"
    },
    "papermill": {
     "duration": 0.0206,
     "end_time": "2023-11-21T21:05:46.155364",
     "exception": false,
     "start_time": "2023-11-21T21:05:46.134764",
     "status": "completed"
    },
    "tags": []
   },
   "outputs": [
    {
     "data": {
      "text/plain": [
       "(953, 24)"
      ]
     },
     "execution_count": 3,
     "metadata": {},
     "output_type": "execute_result"
    }
   ],
   "source": [
    "spotify_data.shape"
   ]
  },
  {
   "cell_type": "code",
   "execution_count": 4,
   "id": "57052370",
   "metadata": {
    "execution": {
     "iopub.execute_input": "2023-11-21T21:05:46.173923Z",
     "iopub.status.busy": "2023-11-21T21:05:46.173183Z",
     "iopub.status.idle": "2023-11-21T21:05:46.180902Z",
     "shell.execute_reply": "2023-11-21T21:05:46.179738Z"
    },
    "papermill": {
     "duration": 0.019739,
     "end_time": "2023-11-21T21:05:46.183210",
     "exception": false,
     "start_time": "2023-11-21T21:05:46.163471",
     "status": "completed"
    },
    "tags": []
   },
   "outputs": [
    {
     "data": {
      "text/plain": [
       "Index(['track_name', 'artist(s)_name', 'artist_count', 'released_year',\n",
       "       'released_month', 'released_day', 'in_spotify_playlists',\n",
       "       'in_spotify_charts', 'streams', 'in_apple_playlists', 'in_apple_charts',\n",
       "       'in_deezer_playlists', 'in_deezer_charts', 'in_shazam_charts', 'bpm',\n",
       "       'key', 'mode', 'danceability_%', 'valence_%', 'energy_%',\n",
       "       'acousticness_%', 'instrumentalness_%', 'liveness_%', 'speechiness_%'],\n",
       "      dtype='object')"
      ]
     },
     "execution_count": 4,
     "metadata": {},
     "output_type": "execute_result"
    }
   ],
   "source": [
    "spotify_data.columns"
   ]
  },
  {
   "cell_type": "markdown",
   "id": "867b6589",
   "metadata": {
    "papermill": {
     "duration": 0.007822,
     "end_time": "2023-11-21T21:05:46.199209",
     "exception": false,
     "start_time": "2023-11-21T21:05:46.191387",
     "status": "completed"
    },
    "tags": []
   },
   "source": [
    "Dataset column Description\n",
    "- track_name: Name of the song\n",
    "- artist(s)_name: Name of the artist(s) of the song\n",
    "- artist_count: Number of artists contributing to the song\n",
    "- released_year: Year when the song was released\n",
    "- released_month: Month when the song was released\n",
    "- released_day: Day of the month when the song was released\n",
    "- in_spotify_playlists: Number of Spotify playlists the song is included in\n",
    "- in_spotify_charts: Presence and rank of the song on Spotify charts\n",
    "- streams: Total number of streams on Spotify\n",
    "- in_apple_playlists: Number of Apple Music playlists the song is included in\n",
    "- in_apple_charts: Presence and rank of the song on Apple Music charts\n",
    "- in_deezer_playlists: Number of Deezer playlists the song is included in\n",
    "- in_deezer_charts: Presence and rank of the song on Deezer charts\n",
    "- in_shazam_charts: Presence and rank of the song on Shazam charts\n",
    "- bpm: Beats per minute, a measure of song tempo\n",
    "- key: Key of the song\n",
    "- mode: Mode of the song (major or minor)\n",
    "- danceability_%: Percentage indicating how suitable the song is for dancing\n",
    "- valence_%: Positivity of the song's musical content\n",
    "- energy_%: Perceived energy level of the song\n",
    "- acousticness_%: Amount of acoustic sound in the song\n",
    "- instrumentalness_%: Amount of instrumental content in the song\n",
    "- liveness_%: Presence of live performance elements\n",
    "- speechiness_%: Amount of spoken words in the song"
   ]
  },
  {
   "cell_type": "code",
   "execution_count": 5,
   "id": "1bdedd81",
   "metadata": {
    "execution": {
     "iopub.execute_input": "2023-11-21T21:05:46.218573Z",
     "iopub.status.busy": "2023-11-21T21:05:46.217778Z",
     "iopub.status.idle": "2023-11-21T21:05:46.258556Z",
     "shell.execute_reply": "2023-11-21T21:05:46.257388Z"
    },
    "papermill": {
     "duration": 0.053731,
     "end_time": "2023-11-21T21:05:46.261146",
     "exception": false,
     "start_time": "2023-11-21T21:05:46.207415",
     "status": "completed"
    },
    "tags": []
   },
   "outputs": [
    {
     "data": {
      "text/html": [
       "<div>\n",
       "<style scoped>\n",
       "    .dataframe tbody tr th:only-of-type {\n",
       "        vertical-align: middle;\n",
       "    }\n",
       "\n",
       "    .dataframe tbody tr th {\n",
       "        vertical-align: top;\n",
       "    }\n",
       "\n",
       "    .dataframe thead th {\n",
       "        text-align: right;\n",
       "    }\n",
       "</style>\n",
       "<table border=\"1\" class=\"dataframe\">\n",
       "  <thead>\n",
       "    <tr style=\"text-align: right;\">\n",
       "      <th></th>\n",
       "      <th>track_name</th>\n",
       "      <th>artist(s)_name</th>\n",
       "      <th>artist_count</th>\n",
       "      <th>released_year</th>\n",
       "      <th>released_month</th>\n",
       "      <th>released_day</th>\n",
       "      <th>in_spotify_playlists</th>\n",
       "      <th>in_spotify_charts</th>\n",
       "      <th>streams</th>\n",
       "      <th>in_apple_playlists</th>\n",
       "      <th>...</th>\n",
       "      <th>bpm</th>\n",
       "      <th>key</th>\n",
       "      <th>mode</th>\n",
       "      <th>danceability_%</th>\n",
       "      <th>valence_%</th>\n",
       "      <th>energy_%</th>\n",
       "      <th>acousticness_%</th>\n",
       "      <th>instrumentalness_%</th>\n",
       "      <th>liveness_%</th>\n",
       "      <th>speechiness_%</th>\n",
       "    </tr>\n",
       "  </thead>\n",
       "  <tbody>\n",
       "    <tr>\n",
       "      <th>0</th>\n",
       "      <td>Seven (feat. Latto) (Explicit Ver.)</td>\n",
       "      <td>Latto, Jung Kook</td>\n",
       "      <td>2</td>\n",
       "      <td>2023</td>\n",
       "      <td>7</td>\n",
       "      <td>14</td>\n",
       "      <td>553</td>\n",
       "      <td>147</td>\n",
       "      <td>141381703</td>\n",
       "      <td>43</td>\n",
       "      <td>...</td>\n",
       "      <td>125</td>\n",
       "      <td>B</td>\n",
       "      <td>Major</td>\n",
       "      <td>80</td>\n",
       "      <td>89</td>\n",
       "      <td>83</td>\n",
       "      <td>31</td>\n",
       "      <td>0</td>\n",
       "      <td>8</td>\n",
       "      <td>4</td>\n",
       "    </tr>\n",
       "    <tr>\n",
       "      <th>1</th>\n",
       "      <td>LALA</td>\n",
       "      <td>Myke Towers</td>\n",
       "      <td>1</td>\n",
       "      <td>2023</td>\n",
       "      <td>3</td>\n",
       "      <td>23</td>\n",
       "      <td>1474</td>\n",
       "      <td>48</td>\n",
       "      <td>133716286</td>\n",
       "      <td>48</td>\n",
       "      <td>...</td>\n",
       "      <td>92</td>\n",
       "      <td>C#</td>\n",
       "      <td>Major</td>\n",
       "      <td>71</td>\n",
       "      <td>61</td>\n",
       "      <td>74</td>\n",
       "      <td>7</td>\n",
       "      <td>0</td>\n",
       "      <td>10</td>\n",
       "      <td>4</td>\n",
       "    </tr>\n",
       "    <tr>\n",
       "      <th>2</th>\n",
       "      <td>vampire</td>\n",
       "      <td>Olivia Rodrigo</td>\n",
       "      <td>1</td>\n",
       "      <td>2023</td>\n",
       "      <td>6</td>\n",
       "      <td>30</td>\n",
       "      <td>1397</td>\n",
       "      <td>113</td>\n",
       "      <td>140003974</td>\n",
       "      <td>94</td>\n",
       "      <td>...</td>\n",
       "      <td>138</td>\n",
       "      <td>F</td>\n",
       "      <td>Major</td>\n",
       "      <td>51</td>\n",
       "      <td>32</td>\n",
       "      <td>53</td>\n",
       "      <td>17</td>\n",
       "      <td>0</td>\n",
       "      <td>31</td>\n",
       "      <td>6</td>\n",
       "    </tr>\n",
       "    <tr>\n",
       "      <th>3</th>\n",
       "      <td>Cruel Summer</td>\n",
       "      <td>Taylor Swift</td>\n",
       "      <td>1</td>\n",
       "      <td>2019</td>\n",
       "      <td>8</td>\n",
       "      <td>23</td>\n",
       "      <td>7858</td>\n",
       "      <td>100</td>\n",
       "      <td>800840817</td>\n",
       "      <td>116</td>\n",
       "      <td>...</td>\n",
       "      <td>170</td>\n",
       "      <td>A</td>\n",
       "      <td>Major</td>\n",
       "      <td>55</td>\n",
       "      <td>58</td>\n",
       "      <td>72</td>\n",
       "      <td>11</td>\n",
       "      <td>0</td>\n",
       "      <td>11</td>\n",
       "      <td>15</td>\n",
       "    </tr>\n",
       "    <tr>\n",
       "      <th>4</th>\n",
       "      <td>WHERE SHE GOES</td>\n",
       "      <td>Bad Bunny</td>\n",
       "      <td>1</td>\n",
       "      <td>2023</td>\n",
       "      <td>5</td>\n",
       "      <td>18</td>\n",
       "      <td>3133</td>\n",
       "      <td>50</td>\n",
       "      <td>303236322</td>\n",
       "      <td>84</td>\n",
       "      <td>...</td>\n",
       "      <td>144</td>\n",
       "      <td>A</td>\n",
       "      <td>Minor</td>\n",
       "      <td>65</td>\n",
       "      <td>23</td>\n",
       "      <td>80</td>\n",
       "      <td>14</td>\n",
       "      <td>63</td>\n",
       "      <td>11</td>\n",
       "      <td>6</td>\n",
       "    </tr>\n",
       "  </tbody>\n",
       "</table>\n",
       "<p>5 rows × 24 columns</p>\n",
       "</div>"
      ],
      "text/plain": [
       "                            track_name    artist(s)_name  artist_count  \\\n",
       "0  Seven (feat. Latto) (Explicit Ver.)  Latto, Jung Kook             2   \n",
       "1                                 LALA       Myke Towers             1   \n",
       "2                              vampire    Olivia Rodrigo             1   \n",
       "3                         Cruel Summer      Taylor Swift             1   \n",
       "4                       WHERE SHE GOES         Bad Bunny             1   \n",
       "\n",
       "   released_year  released_month  released_day  in_spotify_playlists  \\\n",
       "0           2023               7            14                   553   \n",
       "1           2023               3            23                  1474   \n",
       "2           2023               6            30                  1397   \n",
       "3           2019               8            23                  7858   \n",
       "4           2023               5            18                  3133   \n",
       "\n",
       "   in_spotify_charts    streams  in_apple_playlists  ...  bpm key   mode  \\\n",
       "0                147  141381703                  43  ...  125   B  Major   \n",
       "1                 48  133716286                  48  ...   92  C#  Major   \n",
       "2                113  140003974                  94  ...  138   F  Major   \n",
       "3                100  800840817                 116  ...  170   A  Major   \n",
       "4                 50  303236322                  84  ...  144   A  Minor   \n",
       "\n",
       "  danceability_%  valence_% energy_% acousticness_%  instrumentalness_%  \\\n",
       "0             80         89       83             31                   0   \n",
       "1             71         61       74              7                   0   \n",
       "2             51         32       53             17                   0   \n",
       "3             55         58       72             11                   0   \n",
       "4             65         23       80             14                  63   \n",
       "\n",
       "   liveness_%  speechiness_%  \n",
       "0           8              4  \n",
       "1          10              4  \n",
       "2          31              6  \n",
       "3          11             15  \n",
       "4          11              6  \n",
       "\n",
       "[5 rows x 24 columns]"
      ]
     },
     "execution_count": 5,
     "metadata": {},
     "output_type": "execute_result"
    }
   ],
   "source": [
    "spotify_data.head()"
   ]
  },
  {
   "cell_type": "code",
   "execution_count": 6,
   "id": "247391e1",
   "metadata": {
    "execution": {
     "iopub.execute_input": "2023-11-21T21:05:46.280616Z",
     "iopub.status.busy": "2023-11-21T21:05:46.280168Z",
     "iopub.status.idle": "2023-11-21T21:05:46.289005Z",
     "shell.execute_reply": "2023-11-21T21:05:46.287832Z"
    },
    "papermill": {
     "duration": 0.02171,
     "end_time": "2023-11-21T21:05:46.291517",
     "exception": false,
     "start_time": "2023-11-21T21:05:46.269807",
     "status": "completed"
    },
    "tags": []
   },
   "outputs": [
    {
     "data": {
      "text/plain": [
       "<bound method Series.unique of 0        Latto, Jung Kook\n",
       "1             Myke Towers\n",
       "2          Olivia Rodrigo\n",
       "3            Taylor Swift\n",
       "4               Bad Bunny\n",
       "              ...        \n",
       "948          Selena Gomez\n",
       "949          Taylor Swift\n",
       "950    Feid, Paulo Londra\n",
       "951    Feid, Sech, Jhayco\n",
       "952             Burna Boy\n",
       "Name: artist(s)_name, Length: 953, dtype: object>"
      ]
     },
     "execution_count": 6,
     "metadata": {},
     "output_type": "execute_result"
    }
   ],
   "source": [
    "spotify_data['artist(s)_name'].unique"
   ]
  },
  {
   "cell_type": "code",
   "execution_count": 7,
   "id": "ea882e5e",
   "metadata": {
    "execution": {
     "iopub.execute_input": "2023-11-21T21:05:46.311852Z",
     "iopub.status.busy": "2023-11-21T21:05:46.310966Z",
     "iopub.status.idle": "2023-11-21T21:05:46.317989Z",
     "shell.execute_reply": "2023-11-21T21:05:46.317210Z"
    },
    "papermill": {
     "duration": 0.019834,
     "end_time": "2023-11-21T21:05:46.320090",
     "exception": false,
     "start_time": "2023-11-21T21:05:46.300256",
     "status": "completed"
    },
    "tags": []
   },
   "outputs": [
    {
     "data": {
      "text/plain": [
       "True"
      ]
     },
     "execution_count": 7,
     "metadata": {},
     "output_type": "execute_result"
    }
   ],
   "source": [
    "'Taylor Swift' in spotify_data['artist(s)_name'].values"
   ]
  },
  {
   "cell_type": "code",
   "execution_count": 8,
   "id": "e7e8e33c",
   "metadata": {
    "execution": {
     "iopub.execute_input": "2023-11-21T21:05:46.339927Z",
     "iopub.status.busy": "2023-11-21T21:05:46.339473Z",
     "iopub.status.idle": "2023-11-21T21:05:46.356085Z",
     "shell.execute_reply": "2023-11-21T21:05:46.354961Z"
    },
    "papermill": {
     "duration": 0.029475,
     "end_time": "2023-11-21T21:05:46.358486",
     "exception": false,
     "start_time": "2023-11-21T21:05:46.329011",
     "status": "completed"
    },
    "tags": []
   },
   "outputs": [
    {
     "data": {
      "text/plain": [
       "artist(s)_name\n",
       "Taylor Swift                  34\n",
       "Taylor Swift, Ice Spice        1\n",
       "Lana Del Rey, Taylor Swift     1\n",
       "Taylor Swift, Lana Del Rey     1\n",
       "Ed Sheeran, Taylor Swift       1\n",
       "Name: count, dtype: int64"
      ]
     },
     "execution_count": 8,
     "metadata": {},
     "output_type": "execute_result"
    }
   ],
   "source": [
    "pattern = 'taylor swift'\n",
    "spotify_data[spotify_data['artist(s)_name'].str.contains(pattern, case=False)]['artist(s)_name'].value_counts()"
   ]
  },
  {
   "cell_type": "markdown",
   "id": "72262318",
   "metadata": {
    "papermill": {
     "duration": 0.008813,
     "end_time": "2023-11-21T21:05:46.376596",
     "exception": false,
     "start_time": "2023-11-21T21:05:46.367783",
     "status": "completed"
    },
    "tags": []
   },
   "source": [
    "We are only interested in Taylor Swift Data"
   ]
  },
  {
   "cell_type": "code",
   "execution_count": 9,
   "id": "40d68d1a",
   "metadata": {
    "execution": {
     "iopub.execute_input": "2023-11-21T21:05:46.397506Z",
     "iopub.status.busy": "2023-11-21T21:05:46.396632Z",
     "iopub.status.idle": "2023-11-21T21:05:46.421664Z",
     "shell.execute_reply": "2023-11-21T21:05:46.420511Z"
    },
    "papermill": {
     "duration": 0.038218,
     "end_time": "2023-11-21T21:05:46.424006",
     "exception": false,
     "start_time": "2023-11-21T21:05:46.385788",
     "status": "completed"
    },
    "tags": []
   },
   "outputs": [
    {
     "data": {
      "text/html": [
       "<div>\n",
       "<style scoped>\n",
       "    .dataframe tbody tr th:only-of-type {\n",
       "        vertical-align: middle;\n",
       "    }\n",
       "\n",
       "    .dataframe tbody tr th {\n",
       "        vertical-align: top;\n",
       "    }\n",
       "\n",
       "    .dataframe thead th {\n",
       "        text-align: right;\n",
       "    }\n",
       "</style>\n",
       "<table border=\"1\" class=\"dataframe\">\n",
       "  <thead>\n",
       "    <tr style=\"text-align: right;\">\n",
       "      <th></th>\n",
       "      <th>track_name</th>\n",
       "      <th>artist(s)_name</th>\n",
       "      <th>artist_count</th>\n",
       "      <th>released_year</th>\n",
       "      <th>released_month</th>\n",
       "      <th>released_day</th>\n",
       "      <th>in_spotify_playlists</th>\n",
       "      <th>in_spotify_charts</th>\n",
       "      <th>streams</th>\n",
       "      <th>in_apple_playlists</th>\n",
       "      <th>...</th>\n",
       "      <th>bpm</th>\n",
       "      <th>key</th>\n",
       "      <th>mode</th>\n",
       "      <th>danceability_%</th>\n",
       "      <th>valence_%</th>\n",
       "      <th>energy_%</th>\n",
       "      <th>acousticness_%</th>\n",
       "      <th>instrumentalness_%</th>\n",
       "      <th>liveness_%</th>\n",
       "      <th>speechiness_%</th>\n",
       "    </tr>\n",
       "  </thead>\n",
       "  <tbody>\n",
       "    <tr>\n",
       "      <th>3</th>\n",
       "      <td>Cruel Summer</td>\n",
       "      <td>Taylor Swift</td>\n",
       "      <td>1</td>\n",
       "      <td>2019</td>\n",
       "      <td>8</td>\n",
       "      <td>23</td>\n",
       "      <td>7858</td>\n",
       "      <td>100</td>\n",
       "      <td>800840817</td>\n",
       "      <td>116</td>\n",
       "      <td>...</td>\n",
       "      <td>170</td>\n",
       "      <td>A</td>\n",
       "      <td>Major</td>\n",
       "      <td>55</td>\n",
       "      <td>58</td>\n",
       "      <td>72</td>\n",
       "      <td>11</td>\n",
       "      <td>0</td>\n",
       "      <td>11</td>\n",
       "      <td>15</td>\n",
       "    </tr>\n",
       "    <tr>\n",
       "      <th>21</th>\n",
       "      <td>I Can See You (Taylorï¿½ï¿½ï¿½s Version) (From...</td>\n",
       "      <td>Taylor Swift</td>\n",
       "      <td>1</td>\n",
       "      <td>2023</td>\n",
       "      <td>7</td>\n",
       "      <td>7</td>\n",
       "      <td>516</td>\n",
       "      <td>38</td>\n",
       "      <td>52135248</td>\n",
       "      <td>73</td>\n",
       "      <td>...</td>\n",
       "      <td>123</td>\n",
       "      <td>F#</td>\n",
       "      <td>Major</td>\n",
       "      <td>69</td>\n",
       "      <td>82</td>\n",
       "      <td>76</td>\n",
       "      <td>6</td>\n",
       "      <td>0</td>\n",
       "      <td>6</td>\n",
       "      <td>3</td>\n",
       "    </tr>\n",
       "    <tr>\n",
       "      <th>33</th>\n",
       "      <td>Anti-Hero</td>\n",
       "      <td>Taylor Swift</td>\n",
       "      <td>1</td>\n",
       "      <td>2022</td>\n",
       "      <td>10</td>\n",
       "      <td>21</td>\n",
       "      <td>9082</td>\n",
       "      <td>56</td>\n",
       "      <td>999748277</td>\n",
       "      <td>242</td>\n",
       "      <td>...</td>\n",
       "      <td>97</td>\n",
       "      <td>E</td>\n",
       "      <td>Major</td>\n",
       "      <td>64</td>\n",
       "      <td>51</td>\n",
       "      <td>63</td>\n",
       "      <td>12</td>\n",
       "      <td>0</td>\n",
       "      <td>19</td>\n",
       "      <td>5</td>\n",
       "    </tr>\n",
       "    <tr>\n",
       "      <th>37</th>\n",
       "      <td>Blank Space</td>\n",
       "      <td>Taylor Swift</td>\n",
       "      <td>1</td>\n",
       "      <td>2014</td>\n",
       "      <td>1</td>\n",
       "      <td>1</td>\n",
       "      <td>11434</td>\n",
       "      <td>53</td>\n",
       "      <td>1355959075</td>\n",
       "      <td>154</td>\n",
       "      <td>...</td>\n",
       "      <td>96</td>\n",
       "      <td>F</td>\n",
       "      <td>Major</td>\n",
       "      <td>75</td>\n",
       "      <td>57</td>\n",
       "      <td>68</td>\n",
       "      <td>9</td>\n",
       "      <td>0</td>\n",
       "      <td>13</td>\n",
       "      <td>6</td>\n",
       "    </tr>\n",
       "    <tr>\n",
       "      <th>38</th>\n",
       "      <td>Style</td>\n",
       "      <td>Taylor Swift</td>\n",
       "      <td>1</td>\n",
       "      <td>2014</td>\n",
       "      <td>1</td>\n",
       "      <td>1</td>\n",
       "      <td>7830</td>\n",
       "      <td>42</td>\n",
       "      <td>786181836</td>\n",
       "      <td>94</td>\n",
       "      <td>...</td>\n",
       "      <td>95</td>\n",
       "      <td>D</td>\n",
       "      <td>Major</td>\n",
       "      <td>60</td>\n",
       "      <td>48</td>\n",
       "      <td>79</td>\n",
       "      <td>0</td>\n",
       "      <td>0</td>\n",
       "      <td>12</td>\n",
       "      <td>4</td>\n",
       "    </tr>\n",
       "  </tbody>\n",
       "</table>\n",
       "<p>5 rows × 24 columns</p>\n",
       "</div>"
      ],
      "text/plain": [
       "                                           track_name artist(s)_name  \\\n",
       "3                                        Cruel Summer   Taylor Swift   \n",
       "21  I Can See You (Taylorï¿½ï¿½ï¿½s Version) (From...   Taylor Swift   \n",
       "33                                          Anti-Hero   Taylor Swift   \n",
       "37                                        Blank Space   Taylor Swift   \n",
       "38                                              Style   Taylor Swift   \n",
       "\n",
       "    artist_count  released_year  released_month  released_day  \\\n",
       "3              1           2019               8            23   \n",
       "21             1           2023               7             7   \n",
       "33             1           2022              10            21   \n",
       "37             1           2014               1             1   \n",
       "38             1           2014               1             1   \n",
       "\n",
       "    in_spotify_playlists  in_spotify_charts     streams  in_apple_playlists  \\\n",
       "3                   7858                100   800840817                 116   \n",
       "21                   516                 38    52135248                  73   \n",
       "33                  9082                 56   999748277                 242   \n",
       "37                 11434                 53  1355959075                 154   \n",
       "38                  7830                 42   786181836                  94   \n",
       "\n",
       "    ...  bpm key   mode danceability_%  valence_% energy_% acousticness_%  \\\n",
       "3   ...  170   A  Major             55         58       72             11   \n",
       "21  ...  123  F#  Major             69         82       76              6   \n",
       "33  ...   97   E  Major             64         51       63             12   \n",
       "37  ...   96   F  Major             75         57       68              9   \n",
       "38  ...   95   D  Major             60         48       79              0   \n",
       "\n",
       "    instrumentalness_%  liveness_%  speechiness_%  \n",
       "3                    0          11             15  \n",
       "21                   0           6              3  \n",
       "33                   0          19              5  \n",
       "37                   0          13              6  \n",
       "38                   0          12              4  \n",
       "\n",
       "[5 rows x 24 columns]"
      ]
     },
     "execution_count": 9,
     "metadata": {},
     "output_type": "execute_result"
    }
   ],
   "source": [
    "taylorswift_data = spotify_data[spotify_data['artist(s)_name']=='Taylor Swift'].copy()\n",
    "taylorswift_data.head()"
   ]
  },
  {
   "cell_type": "markdown",
   "id": "ef280c49",
   "metadata": {
    "papermill": {
     "duration": 0.009638,
     "end_time": "2023-11-21T21:05:46.443459",
     "exception": false,
     "start_time": "2023-11-21T21:05:46.433821",
     "status": "completed"
    },
    "tags": []
   },
   "source": [
    "since the only artist in the dataset is Taylor Swift and the she's the only one who sang these songs"
   ]
  },
  {
   "cell_type": "code",
   "execution_count": 10,
   "id": "81345c49",
   "metadata": {
    "execution": {
     "iopub.execute_input": "2023-11-21T21:05:46.464986Z",
     "iopub.status.busy": "2023-11-21T21:05:46.464525Z",
     "iopub.status.idle": "2023-11-21T21:05:46.474279Z",
     "shell.execute_reply": "2023-11-21T21:05:46.473128Z"
    },
    "papermill": {
     "duration": 0.023372,
     "end_time": "2023-11-21T21:05:46.476868",
     "exception": false,
     "start_time": "2023-11-21T21:05:46.453496",
     "status": "completed"
    },
    "tags": []
   },
   "outputs": [
    {
     "data": {
      "text/plain": [
       "mode\n",
       "Major    30\n",
       "Minor     4\n",
       "Name: count, dtype: int64"
      ]
     },
     "execution_count": 10,
     "metadata": {},
     "output_type": "execute_result"
    }
   ],
   "source": [
    "taylorswift_data['mode'].value_counts()"
   ]
  },
  {
   "cell_type": "markdown",
   "id": "49bc2e26",
   "metadata": {
    "papermill": {
     "duration": 0.009422,
     "end_time": "2023-11-21T21:05:46.496222",
     "exception": false,
     "start_time": "2023-11-21T21:05:46.486800",
     "status": "completed"
    },
    "tags": []
   },
   "source": [
    "The major mode typically has a brighter, happier sound, while the minor mode often conveys a more somber or melancholic tone."
   ]
  },
  {
   "cell_type": "markdown",
   "id": "d4538042",
   "metadata": {
    "papermill": {
     "duration": 0.009472,
     "end_time": "2023-11-21T21:05:46.515478",
     "exception": false,
     "start_time": "2023-11-21T21:05:46.506006",
     "status": "completed"
    },
    "tags": []
   },
   "source": [
    "Lets remove\n",
    "- artist(s)_name\n",
    "- artist_count\n",
    "- mode"
   ]
  },
  {
   "cell_type": "code",
   "execution_count": 11,
   "id": "6785e9ab",
   "metadata": {
    "execution": {
     "iopub.execute_input": "2023-11-21T21:05:46.537898Z",
     "iopub.status.busy": "2023-11-21T21:05:46.537452Z",
     "iopub.status.idle": "2023-11-21T21:05:46.544720Z",
     "shell.execute_reply": "2023-11-21T21:05:46.543763Z"
    },
    "papermill": {
     "duration": 0.020946,
     "end_time": "2023-11-21T21:05:46.546855",
     "exception": false,
     "start_time": "2023-11-21T21:05:46.525909",
     "status": "completed"
    },
    "tags": []
   },
   "outputs": [],
   "source": [
    "taylorswift_data.drop(['artist(s)_name','artist_count','mode'], axis=1, inplace=True)\n"
   ]
  },
  {
   "cell_type": "code",
   "execution_count": 12,
   "id": "e0ba1202",
   "metadata": {
    "execution": {
     "iopub.execute_input": "2023-11-21T21:05:46.568440Z",
     "iopub.status.busy": "2023-11-21T21:05:46.567949Z",
     "iopub.status.idle": "2023-11-21T21:05:46.574339Z",
     "shell.execute_reply": "2023-11-21T21:05:46.573109Z"
    },
    "papermill": {
     "duration": 0.020513,
     "end_time": "2023-11-21T21:05:46.577211",
     "exception": false,
     "start_time": "2023-11-21T21:05:46.556698",
     "status": "completed"
    },
    "tags": []
   },
   "outputs": [],
   "source": [
    "import matplotlib.pyplot as plt\n",
    "plt.rcParams['figure.dpi'] = 300\n",
    "plt.rcParams[\"axes.spines.right\"] = False\n",
    "plt.rcParams[\"axes.spines.top\"] = False\n",
    "plt.rcParams[\"figure.figsize\"] = (4.5, 3.5)"
   ]
  },
  {
   "cell_type": "markdown",
   "id": "0df1df17",
   "metadata": {
    "papermill": {
     "duration": 0.009431,
     "end_time": "2023-11-21T21:05:46.597177",
     "exception": false,
     "start_time": "2023-11-21T21:05:46.587746",
     "status": "completed"
    },
    "tags": []
   },
   "source": [
    "Lets do a Univariate analysis on TaylorSwift songs"
   ]
  },
  {
   "cell_type": "code",
   "execution_count": 13,
   "id": "5c5b3530",
   "metadata": {
    "execution": {
     "iopub.execute_input": "2023-11-21T21:05:46.619911Z",
     "iopub.status.busy": "2023-11-21T21:05:46.619451Z",
     "iopub.status.idle": "2023-11-21T21:05:46.663022Z",
     "shell.execute_reply": "2023-11-21T21:05:46.661710Z"
    },
    "papermill": {
     "duration": 0.057651,
     "end_time": "2023-11-21T21:05:46.665590",
     "exception": false,
     "start_time": "2023-11-21T21:05:46.607939",
     "status": "completed"
    },
    "tags": []
   },
   "outputs": [
    {
     "data": {
      "text/html": [
       "<div>\n",
       "<style scoped>\n",
       "    .dataframe tbody tr th:only-of-type {\n",
       "        vertical-align: middle;\n",
       "    }\n",
       "\n",
       "    .dataframe tbody tr th {\n",
       "        vertical-align: top;\n",
       "    }\n",
       "\n",
       "    .dataframe thead th {\n",
       "        text-align: right;\n",
       "    }\n",
       "</style>\n",
       "<table border=\"1\" class=\"dataframe\">\n",
       "  <thead>\n",
       "    <tr style=\"text-align: right;\">\n",
       "      <th></th>\n",
       "      <th>danceability_%</th>\n",
       "      <th>valence_%</th>\n",
       "      <th>energy_%</th>\n",
       "      <th>acousticness_%</th>\n",
       "      <th>instrumentalness_%</th>\n",
       "      <th>liveness_%</th>\n",
       "      <th>speechiness_%</th>\n",
       "    </tr>\n",
       "  </thead>\n",
       "  <tbody>\n",
       "    <tr>\n",
       "      <th>count</th>\n",
       "      <td>34.000000</td>\n",
       "      <td>34.000000</td>\n",
       "      <td>34.000000</td>\n",
       "      <td>34.000000</td>\n",
       "      <td>34.000000</td>\n",
       "      <td>34.000000</td>\n",
       "      <td>34.000000</td>\n",
       "    </tr>\n",
       "    <tr>\n",
       "      <th>mean</th>\n",
       "      <td>59.764706</td>\n",
       "      <td>35.558824</td>\n",
       "      <td>56.794118</td>\n",
       "      <td>27.882353</td>\n",
       "      <td>0.676471</td>\n",
       "      <td>15.411765</td>\n",
       "      <td>7.382353</td>\n",
       "    </tr>\n",
       "    <tr>\n",
       "      <th>std</th>\n",
       "      <td>11.026301</td>\n",
       "      <td>22.799776</td>\n",
       "      <td>18.474847</td>\n",
       "      <td>28.070004</td>\n",
       "      <td>3.771669</td>\n",
       "      <td>9.474424</td>\n",
       "      <td>6.862347</td>\n",
       "    </tr>\n",
       "    <tr>\n",
       "      <th>min</th>\n",
       "      <td>34.000000</td>\n",
       "      <td>4.000000</td>\n",
       "      <td>16.000000</td>\n",
       "      <td>0.000000</td>\n",
       "      <td>0.000000</td>\n",
       "      <td>6.000000</td>\n",
       "      <td>3.000000</td>\n",
       "    </tr>\n",
       "    <tr>\n",
       "      <th>25%</th>\n",
       "      <td>50.250000</td>\n",
       "      <td>16.500000</td>\n",
       "      <td>44.750000</td>\n",
       "      <td>6.000000</td>\n",
       "      <td>0.000000</td>\n",
       "      <td>9.250000</td>\n",
       "      <td>4.000000</td>\n",
       "    </tr>\n",
       "    <tr>\n",
       "      <th>50%</th>\n",
       "      <td>63.000000</td>\n",
       "      <td>39.000000</td>\n",
       "      <td>57.000000</td>\n",
       "      <td>16.000000</td>\n",
       "      <td>0.000000</td>\n",
       "      <td>12.000000</td>\n",
       "      <td>5.000000</td>\n",
       "    </tr>\n",
       "    <tr>\n",
       "      <th>75%</th>\n",
       "      <td>66.750000</td>\n",
       "      <td>50.750000</td>\n",
       "      <td>72.750000</td>\n",
       "      <td>48.250000</td>\n",
       "      <td>0.000000</td>\n",
       "      <td>16.000000</td>\n",
       "      <td>7.750000</td>\n",
       "    </tr>\n",
       "    <tr>\n",
       "      <th>max</th>\n",
       "      <td>80.000000</td>\n",
       "      <td>95.000000</td>\n",
       "      <td>89.000000</td>\n",
       "      <td>97.000000</td>\n",
       "      <td>22.000000</td>\n",
       "      <td>48.000000</td>\n",
       "      <td>39.000000</td>\n",
       "    </tr>\n",
       "  </tbody>\n",
       "</table>\n",
       "</div>"
      ],
      "text/plain": [
       "       danceability_%  valence_%   energy_%  acousticness_%  \\\n",
       "count       34.000000  34.000000  34.000000       34.000000   \n",
       "mean        59.764706  35.558824  56.794118       27.882353   \n",
       "std         11.026301  22.799776  18.474847       28.070004   \n",
       "min         34.000000   4.000000  16.000000        0.000000   \n",
       "25%         50.250000  16.500000  44.750000        6.000000   \n",
       "50%         63.000000  39.000000  57.000000       16.000000   \n",
       "75%         66.750000  50.750000  72.750000       48.250000   \n",
       "max         80.000000  95.000000  89.000000       97.000000   \n",
       "\n",
       "       instrumentalness_%  liveness_%  speechiness_%  \n",
       "count           34.000000   34.000000      34.000000  \n",
       "mean             0.676471   15.411765       7.382353  \n",
       "std              3.771669    9.474424       6.862347  \n",
       "min              0.000000    6.000000       3.000000  \n",
       "25%              0.000000    9.250000       4.000000  \n",
       "50%              0.000000   12.000000       5.000000  \n",
       "75%              0.000000   16.000000       7.750000  \n",
       "max             22.000000   48.000000      39.000000  "
      ]
     },
     "execution_count": 13,
     "metadata": {},
     "output_type": "execute_result"
    }
   ],
   "source": [
    "taylorswift_data[['danceability_%',\n",
    "       'valence_%', 'energy_%', 'acousticness_%', 'instrumentalness_%',\n",
    "       'liveness_%', 'speechiness_%']].describe()"
   ]
  },
  {
   "cell_type": "markdown",
   "id": "6da66138",
   "metadata": {
    "papermill": {
     "duration": 0.009921,
     "end_time": "2023-11-21T21:05:46.685860",
     "exception": false,
     "start_time": "2023-11-21T21:05:46.675939",
     "status": "completed"
    },
    "tags": []
   },
   "source": [
    "There's a diverse range in the emotional spectrum, evident from moderate danceability (mean: ~59.76%) and varying valence (mean: ~35.56%), implying a mix of lively and emotionally diverse tracks. The energy levels are relatively moderate (mean: ~56.79%), suggesting a balanced tempo across her compositions. Notably, there's a prevalence of non-instrumental tracks (mean: ~0.68%), indicating a focus on lyrical and melodic elements. Overall, her music seems dynamically engaging with a noticeable blend of emotional tones and moderate energy.\n",
    "\n",
    "\n",
    "\n",
    "\n",
    "\n"
   ]
  },
  {
   "cell_type": "code",
   "execution_count": 14,
   "id": "4c59f109",
   "metadata": {
    "execution": {
     "iopub.execute_input": "2023-11-21T21:05:46.707911Z",
     "iopub.status.busy": "2023-11-21T21:05:46.707432Z",
     "iopub.status.idle": "2023-11-21T21:05:47.386035Z",
     "shell.execute_reply": "2023-11-21T21:05:47.384984Z"
    },
    "papermill": {
     "duration": 0.692627,
     "end_time": "2023-11-21T21:05:47.388651",
     "exception": false,
     "start_time": "2023-11-21T21:05:46.696024",
     "status": "completed"
    },
    "tags": []
   },
   "outputs": [
    {
     "data": {
      "image/png": "[encoded data removed]",
      "text/plain": [
       "<Figure size 1350x1050 with 1 Axes>"
      ]
     },
     "metadata": {},
     "output_type": "display_data"
    }
   ],
   "source": [
    "\n",
    "sns.boxplot(data=taylorswift_data[['danceability_%',\n",
    "       'valence_%', 'energy_%', 'acousticness_%', 'instrumentalness_%',\n",
    "       'liveness_%', 'speechiness_%']])\n",
    "plt.title(\"Boxplot of Attributes in Taylor Swift's Songs\")\n",
    "plt.ylabel(\"Percentage\")\n",
    "plt.xlabel(\"Attributes\")\n",
    "plt.xticks(rotation=90)  # Rotate x-axis labels for better readability\n",
    "plt.show()"
   ]
  },
  {
   "cell_type": "markdown",
   "id": "a980ef20",
   "metadata": {
    "papermill": {
     "duration": 0.011901,
     "end_time": "2023-11-21T21:05:47.413748",
     "exception": false,
     "start_time": "2023-11-21T21:05:47.401847",
     "status": "completed"
    },
    "tags": []
   },
   "source": [
    "Lets analyze taylor swift chart and playlist performance"
   ]
  },
  {
   "cell_type": "code",
   "execution_count": 15,
   "id": "5b3ba654",
   "metadata": {
    "execution": {
     "iopub.execute_input": "2023-11-21T21:05:47.440543Z",
     "iopub.status.busy": "2023-11-21T21:05:47.439776Z",
     "iopub.status.idle": "2023-11-21T21:05:47.468999Z",
     "shell.execute_reply": "2023-11-21T21:05:47.467819Z"
    },
    "papermill": {
     "duration": 0.046061,
     "end_time": "2023-11-21T21:05:47.471795",
     "exception": false,
     "start_time": "2023-11-21T21:05:47.425734",
     "status": "completed"
    },
    "tags": []
   },
   "outputs": [
    {
     "data": {
      "text/html": [
       "<div>\n",
       "<style scoped>\n",
       "    .dataframe tbody tr th:only-of-type {\n",
       "        vertical-align: middle;\n",
       "    }\n",
       "\n",
       "    .dataframe tbody tr th {\n",
       "        vertical-align: top;\n",
       "    }\n",
       "\n",
       "    .dataframe thead th {\n",
       "        text-align: right;\n",
       "    }\n",
       "</style>\n",
       "<table border=\"1\" class=\"dataframe\">\n",
       "  <thead>\n",
       "    <tr style=\"text-align: right;\">\n",
       "      <th></th>\n",
       "      <th>in_spotify_playlists</th>\n",
       "      <th>in_spotify_charts</th>\n",
       "      <th>in_apple_playlists</th>\n",
       "      <th>in_apple_charts</th>\n",
       "      <th>in_deezer_charts</th>\n",
       "    </tr>\n",
       "  </thead>\n",
       "  <tbody>\n",
       "    <tr>\n",
       "      <th>count</th>\n",
       "      <td>34.000000</td>\n",
       "      <td>34.000000</td>\n",
       "      <td>34.000000</td>\n",
       "      <td>34.000000</td>\n",
       "      <td>34.000000</td>\n",
       "    </tr>\n",
       "    <tr>\n",
       "      <th>mean</th>\n",
       "      <td>3911.000000</td>\n",
       "      <td>15.941176</td>\n",
       "      <td>52.823529</td>\n",
       "      <td>54.882353</td>\n",
       "      <td>1.705882</td>\n",
       "    </tr>\n",
       "    <tr>\n",
       "      <th>std</th>\n",
       "      <td>4309.570224</td>\n",
       "      <td>21.567289</td>\n",
       "      <td>72.932293</td>\n",
       "      <td>51.250286</td>\n",
       "      <td>3.280146</td>\n",
       "    </tr>\n",
       "    <tr>\n",
       "      <th>min</th>\n",
       "      <td>86.000000</td>\n",
       "      <td>0.000000</td>\n",
       "      <td>1.000000</td>\n",
       "      <td>0.000000</td>\n",
       "      <td>0.000000</td>\n",
       "    </tr>\n",
       "    <tr>\n",
       "      <th>25%</th>\n",
       "      <td>1334.500000</td>\n",
       "      <td>0.000000</td>\n",
       "      <td>10.500000</td>\n",
       "      <td>6.750000</td>\n",
       "      <td>0.000000</td>\n",
       "    </tr>\n",
       "    <tr>\n",
       "      <th>50%</th>\n",
       "      <td>2420.500000</td>\n",
       "      <td>9.500000</td>\n",
       "      <td>24.500000</td>\n",
       "      <td>44.000000</td>\n",
       "      <td>0.000000</td>\n",
       "    </tr>\n",
       "    <tr>\n",
       "      <th>75%</th>\n",
       "      <td>4815.000000</td>\n",
       "      <td>23.000000</td>\n",
       "      <td>50.750000</td>\n",
       "      <td>92.250000</td>\n",
       "      <td>1.750000</td>\n",
       "    </tr>\n",
       "    <tr>\n",
       "      <th>max</th>\n",
       "      <td>21335.000000</td>\n",
       "      <td>100.000000</td>\n",
       "      <td>328.000000</td>\n",
       "      <td>207.000000</td>\n",
       "      <td>12.000000</td>\n",
       "    </tr>\n",
       "  </tbody>\n",
       "</table>\n",
       "</div>"
      ],
      "text/plain": [
       "       in_spotify_playlists  in_spotify_charts  in_apple_playlists  \\\n",
       "count             34.000000          34.000000           34.000000   \n",
       "mean            3911.000000          15.941176           52.823529   \n",
       "std             4309.570224          21.567289           72.932293   \n",
       "min               86.000000           0.000000            1.000000   \n",
       "25%             1334.500000           0.000000           10.500000   \n",
       "50%             2420.500000           9.500000           24.500000   \n",
       "75%             4815.000000          23.000000           50.750000   \n",
       "max            21335.000000         100.000000          328.000000   \n",
       "\n",
       "       in_apple_charts  in_deezer_charts  \n",
       "count        34.000000         34.000000  \n",
       "mean         54.882353          1.705882  \n",
       "std          51.250286          3.280146  \n",
       "min           0.000000          0.000000  \n",
       "25%           6.750000          0.000000  \n",
       "50%          44.000000          0.000000  \n",
       "75%          92.250000          1.750000  \n",
       "max         207.000000         12.000000  "
      ]
     },
     "execution_count": 15,
     "metadata": {},
     "output_type": "execute_result"
    }
   ],
   "source": [
    "taylorswift_data[['in_spotify_playlists', 'in_spotify_charts',\n",
    "       'in_apple_playlists', 'in_apple_charts', 'in_deezer_playlists',\n",
    "       'in_deezer_charts', 'in_shazam_charts']].describe()"
   ]
  },
  {
   "cell_type": "markdown",
   "id": "bfd41d71",
   "metadata": {
    "papermill": {
     "duration": 0.012043,
     "end_time": "2023-11-21T21:05:47.496210",
     "exception": false,
     "start_time": "2023-11-21T21:05:47.484167",
     "status": "completed"
    },
    "tags": []
   },
   "source": [
    "- In-Spotify Playlists: Taylor Swift's songs, on average, appear in approximately 3911 playlists, with a wide range from a minimum of 86 to a maximum of 21335.\n",
    "- In-Spotify Charts: Typically, her songs secure an average position of approximately 16 in Spotify's chart, varying from absent (minimum of 0) to a high of 100.\n",
    "- In-Apple Playlists: Her tracks average around 53 placements in Apple Music playlists, ranging from a minimum of 1 to a maximum of 328.\n",
    "- In-Apple Charts and Deezer Charts: Taylor Swift's songs generally hold a slightly higher average position in Apple Music charts (approximately 55) compared to Deezer charts (approximately 2), with considerable variability in their rankings."
   ]
  },
  {
   "cell_type": "code",
   "execution_count": null,
   "id": "e8d23252",
   "metadata": {
    "papermill": {
     "duration": 0.01241,
     "end_time": "2023-11-21T21:05:47.521047",
     "exception": false,
     "start_time": "2023-11-21T21:05:47.508637",
     "status": "completed"
    },
    "tags": []
   },
   "outputs": [],
   "source": []
  }
 ],
 "metadata": {
  "kaggle": {
   "accelerator": "none",
   "dataSources": [
    {
     "datasetId": 3668746,
     "sourceId": 6367938,
     "sourceType": "datasetVersion"
    }
   ],
   "dockerImageVersionId": 30587,
   "isGpuEnabled": false,
   "isInternetEnabled": true,
   "language": "python",
   "sourceType": "notebook"
  },
  "kernelspec": {
   "display_name": "Python 3",
   "language": "python",
   "name": "python3"
  },
  "language_info": {
   "codemirror_mode": {
    "name": "ipython",
    "version": 3
   },
   "file_extension": ".py",
   "mimetype": "text/x-python",
   "name": "python",
   "nbconvert_exporter": "python",
   "pygments_lexer": "ipython3",
   "version": "3.10.12"
  },
  "papermill": {
   "default_parameters": {},
   "duration": 8.10298,
   "end_time": "2023-11-21T21:05:48.255323",
   "environment_variables": {},
   "exception": null,
   "input_path": "__notebook__.ipynb",
   "output_path": "__notebook__.ipynb",
   "parameters": {},
   "start_time": "2023-11-21T21:05:40.152343",
   "version": "2.4.0"
  }
 },
 "nbformat": 4,
 "nbformat_minor": 5
}
