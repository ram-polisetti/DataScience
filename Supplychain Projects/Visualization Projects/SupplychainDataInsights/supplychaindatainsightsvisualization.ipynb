{
 "cells": [
  {
   "cell_type": "code",
   "execution_count": 2,
   "id": "a8dd7685",
   "metadata": {
    "_cell_guid": "b1076dfc-b9ad-4769-8c92-a6c4dae69d19",
    "_uuid": "8f2839f25d086af736a60e9eeb907d3b93b6e0e5",
    "execution": {
     "iopub.execute_input": "2023-12-27T02:37:57.482818Z",
     "iopub.status.busy": "2023-12-27T02:37:57.481498Z",
     "iopub.status.idle": "2023-12-27T02:37:59.097910Z",
     "shell.execute_reply": "2023-12-27T02:37:59.096810Z"
    },
    "papermill": {
     "duration": 1.626069,
     "end_time": "2023-12-27T02:37:59.100645",
     "exception": false,
     "start_time": "2023-12-27T02:37:57.474576",
     "status": "completed"
    },
    "tags": []
   },
   "outputs": [],
   "source": [
    "import pandas as pd\n",
    "import numpy as np\n",
    "import matplotlib.pyplot as plt\n",
    "import seaborn as sns"
   ]
  },
  {
   "cell_type": "code",
   "execution_count": 3,
   "id": "ff50c883",
   "metadata": {
    "execution": {
     "iopub.execute_input": "2023-12-27T02:37:59.111538Z",
     "iopub.status.busy": "2023-12-27T02:37:59.110980Z",
     "iopub.status.idle": "2023-12-27T02:37:59.170383Z",
     "shell.execute_reply": "2023-12-27T02:37:59.169107Z"
    },
    "papermill": {
     "duration": 0.068106,
     "end_time": "2023-12-27T02:37:59.173461",
     "exception": false,
     "start_time": "2023-12-27T02:37:59.105355",
     "status": "completed"
    },
    "tags": []
   },
   "outputs": [
    {
     "data": {
      "text/html": [
       "<div>\n",
       "<style scoped>\n",
       "    .dataframe tbody tr th:only-of-type {\n",
       "        vertical-align: middle;\n",
       "    }\n",
       "\n",
       "    .dataframe tbody tr th {\n",
       "        vertical-align: top;\n",
       "    }\n",
       "\n",
       "    .dataframe thead th {\n",
       "        text-align: right;\n",
       "    }\n",
       "</style>\n",
       "<table border=\"1\" class=\"dataframe\">\n",
       "  <thead>\n",
       "    <tr style=\"text-align: right;\">\n",
       "      <th></th>\n",
       "      <th>Product type</th>\n",
       "      <th>SKU</th>\n",
       "      <th>Price</th>\n",
       "      <th>Availability</th>\n",
       "      <th>Number of products sold</th>\n",
       "      <th>Revenue generated</th>\n",
       "      <th>Customer demographics</th>\n",
       "      <th>Stock levels</th>\n",
       "      <th>Lead times</th>\n",
       "      <th>Order quantities</th>\n",
       "      <th>...</th>\n",
       "      <th>Location</th>\n",
       "      <th>Lead time</th>\n",
       "      <th>Production volumes</th>\n",
       "      <th>Manufacturing lead time</th>\n",
       "      <th>Manufacturing costs</th>\n",
       "      <th>Inspection results</th>\n",
       "      <th>Defect rates</th>\n",
       "      <th>Transportation modes</th>\n",
       "      <th>Routes</th>\n",
       "      <th>Costs</th>\n",
       "    </tr>\n",
       "  </thead>\n",
       "  <tbody>\n",
       "    <tr>\n",
       "      <th>0</th>\n",
       "      <td>haircare</td>\n",
       "      <td>SKU0</td>\n",
       "      <td>69.808006</td>\n",
       "      <td>55</td>\n",
       "      <td>802</td>\n",
       "      <td>8661.996792</td>\n",
       "      <td>Non-binary</td>\n",
       "      <td>58</td>\n",
       "      <td>7</td>\n",
       "      <td>96</td>\n",
       "      <td>...</td>\n",
       "      <td>Mumbai</td>\n",
       "      <td>29</td>\n",
       "      <td>215</td>\n",
       "      <td>29</td>\n",
       "      <td>46.279879</td>\n",
       "      <td>Pending</td>\n",
       "      <td>0.226410</td>\n",
       "      <td>Road</td>\n",
       "      <td>Route B</td>\n",
       "      <td>187.752075</td>\n",
       "    </tr>\n",
       "    <tr>\n",
       "      <th>1</th>\n",
       "      <td>skincare</td>\n",
       "      <td>SKU1</td>\n",
       "      <td>14.843523</td>\n",
       "      <td>95</td>\n",
       "      <td>736</td>\n",
       "      <td>7460.900065</td>\n",
       "      <td>Female</td>\n",
       "      <td>53</td>\n",
       "      <td>30</td>\n",
       "      <td>37</td>\n",
       "      <td>...</td>\n",
       "      <td>Mumbai</td>\n",
       "      <td>23</td>\n",
       "      <td>517</td>\n",
       "      <td>30</td>\n",
       "      <td>33.616769</td>\n",
       "      <td>Pending</td>\n",
       "      <td>4.854068</td>\n",
       "      <td>Road</td>\n",
       "      <td>Route B</td>\n",
       "      <td>503.065579</td>\n",
       "    </tr>\n",
       "    <tr>\n",
       "      <th>2</th>\n",
       "      <td>haircare</td>\n",
       "      <td>SKU2</td>\n",
       "      <td>11.319683</td>\n",
       "      <td>34</td>\n",
       "      <td>8</td>\n",
       "      <td>9577.749626</td>\n",
       "      <td>Unknown</td>\n",
       "      <td>1</td>\n",
       "      <td>10</td>\n",
       "      <td>88</td>\n",
       "      <td>...</td>\n",
       "      <td>Mumbai</td>\n",
       "      <td>12</td>\n",
       "      <td>971</td>\n",
       "      <td>27</td>\n",
       "      <td>30.688019</td>\n",
       "      <td>Pending</td>\n",
       "      <td>4.580593</td>\n",
       "      <td>Air</td>\n",
       "      <td>Route C</td>\n",
       "      <td>141.920282</td>\n",
       "    </tr>\n",
       "    <tr>\n",
       "      <th>3</th>\n",
       "      <td>skincare</td>\n",
       "      <td>SKU3</td>\n",
       "      <td>61.163343</td>\n",
       "      <td>68</td>\n",
       "      <td>83</td>\n",
       "      <td>7766.836426</td>\n",
       "      <td>Non-binary</td>\n",
       "      <td>23</td>\n",
       "      <td>13</td>\n",
       "      <td>59</td>\n",
       "      <td>...</td>\n",
       "      <td>Kolkata</td>\n",
       "      <td>24</td>\n",
       "      <td>937</td>\n",
       "      <td>18</td>\n",
       "      <td>35.624741</td>\n",
       "      <td>Fail</td>\n",
       "      <td>4.746649</td>\n",
       "      <td>Rail</td>\n",
       "      <td>Route A</td>\n",
       "      <td>254.776159</td>\n",
       "    </tr>\n",
       "    <tr>\n",
       "      <th>4</th>\n",
       "      <td>skincare</td>\n",
       "      <td>SKU4</td>\n",
       "      <td>4.805496</td>\n",
       "      <td>26</td>\n",
       "      <td>871</td>\n",
       "      <td>2686.505152</td>\n",
       "      <td>Non-binary</td>\n",
       "      <td>5</td>\n",
       "      <td>3</td>\n",
       "      <td>56</td>\n",
       "      <td>...</td>\n",
       "      <td>Delhi</td>\n",
       "      <td>5</td>\n",
       "      <td>414</td>\n",
       "      <td>3</td>\n",
       "      <td>92.065161</td>\n",
       "      <td>Fail</td>\n",
       "      <td>3.145580</td>\n",
       "      <td>Air</td>\n",
       "      <td>Route A</td>\n",
       "      <td>923.440632</td>\n",
       "    </tr>\n",
       "  </tbody>\n",
       "</table>\n",
       "<p>5 rows × 24 columns</p>\n",
       "</div>"
      ],
      "text/plain": [
       "  Product type   SKU      Price  Availability  Number of products sold  \\\n",
       "0     haircare  SKU0  69.808006            55                      802   \n",
       "1     skincare  SKU1  14.843523            95                      736   \n",
       "2     haircare  SKU2  11.319683            34                        8   \n",
       "3     skincare  SKU3  61.163343            68                       83   \n",
       "4     skincare  SKU4   4.805496            26                      871   \n",
       "\n",
       "   Revenue generated Customer demographics  Stock levels  Lead times  \\\n",
       "0        8661.996792            Non-binary            58           7   \n",
       "1        7460.900065                Female            53          30   \n",
       "2        9577.749626               Unknown             1          10   \n",
       "3        7766.836426            Non-binary            23          13   \n",
       "4        2686.505152            Non-binary             5           3   \n",
       "\n",
       "   Order quantities  ...  Location Lead time  Production volumes  \\\n",
       "0                96  ...    Mumbai        29                 215   \n",
       "1                37  ...    Mumbai        23                 517   \n",
       "2                88  ...    Mumbai        12                 971   \n",
       "3                59  ...   Kolkata        24                 937   \n",
       "4                56  ...     Delhi         5                 414   \n",
       "\n",
       "  Manufacturing lead time Manufacturing costs  Inspection results  \\\n",
       "0                      29           46.279879             Pending   \n",
       "1                      30           33.616769             Pending   \n",
       "2                      27           30.688019             Pending   \n",
       "3                      18           35.624741                Fail   \n",
       "4                       3           92.065161                Fail   \n",
       "\n",
       "   Defect rates  Transportation modes   Routes       Costs  \n",
       "0      0.226410                  Road  Route B  187.752075  \n",
       "1      4.854068                  Road  Route B  503.065579  \n",
       "2      4.580593                   Air  Route C  141.920282  \n",
       "3      4.746649                  Rail  Route A  254.776159  \n",
       "4      3.145580                   Air  Route A  923.440632  \n",
       "\n",
       "[5 rows x 24 columns]"
      ]
     },
     "execution_count": 3,
     "metadata": {},
     "output_type": "execute_result"
    }
   ],
   "source": [
    "data = pd.read_csv('Supply Chain Data.csv')\n",
    "data.head()"
   ]
  },
  {
   "cell_type": "code",
   "execution_count": 4,
   "id": "e4e60c54",
   "metadata": {
    "execution": {
     "iopub.execute_input": "2023-12-27T02:37:59.185378Z",
     "iopub.status.busy": "2023-12-27T02:37:59.184991Z",
     "iopub.status.idle": "2023-12-27T02:37:59.192069Z",
     "shell.execute_reply": "2023-12-27T02:37:59.190892Z"
    },
    "papermill": {
     "duration": 0.015885,
     "end_time": "2023-12-27T02:37:59.194361",
     "exception": false,
     "start_time": "2023-12-27T02:37:59.178476",
     "status": "completed"
    },
    "tags": []
   },
   "outputs": [
    {
     "data": {
      "text/plain": [
       "Index(['Product type', 'SKU', 'Price', 'Availability',\n",
       "       'Number of products sold', 'Revenue generated', 'Customer demographics',\n",
       "       'Stock levels', 'Lead times', 'Order quantities', 'Shipping times',\n",
       "       'Shipping carriers', 'Shipping costs', 'Supplier name', 'Location',\n",
       "       'Lead time', 'Production volumes', 'Manufacturing lead time',\n",
       "       'Manufacturing costs', 'Inspection results', 'Defect rates',\n",
       "       'Transportation modes', 'Routes', 'Costs'],\n",
       "      dtype='object')"
      ]
     },
     "execution_count": 4,
     "metadata": {},
     "output_type": "execute_result"
    }
   ],
   "source": [
    "data.columns"
   ]
  },
  {
   "cell_type": "code",
   "execution_count": 5,
   "id": "eab5810d",
   "metadata": {
    "execution": {
     "iopub.execute_input": "2023-12-27T02:37:59.205257Z",
     "iopub.status.busy": "2023-12-27T02:37:59.204936Z",
     "iopub.status.idle": "2023-12-27T02:37:59.213361Z",
     "shell.execute_reply": "2023-12-27T02:37:59.212019Z"
    },
    "papermill": {
     "duration": 0.016167,
     "end_time": "2023-12-27T02:37:59.215341",
     "exception": false,
     "start_time": "2023-12-27T02:37:59.199174",
     "status": "completed"
    },
    "tags": []
   },
   "outputs": [
    {
     "data": {
      "text/plain": [
       "Index(['product_type', 'sku', 'price', 'availability',\n",
       "       'number_of_products_sold', 'revenue_generated', 'customer_demographics',\n",
       "       'stock_levels', 'lead_times', 'order_quantities', 'shipping_times',\n",
       "       'shipping_carriers', 'shipping_costs', 'supplier_name', 'location',\n",
       "       'lead_time', 'production_volumes', 'manufacturing_lead_time',\n",
       "       'manufacturing_costs', 'inspection_results', 'defect_rates',\n",
       "       'transportation_modes', 'routes', 'costs'],\n",
       "      dtype='object')"
      ]
     },
     "execution_count": 5,
     "metadata": {},
     "output_type": "execute_result"
    }
   ],
   "source": [
    "data.columns = data.columns.str.lower().str.replace(\" \", \"_\")\n",
    "data.columns"
   ]
  },
  {
   "cell_type": "code",
   "execution_count": 6,
   "id": "77a7f88f",
   "metadata": {
    "execution": {
     "iopub.execute_input": "2023-12-27T02:37:59.226569Z",
     "iopub.status.busy": "2023-12-27T02:37:59.226217Z",
     "iopub.status.idle": "2023-12-27T02:37:59.328954Z",
     "shell.execute_reply": "2023-12-27T02:37:59.327052Z"
    },
    "papermill": {
     "duration": 0.111518,
     "end_time": "2023-12-27T02:37:59.331893",
     "exception": false,
     "start_time": "2023-12-27T02:37:59.220375",
     "status": "completed"
    },
    "tags": []
   },
   "outputs": [
    {
     "name": "stdout",
     "output_type": "stream",
     "text": [
      "<class 'pandas.core.frame.DataFrame'>\n",
      "RangeIndex: 100 entries, 0 to 99\n",
      "Data columns (total 24 columns):\n",
      " #   Column                   Non-Null Count  Dtype  \n",
      "---  ------                   --------------  -----  \n",
      " 0   product_type             100 non-null    object \n",
      " 1   sku                      100 non-null    object \n",
      " 2   price                    100 non-null    float64\n",
      " 3   availability             100 non-null    int64  \n",
      " 4   number_of_products_sold  100 non-null    int64  \n",
      " 5   revenue_generated        100 non-null    float64\n",
      " 6   customer_demographics    100 non-null    object \n",
      " 7   stock_levels             100 non-null    int64  \n",
      " 8   lead_times               100 non-null    int64  \n",
      " 9   order_quantities         100 non-null    int64  \n",
      " 10  shipping_times           100 non-null    int64  \n",
      " 11  shipping_carriers        100 non-null    object \n",
      " 12  shipping_costs           100 non-null    float64\n",
      " 13  supplier_name            100 non-null    object \n",
      " 14  location                 100 non-null    object \n",
      " 15  lead_time                100 non-null    int64  \n",
      " 16  production_volumes       100 non-null    int64  \n",
      " 17  manufacturing_lead_time  100 non-null    int64  \n",
      " 18  manufacturing_costs      100 non-null    float64\n",
      " 19  inspection_results       100 non-null    object \n",
      " 20  defect_rates             100 non-null    float64\n",
      " 21  transportation_modes     100 non-null    object \n",
      " 22  routes                   100 non-null    object \n",
      " 23  costs                    100 non-null    float64\n",
      "dtypes: float64(6), int64(9), object(9)\n",
      "memory usage: 18.9+ KB\n"
     ]
    }
   ],
   "source": [
    "data.info()"
   ]
  },
  {
   "cell_type": "code",
   "execution_count": 7,
   "id": "27032aa1",
   "metadata": {
    "execution": {
     "iopub.execute_input": "2023-12-27T02:37:59.344061Z",
     "iopub.status.busy": "2023-12-27T02:37:59.343661Z",
     "iopub.status.idle": "2023-12-27T02:37:59.392823Z",
     "shell.execute_reply": "2023-12-27T02:37:59.391471Z"
    },
    "papermill": {
     "duration": 0.058034,
     "end_time": "2023-12-27T02:37:59.395422",
     "exception": false,
     "start_time": "2023-12-27T02:37:59.337388",
     "status": "completed"
    },
    "tags": []
   },
   "outputs": [
    {
     "data": {
      "text/html": [
       "<div>\n",
       "<style scoped>\n",
       "    .dataframe tbody tr th:only-of-type {\n",
       "        vertical-align: middle;\n",
       "    }\n",
       "\n",
       "    .dataframe tbody tr th {\n",
       "        vertical-align: top;\n",
       "    }\n",
       "\n",
       "    .dataframe thead th {\n",
       "        text-align: right;\n",
       "    }\n",
       "</style>\n",
       "<table border=\"1\" class=\"dataframe\">\n",
       "  <thead>\n",
       "    <tr style=\"text-align: right;\">\n",
       "      <th></th>\n",
       "      <th>price</th>\n",
       "      <th>availability</th>\n",
       "      <th>number_of_products_sold</th>\n",
       "      <th>revenue_generated</th>\n",
       "      <th>stock_levels</th>\n",
       "      <th>lead_times</th>\n",
       "      <th>order_quantities</th>\n",
       "      <th>shipping_times</th>\n",
       "      <th>shipping_costs</th>\n",
       "      <th>lead_time</th>\n",
       "      <th>production_volumes</th>\n",
       "      <th>manufacturing_lead_time</th>\n",
       "      <th>manufacturing_costs</th>\n",
       "      <th>defect_rates</th>\n",
       "      <th>costs</th>\n",
       "    </tr>\n",
       "  </thead>\n",
       "  <tbody>\n",
       "    <tr>\n",
       "      <th>count</th>\n",
       "      <td>100.000000</td>\n",
       "      <td>100.000000</td>\n",
       "      <td>100.000000</td>\n",
       "      <td>100.000000</td>\n",
       "      <td>100.000000</td>\n",
       "      <td>100.000000</td>\n",
       "      <td>100.000000</td>\n",
       "      <td>100.000000</td>\n",
       "      <td>100.000000</td>\n",
       "      <td>100.000000</td>\n",
       "      <td>100.000000</td>\n",
       "      <td>100.00000</td>\n",
       "      <td>100.000000</td>\n",
       "      <td>100.000000</td>\n",
       "      <td>100.000000</td>\n",
       "    </tr>\n",
       "    <tr>\n",
       "      <th>mean</th>\n",
       "      <td>49.462461</td>\n",
       "      <td>48.400000</td>\n",
       "      <td>460.990000</td>\n",
       "      <td>5776.048187</td>\n",
       "      <td>47.770000</td>\n",
       "      <td>15.960000</td>\n",
       "      <td>49.220000</td>\n",
       "      <td>5.750000</td>\n",
       "      <td>5.548149</td>\n",
       "      <td>17.080000</td>\n",
       "      <td>567.840000</td>\n",
       "      <td>14.77000</td>\n",
       "      <td>47.266693</td>\n",
       "      <td>2.277158</td>\n",
       "      <td>529.245782</td>\n",
       "    </tr>\n",
       "    <tr>\n",
       "      <th>std</th>\n",
       "      <td>31.168193</td>\n",
       "      <td>30.743317</td>\n",
       "      <td>303.780074</td>\n",
       "      <td>2732.841744</td>\n",
       "      <td>31.369372</td>\n",
       "      <td>8.785801</td>\n",
       "      <td>26.784429</td>\n",
       "      <td>2.724283</td>\n",
       "      <td>2.651376</td>\n",
       "      <td>8.846251</td>\n",
       "      <td>263.046861</td>\n",
       "      <td>8.91243</td>\n",
       "      <td>28.982841</td>\n",
       "      <td>1.461366</td>\n",
       "      <td>258.301696</td>\n",
       "    </tr>\n",
       "    <tr>\n",
       "      <th>min</th>\n",
       "      <td>1.699976</td>\n",
       "      <td>1.000000</td>\n",
       "      <td>8.000000</td>\n",
       "      <td>1061.618523</td>\n",
       "      <td>0.000000</td>\n",
       "      <td>1.000000</td>\n",
       "      <td>1.000000</td>\n",
       "      <td>1.000000</td>\n",
       "      <td>1.013487</td>\n",
       "      <td>1.000000</td>\n",
       "      <td>104.000000</td>\n",
       "      <td>1.00000</td>\n",
       "      <td>1.085069</td>\n",
       "      <td>0.018608</td>\n",
       "      <td>103.916248</td>\n",
       "    </tr>\n",
       "    <tr>\n",
       "      <th>25%</th>\n",
       "      <td>19.597823</td>\n",
       "      <td>22.750000</td>\n",
       "      <td>184.250000</td>\n",
       "      <td>2812.847151</td>\n",
       "      <td>16.750000</td>\n",
       "      <td>8.000000</td>\n",
       "      <td>26.000000</td>\n",
       "      <td>3.750000</td>\n",
       "      <td>3.540248</td>\n",
       "      <td>10.000000</td>\n",
       "      <td>352.000000</td>\n",
       "      <td>7.00000</td>\n",
       "      <td>22.983299</td>\n",
       "      <td>1.009650</td>\n",
       "      <td>318.778455</td>\n",
       "    </tr>\n",
       "    <tr>\n",
       "      <th>50%</th>\n",
       "      <td>51.239831</td>\n",
       "      <td>43.500000</td>\n",
       "      <td>392.500000</td>\n",
       "      <td>6006.352023</td>\n",
       "      <td>47.500000</td>\n",
       "      <td>17.000000</td>\n",
       "      <td>52.000000</td>\n",
       "      <td>6.000000</td>\n",
       "      <td>5.320534</td>\n",
       "      <td>18.000000</td>\n",
       "      <td>568.500000</td>\n",
       "      <td>14.00000</td>\n",
       "      <td>45.905622</td>\n",
       "      <td>2.141863</td>\n",
       "      <td>520.430444</td>\n",
       "    </tr>\n",
       "    <tr>\n",
       "      <th>75%</th>\n",
       "      <td>77.198228</td>\n",
       "      <td>75.000000</td>\n",
       "      <td>704.250000</td>\n",
       "      <td>8253.976921</td>\n",
       "      <td>73.000000</td>\n",
       "      <td>24.000000</td>\n",
       "      <td>71.250000</td>\n",
       "      <td>8.000000</td>\n",
       "      <td>7.601695</td>\n",
       "      <td>25.000000</td>\n",
       "      <td>797.000000</td>\n",
       "      <td>23.00000</td>\n",
       "      <td>68.621026</td>\n",
       "      <td>3.563995</td>\n",
       "      <td>763.078231</td>\n",
       "    </tr>\n",
       "    <tr>\n",
       "      <th>max</th>\n",
       "      <td>99.171329</td>\n",
       "      <td>100.000000</td>\n",
       "      <td>996.000000</td>\n",
       "      <td>9866.465458</td>\n",
       "      <td>100.000000</td>\n",
       "      <td>30.000000</td>\n",
       "      <td>96.000000</td>\n",
       "      <td>10.000000</td>\n",
       "      <td>9.929816</td>\n",
       "      <td>30.000000</td>\n",
       "      <td>985.000000</td>\n",
       "      <td>30.00000</td>\n",
       "      <td>99.466109</td>\n",
       "      <td>4.939255</td>\n",
       "      <td>997.413450</td>\n",
       "    </tr>\n",
       "  </tbody>\n",
       "</table>\n",
       "</div>"
      ],
      "text/plain": [
       "            price  availability  number_of_products_sold  revenue_generated  \\\n",
       "count  100.000000    100.000000               100.000000         100.000000   \n",
       "mean    49.462461     48.400000               460.990000        5776.048187   \n",
       "std     31.168193     30.743317               303.780074        2732.841744   \n",
       "min      1.699976      1.000000                 8.000000        1061.618523   \n",
       "25%     19.597823     22.750000               184.250000        2812.847151   \n",
       "50%     51.239831     43.500000               392.500000        6006.352023   \n",
       "75%     77.198228     75.000000               704.250000        8253.976921   \n",
       "max     99.171329    100.000000               996.000000        9866.465458   \n",
       "\n",
       "       stock_levels  lead_times  order_quantities  shipping_times  \\\n",
       "count    100.000000  100.000000        100.000000      100.000000   \n",
       "mean      47.770000   15.960000         49.220000        5.750000   \n",
       "std       31.369372    8.785801         26.784429        2.724283   \n",
       "min        0.000000    1.000000          1.000000        1.000000   \n",
       "25%       16.750000    8.000000         26.000000        3.750000   \n",
       "50%       47.500000   17.000000         52.000000        6.000000   \n",
       "75%       73.000000   24.000000         71.250000        8.000000   \n",
       "max      100.000000   30.000000         96.000000       10.000000   \n",
       "\n",
       "       shipping_costs   lead_time  production_volumes  \\\n",
       "count      100.000000  100.000000          100.000000   \n",
       "mean         5.548149   17.080000          567.840000   \n",
       "std          2.651376    8.846251          263.046861   \n",
       "min          1.013487    1.000000          104.000000   \n",
       "25%          3.540248   10.000000          352.000000   \n",
       "50%          5.320534   18.000000          568.500000   \n",
       "75%          7.601695   25.000000          797.000000   \n",
       "max          9.929816   30.000000          985.000000   \n",
       "\n",
       "       manufacturing_lead_time  manufacturing_costs  defect_rates       costs  \n",
       "count                100.00000           100.000000    100.000000  100.000000  \n",
       "mean                  14.77000            47.266693      2.277158  529.245782  \n",
       "std                    8.91243            28.982841      1.461366  258.301696  \n",
       "min                    1.00000             1.085069      0.018608  103.916248  \n",
       "25%                    7.00000            22.983299      1.009650  318.778455  \n",
       "50%                   14.00000            45.905622      2.141863  520.430444  \n",
       "75%                   23.00000            68.621026      3.563995  763.078231  \n",
       "max                   30.00000            99.466109      4.939255  997.413450  "
      ]
     },
     "execution_count": 7,
     "metadata": {},
     "output_type": "execute_result"
    }
   ],
   "source": [
    "data.describe()"
   ]
  },
  {
   "cell_type": "code",
   "execution_count": 8,
   "id": "9e650538",
   "metadata": {
    "execution": {
     "iopub.execute_input": "2023-12-27T02:37:59.407963Z",
     "iopub.status.busy": "2023-12-27T02:37:59.407616Z",
     "iopub.status.idle": "2023-12-27T02:37:59.416257Z",
     "shell.execute_reply": "2023-12-27T02:37:59.415308Z"
    },
    "papermill": {
     "duration": 0.017667,
     "end_time": "2023-12-27T02:37:59.418714",
     "exception": false,
     "start_time": "2023-12-27T02:37:59.401047",
     "status": "completed"
    },
    "tags": []
   },
   "outputs": [
    {
     "data": {
      "text/plain": [
       "product_type               0\n",
       "sku                        0\n",
       "price                      0\n",
       "availability               0\n",
       "number_of_products_sold    0\n",
       "revenue_generated          0\n",
       "customer_demographics      0\n",
       "stock_levels               0\n",
       "lead_times                 0\n",
       "order_quantities           0\n",
       "shipping_times             0\n",
       "shipping_carriers          0\n",
       "shipping_costs             0\n",
       "supplier_name              0\n",
       "location                   0\n",
       "lead_time                  0\n",
       "production_volumes         0\n",
       "manufacturing_lead_time    0\n",
       "manufacturing_costs        0\n",
       "inspection_results         0\n",
       "defect_rates               0\n",
       "transportation_modes       0\n",
       "routes                     0\n",
       "costs                      0\n",
       "dtype: int64"
      ]
     },
     "execution_count": 8,
     "metadata": {},
     "output_type": "execute_result"
    }
   ],
   "source": [
    "data.isnull().sum()"
   ]
  },
  {
   "cell_type": "markdown",
   "id": "8cc1c096",
   "metadata": {
    "papermill": {
     "duration": 0.005447,
     "end_time": "2023-12-27T02:37:59.429964",
     "exception": false,
     "start_time": "2023-12-27T02:37:59.424517",
     "status": "completed"
    },
    "tags": []
   },
   "source": [
    "\n",
    "# 1. Product Type vs Number of Products Sold: \n",
    "\n",
    "Identifying bestsellers and underperforming products.\n"
   ]
  },
  {
   "cell_type": "code",
   "execution_count": 9,
   "id": "c9093fde",
   "metadata": {
    "execution": {
     "iopub.execute_input": "2023-12-27T02:37:59.442613Z",
     "iopub.status.busy": "2023-12-27T02:37:59.442279Z",
     "iopub.status.idle": "2023-12-27T02:37:59.661198Z",
     "shell.execute_reply": "2023-12-27T02:37:59.660319Z"
    },
    "papermill": {
     "duration": 0.227582,
     "end_time": "2023-12-27T02:37:59.663005",
     "exception": false,
     "start_time": "2023-12-27T02:37:59.435423",
     "status": "completed"
    },
    "tags": []
   },
   "outputs": [
    {
     "data": {
      "image/png": "[encoded data removed]",
      "text/plain": [
       "<Figure size 1200x800 with 1 Axes>"
      ]
     },
     "metadata": {},
     "output_type": "display_data"
    }
   ],
   "source": [
    "plt.figure(figsize=(12, 8))\n",
    "sns.barplot(data = data, x = 'product_type', y='number_of_products_sold', errorbar=None)\n",
    "plt.xlabel(\"Product Type\")\n",
    "plt.ylabel(\"Number of Products Sold\")\n",
    "plt.title('Number of Products sold per Product Type')\n",
    "plt.show()"
   ]
  },
  {
   "cell_type": "markdown",
   "id": "82e2557d",
   "metadata": {
    "papermill": {
     "duration": 0.005426,
     "end_time": "2023-12-27T02:37:59.674229",
     "exception": false,
     "start_time": "2023-12-27T02:37:59.668803",
     "status": "completed"
    },
    "tags": []
   },
   "source": [
    "# 2. Product Type vs Revenue Generated\n",
    "\n",
    "Helps understanding product profitability.\n"
   ]
  },
  {
   "cell_type": "code",
   "execution_count": 10,
   "id": "00f02a5a",
   "metadata": {
    "execution": {
     "iopub.execute_input": "2023-12-27T02:37:59.687647Z",
     "iopub.status.busy": "2023-12-27T02:37:59.687108Z",
     "iopub.status.idle": "2023-12-27T02:37:59.924533Z",
     "shell.execute_reply": "2023-12-27T02:37:59.923524Z"
    },
    "papermill": {
     "duration": 0.247597,
     "end_time": "2023-12-27T02:37:59.927366",
     "exception": false,
     "start_time": "2023-12-27T02:37:59.679769",
     "status": "completed"
    },
    "tags": []
   },
   "outputs": [
    {
     "data": {
      "text/plain": [
       "[]"
      ]
     },
     "execution_count": 10,
     "metadata": {},
     "output_type": "execute_result"
    },
    {
     "data": {
      "image/png": "[encoded data removed]",
      "text/plain": [
       "<Figure size 1200x800 with 1 Axes>"
      ]
     },
     "metadata": {},
     "output_type": "display_data"
    }
   ],
   "source": [
    "plt.figure(figsize=(12, 8))\n",
    "sns.barplot(data = data, x='product_type', y='revenue_generated', errorbar=None)\n",
    "plt.xlabel(\"Product Type\")\n",
    "plt.ylabel('Revenue Generated')\n",
    "plt.title(\"Product Type Vs Revenue Generated\")\n",
    "plt.plot()"
   ]
  },
  {
   "cell_type": "markdown",
   "id": "de73ef1e",
   "metadata": {
    "papermill": {
     "duration": 0.00572,
     "end_time": "2023-12-27T02:37:59.939334",
     "exception": false,
     "start_time": "2023-12-27T02:37:59.933614",
     "status": "completed"
    },
    "tags": []
   },
   "source": [
    "# 3. Supplier Name vs Lead Time\n",
    "Assessing supplier efficiency."
   ]
  },
  {
   "cell_type": "code",
   "execution_count": 11,
   "id": "c393a731",
   "metadata": {
    "execution": {
     "iopub.execute_input": "2023-12-27T02:37:59.953171Z",
     "iopub.status.busy": "2023-12-27T02:37:59.952104Z",
     "iopub.status.idle": "2023-12-27T02:38:00.211574Z",
     "shell.execute_reply": "2023-12-27T02:38:00.209914Z"
    },
    "papermill": {
     "duration": 0.26912,
     "end_time": "2023-12-27T02:38:00.214259",
     "exception": false,
     "start_time": "2023-12-27T02:37:59.945139",
     "status": "completed"
    },
    "tags": []
   },
   "outputs": [
    {
     "data": {
      "text/plain": [
       "[]"
      ]
     },
     "execution_count": 11,
     "metadata": {},
     "output_type": "execute_result"
    },
    {
     "data": {
      "image/png": "[encoded data removed]",
      "text/plain": [
       "<Figure size 1200x800 with 1 Axes>"
      ]
     },
     "metadata": {},
     "output_type": "display_data"
    }
   ],
   "source": [
    "plt.figure(figsize=(12, 8))\n",
    "sns.barplot(data = data, x='supplier_name', y='lead_time', errorbar=None)\n",
    "plt.xlabel(\"Supplier Name\")\n",
    "plt.ylabel('Lead Time')\n",
    "plt.title(\"Supplier Name vs Lead Time\")\n",
    "plt.plot()"
   ]
  },
  {
   "cell_type": "markdown",
   "id": "82ff88eb",
   "metadata": {
    "papermill": {
     "duration": 0.006756,
     "end_time": "2023-12-27T02:38:00.228393",
     "exception": false,
     "start_time": "2023-12-27T02:38:00.221637",
     "status": "completed"
    },
    "tags": []
   },
   "source": [
    "# 4. Customer Demographics\n",
    "Breakdown of customer base for targeted marketing.\n"
   ]
  },
  {
   "cell_type": "code",
   "execution_count": 12,
   "id": "5f2ce4bb",
   "metadata": {
    "execution": {
     "iopub.execute_input": "2023-12-27T02:38:00.243435Z",
     "iopub.status.busy": "2023-12-27T02:38:00.243047Z",
     "iopub.status.idle": "2023-12-27T02:38:00.251140Z",
     "shell.execute_reply": "2023-12-27T02:38:00.250033Z"
    },
    "papermill": {
     "duration": 0.018323,
     "end_time": "2023-12-27T02:38:00.253541",
     "exception": false,
     "start_time": "2023-12-27T02:38:00.235218",
     "status": "completed"
    },
    "tags": []
   },
   "outputs": [
    {
     "data": {
      "text/plain": [
       "customer_demographics\n",
       "Unknown       31\n",
       "Female        25\n",
       "Non-binary    23\n",
       "Male          21\n",
       "Name: count, dtype: int64"
      ]
     },
     "execution_count": 12,
     "metadata": {},
     "output_type": "execute_result"
    }
   ],
   "source": [
    "customer_demo_counts = data.customer_demographics.value_counts()\n",
    "customer_demo_counts"
   ]
  },
  {
   "cell_type": "code",
   "execution_count": 13,
   "id": "1d277195",
   "metadata": {
    "execution": {
     "iopub.execute_input": "2023-12-27T02:38:00.269241Z",
     "iopub.status.busy": "2023-12-27T02:38:00.268139Z",
     "iopub.status.idle": "2023-12-27T02:38:00.432620Z",
     "shell.execute_reply": "2023-12-27T02:38:00.431487Z"
    },
    "papermill": {
     "duration": 0.174307,
     "end_time": "2023-12-27T02:38:00.434775",
     "exception": false,
     "start_time": "2023-12-27T02:38:00.260468",
     "status": "completed"
    },
    "tags": []
   },
   "outputs": [
    {
     "data": {
      "text/plain": [
       "[]"
      ]
     },
     "execution_count": 13,
     "metadata": {},
     "output_type": "execute_result"
    },
    {
     "data": {
      "image/png": "[encoded data removed]",
      "text/plain": [
       "<Figure size 800x800 with 1 Axes>"
      ]
     },
     "metadata": {},
     "output_type": "display_data"
    }
   ],
   "source": [
    "plt.figure(figsize=(8, 8))\n",
    "colors = sns.color_palette('pastel')[0:5]\n",
    "plt.pie(customer_demo_counts, \n",
    "        labels = customer_demo_counts.index, \n",
    "        autopct='%1.1f%%', \n",
    "        startangle=140, \n",
    "       colors = colors)\n",
    "plt.title(\"Customer Demographics Background\")\n",
    "plt.plot()"
   ]
  },
  {
   "cell_type": "markdown",
   "id": "90facfe9",
   "metadata": {
    "papermill": {
     "duration": 0.009106,
     "end_time": "2023-12-27T02:38:00.453409",
     "exception": false,
     "start_time": "2023-12-27T02:38:00.444303",
     "status": "completed"
    },
    "tags": []
   },
   "source": [
    "# 5. Defect Rates by Product Type\n",
    "Identifying products with higher defect rates for quality control."
   ]
  },
  {
   "cell_type": "code",
   "execution_count": 14,
   "id": "71659d07",
   "metadata": {
    "execution": {
     "iopub.execute_input": "2023-12-27T02:38:00.474021Z",
     "iopub.status.busy": "2023-12-27T02:38:00.473437Z",
     "iopub.status.idle": "2023-12-27T02:38:00.484071Z",
     "shell.execute_reply": "2023-12-27T02:38:00.483421Z"
    },
    "papermill": {
     "duration": 0.023074,
     "end_time": "2023-12-27T02:38:00.485813",
     "exception": false,
     "start_time": "2023-12-27T02:38:00.462739",
     "status": "completed"
    },
    "tags": []
   },
   "outputs": [
    {
     "data": {
      "text/plain": [
       "product_type\n",
       "cosmetics    1.919287\n",
       "haircare     2.483150\n",
       "skincare     2.334681\n",
       "Name: defect_rates, dtype: float64"
      ]
     },
     "execution_count": 14,
     "metadata": {},
     "output_type": "execute_result"
    }
   ],
   "source": [
    "defect_rates = data.groupby('product_type')['defect_rates'].mean()\n",
    "defect_rates"
   ]
  },
  {
   "cell_type": "code",
   "execution_count": 15,
   "id": "0f6b621e",
   "metadata": {
    "execution": {
     "iopub.execute_input": "2023-12-27T02:38:00.502451Z",
     "iopub.status.busy": "2023-12-27T02:38:00.501760Z",
     "iopub.status.idle": "2023-12-27T02:38:00.628873Z",
     "shell.execute_reply": "2023-12-27T02:38:00.628166Z"
    },
    "papermill": {
     "duration": 0.137405,
     "end_time": "2023-12-27T02:38:00.630936",
     "exception": false,
     "start_time": "2023-12-27T02:38:00.493531",
     "status": "completed"
    },
    "tags": []
   },
   "outputs": [
    {
     "data": {
      "text/plain": [
       "[]"
      ]
     },
     "execution_count": 15,
     "metadata": {},
     "output_type": "execute_result"
    },
    {
     "data": {
      "image/png": "[encoded data removed]",
      "text/plain": [
       "<Figure size 800x800 with 1 Axes>"
      ]
     },
     "metadata": {},
     "output_type": "display_data"
    }
   ],
   "source": [
    "plt.figure(figsize=(8, 8))\n",
    "colors = sns.color_palette('pastel')[0:5]\n",
    "plt.pie(defect_rates, \n",
    "        labels = defect_rates.index, \n",
    "        autopct='%1.1f%%', \n",
    "        startangle=140, \n",
    "       colors = colors)\n",
    "plt.title(\"Defect Rates by Product Type\")\n",
    "plt.plot()"
   ]
  },
  {
   "cell_type": "code",
   "execution_count": null,
   "id": "ef3c222b",
   "metadata": {
    "papermill": {
     "duration": 0.009944,
     "end_time": "2023-12-27T02:38:00.672829",
     "exception": false,
     "start_time": "2023-12-27T02:38:00.662885",
     "status": "completed"
    },
    "tags": []
   },
   "outputs": [],
   "source": []
  }
 ],
 "metadata": {
  "kaggle": {
   "accelerator": "none",
   "dataSources": [
    {
     "datasetId": 3169086,
     "sourceId": 5490896,
     "sourceType": "datasetVersion"
    }
   ],
   "dockerImageVersionId": 30626,
   "isGpuEnabled": false,
   "isInternetEnabled": true,
   "language": "python",
   "sourceType": "notebook"
  },
  "kernelspec": {
   "display_name": "Python 3",
   "language": "python",
   "name": "python3"
  },
  "language_info": {
   "codemirror_mode": {
    "name": "ipython",
    "version": 3
   },
   "file_extension": ".py",
   "mimetype": "text/x-python",
   "name": "python",
   "nbconvert_exporter": "python",
   "pygments_lexer": "ipython3",
   "version": "3.11.5"
  },
  "papermill": {
   "default_parameters": {},
   "duration": 6.39031,
   "end_time": "2023-12-27T02:38:01.202589",
   "environment_variables": {},
   "exception": null,
   "input_path": "__notebook__.ipynb",
   "output_path": "__notebook__.ipynb",
   "parameters": {},
   "start_time": "2023-12-27T02:37:54.812279",
   "version": "2.4.0"
  }
 },
 "nbformat": 4,
 "nbformat_minor": 5
}
