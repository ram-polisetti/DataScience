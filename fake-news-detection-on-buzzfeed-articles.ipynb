{
 "cells": [
  {
   "cell_type": "markdown",
   "id": "2fd06f09",
   "metadata": {
    "_cell_guid": "b1076dfc-b9ad-4769-8c92-a6c4dae69d19",
    "_uuid": "8f2839f25d086af736a60e9eeb907d3b93b6e0e5",
    "papermill": {
     "duration": 0.001666,
     "end_time": "2023-11-15T19:02:11.511726",
     "exception": false,
     "start_time": "2023-11-15T19:02:11.510060",
     "status": "completed"
    },
    "tags": []
   },
   "source": [
    "Here are some suggestions to improve the introduction:\n",
    "\n",
    "**Introduction** \n",
    "\n",
    "The FakenewsNet repository contains comprehensive datasets of real and fake news articles published on Facebook in the week before the 2016 US election. It includes fact-checked articles from Buzzfeed News across 9 different news agencies. \n",
    "\n",
    "This project focuses on analysis of the Buzzfeed News dataset, which has 91 observations for both fake and real news articles across 12 feature variables. The key variables are:\n",
    "\n",
    "- `id`: Article ID, with \"fake\" or \"real\" labels\n",
    "- `title`: News headline \n",
    "- `text`: Body text of the article\n",
    "- `source`: Publishing source/agency\n",
    "- `images/movies`: Visual content \n",
    "\n",
    "Our analysis aims to uncover insights on fake news sources and language. Specifically, we compare fake and real news articles to identify:\n",
    "\n",
    "- Sources that published more fake content \n",
    "- Words disproportionately associated with fake or real news\n",
    "\n",
    "We use statistical tests on the source and text variables to discover these insights. \n",
    "\n",
    "The project has two main components:\n",
    "\n",
    "1. Exploratory Data Analysis\n",
    "2. Fake news classification models\n",
    "\n"
   ]
  },
  {
   "cell_type": "code",
   "execution_count": 1,
   "id": "1e4cc18d",
   "metadata": {
    "execution": {
     "iopub.execute_input": "2023-11-15T19:02:11.517711Z",
     "iopub.status.busy": "2023-11-15T19:02:11.515890Z",
     "iopub.status.idle": "2023-11-15T19:02:13.691442Z",
     "shell.execute_reply": "2023-11-15T19:02:13.690211Z"
    },
    "papermill": {
     "duration": 2.180325,
     "end_time": "2023-11-15T19:02:13.693241",
     "exception": false,
     "start_time": "2023-11-15T19:02:11.512916",
     "status": "completed"
    },
    "tags": []
   },
   "outputs": [
    {
     "name": "stderr",
     "output_type": "stream",
     "text": [
      "Loading required package: NLP\n",
      "\n",
      "\n",
      "Attaching package: ‘NLP’\n",
      "\n",
      "\n",
      "The following object is masked from ‘package:httr’:\n",
      "\n",
      "    content\n",
      "\n",
      "\n",
      "── \u001b[1mAttaching core tidyverse packages\u001b[22m ──────────────────────── tidyverse 2.0.0 ──\n",
      "\u001b[32m✔\u001b[39m \u001b[34mdplyr    \u001b[39m 1.1.3     \u001b[32m✔\u001b[39m \u001b[34mreadr    \u001b[39m 2.1.4\n",
      "\u001b[32m✔\u001b[39m \u001b[34mforcats  \u001b[39m 1.0.0     \u001b[32m✔\u001b[39m \u001b[34mstringr  \u001b[39m 1.5.0\n",
      "\u001b[32m✔\u001b[39m \u001b[34mggplot2  \u001b[39m 3.4.4     \u001b[32m✔\u001b[39m \u001b[34mtibble   \u001b[39m 3.2.1\n",
      "\u001b[32m✔\u001b[39m \u001b[34mlubridate\u001b[39m 1.9.3     \u001b[32m✔\u001b[39m \u001b[34mtidyr    \u001b[39m 1.3.0\n",
      "\u001b[32m✔\u001b[39m \u001b[34mpurrr    \u001b[39m 1.0.2     \n",
      "── \u001b[1mConflicts\u001b[22m ────────────────────────────────────────── tidyverse_conflicts() ──\n",
      "\u001b[31m✖\u001b[39m \u001b[34mggplot2\u001b[39m::\u001b[32mannotate()\u001b[39m masks \u001b[34mNLP\u001b[39m::annotate()\n",
      "\u001b[31m✖\u001b[39m \u001b[34mdplyr\u001b[39m::\u001b[32marrange()\u001b[39m    masks \u001b[34mplyr\u001b[39m::arrange()\n",
      "\u001b[31m✖\u001b[39m \u001b[34mpurrr\u001b[39m::\u001b[32mcompact()\u001b[39m    masks \u001b[34mplyr\u001b[39m::compact()\n",
      "\u001b[31m✖\u001b[39m \u001b[34mNLP\u001b[39m::\u001b[32mcontent()\u001b[39m      masks \u001b[34mhttr\u001b[39m::content()\n",
      "\u001b[31m✖\u001b[39m \u001b[34mdplyr\u001b[39m::\u001b[32mcount()\u001b[39m      masks \u001b[34mplyr\u001b[39m::count()\n",
      "\u001b[31m✖\u001b[39m \u001b[34mdplyr\u001b[39m::\u001b[32mdesc()\u001b[39m       masks \u001b[34mplyr\u001b[39m::desc()\n",
      "\u001b[31m✖\u001b[39m \u001b[34mdplyr\u001b[39m::\u001b[32mfailwith()\u001b[39m   masks \u001b[34mplyr\u001b[39m::failwith()\n",
      "\u001b[31m✖\u001b[39m \u001b[34mdplyr\u001b[39m::\u001b[32mfilter()\u001b[39m     masks \u001b[34mstats\u001b[39m::filter()\n",
      "\u001b[31m✖\u001b[39m \u001b[34mdplyr\u001b[39m::\u001b[32mid()\u001b[39m         masks \u001b[34mplyr\u001b[39m::id()\n",
      "\u001b[31m✖\u001b[39m \u001b[34mdplyr\u001b[39m::\u001b[32mlag()\u001b[39m        masks \u001b[34mstats\u001b[39m::lag()\n",
      "\u001b[31m✖\u001b[39m \u001b[34mdplyr\u001b[39m::\u001b[32mmutate()\u001b[39m     masks \u001b[34mplyr\u001b[39m::mutate()\n",
      "\u001b[31m✖\u001b[39m \u001b[34mdplyr\u001b[39m::\u001b[32mrename()\u001b[39m     masks \u001b[34mplyr\u001b[39m::rename()\n",
      "\u001b[31m✖\u001b[39m \u001b[34mdplyr\u001b[39m::\u001b[32msummarise()\u001b[39m  masks \u001b[34mplyr\u001b[39m::summarise()\n",
      "\u001b[31m✖\u001b[39m \u001b[34mdplyr\u001b[39m::\u001b[32msummarize()\u001b[39m  masks \u001b[34mplyr\u001b[39m::summarize()\n",
      "\u001b[36mℹ\u001b[39m Use the conflicted package (\u001b[3m\u001b[34m<http://conflicted.r-lib.org/>\u001b[39m\u001b[23m) to force all conflicts to become errors\n",
      "\n",
      "Attaching package: ‘reshape2’\n",
      "\n",
      "\n",
      "The following object is masked from ‘package:tidyr’:\n",
      "\n",
      "    smiths\n",
      "\n",
      "\n",
      "Loading required package: Matrix\n",
      "\n",
      "\n",
      "Attaching package: ‘Matrix’\n",
      "\n",
      "\n",
      "The following objects are masked from ‘package:tidyr’:\n",
      "\n",
      "    expand, pack, unpack\n",
      "\n",
      "\n",
      "Loaded glmnet 4.1-8\n",
      "\n",
      "randomForest 4.6-14\n",
      "\n",
      "Type rfNews() to see new features/changes/bug fixes.\n",
      "\n",
      "\n",
      "Attaching package: ‘randomForest’\n",
      "\n",
      "\n",
      "The following object is masked from ‘package:dplyr’:\n",
      "\n",
      "    combine\n",
      "\n",
      "\n",
      "The following object is masked from ‘package:ggplot2’:\n",
      "\n",
      "    margin\n",
      "\n",
      "\n"
     ]
    }
   ],
   "source": [
    "# Import libraries\n",
    "library(tm) # for NLP\n",
    "library(plyr) #  for pre-processing \n",
    "library(tidyverse) # for pre-processing and visualisation\n",
    "library(reshape2) # for melt function\n",
    "library(e1071) # for Naive Bayes classifier\n",
    "library(glmnet) # for Logistic Regression classifier\n",
    "library(randomForest) # for Random Forest classifier"
   ]
  },
  {
   "cell_type": "code",
   "execution_count": null,
   "id": "57482bc6",
   "metadata": {
    "papermill": {
     "duration": 0.00205,
     "end_time": "2023-11-15T19:02:13.697489",
     "exception": false,
     "start_time": "2023-11-15T19:02:13.695439",
     "status": "completed"
    },
    "tags": []
   },
   "outputs": [],
   "source": []
  }
 ],
 "metadata": {
  "kaggle": {
   "accelerator": "none",
   "dataSources": [],
   "dockerImageVersionId": 30558,
   "isGpuEnabled": false,
   "isInternetEnabled": true,
   "language": "r",
   "sourceType": "notebook"
  },
  "kernelspec": {
   "display_name": "R",
   "language": "R",
   "name": "ir"
  },
  "language_info": {
   "codemirror_mode": "r",
   "file_extension": ".r",
   "mimetype": "text/x-r-source",
   "name": "R",
   "pygments_lexer": "r",
   "version": "4.0.5"
  },
  "papermill": {
   "default_parameters": {},
   "duration": 5.02442,
   "end_time": "2023-11-15T19:02:13.818118",
   "environment_variables": {},
   "exception": null,
   "input_path": "__notebook__.ipynb",
   "output_path": "__notebook__.ipynb",
   "parameters": {},
   "start_time": "2023-11-15T19:02:08.793698",
   "version": "2.4.0"
  }
 },
 "nbformat": 4,
 "nbformat_minor": 5
}
