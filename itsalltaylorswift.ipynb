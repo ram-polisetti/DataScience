{
 "cells": [
  {
   "cell_type": "code",
   "execution_count": 1,
   "id": "d7bf7f9a",
   "metadata": {
    "_cell_guid": "b1076dfc-b9ad-4769-8c92-a6c4dae69d19",
    "_uuid": "8f2839f25d086af736a60e9eeb907d3b93b6e0e5",
    "execution": {
     "iopub.execute_input": "2023-11-20T21:24:32.874211Z",
     "iopub.status.busy": "2023-11-20T21:24:32.873760Z",
     "iopub.status.idle": "2023-11-20T21:24:34.765633Z",
     "shell.execute_reply": "2023-11-20T21:24:34.764405Z"
    },
    "papermill": {
     "duration": 1.899532,
     "end_time": "2023-11-20T21:24:34.768525",
     "exception": false,
     "start_time": "2023-11-20T21:24:32.868993",
     "status": "completed"
    },
    "tags": []
   },
   "outputs": [],
   "source": [
    "import numpy as np\n",
    "import pandas as pd\n",
    "import seaborn as sns\n",
    "import matplotlib.pyplot as plt"
   ]
  },
  {
   "cell_type": "code",
   "execution_count": 2,
   "id": "b93906ab",
   "metadata": {
    "execution": {
     "iopub.execute_input": "2023-11-20T21:24:34.775426Z",
     "iopub.status.busy": "2023-11-20T21:24:34.774440Z",
     "iopub.status.idle": "2023-11-20T21:24:34.813903Z",
     "shell.execute_reply": "2023-11-20T21:24:34.812905Z"
    },
    "papermill": {
     "duration": 0.045611,
     "end_time": "2023-11-20T21:24:34.816549",
     "exception": false,
     "start_time": "2023-11-20T21:24:34.770938",
     "status": "completed"
    },
    "tags": []
   },
   "outputs": [],
   "source": [
    "spotify_data = pd.read_csv(\"/kaggle/input/top-spotify-songs-2023/spotify-2023.csv\", encoding='latin1')"
   ]
  },
  {
   "cell_type": "code",
   "execution_count": 3,
   "id": "d5205eee",
   "metadata": {
    "execution": {
     "iopub.execute_input": "2023-11-20T21:24:34.822262Z",
     "iopub.status.busy": "2023-11-20T21:24:34.821891Z",
     "iopub.status.idle": "2023-11-20T21:24:34.826826Z",
     "shell.execute_reply": "2023-11-20T21:24:34.826138Z"
    },
    "papermill": {
     "duration": 0.010109,
     "end_time": "2023-11-20T21:24:34.828887",
     "exception": false,
     "start_time": "2023-11-20T21:24:34.818778",
     "status": "completed"
    },
    "tags": []
   },
   "outputs": [],
   "source": [
    "plt.rcParams['figure.dpi'] = 300\n",
    "plt.rcParams[\"axes.spines.right\"] = False\n",
    "plt.rcParams[\"axes.spines.top\"] = False\n",
    "plt.rcParams[\"figure.figsize\"] = (4.5, 3.5)"
   ]
  }
 ],
 "metadata": {
  "kaggle": {
   "accelerator": "none",
   "dataSources": [
    {
     "datasetId": 3668746,
     "sourceId": 6367938,
     "sourceType": "datasetVersion"
    }
   ],
   "dockerImageVersionId": 30587,
   "isGpuEnabled": false,
   "isInternetEnabled": true,
   "language": "python",
   "sourceType": "notebook"
  },
  "kernelspec": {
   "display_name": "Python 3",
   "language": "python",
   "name": "python3"
  },
  "language_info": {
   "codemirror_mode": {
    "name": "ipython",
    "version": 3
   },
   "file_extension": ".py",
   "mimetype": "text/x-python",
   "name": "python",
   "nbconvert_exporter": "python",
   "pygments_lexer": "ipython3",
   "version": "3.10.12"
  },
  "papermill": {
   "default_parameters": {},
   "duration": 5.96829,
   "end_time": "2023-11-20T21:24:35.350775",
   "environment_variables": {},
   "exception": null,
   "input_path": "__notebook__.ipynb",
   "output_path": "__notebook__.ipynb",
   "parameters": {},
   "start_time": "2023-11-20T21:24:29.382485",
   "version": "2.4.0"
  }
 },
 "nbformat": 4,
 "nbformat_minor": 5
}
