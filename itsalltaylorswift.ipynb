{
 "cells": [
  {
   "cell_type": "code",
   "execution_count": 1,
   "id": "8d8808f5",
   "metadata": {
    "_cell_guid": "b1076dfc-b9ad-4769-8c92-a6c4dae69d19",
    "_uuid": "8f2839f25d086af736a60e9eeb907d3b93b6e0e5",
    "execution": {
     "iopub.execute_input": "2023-11-20T21:22:17.408761Z",
     "iopub.status.busy": "2023-11-20T21:22:17.408244Z",
     "iopub.status.idle": "2023-11-20T21:22:19.113149Z",
     "shell.execute_reply": "2023-11-20T21:22:19.112164Z"
    },
    "papermill": {
     "duration": 1.712431,
     "end_time": "2023-11-20T21:22:19.115876",
     "exception": false,
     "start_time": "2023-11-20T21:22:17.403445",
     "status": "completed"
    },
    "tags": []
   },
   "outputs": [],
   "source": [
    "import numpy as np\n",
    "import pandas as pd\n",
    "import seaborn as sns\n",
    "import matplotlib.pyplot as plt"
   ]
  },
  {
   "cell_type": "code",
   "execution_count": null,
   "id": "45e64f3e",
   "metadata": {
    "papermill": {
     "duration": 0.001547,
     "end_time": "2023-11-20T21:22:19.119649",
     "exception": false,
     "start_time": "2023-11-20T21:22:19.118102",
     "status": "completed"
    },
    "tags": []
   },
   "outputs": [],
   "source": []
  }
 ],
 "metadata": {
  "kaggle": {
   "accelerator": "none",
   "dataSources": [],
   "dockerImageVersionId": 30587,
   "isGpuEnabled": false,
   "isInternetEnabled": true,
   "language": "python",
   "sourceType": "notebook"
  },
  "kernelspec": {
   "display_name": "Python 3",
   "language": "python",
   "name": "python3"
  },
  "language_info": {
   "codemirror_mode": {
    "name": "ipython",
    "version": 3
   },
   "file_extension": ".py",
   "mimetype": "text/x-python",
   "name": "python",
   "nbconvert_exporter": "python",
   "pygments_lexer": "ipython3",
   "version": "3.10.12"
  },
  "papermill": {
   "default_parameters": {},
   "duration": 5.718196,
   "end_time": "2023-11-20T21:22:19.745529",
   "environment_variables": {},
   "exception": null,
   "input_path": "__notebook__.ipynb",
   "output_path": "__notebook__.ipynb",
   "parameters": {},
   "start_time": "2023-11-20T21:22:14.027333",
   "version": "2.4.0"
  }
 },
 "nbformat": 4,
 "nbformat_minor": 5
}
