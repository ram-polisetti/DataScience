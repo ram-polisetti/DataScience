{
 "cells": [
  {
   "cell_type": "code",
   "execution_count": 1,
   "id": "6ba5e094",
   "metadata": {
    "execution": {
     "iopub.execute_input": "2023-12-16T21:33:17.705279Z",
     "iopub.status.busy": "2023-12-16T21:33:17.704673Z",
     "iopub.status.idle": "2023-12-16T21:33:30.251635Z",
     "shell.execute_reply": "2023-12-16T21:33:30.250287Z"
    },
    "papermill": {
     "duration": 12.553705,
     "end_time": "2023-12-16T21:33:30.254284",
     "exception": false,
     "start_time": "2023-12-16T21:33:17.700579",
     "status": "completed"
    },
    "tags": []
   },
   "outputs": [
    {
     "name": "stdout",
     "output_type": "stream",
     "text": [
      "Requirement already satisfied: openpyxl in /opt/conda/lib/python3.10/site-packages (3.1.2)\r\n",
      "Requirement already satisfied: et-xmlfile in /opt/conda/lib/python3.10/site-packages (from openpyxl) (1.1.0)\r\n"
     ]
    }
   ],
   "source": [
    "!pip install openpyxl"
   ]
  },
  {
   "cell_type": "code",
   "execution_count": 2,
   "id": "e23171da",
   "metadata": {
    "_cell_guid": "b1076dfc-b9ad-4769-8c92-a6c4dae69d19",
    "_uuid": "8f2839f25d086af736a60e9eeb907d3b93b6e0e5",
    "execution": {
     "iopub.execute_input": "2023-12-16T21:33:30.261045Z",
     "iopub.status.busy": "2023-12-16T21:33:30.260125Z",
     "iopub.status.idle": "2023-12-16T21:33:32.689071Z",
     "shell.execute_reply": "2023-12-16T21:33:32.688022Z"
    },
    "papermill": {
     "duration": 2.434883,
     "end_time": "2023-12-16T21:33:32.691649",
     "exception": false,
     "start_time": "2023-12-16T21:33:30.256766",
     "status": "completed"
    },
    "tags": []
   },
   "outputs": [],
   "source": [
    "import numpy as np\n",
    "import pandas as pd \n",
    "import matplotlib.pyplot as plt\n",
    "import plotly.graph_objects as go\n",
    "import seaborn as sns\n",
    "import networkx as nx"
   ]
  },
  {
   "cell_type": "code",
   "execution_count": 3,
   "id": "fdc5ab3f",
   "metadata": {
    "execution": {
     "iopub.execute_input": "2023-12-16T21:33:32.697843Z",
     "iopub.status.busy": "2023-12-16T21:33:32.697287Z",
     "iopub.status.idle": "2023-12-16T21:33:33.076829Z",
     "shell.execute_reply": "2023-12-16T21:33:33.075765Z"
    },
    "papermill": {
     "duration": 0.385822,
     "end_time": "2023-12-16T21:33:33.079676",
     "exception": false,
     "start_time": "2023-12-16T21:33:32.693854",
     "status": "completed"
    },
    "tags": []
   },
   "outputs": [],
   "source": [
    "data = pd.ExcelFile(\"../input/supply-chain-data/Supply chain logisitcs problem.xlsx\")"
   ]
  },
  {
   "cell_type": "code",
   "execution_count": null,
   "id": "293248fa",
   "metadata": {
    "papermill": {
     "duration": 0.001879,
     "end_time": "2023-12-16T21:33:33.083779",
     "exception": false,
     "start_time": "2023-12-16T21:33:33.081900",
     "status": "completed"
    },
    "tags": []
   },
   "outputs": [],
   "source": []
  }
 ],
 "metadata": {
  "kaggle": {
   "accelerator": "none",
   "dataSources": [
    {
     "datasetId": 1953097,
     "sourceId": 3220248,
     "sourceType": "datasetVersion"
    }
   ],
   "dockerImageVersionId": 30626,
   "isGpuEnabled": false,
   "isInternetEnabled": true,
   "language": "python",
   "sourceType": "notebook"
  },
  "kernelspec": {
   "display_name": "Python 3",
   "language": "python",
   "name": "python3"
  },
  "language_info": {
   "codemirror_mode": {
    "name": "ipython",
    "version": 3
   },
   "file_extension": ".py",
   "mimetype": "text/x-python",
   "name": "python",
   "nbconvert_exporter": "python",
   "pygments_lexer": "ipython3",
   "version": "3.10.12"
  },
  "papermill": {
   "default_parameters": {},
   "duration": 19.011838,
   "end_time": "2023-12-16T21:33:33.706540",
   "environment_variables": {},
   "exception": null,
   "input_path": "__notebook__.ipynb",
   "output_path": "__notebook__.ipynb",
   "parameters": {},
   "start_time": "2023-12-16T21:33:14.694702",
   "version": "2.4.0"
  }
 },
 "nbformat": 4,
 "nbformat_minor": 5
}
