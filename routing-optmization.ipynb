{
 "cells": [
  {
   "cell_type": "code",
   "execution_count": 1,
   "id": "91e4f1bb",
   "metadata": {
    "execution": {
     "iopub.execute_input": "2023-12-16T21:49:04.422100Z",
     "iopub.status.busy": "2023-12-16T21:49:04.421587Z",
     "iopub.status.idle": "2023-12-16T21:49:21.394982Z",
     "shell.execute_reply": "2023-12-16T21:49:21.393493Z"
    },
    "papermill": {
     "duration": 16.982267,
     "end_time": "2023-12-16T21:49:21.398085",
     "exception": false,
     "start_time": "2023-12-16T21:49:04.415818",
     "status": "completed"
    },
    "tags": []
   },
   "outputs": [
    {
     "name": "stdout",
     "output_type": "stream",
     "text": [
      "Requirement already satisfied: openpyxl in /opt/conda/lib/python3.10/site-packages (3.1.2)\r\n",
      "Requirement already satisfied: et-xmlfile in /opt/conda/lib/python3.10/site-packages (from openpyxl) (1.1.0)\r\n"
     ]
    }
   ],
   "source": [
    "!pip install openpyxl"
   ]
  },
  {
   "cell_type": "code",
   "execution_count": 2,
   "id": "30d1d52a",
   "metadata": {
    "_cell_guid": "b1076dfc-b9ad-4769-8c92-a6c4dae69d19",
    "_uuid": "8f2839f25d086af736a60e9eeb907d3b93b6e0e5",
    "execution": {
     "iopub.execute_input": "2023-12-16T21:49:21.409141Z",
     "iopub.status.busy": "2023-12-16T21:49:21.408222Z",
     "iopub.status.idle": "2023-12-16T21:49:24.576454Z",
     "shell.execute_reply": "2023-12-16T21:49:24.575020Z"
    },
    "papermill": {
     "duration": 3.178439,
     "end_time": "2023-12-16T21:49:24.580626",
     "exception": false,
     "start_time": "2023-12-16T21:49:21.402187",
     "status": "completed"
    },
    "tags": []
   },
   "outputs": [],
   "source": [
    "import numpy as np\n",
    "import pandas as pd \n",
    "import matplotlib.pyplot as plt\n",
    "import plotly.graph_objects as go\n",
    "import seaborn as sns\n",
    "import networkx as nx"
   ]
  },
  {
   "cell_type": "code",
   "execution_count": 3,
   "id": "8eeaff21",
   "metadata": {
    "execution": {
     "iopub.execute_input": "2023-12-16T21:49:24.590234Z",
     "iopub.status.busy": "2023-12-16T21:49:24.589416Z",
     "iopub.status.idle": "2023-12-16T21:49:25.089405Z",
     "shell.execute_reply": "2023-12-16T21:49:25.087747Z"
    },
    "papermill": {
     "duration": 0.508939,
     "end_time": "2023-12-16T21:49:25.093208",
     "exception": false,
     "start_time": "2023-12-16T21:49:24.584269",
     "status": "completed"
    },
    "tags": []
   },
   "outputs": [],
   "source": [
    "data = pd.ExcelFile(\"../input/supply-chain-data/Supply chain logisitcs problem.xlsx\")"
   ]
  },
  {
   "cell_type": "code",
   "execution_count": 4,
   "id": "1bc8dca6",
   "metadata": {
    "execution": {
     "iopub.execute_input": "2023-12-16T21:49:25.103323Z",
     "iopub.status.busy": "2023-12-16T21:49:25.102471Z",
     "iopub.status.idle": "2023-12-16T21:49:28.743252Z",
     "shell.execute_reply": "2023-12-16T21:49:28.742055Z"
    },
    "papermill": {
     "duration": 3.649942,
     "end_time": "2023-12-16T21:49:28.746679",
     "exception": false,
     "start_time": "2023-12-16T21:49:25.096737",
     "status": "completed"
    },
    "tags": []
   },
   "outputs": [],
   "source": [
    "plant_ports = data.parse(\"PlantPorts\")\n",
    "order_list = data.parse(\"OrderList\")\n",
    "products_per_plant = data.parse('ProductsPerPlant')\n",
    "vmi_plants = data.parse(\"VmiCustomers\")\n",
    "freight_rates = data.parse(\"FreightRates\")\n",
    "wh_costs = data.parse(\"WhCosts\")\n",
    "wh_capacities = data.parse(\"WhCapacities\")"
   ]
  },
  {
   "cell_type": "code",
   "execution_count": null,
   "id": "0884fd35",
   "metadata": {
    "papermill": {
     "duration": 0.002917,
     "end_time": "2023-12-16T21:49:28.753084",
     "exception": false,
     "start_time": "2023-12-16T21:49:28.750167",
     "status": "completed"
    },
    "tags": []
   },
   "outputs": [],
   "source": []
  }
 ],
 "metadata": {
  "kaggle": {
   "accelerator": "none",
   "dataSources": [
    {
     "datasetId": 1953097,
     "sourceId": 3220248,
     "sourceType": "datasetVersion"
    }
   ],
   "dockerImageVersionId": 30626,
   "isGpuEnabled": false,
   "isInternetEnabled": true,
   "language": "python",
   "sourceType": "notebook"
  },
  "kernelspec": {
   "display_name": "Python 3",
   "language": "python",
   "name": "python3"
  },
  "language_info": {
   "codemirror_mode": {
    "name": "ipython",
    "version": 3
   },
   "file_extension": ".py",
   "mimetype": "text/x-python",
   "name": "python",
   "nbconvert_exporter": "python",
   "pygments_lexer": "ipython3",
   "version": "3.10.12"
  },
  "papermill": {
   "default_parameters": {},
   "duration": 29.307552,
   "end_time": "2023-12-16T21:49:29.785900",
   "environment_variables": {},
   "exception": null,
   "input_path": "__notebook__.ipynb",
   "output_path": "__notebook__.ipynb",
   "parameters": {},
   "start_time": "2023-12-16T21:49:00.478348",
   "version": "2.4.0"
  }
 },
 "nbformat": 4,
 "nbformat_minor": 5
}
