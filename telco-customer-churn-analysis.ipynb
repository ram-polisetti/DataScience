{
 "cells": [
  {
   "cell_type": "code",
   "execution_count": 1,
   "id": "45013306",
   "metadata": {
    "execution": {
     "iopub.execute_input": "2023-11-11T03:29:49.608942Z",
     "iopub.status.busy": "2023-11-11T03:29:49.608494Z",
     "iopub.status.idle": "2023-11-11T03:29:50.387828Z",
     "shell.execute_reply": "2023-11-11T03:29:50.386547Z"
    },
    "papermill": {
     "duration": 0.789259,
     "end_time": "2023-11-11T03:29:50.390345",
     "exception": false,
     "start_time": "2023-11-11T03:29:49.601086",
     "status": "completed"
    },
    "tags": []
   },
   "outputs": [],
   "source": [
    "# Importing libraries\n",
    "import numpy as np \n",
    "import pandas as pd"
   ]
  },
  {
   "cell_type": "code",
   "execution_count": 2,
   "id": "871fc376",
   "metadata": {
    "execution": {
     "iopub.execute_input": "2023-11-11T03:29:50.403872Z",
     "iopub.status.busy": "2023-11-11T03:29:50.403363Z",
     "iopub.status.idle": "2023-11-11T03:29:50.501045Z",
     "shell.execute_reply": "2023-11-11T03:29:50.499856Z"
    },
    "papermill": {
     "duration": 0.105888,
     "end_time": "2023-11-11T03:29:50.503000",
     "exception": false,
     "start_time": "2023-11-11T03:29:50.397112",
     "status": "completed"
    },
    "tags": []
   },
   "outputs": [
    {
     "data": {
      "text/html": [
       "<div>\n",
       "<style scoped>\n",
       "    .dataframe tbody tr th:only-of-type {\n",
       "        vertical-align: middle;\n",
       "    }\n",
       "\n",
       "    .dataframe tbody tr th {\n",
       "        vertical-align: top;\n",
       "    }\n",
       "\n",
       "    .dataframe thead th {\n",
       "        text-align: right;\n",
       "    }\n",
       "</style>\n",
       "<table border=\"1\" class=\"dataframe\">\n",
       "  <thead>\n",
       "    <tr style=\"text-align: right;\">\n",
       "      <th></th>\n",
       "      <th>customerID</th>\n",
       "      <th>gender</th>\n",
       "      <th>SeniorCitizen</th>\n",
       "      <th>Partner</th>\n",
       "      <th>Dependents</th>\n",
       "      <th>tenure</th>\n",
       "      <th>PhoneService</th>\n",
       "      <th>MultipleLines</th>\n",
       "      <th>InternetService</th>\n",
       "      <th>OnlineSecurity</th>\n",
       "      <th>...</th>\n",
       "      <th>DeviceProtection</th>\n",
       "      <th>TechSupport</th>\n",
       "      <th>StreamingTV</th>\n",
       "      <th>StreamingMovies</th>\n",
       "      <th>Contract</th>\n",
       "      <th>PaperlessBilling</th>\n",
       "      <th>PaymentMethod</th>\n",
       "      <th>MonthlyCharges</th>\n",
       "      <th>TotalCharges</th>\n",
       "      <th>Churn</th>\n",
       "    </tr>\n",
       "  </thead>\n",
       "  <tbody>\n",
       "    <tr>\n",
       "      <th>0</th>\n",
       "      <td>7590-VHVEG</td>\n",
       "      <td>Female</td>\n",
       "      <td>0</td>\n",
       "      <td>Yes</td>\n",
       "      <td>No</td>\n",
       "      <td>1</td>\n",
       "      <td>No</td>\n",
       "      <td>No phone service</td>\n",
       "      <td>DSL</td>\n",
       "      <td>No</td>\n",
       "      <td>...</td>\n",
       "      <td>No</td>\n",
       "      <td>No</td>\n",
       "      <td>No</td>\n",
       "      <td>No</td>\n",
       "      <td>Month-to-month</td>\n",
       "      <td>Yes</td>\n",
       "      <td>Electronic check</td>\n",
       "      <td>29.85</td>\n",
       "      <td>29.85</td>\n",
       "      <td>No</td>\n",
       "    </tr>\n",
       "    <tr>\n",
       "      <th>1</th>\n",
       "      <td>5575-GNVDE</td>\n",
       "      <td>Male</td>\n",
       "      <td>0</td>\n",
       "      <td>No</td>\n",
       "      <td>No</td>\n",
       "      <td>34</td>\n",
       "      <td>Yes</td>\n",
       "      <td>No</td>\n",
       "      <td>DSL</td>\n",
       "      <td>Yes</td>\n",
       "      <td>...</td>\n",
       "      <td>Yes</td>\n",
       "      <td>No</td>\n",
       "      <td>No</td>\n",
       "      <td>No</td>\n",
       "      <td>One year</td>\n",
       "      <td>No</td>\n",
       "      <td>Mailed check</td>\n",
       "      <td>56.95</td>\n",
       "      <td>1889.5</td>\n",
       "      <td>No</td>\n",
       "    </tr>\n",
       "    <tr>\n",
       "      <th>2</th>\n",
       "      <td>3668-QPYBK</td>\n",
       "      <td>Male</td>\n",
       "      <td>0</td>\n",
       "      <td>No</td>\n",
       "      <td>No</td>\n",
       "      <td>2</td>\n",
       "      <td>Yes</td>\n",
       "      <td>No</td>\n",
       "      <td>DSL</td>\n",
       "      <td>Yes</td>\n",
       "      <td>...</td>\n",
       "      <td>No</td>\n",
       "      <td>No</td>\n",
       "      <td>No</td>\n",
       "      <td>No</td>\n",
       "      <td>Month-to-month</td>\n",
       "      <td>Yes</td>\n",
       "      <td>Mailed check</td>\n",
       "      <td>53.85</td>\n",
       "      <td>108.15</td>\n",
       "      <td>Yes</td>\n",
       "    </tr>\n",
       "    <tr>\n",
       "      <th>3</th>\n",
       "      <td>7795-CFOCW</td>\n",
       "      <td>Male</td>\n",
       "      <td>0</td>\n",
       "      <td>No</td>\n",
       "      <td>No</td>\n",
       "      <td>45</td>\n",
       "      <td>No</td>\n",
       "      <td>No phone service</td>\n",
       "      <td>DSL</td>\n",
       "      <td>Yes</td>\n",
       "      <td>...</td>\n",
       "      <td>Yes</td>\n",
       "      <td>Yes</td>\n",
       "      <td>No</td>\n",
       "      <td>No</td>\n",
       "      <td>One year</td>\n",
       "      <td>No</td>\n",
       "      <td>Bank transfer (automatic)</td>\n",
       "      <td>42.30</td>\n",
       "      <td>1840.75</td>\n",
       "      <td>No</td>\n",
       "    </tr>\n",
       "    <tr>\n",
       "      <th>4</th>\n",
       "      <td>9237-HQITU</td>\n",
       "      <td>Female</td>\n",
       "      <td>0</td>\n",
       "      <td>No</td>\n",
       "      <td>No</td>\n",
       "      <td>2</td>\n",
       "      <td>Yes</td>\n",
       "      <td>No</td>\n",
       "      <td>Fiber optic</td>\n",
       "      <td>No</td>\n",
       "      <td>...</td>\n",
       "      <td>No</td>\n",
       "      <td>No</td>\n",
       "      <td>No</td>\n",
       "      <td>No</td>\n",
       "      <td>Month-to-month</td>\n",
       "      <td>Yes</td>\n",
       "      <td>Electronic check</td>\n",
       "      <td>70.70</td>\n",
       "      <td>151.65</td>\n",
       "      <td>Yes</td>\n",
       "    </tr>\n",
       "  </tbody>\n",
       "</table>\n",
       "<p>5 rows × 21 columns</p>\n",
       "</div>"
      ],
      "text/plain": [
       "   customerID  gender  SeniorCitizen Partner Dependents  tenure PhoneService  \\\n",
       "0  7590-VHVEG  Female              0     Yes         No       1           No   \n",
       "1  5575-GNVDE    Male              0      No         No      34          Yes   \n",
       "2  3668-QPYBK    Male              0      No         No       2          Yes   \n",
       "3  7795-CFOCW    Male              0      No         No      45           No   \n",
       "4  9237-HQITU  Female              0      No         No       2          Yes   \n",
       "\n",
       "      MultipleLines InternetService OnlineSecurity  ... DeviceProtection  \\\n",
       "0  No phone service             DSL             No  ...               No   \n",
       "1                No             DSL            Yes  ...              Yes   \n",
       "2                No             DSL            Yes  ...               No   \n",
       "3  No phone service             DSL            Yes  ...              Yes   \n",
       "4                No     Fiber optic             No  ...               No   \n",
       "\n",
       "  TechSupport StreamingTV StreamingMovies        Contract PaperlessBilling  \\\n",
       "0          No          No              No  Month-to-month              Yes   \n",
       "1          No          No              No        One year               No   \n",
       "2          No          No              No  Month-to-month              Yes   \n",
       "3         Yes          No              No        One year               No   \n",
       "4          No          No              No  Month-to-month              Yes   \n",
       "\n",
       "               PaymentMethod MonthlyCharges  TotalCharges Churn  \n",
       "0           Electronic check          29.85         29.85    No  \n",
       "1               Mailed check          56.95        1889.5    No  \n",
       "2               Mailed check          53.85        108.15   Yes  \n",
       "3  Bank transfer (automatic)          42.30       1840.75    No  \n",
       "4           Electronic check          70.70        151.65   Yes  \n",
       "\n",
       "[5 rows x 21 columns]"
      ]
     },
     "execution_count": 2,
     "metadata": {},
     "output_type": "execute_result"
    }
   ],
   "source": [
    "telco_data = pd.read_csv('/kaggle/input/wa-fnusec-telcocustomerchurn/WA_Fn-UseC_-Telco-Customer-Churn.csv')\n",
    "telco_data.head()"
   ]
  },
  {
   "cell_type": "code",
   "execution_count": 3,
   "id": "be7a2fa6",
   "metadata": {
    "execution": {
     "iopub.execute_input": "2023-11-11T03:29:50.515684Z",
     "iopub.status.busy": "2023-11-11T03:29:50.514753Z",
     "iopub.status.idle": "2023-11-11T03:29:50.521112Z",
     "shell.execute_reply": "2023-11-11T03:29:50.520262Z"
    },
    "papermill": {
     "duration": 0.014302,
     "end_time": "2023-11-11T03:29:50.522678",
     "exception": false,
     "start_time": "2023-11-11T03:29:50.508376",
     "status": "completed"
    },
    "tags": []
   },
   "outputs": [
    {
     "data": {
      "text/plain": [
       "(7043, 21)"
      ]
     },
     "execution_count": 3,
     "metadata": {},
     "output_type": "execute_result"
    }
   ],
   "source": [
    "telco_data.shape"
   ]
  },
  {
   "cell_type": "code",
   "execution_count": 4,
   "id": "9ce73130",
   "metadata": {
    "execution": {
     "iopub.execute_input": "2023-11-11T03:29:50.534541Z",
     "iopub.status.busy": "2023-11-11T03:29:50.534213Z",
     "iopub.status.idle": "2023-11-11T03:29:50.541185Z",
     "shell.execute_reply": "2023-11-11T03:29:50.539686Z"
    },
    "papermill": {
     "duration": 0.015955,
     "end_time": "2023-11-11T03:29:50.543931",
     "exception": false,
     "start_time": "2023-11-11T03:29:50.527976",
     "status": "completed"
    },
    "tags": []
   },
   "outputs": [
    {
     "data": {
      "text/plain": [
       "Index(['customerID', 'gender', 'SeniorCitizen', 'Partner', 'Dependents',\n",
       "       'tenure', 'PhoneService', 'MultipleLines', 'InternetService',\n",
       "       'OnlineSecurity', 'OnlineBackup', 'DeviceProtection', 'TechSupport',\n",
       "       'StreamingTV', 'StreamingMovies', 'Contract', 'PaperlessBilling',\n",
       "       'PaymentMethod', 'MonthlyCharges', 'TotalCharges', 'Churn'],\n",
       "      dtype='object')"
      ]
     },
     "execution_count": 4,
     "metadata": {},
     "output_type": "execute_result"
    }
   ],
   "source": [
    "telco_data.columns"
   ]
  },
  {
   "cell_type": "code",
   "execution_count": 5,
   "id": "35c18ad8",
   "metadata": {
    "execution": {
     "iopub.execute_input": "2023-11-11T03:29:50.558177Z",
     "iopub.status.busy": "2023-11-11T03:29:50.557372Z",
     "iopub.status.idle": "2023-11-11T03:29:50.585839Z",
     "shell.execute_reply": "2023-11-11T03:29:50.585013Z"
    },
    "papermill": {
     "duration": 0.037604,
     "end_time": "2023-11-11T03:29:50.587802",
     "exception": false,
     "start_time": "2023-11-11T03:29:50.550198",
     "status": "completed"
    },
    "tags": []
   },
   "outputs": [
    {
     "name": "stdout",
     "output_type": "stream",
     "text": [
      "<class 'pandas.core.frame.DataFrame'>\n",
      "RangeIndex: 7043 entries, 0 to 7042\n",
      "Data columns (total 21 columns):\n",
      " #   Column            Non-Null Count  Dtype  \n",
      "---  ------            --------------  -----  \n",
      " 0   customerID        7043 non-null   object \n",
      " 1   gender            7043 non-null   object \n",
      " 2   SeniorCitizen     7043 non-null   int64  \n",
      " 3   Partner           7043 non-null   object \n",
      " 4   Dependents        7043 non-null   object \n",
      " 5   tenure            7043 non-null   int64  \n",
      " 6   PhoneService      7043 non-null   object \n",
      " 7   MultipleLines     7043 non-null   object \n",
      " 8   InternetService   7043 non-null   object \n",
      " 9   OnlineSecurity    7043 non-null   object \n",
      " 10  OnlineBackup      7043 non-null   object \n",
      " 11  DeviceProtection  7043 non-null   object \n",
      " 12  TechSupport       7043 non-null   object \n",
      " 13  StreamingTV       7043 non-null   object \n",
      " 14  StreamingMovies   7043 non-null   object \n",
      " 15  Contract          7043 non-null   object \n",
      " 16  PaperlessBilling  7043 non-null   object \n",
      " 17  PaymentMethod     7043 non-null   object \n",
      " 18  MonthlyCharges    7043 non-null   float64\n",
      " 19  TotalCharges      7043 non-null   object \n",
      " 20  Churn             7043 non-null   object \n",
      "dtypes: float64(1), int64(2), object(18)\n",
      "memory usage: 1.1+ MB\n"
     ]
    }
   ],
   "source": [
    "telco_data.info()"
   ]
  },
  {
   "cell_type": "code",
   "execution_count": 6,
   "id": "8b8f80b7",
   "metadata": {
    "execution": {
     "iopub.execute_input": "2023-11-11T03:29:50.600814Z",
     "iopub.status.busy": "2023-11-11T03:29:50.600173Z",
     "iopub.status.idle": "2023-11-11T03:29:50.611873Z",
     "shell.execute_reply": "2023-11-11T03:29:50.610995Z"
    },
    "papermill": {
     "duration": 0.020629,
     "end_time": "2023-11-11T03:29:50.614115",
     "exception": false,
     "start_time": "2023-11-11T03:29:50.593486",
     "status": "completed"
    },
    "tags": []
   },
   "outputs": [
    {
     "data": {
      "text/plain": [
       "customerID          0\n",
       "gender              0\n",
       "SeniorCitizen       0\n",
       "Partner             0\n",
       "Dependents          0\n",
       "tenure              0\n",
       "PhoneService        0\n",
       "MultipleLines       0\n",
       "InternetService     0\n",
       "OnlineSecurity      0\n",
       "OnlineBackup        0\n",
       "DeviceProtection    0\n",
       "TechSupport         0\n",
       "StreamingTV         0\n",
       "StreamingMovies     0\n",
       "Contract            0\n",
       "PaperlessBilling    0\n",
       "PaymentMethod       0\n",
       "MonthlyCharges      0\n",
       "TotalCharges        0\n",
       "Churn               0\n",
       "dtype: int64"
      ]
     },
     "execution_count": 6,
     "metadata": {},
     "output_type": "execute_result"
    }
   ],
   "source": [
    "telco_data.isnull().sum()"
   ]
  },
  {
   "cell_type": "markdown",
   "id": "c20bc350",
   "metadata": {
    "papermill": {
     "duration": 0.005561,
     "end_time": "2023-11-11T03:29:50.626003",
     "exception": false,
     "start_time": "2023-11-11T03:29:50.620442",
     "status": "completed"
    },
    "tags": []
   },
   "source": [
    "Dataset comprises of 7043 rows and 21 attributes. There are no null values in the dataset but the column TotalCharges is wrongly detected as object."
   ]
  },
  {
   "cell_type": "code",
   "execution_count": 7,
   "id": "4c30ac7a",
   "metadata": {
    "execution": {
     "iopub.execute_input": "2023-11-11T03:29:50.639449Z",
     "iopub.status.busy": "2023-11-11T03:29:50.638744Z",
     "iopub.status.idle": "2023-11-11T03:29:50.646095Z",
     "shell.execute_reply": "2023-11-11T03:29:50.645493Z"
    },
    "papermill": {
     "duration": 0.016007,
     "end_time": "2023-11-11T03:29:50.647758",
     "exception": false,
     "start_time": "2023-11-11T03:29:50.631751",
     "status": "completed"
    },
    "tags": []
   },
   "outputs": [],
   "source": [
    "telco_data.TotalCharges = pd.to_numeric(telco_data.TotalCharges, errors='coerce')"
   ]
  },
  {
   "cell_type": "code",
   "execution_count": 8,
   "id": "50cf7889",
   "metadata": {
    "execution": {
     "iopub.execute_input": "2023-11-11T03:29:50.660601Z",
     "iopub.status.busy": "2023-11-11T03:29:50.660065Z",
     "iopub.status.idle": "2023-11-11T03:29:50.674755Z",
     "shell.execute_reply": "2023-11-11T03:29:50.673531Z"
    },
    "papermill": {
     "duration": 0.023858,
     "end_time": "2023-11-11T03:29:50.677371",
     "exception": false,
     "start_time": "2023-11-11T03:29:50.653513",
     "status": "completed"
    },
    "tags": []
   },
   "outputs": [
    {
     "name": "stdout",
     "output_type": "stream",
     "text": [
      "<class 'pandas.core.frame.DataFrame'>\n",
      "RangeIndex: 7043 entries, 0 to 7042\n",
      "Data columns (total 21 columns):\n",
      " #   Column            Non-Null Count  Dtype  \n",
      "---  ------            --------------  -----  \n",
      " 0   customerID        7043 non-null   object \n",
      " 1   gender            7043 non-null   object \n",
      " 2   SeniorCitizen     7043 non-null   int64  \n",
      " 3   Partner           7043 non-null   object \n",
      " 4   Dependents        7043 non-null   object \n",
      " 5   tenure            7043 non-null   int64  \n",
      " 6   PhoneService      7043 non-null   object \n",
      " 7   MultipleLines     7043 non-null   object \n",
      " 8   InternetService   7043 non-null   object \n",
      " 9   OnlineSecurity    7043 non-null   object \n",
      " 10  OnlineBackup      7043 non-null   object \n",
      " 11  DeviceProtection  7043 non-null   object \n",
      " 12  TechSupport       7043 non-null   object \n",
      " 13  StreamingTV       7043 non-null   object \n",
      " 14  StreamingMovies   7043 non-null   object \n",
      " 15  Contract          7043 non-null   object \n",
      " 16  PaperlessBilling  7043 non-null   object \n",
      " 17  PaymentMethod     7043 non-null   object \n",
      " 18  MonthlyCharges    7043 non-null   float64\n",
      " 19  TotalCharges      7032 non-null   float64\n",
      " 20  Churn             7043 non-null   object \n",
      "dtypes: float64(2), int64(2), object(17)\n",
      "memory usage: 1.1+ MB\n"
     ]
    }
   ],
   "source": [
    "telco_data.info()"
   ]
  },
  {
   "cell_type": "code",
   "execution_count": 9,
   "id": "3f9e1f54",
   "metadata": {
    "execution": {
     "iopub.execute_input": "2023-11-11T03:29:50.691176Z",
     "iopub.status.busy": "2023-11-11T03:29:50.690721Z",
     "iopub.status.idle": "2023-11-11T03:29:50.705597Z",
     "shell.execute_reply": "2023-11-11T03:29:50.703978Z"
    },
    "papermill": {
     "duration": 0.024684,
     "end_time": "2023-11-11T03:29:50.708221",
     "exception": false,
     "start_time": "2023-11-11T03:29:50.683537",
     "status": "completed"
    },
    "tags": []
   },
   "outputs": [
    {
     "data": {
      "text/plain": [
       "customerID           0\n",
       "gender               0\n",
       "SeniorCitizen        0\n",
       "Partner              0\n",
       "Dependents           0\n",
       "tenure               0\n",
       "PhoneService         0\n",
       "MultipleLines        0\n",
       "InternetService      0\n",
       "OnlineSecurity       0\n",
       "OnlineBackup         0\n",
       "DeviceProtection     0\n",
       "TechSupport          0\n",
       "StreamingTV          0\n",
       "StreamingMovies      0\n",
       "Contract             0\n",
       "PaperlessBilling     0\n",
       "PaymentMethod        0\n",
       "MonthlyCharges       0\n",
       "TotalCharges        11\n",
       "Churn                0\n",
       "dtype: int64"
      ]
     },
     "execution_count": 9,
     "metadata": {},
     "output_type": "execute_result"
    }
   ],
   "source": [
    "telco_data.isnull().sum()"
   ]
  },
  {
   "cell_type": "markdown",
   "id": "1776540a",
   "metadata": {
    "papermill": {
     "duration": 0.006484,
     "end_time": "2023-11-11T03:29:50.721202",
     "exception": false,
     "start_time": "2023-11-11T03:29:50.714718",
     "status": "completed"
    },
    "tags": []
   },
   "source": [
    "TotalCharges have 11 Missing values. "
   ]
  },
  {
   "cell_type": "code",
   "execution_count": 10,
   "id": "80fb0c88",
   "metadata": {
    "execution": {
     "iopub.execute_input": "2023-11-11T03:29:50.734831Z",
     "iopub.status.busy": "2023-11-11T03:29:50.734463Z",
     "iopub.status.idle": "2023-11-11T03:29:50.759562Z",
     "shell.execute_reply": "2023-11-11T03:29:50.758451Z"
    },
    "papermill": {
     "duration": 0.034493,
     "end_time": "2023-11-11T03:29:50.761644",
     "exception": false,
     "start_time": "2023-11-11T03:29:50.727151",
     "status": "completed"
    },
    "tags": []
   },
   "outputs": [
    {
     "data": {
      "text/html": [
       "<div>\n",
       "<style scoped>\n",
       "    .dataframe tbody tr th:only-of-type {\n",
       "        vertical-align: middle;\n",
       "    }\n",
       "\n",
       "    .dataframe tbody tr th {\n",
       "        vertical-align: top;\n",
       "    }\n",
       "\n",
       "    .dataframe thead th {\n",
       "        text-align: right;\n",
       "    }\n",
       "</style>\n",
       "<table border=\"1\" class=\"dataframe\">\n",
       "  <thead>\n",
       "    <tr style=\"text-align: right;\">\n",
       "      <th></th>\n",
       "      <th>customerID</th>\n",
       "      <th>gender</th>\n",
       "      <th>SeniorCitizen</th>\n",
       "      <th>Partner</th>\n",
       "      <th>Dependents</th>\n",
       "      <th>tenure</th>\n",
       "      <th>PhoneService</th>\n",
       "      <th>MultipleLines</th>\n",
       "      <th>InternetService</th>\n",
       "      <th>OnlineSecurity</th>\n",
       "      <th>...</th>\n",
       "      <th>DeviceProtection</th>\n",
       "      <th>TechSupport</th>\n",
       "      <th>StreamingTV</th>\n",
       "      <th>StreamingMovies</th>\n",
       "      <th>Contract</th>\n",
       "      <th>PaperlessBilling</th>\n",
       "      <th>PaymentMethod</th>\n",
       "      <th>MonthlyCharges</th>\n",
       "      <th>TotalCharges</th>\n",
       "      <th>Churn</th>\n",
       "    </tr>\n",
       "  </thead>\n",
       "  <tbody>\n",
       "    <tr>\n",
       "      <th>488</th>\n",
       "      <td>4472-LVYGI</td>\n",
       "      <td>Female</td>\n",
       "      <td>0</td>\n",
       "      <td>Yes</td>\n",
       "      <td>Yes</td>\n",
       "      <td>0</td>\n",
       "      <td>No</td>\n",
       "      <td>No phone service</td>\n",
       "      <td>DSL</td>\n",
       "      <td>Yes</td>\n",
       "      <td>...</td>\n",
       "      <td>Yes</td>\n",
       "      <td>Yes</td>\n",
       "      <td>Yes</td>\n",
       "      <td>No</td>\n",
       "      <td>Two year</td>\n",
       "      <td>Yes</td>\n",
       "      <td>Bank transfer (automatic)</td>\n",
       "      <td>52.55</td>\n",
       "      <td>NaN</td>\n",
       "      <td>No</td>\n",
       "    </tr>\n",
       "    <tr>\n",
       "      <th>753</th>\n",
       "      <td>3115-CZMZD</td>\n",
       "      <td>Male</td>\n",
       "      <td>0</td>\n",
       "      <td>No</td>\n",
       "      <td>Yes</td>\n",
       "      <td>0</td>\n",
       "      <td>Yes</td>\n",
       "      <td>No</td>\n",
       "      <td>No</td>\n",
       "      <td>No internet service</td>\n",
       "      <td>...</td>\n",
       "      <td>No internet service</td>\n",
       "      <td>No internet service</td>\n",
       "      <td>No internet service</td>\n",
       "      <td>No internet service</td>\n",
       "      <td>Two year</td>\n",
       "      <td>No</td>\n",
       "      <td>Mailed check</td>\n",
       "      <td>20.25</td>\n",
       "      <td>NaN</td>\n",
       "      <td>No</td>\n",
       "    </tr>\n",
       "    <tr>\n",
       "      <th>936</th>\n",
       "      <td>5709-LVOEQ</td>\n",
       "      <td>Female</td>\n",
       "      <td>0</td>\n",
       "      <td>Yes</td>\n",
       "      <td>Yes</td>\n",
       "      <td>0</td>\n",
       "      <td>Yes</td>\n",
       "      <td>No</td>\n",
       "      <td>DSL</td>\n",
       "      <td>Yes</td>\n",
       "      <td>...</td>\n",
       "      <td>Yes</td>\n",
       "      <td>No</td>\n",
       "      <td>Yes</td>\n",
       "      <td>Yes</td>\n",
       "      <td>Two year</td>\n",
       "      <td>No</td>\n",
       "      <td>Mailed check</td>\n",
       "      <td>80.85</td>\n",
       "      <td>NaN</td>\n",
       "      <td>No</td>\n",
       "    </tr>\n",
       "    <tr>\n",
       "      <th>1082</th>\n",
       "      <td>4367-NUYAO</td>\n",
       "      <td>Male</td>\n",
       "      <td>0</td>\n",
       "      <td>Yes</td>\n",
       "      <td>Yes</td>\n",
       "      <td>0</td>\n",
       "      <td>Yes</td>\n",
       "      <td>Yes</td>\n",
       "      <td>No</td>\n",
       "      <td>No internet service</td>\n",
       "      <td>...</td>\n",
       "      <td>No internet service</td>\n",
       "      <td>No internet service</td>\n",
       "      <td>No internet service</td>\n",
       "      <td>No internet service</td>\n",
       "      <td>Two year</td>\n",
       "      <td>No</td>\n",
       "      <td>Mailed check</td>\n",
       "      <td>25.75</td>\n",
       "      <td>NaN</td>\n",
       "      <td>No</td>\n",
       "    </tr>\n",
       "    <tr>\n",
       "      <th>1340</th>\n",
       "      <td>1371-DWPAZ</td>\n",
       "      <td>Female</td>\n",
       "      <td>0</td>\n",
       "      <td>Yes</td>\n",
       "      <td>Yes</td>\n",
       "      <td>0</td>\n",
       "      <td>No</td>\n",
       "      <td>No phone service</td>\n",
       "      <td>DSL</td>\n",
       "      <td>Yes</td>\n",
       "      <td>...</td>\n",
       "      <td>Yes</td>\n",
       "      <td>Yes</td>\n",
       "      <td>Yes</td>\n",
       "      <td>No</td>\n",
       "      <td>Two year</td>\n",
       "      <td>No</td>\n",
       "      <td>Credit card (automatic)</td>\n",
       "      <td>56.05</td>\n",
       "      <td>NaN</td>\n",
       "      <td>No</td>\n",
       "    </tr>\n",
       "    <tr>\n",
       "      <th>3331</th>\n",
       "      <td>7644-OMVMY</td>\n",
       "      <td>Male</td>\n",
       "      <td>0</td>\n",
       "      <td>Yes</td>\n",
       "      <td>Yes</td>\n",
       "      <td>0</td>\n",
       "      <td>Yes</td>\n",
       "      <td>No</td>\n",
       "      <td>No</td>\n",
       "      <td>No internet service</td>\n",
       "      <td>...</td>\n",
       "      <td>No internet service</td>\n",
       "      <td>No internet service</td>\n",
       "      <td>No internet service</td>\n",
       "      <td>No internet service</td>\n",
       "      <td>Two year</td>\n",
       "      <td>No</td>\n",
       "      <td>Mailed check</td>\n",
       "      <td>19.85</td>\n",
       "      <td>NaN</td>\n",
       "      <td>No</td>\n",
       "    </tr>\n",
       "    <tr>\n",
       "      <th>3826</th>\n",
       "      <td>3213-VVOLG</td>\n",
       "      <td>Male</td>\n",
       "      <td>0</td>\n",
       "      <td>Yes</td>\n",
       "      <td>Yes</td>\n",
       "      <td>0</td>\n",
       "      <td>Yes</td>\n",
       "      <td>Yes</td>\n",
       "      <td>No</td>\n",
       "      <td>No internet service</td>\n",
       "      <td>...</td>\n",
       "      <td>No internet service</td>\n",
       "      <td>No internet service</td>\n",
       "      <td>No internet service</td>\n",
       "      <td>No internet service</td>\n",
       "      <td>Two year</td>\n",
       "      <td>No</td>\n",
       "      <td>Mailed check</td>\n",
       "      <td>25.35</td>\n",
       "      <td>NaN</td>\n",
       "      <td>No</td>\n",
       "    </tr>\n",
       "    <tr>\n",
       "      <th>4380</th>\n",
       "      <td>2520-SGTTA</td>\n",
       "      <td>Female</td>\n",
       "      <td>0</td>\n",
       "      <td>Yes</td>\n",
       "      <td>Yes</td>\n",
       "      <td>0</td>\n",
       "      <td>Yes</td>\n",
       "      <td>No</td>\n",
       "      <td>No</td>\n",
       "      <td>No internet service</td>\n",
       "      <td>...</td>\n",
       "      <td>No internet service</td>\n",
       "      <td>No internet service</td>\n",
       "      <td>No internet service</td>\n",
       "      <td>No internet service</td>\n",
       "      <td>Two year</td>\n",
       "      <td>No</td>\n",
       "      <td>Mailed check</td>\n",
       "      <td>20.00</td>\n",
       "      <td>NaN</td>\n",
       "      <td>No</td>\n",
       "    </tr>\n",
       "    <tr>\n",
       "      <th>5218</th>\n",
       "      <td>2923-ARZLG</td>\n",
       "      <td>Male</td>\n",
       "      <td>0</td>\n",
       "      <td>Yes</td>\n",
       "      <td>Yes</td>\n",
       "      <td>0</td>\n",
       "      <td>Yes</td>\n",
       "      <td>No</td>\n",
       "      <td>No</td>\n",
       "      <td>No internet service</td>\n",
       "      <td>...</td>\n",
       "      <td>No internet service</td>\n",
       "      <td>No internet service</td>\n",
       "      <td>No internet service</td>\n",
       "      <td>No internet service</td>\n",
       "      <td>One year</td>\n",
       "      <td>Yes</td>\n",
       "      <td>Mailed check</td>\n",
       "      <td>19.70</td>\n",
       "      <td>NaN</td>\n",
       "      <td>No</td>\n",
       "    </tr>\n",
       "    <tr>\n",
       "      <th>6670</th>\n",
       "      <td>4075-WKNIU</td>\n",
       "      <td>Female</td>\n",
       "      <td>0</td>\n",
       "      <td>Yes</td>\n",
       "      <td>Yes</td>\n",
       "      <td>0</td>\n",
       "      <td>Yes</td>\n",
       "      <td>Yes</td>\n",
       "      <td>DSL</td>\n",
       "      <td>No</td>\n",
       "      <td>...</td>\n",
       "      <td>Yes</td>\n",
       "      <td>Yes</td>\n",
       "      <td>Yes</td>\n",
       "      <td>No</td>\n",
       "      <td>Two year</td>\n",
       "      <td>No</td>\n",
       "      <td>Mailed check</td>\n",
       "      <td>73.35</td>\n",
       "      <td>NaN</td>\n",
       "      <td>No</td>\n",
       "    </tr>\n",
       "    <tr>\n",
       "      <th>6754</th>\n",
       "      <td>2775-SEFEE</td>\n",
       "      <td>Male</td>\n",
       "      <td>0</td>\n",
       "      <td>No</td>\n",
       "      <td>Yes</td>\n",
       "      <td>0</td>\n",
       "      <td>Yes</td>\n",
       "      <td>Yes</td>\n",
       "      <td>DSL</td>\n",
       "      <td>Yes</td>\n",
       "      <td>...</td>\n",
       "      <td>No</td>\n",
       "      <td>Yes</td>\n",
       "      <td>No</td>\n",
       "      <td>No</td>\n",
       "      <td>Two year</td>\n",
       "      <td>Yes</td>\n",
       "      <td>Bank transfer (automatic)</td>\n",
       "      <td>61.90</td>\n",
       "      <td>NaN</td>\n",
       "      <td>No</td>\n",
       "    </tr>\n",
       "  </tbody>\n",
       "</table>\n",
       "<p>11 rows × 21 columns</p>\n",
       "</div>"
      ],
      "text/plain": [
       "      customerID  gender  SeniorCitizen Partner Dependents  tenure  \\\n",
       "488   4472-LVYGI  Female              0     Yes        Yes       0   \n",
       "753   3115-CZMZD    Male              0      No        Yes       0   \n",
       "936   5709-LVOEQ  Female              0     Yes        Yes       0   \n",
       "1082  4367-NUYAO    Male              0     Yes        Yes       0   \n",
       "1340  1371-DWPAZ  Female              0     Yes        Yes       0   \n",
       "3331  7644-OMVMY    Male              0     Yes        Yes       0   \n",
       "3826  3213-VVOLG    Male              0     Yes        Yes       0   \n",
       "4380  2520-SGTTA  Female              0     Yes        Yes       0   \n",
       "5218  2923-ARZLG    Male              0     Yes        Yes       0   \n",
       "6670  4075-WKNIU  Female              0     Yes        Yes       0   \n",
       "6754  2775-SEFEE    Male              0      No        Yes       0   \n",
       "\n",
       "     PhoneService     MultipleLines InternetService       OnlineSecurity  ...  \\\n",
       "488            No  No phone service             DSL                  Yes  ...   \n",
       "753           Yes                No              No  No internet service  ...   \n",
       "936           Yes                No             DSL                  Yes  ...   \n",
       "1082          Yes               Yes              No  No internet service  ...   \n",
       "1340           No  No phone service             DSL                  Yes  ...   \n",
       "3331          Yes                No              No  No internet service  ...   \n",
       "3826          Yes               Yes              No  No internet service  ...   \n",
       "4380          Yes                No              No  No internet service  ...   \n",
       "5218          Yes                No              No  No internet service  ...   \n",
       "6670          Yes               Yes             DSL                   No  ...   \n",
       "6754          Yes               Yes             DSL                  Yes  ...   \n",
       "\n",
       "         DeviceProtection          TechSupport          StreamingTV  \\\n",
       "488                   Yes                  Yes                  Yes   \n",
       "753   No internet service  No internet service  No internet service   \n",
       "936                   Yes                   No                  Yes   \n",
       "1082  No internet service  No internet service  No internet service   \n",
       "1340                  Yes                  Yes                  Yes   \n",
       "3331  No internet service  No internet service  No internet service   \n",
       "3826  No internet service  No internet service  No internet service   \n",
       "4380  No internet service  No internet service  No internet service   \n",
       "5218  No internet service  No internet service  No internet service   \n",
       "6670                  Yes                  Yes                  Yes   \n",
       "6754                   No                  Yes                   No   \n",
       "\n",
       "          StreamingMovies  Contract PaperlessBilling  \\\n",
       "488                    No  Two year              Yes   \n",
       "753   No internet service  Two year               No   \n",
       "936                   Yes  Two year               No   \n",
       "1082  No internet service  Two year               No   \n",
       "1340                   No  Two year               No   \n",
       "3331  No internet service  Two year               No   \n",
       "3826  No internet service  Two year               No   \n",
       "4380  No internet service  Two year               No   \n",
       "5218  No internet service  One year              Yes   \n",
       "6670                   No  Two year               No   \n",
       "6754                   No  Two year              Yes   \n",
       "\n",
       "                  PaymentMethod MonthlyCharges  TotalCharges  Churn  \n",
       "488   Bank transfer (automatic)          52.55           NaN     No  \n",
       "753                Mailed check          20.25           NaN     No  \n",
       "936                Mailed check          80.85           NaN     No  \n",
       "1082               Mailed check          25.75           NaN     No  \n",
       "1340    Credit card (automatic)          56.05           NaN     No  \n",
       "3331               Mailed check          19.85           NaN     No  \n",
       "3826               Mailed check          25.35           NaN     No  \n",
       "4380               Mailed check          20.00           NaN     No  \n",
       "5218               Mailed check          19.70           NaN     No  \n",
       "6670               Mailed check          73.35           NaN     No  \n",
       "6754  Bank transfer (automatic)          61.90           NaN     No  \n",
       "\n",
       "[11 rows x 21 columns]"
      ]
     },
     "execution_count": 10,
     "metadata": {},
     "output_type": "execute_result"
    }
   ],
   "source": [
    "telco_data[telco_data.TotalCharges.isnull()]"
   ]
  },
  {
   "cell_type": "markdown",
   "id": "29756d17",
   "metadata": {
    "papermill": {
     "duration": 0.006078,
     "end_time": "2023-11-11T03:29:50.774213",
     "exception": false,
     "start_time": "2023-11-11T03:29:50.768135",
     "status": "completed"
    },
    "tags": []
   },
   "source": [
    "All these observations have zero tenure eventhough the monthly charges are not null. These observations look contradictory."
   ]
  },
  {
   "cell_type": "code",
   "execution_count": 11,
   "id": "a97a1f84",
   "metadata": {
    "execution": {
     "iopub.execute_input": "2023-11-11T03:29:50.788597Z",
     "iopub.status.busy": "2023-11-11T03:29:50.788232Z",
     "iopub.status.idle": "2023-11-11T03:29:50.807624Z",
     "shell.execute_reply": "2023-11-11T03:29:50.806849Z"
    },
    "papermill": {
     "duration": 0.029496,
     "end_time": "2023-11-11T03:29:50.809885",
     "exception": false,
     "start_time": "2023-11-11T03:29:50.780389",
     "status": "completed"
    },
    "tags": []
   },
   "outputs": [
    {
     "name": "stdout",
     "output_type": "stream",
     "text": [
      "Column: customerID - Unique Values: ['7590-VHVEG' '5575-GNVDE' '3668-QPYBK' ... '4801-JZAZL' '8361-LTMKD'\n",
      " '3186-AJIEK']\n",
      "Column: gender - Unique Values: ['Female' 'Male']\n",
      "Column: SeniorCitizen - Unique Values: [0 1]\n",
      "Column: Partner - Unique Values: ['Yes' 'No']\n",
      "Column: Dependents - Unique Values: ['No' 'Yes']\n",
      "Column: tenure - Unique Values: [ 1 34  2 45  8 22 10 28 62 13 16 58 49 25 69 52 71 21 12 30 47 72 17 27\n",
      "  5 46 11 70 63 43 15 60 18 66  9  3 31 50 64 56  7 42 35 48 29 65 38 68\n",
      " 32 55 37 36 41  6  4 33 67 23 57 61 14 20 53 40 59 24 44 19 54 51 26  0\n",
      " 39]\n",
      "Column: PhoneService - Unique Values: ['No' 'Yes']\n",
      "Column: MultipleLines - Unique Values: ['No phone service' 'No' 'Yes']\n",
      "Column: InternetService - Unique Values: ['DSL' 'Fiber optic' 'No']\n",
      "Column: OnlineSecurity - Unique Values: ['No' 'Yes' 'No internet service']\n",
      "Column: OnlineBackup - Unique Values: ['Yes' 'No' 'No internet service']\n",
      "Column: DeviceProtection - Unique Values: ['No' 'Yes' 'No internet service']\n",
      "Column: TechSupport - Unique Values: ['No' 'Yes' 'No internet service']\n",
      "Column: StreamingTV - Unique Values: ['No' 'Yes' 'No internet service']\n",
      "Column: StreamingMovies - Unique Values: ['No' 'Yes' 'No internet service']\n",
      "Column: Contract - Unique Values: ['Month-to-month' 'One year' 'Two year']\n",
      "Column: PaperlessBilling - Unique Values: ['Yes' 'No']\n",
      "Column: PaymentMethod - Unique Values: ['Electronic check' 'Mailed check' 'Bank transfer (automatic)'\n",
      " 'Credit card (automatic)']\n",
      "Column: MonthlyCharges - Unique Values: [29.85 56.95 53.85 ... 63.1  44.2  78.7 ]\n",
      "Column: TotalCharges - Unique Values: [  29.85 1889.5   108.15 ...  346.45  306.6  6844.5 ]\n",
      "Column: Churn - Unique Values: ['No' 'Yes']\n"
     ]
    }
   ],
   "source": [
    "# lets look at unique values for each column\n",
    "for column in telco_data.columns:\n",
    "    print('Column: {} - Unique Values: {}'.format(column, telco_data[column].unique()))"
   ]
  },
  {
   "cell_type": "markdown",
   "id": "81637666",
   "metadata": {
    "papermill": {
     "duration": 0.006252,
     "end_time": "2023-11-11T03:29:50.823164",
     "exception": false,
     "start_time": "2023-11-11T03:29:50.816912",
     "status": "completed"
    },
    "tags": []
   },
   "source": [
    "These columns can be categorized into 3 categories\n",
    "\n",
    "1. Demographic Information\n",
    "    - gender\n",
    "    - SeniorCitizen\n",
    "    - Partner\n",
    "    - Dependents\n",
    "2. Customer Account Information\n",
    "    - tenure\n",
    "    - Contract\n",
    "    - PaperlessBilling\n",
    "    - PaymentMethod\n",
    "    - MonthlyCharges\n",
    "    - TotalCharges\n",
    "3. Services Information\n",
    "    - PhoneService\n",
    "    - MultipleLines\n",
    "    - InternetServices\n",
    "    - OnlineSecurity\n",
    "    - OnlineBackup\n",
    "    - DeviceProtection\n",
    "    - TechSupport\n",
    "    - StreamingTV\n",
    "    - StreamingMovies"
   ]
  },
  {
   "cell_type": "code",
   "execution_count": 12,
   "id": "1b7dfd9a",
   "metadata": {
    "execution": {
     "iopub.execute_input": "2023-11-11T03:29:50.837461Z",
     "iopub.status.busy": "2023-11-11T03:29:50.837066Z",
     "iopub.status.idle": "2023-11-11T03:29:50.845224Z",
     "shell.execute_reply": "2023-11-11T03:29:50.844098Z"
    },
    "papermill": {
     "duration": 0.018079,
     "end_time": "2023-11-11T03:29:50.847466",
     "exception": false,
     "start_time": "2023-11-11T03:29:50.829387",
     "status": "completed"
    },
    "tags": []
   },
   "outputs": [],
   "source": [
    "#Dropping customerID \n",
    "telco_data.drop(columns='customerID', inplace=True)"
   ]
  },
  {
   "cell_type": "markdown",
   "id": "9c4faa75",
   "metadata": {
    "papermill": {
     "duration": 0.006052,
     "end_time": "2023-11-11T03:29:50.859883",
     "exception": false,
     "start_time": "2023-11-11T03:29:50.853831",
     "status": "completed"
    },
    "tags": []
   },
   "source": [
    "Column: PaymentMethod - Unique Values: ['Electronic check' 'Mailed check' 'Bank transfer (automatic)'\n",
    " 'Credit card (automatic)']\n",
    " the string '(automatic)' is redundant. "
   ]
  },
  {
   "cell_type": "code",
   "execution_count": 13,
   "id": "a29dc8ae",
   "metadata": {
    "execution": {
     "iopub.execute_input": "2023-11-11T03:29:50.874217Z",
     "iopub.status.busy": "2023-11-11T03:29:50.873835Z",
     "iopub.status.idle": "2023-11-11T03:29:50.883078Z",
     "shell.execute_reply": "2023-11-11T03:29:50.881916Z"
    },
    "papermill": {
     "duration": 0.020177,
     "end_time": "2023-11-11T03:29:50.886471",
     "exception": false,
     "start_time": "2023-11-11T03:29:50.866294",
     "status": "completed"
    },
    "tags": []
   },
   "outputs": [],
   "source": [
    "telco_data['PaymentMethod'] = telco_data['PaymentMethod'].str.replace(' (automatic)', '', regex=False)"
   ]
  },
  {
   "cell_type": "code",
   "execution_count": 14,
   "id": "583070ab",
   "metadata": {
    "execution": {
     "iopub.execute_input": "2023-11-11T03:29:50.903503Z",
     "iopub.status.busy": "2023-11-11T03:29:50.903136Z",
     "iopub.status.idle": "2023-11-11T03:29:50.910520Z",
     "shell.execute_reply": "2023-11-11T03:29:50.909075Z"
    },
    "papermill": {
     "duration": 0.019094,
     "end_time": "2023-11-11T03:29:50.913586",
     "exception": false,
     "start_time": "2023-11-11T03:29:50.894492",
     "status": "completed"
    },
    "tags": []
   },
   "outputs": [
    {
     "data": {
      "text/plain": [
       "array(['Electronic check', 'Mailed check', 'Bank transfer', 'Credit card'],\n",
       "      dtype=object)"
      ]
     },
     "execution_count": 14,
     "metadata": {},
     "output_type": "execute_result"
    }
   ],
   "source": [
    "telco_data.PaymentMethod.unique()"
   ]
  },
  {
   "cell_type": "code",
   "execution_count": 15,
   "id": "a18afa71",
   "metadata": {
    "execution": {
     "iopub.execute_input": "2023-11-11T03:29:50.930913Z",
     "iopub.status.busy": "2023-11-11T03:29:50.930570Z",
     "iopub.status.idle": "2023-11-11T03:29:52.295915Z",
     "shell.execute_reply": "2023-11-11T03:29:52.294641Z"
    },
    "papermill": {
     "duration": 1.377214,
     "end_time": "2023-11-11T03:29:52.298692",
     "exception": false,
     "start_time": "2023-11-11T03:29:50.921478",
     "status": "completed"
    },
    "tags": []
   },
   "outputs": [],
   "source": [
    "import matplotlib.pyplot as plt\n",
    "import seaborn as sns\n",
    "import math"
   ]
  },
  {
   "cell_type": "code",
   "execution_count": 16,
   "id": "e5a80fc2",
   "metadata": {
    "execution": {
     "iopub.execute_input": "2023-11-11T03:29:52.313622Z",
     "iopub.status.busy": "2023-11-11T03:29:52.313289Z",
     "iopub.status.idle": "2023-11-11T03:29:52.532848Z",
     "shell.execute_reply": "2023-11-11T03:29:52.531268Z"
    },
    "papermill": {
     "duration": 0.229368,
     "end_time": "2023-11-11T03:29:52.535013",
     "exception": false,
     "start_time": "2023-11-11T03:29:52.305645",
     "status": "completed"
    },
    "tags": []
   },
   "outputs": [
    {
     "data": {
      "image/png": "[encoded data removed]",
      "text/plain": [
       "<Figure size 1000x600 with 1 Axes>"
      ]
     },
     "metadata": {},
     "output_type": "display_data"
    }
   ],
   "source": [
    "fig, ax = plt.subplots(figsize=(10, 6))\n",
    "churn_response_proportion = telco_data['Churn'].value_counts(normalize=True)\n",
    "sns.barplot(x=churn_response_proportion.index, y=churn_response_proportion, palette=['salmon', 'lightgreen'])\n",
    "plt.title(\"Proportion of observations of the response variable\")\n",
    "plt.xlabel('Churn')\n",
    "plt.ylabel('Proportion of observations')\n",
    "plt.show()"
   ]
  },
  {
   "cell_type": "markdown",
   "id": "cb1e427a",
   "metadata": {
    "papermill": {
     "duration": 0.006267,
     "end_time": "2023-11-11T03:29:52.548339",
     "exception": false,
     "start_time": "2023-11-11T03:29:52.542072",
     "status": "completed"
    },
    "tags": []
   },
   "source": [
    "the dataset is imbalanced. lets take a look at normalized stacked bar plots for each variable to understand the influence on Churn column"
   ]
  },
  {
   "cell_type": "markdown",
   "id": "1910641a",
   "metadata": {
    "papermill": {
     "duration": 0.006315,
     "end_time": "2023-11-11T03:29:52.561148",
     "exception": false,
     "start_time": "2023-11-11T03:29:52.554833",
     "status": "completed"
    },
    "tags": []
   },
   "source": [
    "Lets start with demographic information\n",
    "gender\n",
    "SeniorCitizen\n",
    "Partner\n",
    "Dependents"
   ]
  },
  {
   "cell_type": "code",
   "execution_count": 17,
   "id": "35e5ed5b",
   "metadata": {
    "execution": {
     "iopub.execute_input": "2023-11-11T03:29:52.575591Z",
     "iopub.status.busy": "2023-11-11T03:29:52.575246Z",
     "iopub.status.idle": "2023-11-11T03:29:52.586155Z",
     "shell.execute_reply": "2023-11-11T03:29:52.585165Z"
    },
    "papermill": {
     "duration": 0.020188,
     "end_time": "2023-11-11T03:29:52.587676",
     "exception": false,
     "start_time": "2023-11-11T03:29:52.567488",
     "status": "completed"
    },
    "tags": []
   },
   "outputs": [],
   "source": [
    "import seaborn as sns\n",
    "import matplotlib.pyplot as plt\n",
    "import pandas as pd\n",
    "import math\n",
    "\n",
    "def percentage_stacked_plot(columns_to_plot, super_title, df_telco):\n",
    "    '''\n",
    "    Prints a 2x2 grid of 100% stacked plots for the response variable by each column in columns_to_plot.\n",
    "    Parameters:\n",
    "        columns_to_plot (list of string): Names of the variables to plot\n",
    "        super_title (string): Super title of the visualization\n",
    "        df_telco (DataFrame): The DataFrame containing the data\n",
    "    Returns:\n",
    "        None\n",
    "    '''\n",
    "    # Set Seaborn style\n",
    "    sns.set(style=\"whitegrid\")\n",
    "\n",
    "    # Create a 2x2 grid of subplots\n",
    "    fig, axes = plt.subplots(2, 2, figsize=(12, 10), sharex=True, sharey=True)\n",
    "\n",
    "    # Flatten the 2D array of subplots into a 1D array\n",
    "    axes = axes.flatten()\n",
    "\n",
    "    # Set super title for the entire figure\n",
    "    fig.suptitle(super_title, fontsize=22, y=1.02)\n",
    "\n",
    "    # Loop through each column name to create a subplot\n",
    "    for index, column in enumerate(columns_to_plot):\n",
    "\n",
    "        # Calculate the percentage of observations of the response variable for each group of the independent variable\n",
    "        # 100% stacked bar plot\n",
    "        prop_by_independent = pd.crosstab(df_telco[column], df_telco['Churn'], normalize='index') * 100\n",
    "\n",
    "        # Reset the index to ensure proper alignment\n",
    "        prop_by_independent.reset_index(inplace=True)\n",
    "\n",
    "        # Use Seaborn barplot for stacked bar plot\n",
    "        sns.barplot(x=prop_by_independent.columns[1:], y=prop_by_independent.iloc[:, 1],\n",
    "                    hue=prop_by_independent[column], ax=axes[index], palette=['springgreen', 'salmon'], dodge=True)\n",
    "\n",
    "        # Set legend\n",
    "        axes[index].legend(title='Churn', loc=\"upper right\", bbox_to_anchor=(1.22, 0.5), fancybox=True)\n",
    "\n",
    "        # Set title and labels\n",
    "        axes[index].set_title('Proportion of observations by ' + column, fontsize=16)\n",
    "        axes[index].set_xlabel(column)\n",
    "        axes[index].set_ylabel('Proportion of observations')\n",
    "\n",
    "        # Rotate x-axis tick labels\n",
    "        axes[index].tick_params(axis='x', rotation=0)\n",
    "\n",
    "        # Remove spines\n",
    "        sns.despine(ax=axes[index])\n",
    "\n",
    "    plt.tight_layout(rect=[0, 0, 1, 0.95])  # Adjust layout\n",
    "    plt.show()\n",
    "\n",
    "# Example usage\n",
    "# percentage_stacked_plot(['gender', 'SeniorCitizen', 'Partner', 'Dependents'], 'Demographic Information', telco_data)\n"
   ]
  },
  {
   "cell_type": "code",
   "execution_count": 18,
   "id": "83f67c32",
   "metadata": {
    "execution": {
     "iopub.execute_input": "2023-11-11T03:29:52.603194Z",
     "iopub.status.busy": "2023-11-11T03:29:52.602755Z",
     "iopub.status.idle": "2023-11-11T03:29:53.671491Z",
     "shell.execute_reply": "2023-11-11T03:29:53.670607Z"
    },
    "papermill": {
     "duration": 1.079707,
     "end_time": "2023-11-11T03:29:53.673913",
     "exception": false,
     "start_time": "2023-11-11T03:29:52.594206",
     "status": "completed"
    },
    "tags": []
   },
   "outputs": [
    {
     "data": {
      "image/png": "[encoded data removed]",
      "text/plain": [
       "<Figure size 1200x1000 with 4 Axes>"
      ]
     },
     "metadata": {},
     "output_type": "display_data"
    }
   ],
   "source": [
    "demographic_columns = ['gender', 'SeniorCitizen', 'Partner', 'Dependents']\n",
    "\n",
    "# stacked plot of demographic columns\n",
    "percentage_stacked_plot(demographic_columns, 'Demographic Information', telco_data)"
   ]
  },
  {
   "cell_type": "code",
   "execution_count": null,
   "id": "0095205b",
   "metadata": {
    "papermill": {
     "duration": 0.006875,
     "end_time": "2023-11-11T03:29:53.688302",
     "exception": false,
     "start_time": "2023-11-11T03:29:53.681427",
     "status": "completed"
    },
    "tags": []
   },
   "outputs": [],
   "source": []
  }
 ],
 "metadata": {
  "kernelspec": {
   "display_name": "Python 3",
   "language": "python",
   "name": "python3"
  },
  "language_info": {
   "codemirror_mode": {
    "name": "ipython",
    "version": 3
   },
   "file_extension": ".py",
   "mimetype": "text/x-python",
   "name": "python",
   "nbconvert_exporter": "python",
   "pygments_lexer": "ipython3",
   "version": "3.10.12"
  },
  "papermill": {
   "default_parameters": {},
   "duration": 8.195809,
   "end_time": "2023-11-11T03:29:54.416821",
   "environment_variables": {},
   "exception": null,
   "input_path": "__notebook__.ipynb",
   "output_path": "__notebook__.ipynb",
   "parameters": {},
   "start_time": "2023-11-11T03:29:46.221012",
   "version": "2.4.0"
  }
 },
 "nbformat": 4,
 "nbformat_minor": 5
}
